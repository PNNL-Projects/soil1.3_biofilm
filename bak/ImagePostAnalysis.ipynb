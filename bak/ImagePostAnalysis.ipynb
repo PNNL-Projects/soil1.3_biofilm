{
 "cells": [
  {
   "cell_type": "code",
   "execution_count": 2,
   "metadata": {},
   "outputs": [],
   "source": [
    "import warnings\n",
    "warnings.filterwarnings(\"ignore\")\n",
    "import math, os, sys, copy, pickle\n",
    "import numpy as np\n",
    "import scipy as sp\n",
    "import pandas as pd\n",
    "from skimage import io, filters, restoration\n",
    "from skimage import morphology as morph\n",
    "import PIL\n",
    "from PIL import Image, ImageSequence, ImageEnhance\n",
    "# Make images higher resolution and set default size\n",
    "import matplotlib\n",
    "%matplotlib inline\n",
    "matplotlib.rcParams['figure.dpi'] = 200\n",
    "matplotlib.rcParams['figure.figsize'] = (6, 6)\n",
    "import matplotlib.pyplot as plt\n",
    "from mpl_toolkits.axes_grid1 import make_axes_locatable\n",
    "import glob\n",
    "import cv2\n",
    "import multipagetiff as mtif\n",
    "import tifffile\n",
    "import ternary\n",
    "import plotly.express as px\n"
   ]
  },
  {
   "cell_type": "code",
   "execution_count": 12,
   "metadata": {},
   "outputs": [],
   "source": [
    "def get_pop_density(img1d):\n",
    "    pop_density = img1d/img1d.sum(axis=1, keepdims=True)\n",
    "    return(pop_density)\n",
    "def slide_sum_y_vol(img, slide_len = 100):\n",
    "    img1d = np.count_nonzero(img, axis=0)\n",
    "    img_slides = []\n",
    "    for i in range(0, len(img1d) - slide_len):\n",
    "        img_slides.append(np.sum(img1d[i:i+slide_len], axis=0))\n",
    "    return(np.array(img_slides))"
   ]
  },
  {
   "cell_type": "code",
   "execution_count": 2,
   "metadata": {},
   "outputs": [],
   "source": [
    "work_dir = \"/Users/feng626/workspace/data/SoilSFA/spatial_interactions\"\n"
   ]
  },
  {
   "cell_type": "code",
   "execution_count": 3,
   "metadata": {},
   "outputs": [],
   "source": [
    "rep1_samples = [['11.18.21_21', 'Nag', 0],\n",
    "                ['11.19.21_08', 'Nag', 11],\n",
    "                ['11.19.21_18', 'Nag', 21],\n",
    "                ['11.20.21_10', 'Nag', 37],\n",
    "                ['11.21.21_15', 'Nag', 66],\n",
    "                ['11.22.21_15', 'Nag', 90],\n",
    "                ['11.18.21_22', 'Chito5', 0],\n",
    "                ['11.19.21_09', 'Chito5', 11],\n",
    "                ['11.19.21_19', 'Chito5', 21],\n",
    "                ['11.20.21_11', 'Chito5', 37],\n",
    "                ['11.21.21_16', 'Chito5', 66],\n",
    "                ['11.22.21_16', 'Chito5', 90],\n",
    "                ['11.18.21_23', 'Chitin', 0],\n",
    "                ['11.19.21_10', 'Chitin', 11],\n",
    "                ['11.19.21_20', 'Chitin', 21],\n",
    "                ['11.20.21_12', 'Chitin', 37],\n",
    "                ['11.21.21_17', 'Chitin', 66],\n",
    "                ['11.22.21_17', 'Chitin', 90]]"
   ]
  },
  {
   "cell_type": "code",
   "execution_count": 4,
   "metadata": {},
   "outputs": [],
   "source": [
    "rep2_samples = [[\"12.13.21_9PM\", \"Nag\", 0],\n",
    "                [\"12.14.21_8AM\", \"Nag\", 11],\n",
    "                [\"12.14.21_7PM\", \"Nag\", 22],\n",
    "                [\"12.15.21_8AM\", \"Nag\", 35],\n",
    "                [\"12.16.21_3PM\", \"Nag\", 66],\n",
    "                [\"12.17.21_3PM\", \"Nag\", 90],\n",
    "                [\"12.13.21_10PM\", \"Chito5\", 0],\n",
    "                [\"12.14.21_9AM\", \"Chito5\", 11],\n",
    "                [\"12.14.21_8PM\", \"Chito5\", 22],\n",
    "                [\"12.15.21_9AM\", \"Chito5\", 35],\n",
    "                [\"12.16.21_4PM\", \"Chito5\", 66],\n",
    "                [\"12.17.21_4PM\", \"Chito5\", 90],\n",
    "                [\"12.13.21_11PM\", \"Chitin\", 0],\n",
    "                [\"12.14.21_10AM\", \"Chitin\", 11],\n",
    "                [\"12.14.21_9PM\", \"Chitin\", 22],\n",
    "                [\"12.15.21_10AM\", \"Chitin\", 35],\n",
    "                [\"12.16.21_5PM\", \"Chitin\", 66],\n",
    "                [\"12.17.21_5PM\", \"Chitin\", 90]]"
   ]
  },
  {
   "cell_type": "code",
   "execution_count": 5,
   "metadata": {},
   "outputs": [],
   "source": [
    "rep3_samples = [[\"02.07.22_9PM\", \"Nag\", 0],\n",
    "                [\"02.08.22_8AM\", \"Nag\", 11],\n",
    "                [\"02.08.22_7PM\", \"Nag\", 22],\n",
    "                [\"02.09.22_10AM\", \"Nag\", 37],\n",
    "                [\"02.10.22_3PM\", \"Nag\", 66],\n",
    "                [\"02.11.22_3PM\", \"Nag\", 90],\n",
    "                [\"02.07.22_10PM\", \"Chito5\", 0],\n",
    "                [\"02.08.22_9AM\", \"Chito5\", 11],\n",
    "                [\"02.08.22_8PM\", \"Chito5\", 22],\n",
    "                [\"02.09.22_11AM\", \"Chito5\", 37],\n",
    "                [\"02.10.22_4PM\", \"Chito5\", 66],\n",
    "                [\"02.11.22_4PM\", \"Chito5\", 90],\n",
    "                [\"02.07.22_11PM\", \"Chitin\", 0],\n",
    "                [\"02.08.22_10AM\", \"Chitin\", 11],\n",
    "                [\"02.08.22_9PM\", \"Chitin\", 22],\n",
    "                [\"02.09.22_12PM\", \"Chitin\", 37],\n",
    "                [\"02.10.22_5PM\", \"Chitin\", 66],\n",
    "                [\"02.11.22_5PM\", \"Chitin\", 90]]\n"
   ]
  },
  {
   "cell_type": "code",
   "execution_count": 6,
   "metadata": {},
   "outputs": [],
   "source": [
    "result_dir = work_dir + \"/results_20220408\"\n",
    "pop_densities = []\n",
    "for rep_samples, folder in zip([rep1_samples, rep2_samples, rep3_samples], [\"results_rep\" + str(i+1) for i in range(3)]):\n",
    "    rep_dir = result_dir + \"/\" + folder    \n",
    "    for sample in rep_samples:\n",
    "        rgb_file = rep_dir + '/' + sample[0] + '_' + sample[1] + \"_1_combined_processed.pkl\"\n",
    "        with open(rgb_file, 'rb') as f:\n",
    "            rgb_array = pickle.load(f)\n",
    "        pops = rgb_array.sum(axis=(0,1))\n",
    "        pop_den = pops / pops.sum()\n",
    "        pop_densities.append([folder.split('_')[1], sample[1], sample[2], pop_den[0], pop_den[1], pop_den[2]])\n",
    "# pop_den_table = [list(pop_deni) for pop_deni in zip(*pop_densities)]"
   ]
  },
  {
   "cell_type": "code",
   "execution_count": 7,
   "metadata": {},
   "outputs": [
    {
     "data": {
      "text/html": [
       "<div>\n",
       "<style scoped>\n",
       "    .dataframe tbody tr th:only-of-type {\n",
       "        vertical-align: middle;\n",
       "    }\n",
       "\n",
       "    .dataframe tbody tr th {\n",
       "        vertical-align: top;\n",
       "    }\n",
       "\n",
       "    .dataframe thead th {\n",
       "        text-align: right;\n",
       "    }\n",
       "</style>\n",
       "<table border=\"1\" class=\"dataframe\">\n",
       "  <thead>\n",
       "    <tr style=\"text-align: right;\">\n",
       "      <th></th>\n",
       "      <th>Rep</th>\n",
       "      <th>Carbon</th>\n",
       "      <th>Time</th>\n",
       "      <th>R</th>\n",
       "      <th>G</th>\n",
       "      <th>B</th>\n",
       "    </tr>\n",
       "  </thead>\n",
       "  <tbody>\n",
       "    <tr>\n",
       "      <th>0</th>\n",
       "      <td>rep1</td>\n",
       "      <td>Nag</td>\n",
       "      <td>0</td>\n",
       "      <td>0.373772</td>\n",
       "      <td>0.013258</td>\n",
       "      <td>0.612970</td>\n",
       "    </tr>\n",
       "    <tr>\n",
       "      <th>1</th>\n",
       "      <td>rep1</td>\n",
       "      <td>Nag</td>\n",
       "      <td>11</td>\n",
       "      <td>0.182860</td>\n",
       "      <td>0.016181</td>\n",
       "      <td>0.800959</td>\n",
       "    </tr>\n",
       "    <tr>\n",
       "      <th>2</th>\n",
       "      <td>rep1</td>\n",
       "      <td>Nag</td>\n",
       "      <td>21</td>\n",
       "      <td>0.027128</td>\n",
       "      <td>0.020428</td>\n",
       "      <td>0.952443</td>\n",
       "    </tr>\n",
       "    <tr>\n",
       "      <th>3</th>\n",
       "      <td>rep1</td>\n",
       "      <td>Nag</td>\n",
       "      <td>37</td>\n",
       "      <td>0.080007</td>\n",
       "      <td>0.085327</td>\n",
       "      <td>0.834666</td>\n",
       "    </tr>\n",
       "    <tr>\n",
       "      <th>4</th>\n",
       "      <td>rep1</td>\n",
       "      <td>Nag</td>\n",
       "      <td>66</td>\n",
       "      <td>0.058351</td>\n",
       "      <td>0.139180</td>\n",
       "      <td>0.802468</td>\n",
       "    </tr>\n",
       "  </tbody>\n",
       "</table>\n",
       "</div>"
      ],
      "text/plain": [
       "    Rep Carbon  Time         R         G         B\n",
       "0  rep1    Nag     0  0.373772  0.013258  0.612970\n",
       "1  rep1    Nag    11  0.182860  0.016181  0.800959\n",
       "2  rep1    Nag    21  0.027128  0.020428  0.952443\n",
       "3  rep1    Nag    37  0.080007  0.085327  0.834666\n",
       "4  rep1    Nag    66  0.058351  0.139180  0.802468"
      ]
     },
     "execution_count": 7,
     "metadata": {},
     "output_type": "execute_result"
    }
   ],
   "source": [
    "pop_den_df = pd.DataFrame(pop_densities, columns = [\"Rep\", \"Carbon\", \"Time\", \"R\", \"G\", \"B\"])\n",
    "pop_den_df.head()"
   ]
  },
  {
   "cell_type": "code",
   "execution_count": 8,
   "metadata": {},
   "outputs": [
    {
     "data": {
      "application/vnd.plotly.v1+json": {
       "config": {
        "plotlyServerURL": "https://plot.ly"
       },
       "data": [
        {
         "a": [
          0.3737716369183117,
          0.18286030541952247,
          0.02712849917266579,
          0.08000727310812361,
          0.0583512743226211,
          0.33222767743097725
         ],
         "b": [
          0.013258196892347418,
          0.016180604276496143,
          0.02042819405840658,
          0.08532698918524668,
          0.13918036854653465,
          0.4990617157418185
         ],
         "c": [
          0.6129701661893409,
          0.8009590903039814,
          0.9524433067689276,
          0.8346657377066297,
          0.8024683571308443,
          0.16871060682720423
         ],
         "hovertemplate": "Carbon=Nag<br>R=%{a}<br>G=%{b}<br>B=%{c}<br>Time=%{marker.size}<extra></extra>",
         "legendgroup": "Nag",
         "marker": {
          "color": "#636efa",
          "size": [
           0,
           11,
           21,
           37,
           66,
           90
          ],
          "sizemode": "area",
          "sizeref": 0.225,
          "symbol": "circle"
         },
         "mode": "markers",
         "name": "Nag",
         "showlegend": true,
         "subplot": "ternary",
         "type": "scatterternary"
        },
        {
         "a": [
          0.13955426277220356,
          0.31606607417060884,
          0.08159541433732703,
          0.06432776087718876,
          0.030860873662088947,
          0.009730744040467754
         ],
         "b": [
          0.07448234147146877,
          0.0031957617597518223,
          0.015585409502114629,
          0.021319920225610908,
          0.18264595310382034,
          0.5507431154951548
         ],
         "c": [
          0.7859633957563277,
          0.6807381640696393,
          0.9028191761605583,
          0.9143523188972004,
          0.7864931732340907,
          0.4395261404643775
         ],
         "hovertemplate": "Carbon=Chito5<br>R=%{a}<br>G=%{b}<br>B=%{c}<br>Time=%{marker.size}<extra></extra>",
         "legendgroup": "Chito5",
         "marker": {
          "color": "#EF553B",
          "size": [
           0,
           11,
           21,
           37,
           66,
           90
          ],
          "sizemode": "area",
          "sizeref": 0.225,
          "symbol": "circle"
         },
         "mode": "markers",
         "name": "Chito5",
         "showlegend": true,
         "subplot": "ternary",
         "type": "scatterternary"
        },
        {
         "a": [
          0.2994426897724766,
          0.1174410160448337,
          0.13466760206028927,
          0.14632442148462646,
          0.16876610744384085,
          0.30664379337880787
         ],
         "b": [
          0.0289150171551826,
          0.01792436972598916,
          0.3376752802848831,
          0.017678789188822895,
          0.18042297032686963,
          0.19273632749050712
         ],
         "c": [
          0.6716422930723408,
          0.8646346142291771,
          0.5276571176548276,
          0.8359967893265506,
          0.6508109222292895,
          0.5006198791306851
         ],
         "hovertemplate": "Carbon=Chitin<br>R=%{a}<br>G=%{b}<br>B=%{c}<br>Time=%{marker.size}<extra></extra>",
         "legendgroup": "Chitin",
         "marker": {
          "color": "#00cc96",
          "size": [
           0,
           11,
           21,
           37,
           66,
           90
          ],
          "sizemode": "area",
          "sizeref": 0.225,
          "symbol": "circle"
         },
         "mode": "markers",
         "name": "Chitin",
         "showlegend": true,
         "subplot": "ternary",
         "type": "scatterternary"
        }
       ],
       "layout": {
        "legend": {
         "itemsizing": "constant",
         "title": {
          "text": "Carbon"
         },
         "tracegroupgap": 0
        },
        "margin": {
         "t": 60
        },
        "template": {
         "data": {
          "bar": [
           {
            "error_x": {
             "color": "#2a3f5f"
            },
            "error_y": {
             "color": "#2a3f5f"
            },
            "marker": {
             "line": {
              "color": "#E5ECF6",
              "width": 0.5
             },
             "pattern": {
              "fillmode": "overlay",
              "size": 10,
              "solidity": 0.2
             }
            },
            "type": "bar"
           }
          ],
          "barpolar": [
           {
            "marker": {
             "line": {
              "color": "#E5ECF6",
              "width": 0.5
             },
             "pattern": {
              "fillmode": "overlay",
              "size": 10,
              "solidity": 0.2
             }
            },
            "type": "barpolar"
           }
          ],
          "carpet": [
           {
            "aaxis": {
             "endlinecolor": "#2a3f5f",
             "gridcolor": "white",
             "linecolor": "white",
             "minorgridcolor": "white",
             "startlinecolor": "#2a3f5f"
            },
            "baxis": {
             "endlinecolor": "#2a3f5f",
             "gridcolor": "white",
             "linecolor": "white",
             "minorgridcolor": "white",
             "startlinecolor": "#2a3f5f"
            },
            "type": "carpet"
           }
          ],
          "choropleth": [
           {
            "colorbar": {
             "outlinewidth": 0,
             "ticks": ""
            },
            "type": "choropleth"
           }
          ],
          "contour": [
           {
            "colorbar": {
             "outlinewidth": 0,
             "ticks": ""
            },
            "colorscale": [
             [
              0,
              "#0d0887"
             ],
             [
              0.1111111111111111,
              "#46039f"
             ],
             [
              0.2222222222222222,
              "#7201a8"
             ],
             [
              0.3333333333333333,
              "#9c179e"
             ],
             [
              0.4444444444444444,
              "#bd3786"
             ],
             [
              0.5555555555555556,
              "#d8576b"
             ],
             [
              0.6666666666666666,
              "#ed7953"
             ],
             [
              0.7777777777777778,
              "#fb9f3a"
             ],
             [
              0.8888888888888888,
              "#fdca26"
             ],
             [
              1,
              "#f0f921"
             ]
            ],
            "type": "contour"
           }
          ],
          "contourcarpet": [
           {
            "colorbar": {
             "outlinewidth": 0,
             "ticks": ""
            },
            "type": "contourcarpet"
           }
          ],
          "heatmap": [
           {
            "colorbar": {
             "outlinewidth": 0,
             "ticks": ""
            },
            "colorscale": [
             [
              0,
              "#0d0887"
             ],
             [
              0.1111111111111111,
              "#46039f"
             ],
             [
              0.2222222222222222,
              "#7201a8"
             ],
             [
              0.3333333333333333,
              "#9c179e"
             ],
             [
              0.4444444444444444,
              "#bd3786"
             ],
             [
              0.5555555555555556,
              "#d8576b"
             ],
             [
              0.6666666666666666,
              "#ed7953"
             ],
             [
              0.7777777777777778,
              "#fb9f3a"
             ],
             [
              0.8888888888888888,
              "#fdca26"
             ],
             [
              1,
              "#f0f921"
             ]
            ],
            "type": "heatmap"
           }
          ],
          "heatmapgl": [
           {
            "colorbar": {
             "outlinewidth": 0,
             "ticks": ""
            },
            "colorscale": [
             [
              0,
              "#0d0887"
             ],
             [
              0.1111111111111111,
              "#46039f"
             ],
             [
              0.2222222222222222,
              "#7201a8"
             ],
             [
              0.3333333333333333,
              "#9c179e"
             ],
             [
              0.4444444444444444,
              "#bd3786"
             ],
             [
              0.5555555555555556,
              "#d8576b"
             ],
             [
              0.6666666666666666,
              "#ed7953"
             ],
             [
              0.7777777777777778,
              "#fb9f3a"
             ],
             [
              0.8888888888888888,
              "#fdca26"
             ],
             [
              1,
              "#f0f921"
             ]
            ],
            "type": "heatmapgl"
           }
          ],
          "histogram": [
           {
            "marker": {
             "pattern": {
              "fillmode": "overlay",
              "size": 10,
              "solidity": 0.2
             }
            },
            "type": "histogram"
           }
          ],
          "histogram2d": [
           {
            "colorbar": {
             "outlinewidth": 0,
             "ticks": ""
            },
            "colorscale": [
             [
              0,
              "#0d0887"
             ],
             [
              0.1111111111111111,
              "#46039f"
             ],
             [
              0.2222222222222222,
              "#7201a8"
             ],
             [
              0.3333333333333333,
              "#9c179e"
             ],
             [
              0.4444444444444444,
              "#bd3786"
             ],
             [
              0.5555555555555556,
              "#d8576b"
             ],
             [
              0.6666666666666666,
              "#ed7953"
             ],
             [
              0.7777777777777778,
              "#fb9f3a"
             ],
             [
              0.8888888888888888,
              "#fdca26"
             ],
             [
              1,
              "#f0f921"
             ]
            ],
            "type": "histogram2d"
           }
          ],
          "histogram2dcontour": [
           {
            "colorbar": {
             "outlinewidth": 0,
             "ticks": ""
            },
            "colorscale": [
             [
              0,
              "#0d0887"
             ],
             [
              0.1111111111111111,
              "#46039f"
             ],
             [
              0.2222222222222222,
              "#7201a8"
             ],
             [
              0.3333333333333333,
              "#9c179e"
             ],
             [
              0.4444444444444444,
              "#bd3786"
             ],
             [
              0.5555555555555556,
              "#d8576b"
             ],
             [
              0.6666666666666666,
              "#ed7953"
             ],
             [
              0.7777777777777778,
              "#fb9f3a"
             ],
             [
              0.8888888888888888,
              "#fdca26"
             ],
             [
              1,
              "#f0f921"
             ]
            ],
            "type": "histogram2dcontour"
           }
          ],
          "mesh3d": [
           {
            "colorbar": {
             "outlinewidth": 0,
             "ticks": ""
            },
            "type": "mesh3d"
           }
          ],
          "parcoords": [
           {
            "line": {
             "colorbar": {
              "outlinewidth": 0,
              "ticks": ""
             }
            },
            "type": "parcoords"
           }
          ],
          "pie": [
           {
            "automargin": true,
            "type": "pie"
           }
          ],
          "scatter": [
           {
            "fillpattern": {
             "fillmode": "overlay",
             "size": 10,
             "solidity": 0.2
            },
            "type": "scatter"
           }
          ],
          "scatter3d": [
           {
            "line": {
             "colorbar": {
              "outlinewidth": 0,
              "ticks": ""
             }
            },
            "marker": {
             "colorbar": {
              "outlinewidth": 0,
              "ticks": ""
             }
            },
            "type": "scatter3d"
           }
          ],
          "scattercarpet": [
           {
            "marker": {
             "colorbar": {
              "outlinewidth": 0,
              "ticks": ""
             }
            },
            "type": "scattercarpet"
           }
          ],
          "scattergeo": [
           {
            "marker": {
             "colorbar": {
              "outlinewidth": 0,
              "ticks": ""
             }
            },
            "type": "scattergeo"
           }
          ],
          "scattergl": [
           {
            "marker": {
             "colorbar": {
              "outlinewidth": 0,
              "ticks": ""
             }
            },
            "type": "scattergl"
           }
          ],
          "scattermapbox": [
           {
            "marker": {
             "colorbar": {
              "outlinewidth": 0,
              "ticks": ""
             }
            },
            "type": "scattermapbox"
           }
          ],
          "scatterpolar": [
           {
            "marker": {
             "colorbar": {
              "outlinewidth": 0,
              "ticks": ""
             }
            },
            "type": "scatterpolar"
           }
          ],
          "scatterpolargl": [
           {
            "marker": {
             "colorbar": {
              "outlinewidth": 0,
              "ticks": ""
             }
            },
            "type": "scatterpolargl"
           }
          ],
          "scatterternary": [
           {
            "marker": {
             "colorbar": {
              "outlinewidth": 0,
              "ticks": ""
             }
            },
            "type": "scatterternary"
           }
          ],
          "surface": [
           {
            "colorbar": {
             "outlinewidth": 0,
             "ticks": ""
            },
            "colorscale": [
             [
              0,
              "#0d0887"
             ],
             [
              0.1111111111111111,
              "#46039f"
             ],
             [
              0.2222222222222222,
              "#7201a8"
             ],
             [
              0.3333333333333333,
              "#9c179e"
             ],
             [
              0.4444444444444444,
              "#bd3786"
             ],
             [
              0.5555555555555556,
              "#d8576b"
             ],
             [
              0.6666666666666666,
              "#ed7953"
             ],
             [
              0.7777777777777778,
              "#fb9f3a"
             ],
             [
              0.8888888888888888,
              "#fdca26"
             ],
             [
              1,
              "#f0f921"
             ]
            ],
            "type": "surface"
           }
          ],
          "table": [
           {
            "cells": {
             "fill": {
              "color": "#EBF0F8"
             },
             "line": {
              "color": "white"
             }
            },
            "header": {
             "fill": {
              "color": "#C8D4E3"
             },
             "line": {
              "color": "white"
             }
            },
            "type": "table"
           }
          ]
         },
         "layout": {
          "annotationdefaults": {
           "arrowcolor": "#2a3f5f",
           "arrowhead": 0,
           "arrowwidth": 1
          },
          "autotypenumbers": "strict",
          "coloraxis": {
           "colorbar": {
            "outlinewidth": 0,
            "ticks": ""
           }
          },
          "colorscale": {
           "diverging": [
            [
             0,
             "#8e0152"
            ],
            [
             0.1,
             "#c51b7d"
            ],
            [
             0.2,
             "#de77ae"
            ],
            [
             0.3,
             "#f1b6da"
            ],
            [
             0.4,
             "#fde0ef"
            ],
            [
             0.5,
             "#f7f7f7"
            ],
            [
             0.6,
             "#e6f5d0"
            ],
            [
             0.7,
             "#b8e186"
            ],
            [
             0.8,
             "#7fbc41"
            ],
            [
             0.9,
             "#4d9221"
            ],
            [
             1,
             "#276419"
            ]
           ],
           "sequential": [
            [
             0,
             "#0d0887"
            ],
            [
             0.1111111111111111,
             "#46039f"
            ],
            [
             0.2222222222222222,
             "#7201a8"
            ],
            [
             0.3333333333333333,
             "#9c179e"
            ],
            [
             0.4444444444444444,
             "#bd3786"
            ],
            [
             0.5555555555555556,
             "#d8576b"
            ],
            [
             0.6666666666666666,
             "#ed7953"
            ],
            [
             0.7777777777777778,
             "#fb9f3a"
            ],
            [
             0.8888888888888888,
             "#fdca26"
            ],
            [
             1,
             "#f0f921"
            ]
           ],
           "sequentialminus": [
            [
             0,
             "#0d0887"
            ],
            [
             0.1111111111111111,
             "#46039f"
            ],
            [
             0.2222222222222222,
             "#7201a8"
            ],
            [
             0.3333333333333333,
             "#9c179e"
            ],
            [
             0.4444444444444444,
             "#bd3786"
            ],
            [
             0.5555555555555556,
             "#d8576b"
            ],
            [
             0.6666666666666666,
             "#ed7953"
            ],
            [
             0.7777777777777778,
             "#fb9f3a"
            ],
            [
             0.8888888888888888,
             "#fdca26"
            ],
            [
             1,
             "#f0f921"
            ]
           ]
          },
          "colorway": [
           "#636efa",
           "#EF553B",
           "#00cc96",
           "#ab63fa",
           "#FFA15A",
           "#19d3f3",
           "#FF6692",
           "#B6E880",
           "#FF97FF",
           "#FECB52"
          ],
          "font": {
           "color": "#2a3f5f"
          },
          "geo": {
           "bgcolor": "white",
           "lakecolor": "white",
           "landcolor": "#E5ECF6",
           "showlakes": true,
           "showland": true,
           "subunitcolor": "white"
          },
          "hoverlabel": {
           "align": "left"
          },
          "hovermode": "closest",
          "mapbox": {
           "style": "light"
          },
          "paper_bgcolor": "white",
          "plot_bgcolor": "#E5ECF6",
          "polar": {
           "angularaxis": {
            "gridcolor": "white",
            "linecolor": "white",
            "ticks": ""
           },
           "bgcolor": "#E5ECF6",
           "radialaxis": {
            "gridcolor": "white",
            "linecolor": "white",
            "ticks": ""
           }
          },
          "scene": {
           "xaxis": {
            "backgroundcolor": "#E5ECF6",
            "gridcolor": "white",
            "gridwidth": 2,
            "linecolor": "white",
            "showbackground": true,
            "ticks": "",
            "zerolinecolor": "white"
           },
           "yaxis": {
            "backgroundcolor": "#E5ECF6",
            "gridcolor": "white",
            "gridwidth": 2,
            "linecolor": "white",
            "showbackground": true,
            "ticks": "",
            "zerolinecolor": "white"
           },
           "zaxis": {
            "backgroundcolor": "#E5ECF6",
            "gridcolor": "white",
            "gridwidth": 2,
            "linecolor": "white",
            "showbackground": true,
            "ticks": "",
            "zerolinecolor": "white"
           }
          },
          "shapedefaults": {
           "line": {
            "color": "#2a3f5f"
           }
          },
          "ternary": {
           "aaxis": {
            "gridcolor": "white",
            "linecolor": "white",
            "ticks": ""
           },
           "baxis": {
            "gridcolor": "white",
            "linecolor": "white",
            "ticks": ""
           },
           "bgcolor": "#E5ECF6",
           "caxis": {
            "gridcolor": "white",
            "linecolor": "white",
            "ticks": ""
           }
          },
          "title": {
           "x": 0.05
          },
          "xaxis": {
           "automargin": true,
           "gridcolor": "white",
           "linecolor": "white",
           "ticks": "",
           "title": {
            "standoff": 15
           },
           "zerolinecolor": "white",
           "zerolinewidth": 2
          },
          "yaxis": {
           "automargin": true,
           "gridcolor": "white",
           "linecolor": "white",
           "ticks": "",
           "title": {
            "standoff": 15
           },
           "zerolinecolor": "white",
           "zerolinewidth": 2
          }
         }
        },
        "ternary": {
         "aaxis": {
          "title": {
           "text": "R"
          }
         },
         "baxis": {
          "title": {
           "text": "G"
          }
         },
         "caxis": {
          "title": {
           "text": "B"
          }
         },
         "domain": {
          "x": [
           0,
           1
          ],
          "y": [
           0,
           1
          ]
         }
        }
       }
      }
     },
     "metadata": {},
     "output_type": "display_data"
    }
   ],
   "source": [
    "fig = px.scatter_ternary(pop_den_df[pop_den_df[\"Rep\"] == \"rep1\"], a='R', b='G', c='B',\n",
    "    size=\"Time\", color=\"Carbon\")\n",
    "fig.write_image(\"results/rep1.pdf\")\n",
    "fig.show()"
   ]
  },
  {
   "cell_type": "code",
   "execution_count": 9,
   "metadata": {},
   "outputs": [
    {
     "data": {
      "application/vnd.plotly.v1+json": {
       "config": {
        "plotlyServerURL": "https://plot.ly"
       },
       "data": [
        {
         "a": [
          0.5251415557264751,
          0.34051099505611,
          0.2959333944151351,
          0.06274672101914365,
          0.42128252110862646,
          0.4549843100735905
         ],
         "b": [
          0.031787839231146905,
          0.006569462611503966,
          0.0428233297222186,
          0.1095242378709232,
          0.26247149626884136,
          0.4279484743810341
         ],
         "c": [
          0.44307060504237794,
          0.652919542332386,
          0.6612432758626463,
          0.8277290411099332,
          0.3162459826225322,
          0.11706721554537534
         ],
         "hovertemplate": "Carbon=Nag<br>R=%{a}<br>G=%{b}<br>B=%{c}<br>Time=%{marker.size}<extra></extra>",
         "legendgroup": "Nag",
         "marker": {
          "color": "#636efa",
          "size": [
           0,
           11,
           22,
           35,
           66,
           90
          ],
          "sizemode": "area",
          "sizeref": 0.225,
          "symbol": "circle"
         },
         "mode": "markers",
         "name": "Nag",
         "showlegend": true,
         "subplot": "ternary",
         "type": "scatterternary"
        },
        {
         "a": [
          0.02075095552133378,
          0.34726022601320344,
          0.3602217978701831,
          0.6606233492281809,
          0.056603396588590774,
          0.20824393319966084
         ],
         "b": [
          0.012453768325769079,
          0.012304125117743139,
          0.05403282852767662,
          0.015282601178972548,
          0.11811922747923195,
          0.4900008904881286
         ],
         "c": [
          0.9667952761528972,
          0.6404356488690535,
          0.5857453736021403,
          0.32409404959284654,
          0.8252773759321773,
          0.30175517631221055
         ],
         "hovertemplate": "Carbon=Chito5<br>R=%{a}<br>G=%{b}<br>B=%{c}<br>Time=%{marker.size}<extra></extra>",
         "legendgroup": "Chito5",
         "marker": {
          "color": "#EF553B",
          "size": [
           0,
           11,
           22,
           35,
           66,
           90
          ],
          "sizemode": "area",
          "sizeref": 0.225,
          "symbol": "circle"
         },
         "mode": "markers",
         "name": "Chito5",
         "showlegend": true,
         "subplot": "ternary",
         "type": "scatterternary"
        },
        {
         "a": [
          0.4796978428952862,
          0.9042549428363554,
          0.9520028010471662,
          0.8525784468782739,
          0.2660325558533249,
          0.2612899983070388
         ],
         "b": [
          0.18705857713072668,
          0.03542295450012872,
          0.020172936783336093,
          0.14733842615461382,
          0.24120849756670382,
          0.3560405343774107
         ],
         "c": [
          0.3332435799739871,
          0.06032210266351581,
          0.02782426216949777,
          0.00008312696711228146,
          0.49275894657997127,
          0.3826694673155505
         ],
         "hovertemplate": "Carbon=Chitin<br>R=%{a}<br>G=%{b}<br>B=%{c}<br>Time=%{marker.size}<extra></extra>",
         "legendgroup": "Chitin",
         "marker": {
          "color": "#00cc96",
          "size": [
           0,
           11,
           22,
           35,
           66,
           90
          ],
          "sizemode": "area",
          "sizeref": 0.225,
          "symbol": "circle"
         },
         "mode": "markers",
         "name": "Chitin",
         "showlegend": true,
         "subplot": "ternary",
         "type": "scatterternary"
        }
       ],
       "layout": {
        "legend": {
         "itemsizing": "constant",
         "title": {
          "text": "Carbon"
         },
         "tracegroupgap": 0
        },
        "margin": {
         "t": 60
        },
        "template": {
         "data": {
          "bar": [
           {
            "error_x": {
             "color": "#2a3f5f"
            },
            "error_y": {
             "color": "#2a3f5f"
            },
            "marker": {
             "line": {
              "color": "#E5ECF6",
              "width": 0.5
             },
             "pattern": {
              "fillmode": "overlay",
              "size": 10,
              "solidity": 0.2
             }
            },
            "type": "bar"
           }
          ],
          "barpolar": [
           {
            "marker": {
             "line": {
              "color": "#E5ECF6",
              "width": 0.5
             },
             "pattern": {
              "fillmode": "overlay",
              "size": 10,
              "solidity": 0.2
             }
            },
            "type": "barpolar"
           }
          ],
          "carpet": [
           {
            "aaxis": {
             "endlinecolor": "#2a3f5f",
             "gridcolor": "white",
             "linecolor": "white",
             "minorgridcolor": "white",
             "startlinecolor": "#2a3f5f"
            },
            "baxis": {
             "endlinecolor": "#2a3f5f",
             "gridcolor": "white",
             "linecolor": "white",
             "minorgridcolor": "white",
             "startlinecolor": "#2a3f5f"
            },
            "type": "carpet"
           }
          ],
          "choropleth": [
           {
            "colorbar": {
             "outlinewidth": 0,
             "ticks": ""
            },
            "type": "choropleth"
           }
          ],
          "contour": [
           {
            "colorbar": {
             "outlinewidth": 0,
             "ticks": ""
            },
            "colorscale": [
             [
              0,
              "#0d0887"
             ],
             [
              0.1111111111111111,
              "#46039f"
             ],
             [
              0.2222222222222222,
              "#7201a8"
             ],
             [
              0.3333333333333333,
              "#9c179e"
             ],
             [
              0.4444444444444444,
              "#bd3786"
             ],
             [
              0.5555555555555556,
              "#d8576b"
             ],
             [
              0.6666666666666666,
              "#ed7953"
             ],
             [
              0.7777777777777778,
              "#fb9f3a"
             ],
             [
              0.8888888888888888,
              "#fdca26"
             ],
             [
              1,
              "#f0f921"
             ]
            ],
            "type": "contour"
           }
          ],
          "contourcarpet": [
           {
            "colorbar": {
             "outlinewidth": 0,
             "ticks": ""
            },
            "type": "contourcarpet"
           }
          ],
          "heatmap": [
           {
            "colorbar": {
             "outlinewidth": 0,
             "ticks": ""
            },
            "colorscale": [
             [
              0,
              "#0d0887"
             ],
             [
              0.1111111111111111,
              "#46039f"
             ],
             [
              0.2222222222222222,
              "#7201a8"
             ],
             [
              0.3333333333333333,
              "#9c179e"
             ],
             [
              0.4444444444444444,
              "#bd3786"
             ],
             [
              0.5555555555555556,
              "#d8576b"
             ],
             [
              0.6666666666666666,
              "#ed7953"
             ],
             [
              0.7777777777777778,
              "#fb9f3a"
             ],
             [
              0.8888888888888888,
              "#fdca26"
             ],
             [
              1,
              "#f0f921"
             ]
            ],
            "type": "heatmap"
           }
          ],
          "heatmapgl": [
           {
            "colorbar": {
             "outlinewidth": 0,
             "ticks": ""
            },
            "colorscale": [
             [
              0,
              "#0d0887"
             ],
             [
              0.1111111111111111,
              "#46039f"
             ],
             [
              0.2222222222222222,
              "#7201a8"
             ],
             [
              0.3333333333333333,
              "#9c179e"
             ],
             [
              0.4444444444444444,
              "#bd3786"
             ],
             [
              0.5555555555555556,
              "#d8576b"
             ],
             [
              0.6666666666666666,
              "#ed7953"
             ],
             [
              0.7777777777777778,
              "#fb9f3a"
             ],
             [
              0.8888888888888888,
              "#fdca26"
             ],
             [
              1,
              "#f0f921"
             ]
            ],
            "type": "heatmapgl"
           }
          ],
          "histogram": [
           {
            "marker": {
             "pattern": {
              "fillmode": "overlay",
              "size": 10,
              "solidity": 0.2
             }
            },
            "type": "histogram"
           }
          ],
          "histogram2d": [
           {
            "colorbar": {
             "outlinewidth": 0,
             "ticks": ""
            },
            "colorscale": [
             [
              0,
              "#0d0887"
             ],
             [
              0.1111111111111111,
              "#46039f"
             ],
             [
              0.2222222222222222,
              "#7201a8"
             ],
             [
              0.3333333333333333,
              "#9c179e"
             ],
             [
              0.4444444444444444,
              "#bd3786"
             ],
             [
              0.5555555555555556,
              "#d8576b"
             ],
             [
              0.6666666666666666,
              "#ed7953"
             ],
             [
              0.7777777777777778,
              "#fb9f3a"
             ],
             [
              0.8888888888888888,
              "#fdca26"
             ],
             [
              1,
              "#f0f921"
             ]
            ],
            "type": "histogram2d"
           }
          ],
          "histogram2dcontour": [
           {
            "colorbar": {
             "outlinewidth": 0,
             "ticks": ""
            },
            "colorscale": [
             [
              0,
              "#0d0887"
             ],
             [
              0.1111111111111111,
              "#46039f"
             ],
             [
              0.2222222222222222,
              "#7201a8"
             ],
             [
              0.3333333333333333,
              "#9c179e"
             ],
             [
              0.4444444444444444,
              "#bd3786"
             ],
             [
              0.5555555555555556,
              "#d8576b"
             ],
             [
              0.6666666666666666,
              "#ed7953"
             ],
             [
              0.7777777777777778,
              "#fb9f3a"
             ],
             [
              0.8888888888888888,
              "#fdca26"
             ],
             [
              1,
              "#f0f921"
             ]
            ],
            "type": "histogram2dcontour"
           }
          ],
          "mesh3d": [
           {
            "colorbar": {
             "outlinewidth": 0,
             "ticks": ""
            },
            "type": "mesh3d"
           }
          ],
          "parcoords": [
           {
            "line": {
             "colorbar": {
              "outlinewidth": 0,
              "ticks": ""
             }
            },
            "type": "parcoords"
           }
          ],
          "pie": [
           {
            "automargin": true,
            "type": "pie"
           }
          ],
          "scatter": [
           {
            "fillpattern": {
             "fillmode": "overlay",
             "size": 10,
             "solidity": 0.2
            },
            "type": "scatter"
           }
          ],
          "scatter3d": [
           {
            "line": {
             "colorbar": {
              "outlinewidth": 0,
              "ticks": ""
             }
            },
            "marker": {
             "colorbar": {
              "outlinewidth": 0,
              "ticks": ""
             }
            },
            "type": "scatter3d"
           }
          ],
          "scattercarpet": [
           {
            "marker": {
             "colorbar": {
              "outlinewidth": 0,
              "ticks": ""
             }
            },
            "type": "scattercarpet"
           }
          ],
          "scattergeo": [
           {
            "marker": {
             "colorbar": {
              "outlinewidth": 0,
              "ticks": ""
             }
            },
            "type": "scattergeo"
           }
          ],
          "scattergl": [
           {
            "marker": {
             "colorbar": {
              "outlinewidth": 0,
              "ticks": ""
             }
            },
            "type": "scattergl"
           }
          ],
          "scattermapbox": [
           {
            "marker": {
             "colorbar": {
              "outlinewidth": 0,
              "ticks": ""
             }
            },
            "type": "scattermapbox"
           }
          ],
          "scatterpolar": [
           {
            "marker": {
             "colorbar": {
              "outlinewidth": 0,
              "ticks": ""
             }
            },
            "type": "scatterpolar"
           }
          ],
          "scatterpolargl": [
           {
            "marker": {
             "colorbar": {
              "outlinewidth": 0,
              "ticks": ""
             }
            },
            "type": "scatterpolargl"
           }
          ],
          "scatterternary": [
           {
            "marker": {
             "colorbar": {
              "outlinewidth": 0,
              "ticks": ""
             }
            },
            "type": "scatterternary"
           }
          ],
          "surface": [
           {
            "colorbar": {
             "outlinewidth": 0,
             "ticks": ""
            },
            "colorscale": [
             [
              0,
              "#0d0887"
             ],
             [
              0.1111111111111111,
              "#46039f"
             ],
             [
              0.2222222222222222,
              "#7201a8"
             ],
             [
              0.3333333333333333,
              "#9c179e"
             ],
             [
              0.4444444444444444,
              "#bd3786"
             ],
             [
              0.5555555555555556,
              "#d8576b"
             ],
             [
              0.6666666666666666,
              "#ed7953"
             ],
             [
              0.7777777777777778,
              "#fb9f3a"
             ],
             [
              0.8888888888888888,
              "#fdca26"
             ],
             [
              1,
              "#f0f921"
             ]
            ],
            "type": "surface"
           }
          ],
          "table": [
           {
            "cells": {
             "fill": {
              "color": "#EBF0F8"
             },
             "line": {
              "color": "white"
             }
            },
            "header": {
             "fill": {
              "color": "#C8D4E3"
             },
             "line": {
              "color": "white"
             }
            },
            "type": "table"
           }
          ]
         },
         "layout": {
          "annotationdefaults": {
           "arrowcolor": "#2a3f5f",
           "arrowhead": 0,
           "arrowwidth": 1
          },
          "autotypenumbers": "strict",
          "coloraxis": {
           "colorbar": {
            "outlinewidth": 0,
            "ticks": ""
           }
          },
          "colorscale": {
           "diverging": [
            [
             0,
             "#8e0152"
            ],
            [
             0.1,
             "#c51b7d"
            ],
            [
             0.2,
             "#de77ae"
            ],
            [
             0.3,
             "#f1b6da"
            ],
            [
             0.4,
             "#fde0ef"
            ],
            [
             0.5,
             "#f7f7f7"
            ],
            [
             0.6,
             "#e6f5d0"
            ],
            [
             0.7,
             "#b8e186"
            ],
            [
             0.8,
             "#7fbc41"
            ],
            [
             0.9,
             "#4d9221"
            ],
            [
             1,
             "#276419"
            ]
           ],
           "sequential": [
            [
             0,
             "#0d0887"
            ],
            [
             0.1111111111111111,
             "#46039f"
            ],
            [
             0.2222222222222222,
             "#7201a8"
            ],
            [
             0.3333333333333333,
             "#9c179e"
            ],
            [
             0.4444444444444444,
             "#bd3786"
            ],
            [
             0.5555555555555556,
             "#d8576b"
            ],
            [
             0.6666666666666666,
             "#ed7953"
            ],
            [
             0.7777777777777778,
             "#fb9f3a"
            ],
            [
             0.8888888888888888,
             "#fdca26"
            ],
            [
             1,
             "#f0f921"
            ]
           ],
           "sequentialminus": [
            [
             0,
             "#0d0887"
            ],
            [
             0.1111111111111111,
             "#46039f"
            ],
            [
             0.2222222222222222,
             "#7201a8"
            ],
            [
             0.3333333333333333,
             "#9c179e"
            ],
            [
             0.4444444444444444,
             "#bd3786"
            ],
            [
             0.5555555555555556,
             "#d8576b"
            ],
            [
             0.6666666666666666,
             "#ed7953"
            ],
            [
             0.7777777777777778,
             "#fb9f3a"
            ],
            [
             0.8888888888888888,
             "#fdca26"
            ],
            [
             1,
             "#f0f921"
            ]
           ]
          },
          "colorway": [
           "#636efa",
           "#EF553B",
           "#00cc96",
           "#ab63fa",
           "#FFA15A",
           "#19d3f3",
           "#FF6692",
           "#B6E880",
           "#FF97FF",
           "#FECB52"
          ],
          "font": {
           "color": "#2a3f5f"
          },
          "geo": {
           "bgcolor": "white",
           "lakecolor": "white",
           "landcolor": "#E5ECF6",
           "showlakes": true,
           "showland": true,
           "subunitcolor": "white"
          },
          "hoverlabel": {
           "align": "left"
          },
          "hovermode": "closest",
          "mapbox": {
           "style": "light"
          },
          "paper_bgcolor": "white",
          "plot_bgcolor": "#E5ECF6",
          "polar": {
           "angularaxis": {
            "gridcolor": "white",
            "linecolor": "white",
            "ticks": ""
           },
           "bgcolor": "#E5ECF6",
           "radialaxis": {
            "gridcolor": "white",
            "linecolor": "white",
            "ticks": ""
           }
          },
          "scene": {
           "xaxis": {
            "backgroundcolor": "#E5ECF6",
            "gridcolor": "white",
            "gridwidth": 2,
            "linecolor": "white",
            "showbackground": true,
            "ticks": "",
            "zerolinecolor": "white"
           },
           "yaxis": {
            "backgroundcolor": "#E5ECF6",
            "gridcolor": "white",
            "gridwidth": 2,
            "linecolor": "white",
            "showbackground": true,
            "ticks": "",
            "zerolinecolor": "white"
           },
           "zaxis": {
            "backgroundcolor": "#E5ECF6",
            "gridcolor": "white",
            "gridwidth": 2,
            "linecolor": "white",
            "showbackground": true,
            "ticks": "",
            "zerolinecolor": "white"
           }
          },
          "shapedefaults": {
           "line": {
            "color": "#2a3f5f"
           }
          },
          "ternary": {
           "aaxis": {
            "gridcolor": "white",
            "linecolor": "white",
            "ticks": ""
           },
           "baxis": {
            "gridcolor": "white",
            "linecolor": "white",
            "ticks": ""
           },
           "bgcolor": "#E5ECF6",
           "caxis": {
            "gridcolor": "white",
            "linecolor": "white",
            "ticks": ""
           }
          },
          "title": {
           "x": 0.05
          },
          "xaxis": {
           "automargin": true,
           "gridcolor": "white",
           "linecolor": "white",
           "ticks": "",
           "title": {
            "standoff": 15
           },
           "zerolinecolor": "white",
           "zerolinewidth": 2
          },
          "yaxis": {
           "automargin": true,
           "gridcolor": "white",
           "linecolor": "white",
           "ticks": "",
           "title": {
            "standoff": 15
           },
           "zerolinecolor": "white",
           "zerolinewidth": 2
          }
         }
        },
        "ternary": {
         "aaxis": {
          "title": {
           "text": "R"
          }
         },
         "baxis": {
          "title": {
           "text": "G"
          }
         },
         "caxis": {
          "title": {
           "text": "B"
          }
         },
         "domain": {
          "x": [
           0,
           1
          ],
          "y": [
           0,
           1
          ]
         }
        }
       }
      }
     },
     "metadata": {},
     "output_type": "display_data"
    }
   ],
   "source": [
    "fig = px.scatter_ternary(pop_den_df[pop_den_df[\"Rep\"] == \"rep2\"], a='R', b='G', c='B',\n",
    "    size=\"Time\", color=\"Carbon\")\n",
    "fig.write_image(\"results/rep2.pdf\")\n",
    "fig.show()"
   ]
  },
  {
   "cell_type": "code",
   "execution_count": 10,
   "metadata": {},
   "outputs": [
    {
     "data": {
      "application/vnd.plotly.v1+json": {
       "config": {
        "plotlyServerURL": "https://plot.ly"
       },
       "data": [
        {
         "a": [
          0.48107341872613235,
          0.4728219575455074,
          0.4379981020385138,
          0.20368583891905143,
          0.38059630859868004,
          0.0837392971928067
         ],
         "b": [
          0.1348707693684215,
          0.039445300027813684,
          0.014863160944376076,
          0.04332209185906644,
          0.14480807185591332,
          0.026578497875805105
         ],
         "c": [
          0.38405581190544613,
          0.48773274242667897,
          0.5471387370171101,
          0.7529920692218821,
          0.47459561954540663,
          0.8896822049313882
         ],
         "hovertemplate": "Carbon=Nag<br>R=%{a}<br>G=%{b}<br>B=%{c}<br>Time=%{marker.size}<extra></extra>",
         "legendgroup": "Nag",
         "marker": {
          "color": "#636efa",
          "size": [
           0,
           11,
           22,
           37,
           66,
           90
          ],
          "sizemode": "area",
          "sizeref": 0.225,
          "symbol": "circle"
         },
         "mode": "markers",
         "name": "Nag",
         "showlegend": true,
         "subplot": "ternary",
         "type": "scatterternary"
        },
        {
         "a": [
          0.40249221610311137,
          0.9416280530549502,
          0.6931438301998286,
          0.26753778141691503,
          0.361422096226536
         ],
         "b": [
          0.4160485756238812,
          0.05779726530805157,
          0.02361046709029781,
          0.33852746438920545,
          0.4600971394708181
         ],
         "c": [
          0.18145920827300743,
          0.0005746816369981688,
          0.28324570270987354,
          0.39393475419387947,
          0.17848076430264592
         ],
         "hovertemplate": "Carbon=Chito5<br>R=%{a}<br>G=%{b}<br>B=%{c}<br>Time=%{marker.size}<extra></extra>",
         "legendgroup": "Chito5",
         "marker": {
          "color": "#EF553B",
          "size": [
           0,
           11,
           22,
           66,
           90
          ],
          "sizemode": "area",
          "sizeref": 0.225,
          "symbol": "circle"
         },
         "mode": "markers",
         "name": "Chito5",
         "showlegend": true,
         "subplot": "ternary",
         "type": "scatterternary"
        },
        {
         "a": [
          0.014709476592544297,
          0.011494911962673606,
          0.3443011103227961,
          0.271610314310457,
          0.2999966805520174,
          0.0011534106859027022
         ],
         "b": [
          0.0012887774876685675,
          0.004902252560744565,
          0.0005663042138032078,
          0.0010925047186578414,
          0.0008796053860093402,
          0.002359408590302045
         ],
         "c": [
          0.9840017459197872,
          0.9836028354765818,
          0.6551325854634007,
          0.7272971809708851,
          0.6991237140619733,
          0.9964871807237953
         ],
         "hovertemplate": "Carbon=Chitin<br>R=%{a}<br>G=%{b}<br>B=%{c}<br>Time=%{marker.size}<extra></extra>",
         "legendgroup": "Chitin",
         "marker": {
          "color": "#00cc96",
          "size": [
           0,
           11,
           22,
           37,
           66,
           90
          ],
          "sizemode": "area",
          "sizeref": 0.225,
          "symbol": "circle"
         },
         "mode": "markers",
         "name": "Chitin",
         "showlegend": true,
         "subplot": "ternary",
         "type": "scatterternary"
        }
       ],
       "layout": {
        "legend": {
         "itemsizing": "constant",
         "title": {
          "text": "Carbon"
         },
         "tracegroupgap": 0
        },
        "margin": {
         "t": 60
        },
        "template": {
         "data": {
          "bar": [
           {
            "error_x": {
             "color": "#2a3f5f"
            },
            "error_y": {
             "color": "#2a3f5f"
            },
            "marker": {
             "line": {
              "color": "#E5ECF6",
              "width": 0.5
             },
             "pattern": {
              "fillmode": "overlay",
              "size": 10,
              "solidity": 0.2
             }
            },
            "type": "bar"
           }
          ],
          "barpolar": [
           {
            "marker": {
             "line": {
              "color": "#E5ECF6",
              "width": 0.5
             },
             "pattern": {
              "fillmode": "overlay",
              "size": 10,
              "solidity": 0.2
             }
            },
            "type": "barpolar"
           }
          ],
          "carpet": [
           {
            "aaxis": {
             "endlinecolor": "#2a3f5f",
             "gridcolor": "white",
             "linecolor": "white",
             "minorgridcolor": "white",
             "startlinecolor": "#2a3f5f"
            },
            "baxis": {
             "endlinecolor": "#2a3f5f",
             "gridcolor": "white",
             "linecolor": "white",
             "minorgridcolor": "white",
             "startlinecolor": "#2a3f5f"
            },
            "type": "carpet"
           }
          ],
          "choropleth": [
           {
            "colorbar": {
             "outlinewidth": 0,
             "ticks": ""
            },
            "type": "choropleth"
           }
          ],
          "contour": [
           {
            "colorbar": {
             "outlinewidth": 0,
             "ticks": ""
            },
            "colorscale": [
             [
              0,
              "#0d0887"
             ],
             [
              0.1111111111111111,
              "#46039f"
             ],
             [
              0.2222222222222222,
              "#7201a8"
             ],
             [
              0.3333333333333333,
              "#9c179e"
             ],
             [
              0.4444444444444444,
              "#bd3786"
             ],
             [
              0.5555555555555556,
              "#d8576b"
             ],
             [
              0.6666666666666666,
              "#ed7953"
             ],
             [
              0.7777777777777778,
              "#fb9f3a"
             ],
             [
              0.8888888888888888,
              "#fdca26"
             ],
             [
              1,
              "#f0f921"
             ]
            ],
            "type": "contour"
           }
          ],
          "contourcarpet": [
           {
            "colorbar": {
             "outlinewidth": 0,
             "ticks": ""
            },
            "type": "contourcarpet"
           }
          ],
          "heatmap": [
           {
            "colorbar": {
             "outlinewidth": 0,
             "ticks": ""
            },
            "colorscale": [
             [
              0,
              "#0d0887"
             ],
             [
              0.1111111111111111,
              "#46039f"
             ],
             [
              0.2222222222222222,
              "#7201a8"
             ],
             [
              0.3333333333333333,
              "#9c179e"
             ],
             [
              0.4444444444444444,
              "#bd3786"
             ],
             [
              0.5555555555555556,
              "#d8576b"
             ],
             [
              0.6666666666666666,
              "#ed7953"
             ],
             [
              0.7777777777777778,
              "#fb9f3a"
             ],
             [
              0.8888888888888888,
              "#fdca26"
             ],
             [
              1,
              "#f0f921"
             ]
            ],
            "type": "heatmap"
           }
          ],
          "heatmapgl": [
           {
            "colorbar": {
             "outlinewidth": 0,
             "ticks": ""
            },
            "colorscale": [
             [
              0,
              "#0d0887"
             ],
             [
              0.1111111111111111,
              "#46039f"
             ],
             [
              0.2222222222222222,
              "#7201a8"
             ],
             [
              0.3333333333333333,
              "#9c179e"
             ],
             [
              0.4444444444444444,
              "#bd3786"
             ],
             [
              0.5555555555555556,
              "#d8576b"
             ],
             [
              0.6666666666666666,
              "#ed7953"
             ],
             [
              0.7777777777777778,
              "#fb9f3a"
             ],
             [
              0.8888888888888888,
              "#fdca26"
             ],
             [
              1,
              "#f0f921"
             ]
            ],
            "type": "heatmapgl"
           }
          ],
          "histogram": [
           {
            "marker": {
             "pattern": {
              "fillmode": "overlay",
              "size": 10,
              "solidity": 0.2
             }
            },
            "type": "histogram"
           }
          ],
          "histogram2d": [
           {
            "colorbar": {
             "outlinewidth": 0,
             "ticks": ""
            },
            "colorscale": [
             [
              0,
              "#0d0887"
             ],
             [
              0.1111111111111111,
              "#46039f"
             ],
             [
              0.2222222222222222,
              "#7201a8"
             ],
             [
              0.3333333333333333,
              "#9c179e"
             ],
             [
              0.4444444444444444,
              "#bd3786"
             ],
             [
              0.5555555555555556,
              "#d8576b"
             ],
             [
              0.6666666666666666,
              "#ed7953"
             ],
             [
              0.7777777777777778,
              "#fb9f3a"
             ],
             [
              0.8888888888888888,
              "#fdca26"
             ],
             [
              1,
              "#f0f921"
             ]
            ],
            "type": "histogram2d"
           }
          ],
          "histogram2dcontour": [
           {
            "colorbar": {
             "outlinewidth": 0,
             "ticks": ""
            },
            "colorscale": [
             [
              0,
              "#0d0887"
             ],
             [
              0.1111111111111111,
              "#46039f"
             ],
             [
              0.2222222222222222,
              "#7201a8"
             ],
             [
              0.3333333333333333,
              "#9c179e"
             ],
             [
              0.4444444444444444,
              "#bd3786"
             ],
             [
              0.5555555555555556,
              "#d8576b"
             ],
             [
              0.6666666666666666,
              "#ed7953"
             ],
             [
              0.7777777777777778,
              "#fb9f3a"
             ],
             [
              0.8888888888888888,
              "#fdca26"
             ],
             [
              1,
              "#f0f921"
             ]
            ],
            "type": "histogram2dcontour"
           }
          ],
          "mesh3d": [
           {
            "colorbar": {
             "outlinewidth": 0,
             "ticks": ""
            },
            "type": "mesh3d"
           }
          ],
          "parcoords": [
           {
            "line": {
             "colorbar": {
              "outlinewidth": 0,
              "ticks": ""
             }
            },
            "type": "parcoords"
           }
          ],
          "pie": [
           {
            "automargin": true,
            "type": "pie"
           }
          ],
          "scatter": [
           {
            "fillpattern": {
             "fillmode": "overlay",
             "size": 10,
             "solidity": 0.2
            },
            "type": "scatter"
           }
          ],
          "scatter3d": [
           {
            "line": {
             "colorbar": {
              "outlinewidth": 0,
              "ticks": ""
             }
            },
            "marker": {
             "colorbar": {
              "outlinewidth": 0,
              "ticks": ""
             }
            },
            "type": "scatter3d"
           }
          ],
          "scattercarpet": [
           {
            "marker": {
             "colorbar": {
              "outlinewidth": 0,
              "ticks": ""
             }
            },
            "type": "scattercarpet"
           }
          ],
          "scattergeo": [
           {
            "marker": {
             "colorbar": {
              "outlinewidth": 0,
              "ticks": ""
             }
            },
            "type": "scattergeo"
           }
          ],
          "scattergl": [
           {
            "marker": {
             "colorbar": {
              "outlinewidth": 0,
              "ticks": ""
             }
            },
            "type": "scattergl"
           }
          ],
          "scattermapbox": [
           {
            "marker": {
             "colorbar": {
              "outlinewidth": 0,
              "ticks": ""
             }
            },
            "type": "scattermapbox"
           }
          ],
          "scatterpolar": [
           {
            "marker": {
             "colorbar": {
              "outlinewidth": 0,
              "ticks": ""
             }
            },
            "type": "scatterpolar"
           }
          ],
          "scatterpolargl": [
           {
            "marker": {
             "colorbar": {
              "outlinewidth": 0,
              "ticks": ""
             }
            },
            "type": "scatterpolargl"
           }
          ],
          "scatterternary": [
           {
            "marker": {
             "colorbar": {
              "outlinewidth": 0,
              "ticks": ""
             }
            },
            "type": "scatterternary"
           }
          ],
          "surface": [
           {
            "colorbar": {
             "outlinewidth": 0,
             "ticks": ""
            },
            "colorscale": [
             [
              0,
              "#0d0887"
             ],
             [
              0.1111111111111111,
              "#46039f"
             ],
             [
              0.2222222222222222,
              "#7201a8"
             ],
             [
              0.3333333333333333,
              "#9c179e"
             ],
             [
              0.4444444444444444,
              "#bd3786"
             ],
             [
              0.5555555555555556,
              "#d8576b"
             ],
             [
              0.6666666666666666,
              "#ed7953"
             ],
             [
              0.7777777777777778,
              "#fb9f3a"
             ],
             [
              0.8888888888888888,
              "#fdca26"
             ],
             [
              1,
              "#f0f921"
             ]
            ],
            "type": "surface"
           }
          ],
          "table": [
           {
            "cells": {
             "fill": {
              "color": "#EBF0F8"
             },
             "line": {
              "color": "white"
             }
            },
            "header": {
             "fill": {
              "color": "#C8D4E3"
             },
             "line": {
              "color": "white"
             }
            },
            "type": "table"
           }
          ]
         },
         "layout": {
          "annotationdefaults": {
           "arrowcolor": "#2a3f5f",
           "arrowhead": 0,
           "arrowwidth": 1
          },
          "autotypenumbers": "strict",
          "coloraxis": {
           "colorbar": {
            "outlinewidth": 0,
            "ticks": ""
           }
          },
          "colorscale": {
           "diverging": [
            [
             0,
             "#8e0152"
            ],
            [
             0.1,
             "#c51b7d"
            ],
            [
             0.2,
             "#de77ae"
            ],
            [
             0.3,
             "#f1b6da"
            ],
            [
             0.4,
             "#fde0ef"
            ],
            [
             0.5,
             "#f7f7f7"
            ],
            [
             0.6,
             "#e6f5d0"
            ],
            [
             0.7,
             "#b8e186"
            ],
            [
             0.8,
             "#7fbc41"
            ],
            [
             0.9,
             "#4d9221"
            ],
            [
             1,
             "#276419"
            ]
           ],
           "sequential": [
            [
             0,
             "#0d0887"
            ],
            [
             0.1111111111111111,
             "#46039f"
            ],
            [
             0.2222222222222222,
             "#7201a8"
            ],
            [
             0.3333333333333333,
             "#9c179e"
            ],
            [
             0.4444444444444444,
             "#bd3786"
            ],
            [
             0.5555555555555556,
             "#d8576b"
            ],
            [
             0.6666666666666666,
             "#ed7953"
            ],
            [
             0.7777777777777778,
             "#fb9f3a"
            ],
            [
             0.8888888888888888,
             "#fdca26"
            ],
            [
             1,
             "#f0f921"
            ]
           ],
           "sequentialminus": [
            [
             0,
             "#0d0887"
            ],
            [
             0.1111111111111111,
             "#46039f"
            ],
            [
             0.2222222222222222,
             "#7201a8"
            ],
            [
             0.3333333333333333,
             "#9c179e"
            ],
            [
             0.4444444444444444,
             "#bd3786"
            ],
            [
             0.5555555555555556,
             "#d8576b"
            ],
            [
             0.6666666666666666,
             "#ed7953"
            ],
            [
             0.7777777777777778,
             "#fb9f3a"
            ],
            [
             0.8888888888888888,
             "#fdca26"
            ],
            [
             1,
             "#f0f921"
            ]
           ]
          },
          "colorway": [
           "#636efa",
           "#EF553B",
           "#00cc96",
           "#ab63fa",
           "#FFA15A",
           "#19d3f3",
           "#FF6692",
           "#B6E880",
           "#FF97FF",
           "#FECB52"
          ],
          "font": {
           "color": "#2a3f5f"
          },
          "geo": {
           "bgcolor": "white",
           "lakecolor": "white",
           "landcolor": "#E5ECF6",
           "showlakes": true,
           "showland": true,
           "subunitcolor": "white"
          },
          "hoverlabel": {
           "align": "left"
          },
          "hovermode": "closest",
          "mapbox": {
           "style": "light"
          },
          "paper_bgcolor": "white",
          "plot_bgcolor": "#E5ECF6",
          "polar": {
           "angularaxis": {
            "gridcolor": "white",
            "linecolor": "white",
            "ticks": ""
           },
           "bgcolor": "#E5ECF6",
           "radialaxis": {
            "gridcolor": "white",
            "linecolor": "white",
            "ticks": ""
           }
          },
          "scene": {
           "xaxis": {
            "backgroundcolor": "#E5ECF6",
            "gridcolor": "white",
            "gridwidth": 2,
            "linecolor": "white",
            "showbackground": true,
            "ticks": "",
            "zerolinecolor": "white"
           },
           "yaxis": {
            "backgroundcolor": "#E5ECF6",
            "gridcolor": "white",
            "gridwidth": 2,
            "linecolor": "white",
            "showbackground": true,
            "ticks": "",
            "zerolinecolor": "white"
           },
           "zaxis": {
            "backgroundcolor": "#E5ECF6",
            "gridcolor": "white",
            "gridwidth": 2,
            "linecolor": "white",
            "showbackground": true,
            "ticks": "",
            "zerolinecolor": "white"
           }
          },
          "shapedefaults": {
           "line": {
            "color": "#2a3f5f"
           }
          },
          "ternary": {
           "aaxis": {
            "gridcolor": "white",
            "linecolor": "white",
            "ticks": ""
           },
           "baxis": {
            "gridcolor": "white",
            "linecolor": "white",
            "ticks": ""
           },
           "bgcolor": "#E5ECF6",
           "caxis": {
            "gridcolor": "white",
            "linecolor": "white",
            "ticks": ""
           }
          },
          "title": {
           "x": 0.05
          },
          "xaxis": {
           "automargin": true,
           "gridcolor": "white",
           "linecolor": "white",
           "ticks": "",
           "title": {
            "standoff": 15
           },
           "zerolinecolor": "white",
           "zerolinewidth": 2
          },
          "yaxis": {
           "automargin": true,
           "gridcolor": "white",
           "linecolor": "white",
           "ticks": "",
           "title": {
            "standoff": 15
           },
           "zerolinecolor": "white",
           "zerolinewidth": 2
          }
         }
        },
        "ternary": {
         "aaxis": {
          "title": {
           "text": "R"
          }
         },
         "baxis": {
          "title": {
           "text": "G"
          }
         },
         "caxis": {
          "title": {
           "text": "B"
          }
         },
         "domain": {
          "x": [
           0,
           1
          ],
          "y": [
           0,
           1
          ]
         }
        }
       }
      }
     },
     "metadata": {},
     "output_type": "display_data"
    }
   ],
   "source": [
    "fig = px.scatter_ternary(pop_den_df[pop_den_df[\"Rep\"] == \"rep3\"], a='R', b='G', c='B',\n",
    "    size=\"Time\", color=\"Carbon\")\n",
    "fig.write_image(\"results/rep3.pdf\")\n",
    "fig.show()"
   ]
  },
  {
   "cell_type": "code",
   "execution_count": 11,
   "metadata": {},
   "outputs": [
    {
     "data": {
      "application/vnd.plotly.v1+json": {
       "config": {
        "plotlyServerURL": "https://plot.ly"
       },
       "data": [
        {
         "a": [
          0.3737716369183117,
          0.18286030541952247,
          0.02712849917266579,
          0.08000727310812361,
          0.0583512743226211,
          0.33222767743097725
         ],
         "b": [
          0.013258196892347418,
          0.016180604276496143,
          0.02042819405840658,
          0.08532698918524668,
          0.13918036854653465,
          0.4990617157418185
         ],
         "c": [
          0.6129701661893409,
          0.8009590903039814,
          0.9524433067689276,
          0.8346657377066297,
          0.8024683571308443,
          0.16871060682720423
         ],
         "hovertemplate": "Carbon=Nag<br>Rep=rep1<br>R=%{a}<br>G=%{b}<br>B=%{c}<br>Time=%{marker.size}<extra></extra>",
         "legendgroup": "Nag, rep1",
         "marker": {
          "color": "#636efa",
          "size": [
           0,
           11,
           21,
           37,
           66,
           90
          ],
          "sizemode": "area",
          "sizeref": 0.225,
          "symbol": "circle"
         },
         "mode": "markers",
         "name": "Nag, rep1",
         "showlegend": true,
         "subplot": "ternary",
         "type": "scatterternary"
        },
        {
         "a": [
          0.5251415557264751,
          0.34051099505611,
          0.2959333944151351,
          0.06274672101914365,
          0.42128252110862646,
          0.4549843100735905
         ],
         "b": [
          0.031787839231146905,
          0.006569462611503966,
          0.0428233297222186,
          0.1095242378709232,
          0.26247149626884136,
          0.4279484743810341
         ],
         "c": [
          0.44307060504237794,
          0.652919542332386,
          0.6612432758626463,
          0.8277290411099332,
          0.3162459826225322,
          0.11706721554537534
         ],
         "hovertemplate": "Carbon=Nag<br>Rep=rep2<br>R=%{a}<br>G=%{b}<br>B=%{c}<br>Time=%{marker.size}<extra></extra>",
         "legendgroup": "Nag, rep2",
         "marker": {
          "color": "#636efa",
          "size": [
           0,
           11,
           22,
           35,
           66,
           90
          ],
          "sizemode": "area",
          "sizeref": 0.225,
          "symbol": "diamond"
         },
         "mode": "markers",
         "name": "Nag, rep2",
         "showlegend": true,
         "subplot": "ternary",
         "type": "scatterternary"
        },
        {
         "a": [
          0.48107341872613235,
          0.4728219575455074,
          0.4379981020385138,
          0.20368583891905143,
          0.38059630859868004,
          0.0837392971928067
         ],
         "b": [
          0.1348707693684215,
          0.039445300027813684,
          0.014863160944376076,
          0.04332209185906644,
          0.14480807185591332,
          0.026578497875805105
         ],
         "c": [
          0.38405581190544613,
          0.48773274242667897,
          0.5471387370171101,
          0.7529920692218821,
          0.47459561954540663,
          0.8896822049313882
         ],
         "hovertemplate": "Carbon=Nag<br>Rep=rep3<br>R=%{a}<br>G=%{b}<br>B=%{c}<br>Time=%{marker.size}<extra></extra>",
         "legendgroup": "Nag, rep3",
         "marker": {
          "color": "#636efa",
          "size": [
           0,
           11,
           22,
           37,
           66,
           90
          ],
          "sizemode": "area",
          "sizeref": 0.225,
          "symbol": "square"
         },
         "mode": "markers",
         "name": "Nag, rep3",
         "showlegend": true,
         "subplot": "ternary",
         "type": "scatterternary"
        },
        {
         "a": [
          0.13955426277220356,
          0.31606607417060884,
          0.08159541433732703,
          0.06432776087718876,
          0.030860873662088947,
          0.009730744040467754
         ],
         "b": [
          0.07448234147146877,
          0.0031957617597518223,
          0.015585409502114629,
          0.021319920225610908,
          0.18264595310382034,
          0.5507431154951548
         ],
         "c": [
          0.7859633957563277,
          0.6807381640696393,
          0.9028191761605583,
          0.9143523188972004,
          0.7864931732340907,
          0.4395261404643775
         ],
         "hovertemplate": "Carbon=Chito5<br>Rep=rep1<br>R=%{a}<br>G=%{b}<br>B=%{c}<br>Time=%{marker.size}<extra></extra>",
         "legendgroup": "Chito5, rep1",
         "marker": {
          "color": "#EF553B",
          "size": [
           0,
           11,
           21,
           37,
           66,
           90
          ],
          "sizemode": "area",
          "sizeref": 0.225,
          "symbol": "circle"
         },
         "mode": "markers",
         "name": "Chito5, rep1",
         "showlegend": true,
         "subplot": "ternary",
         "type": "scatterternary"
        },
        {
         "a": [
          0.02075095552133378,
          0.34726022601320344,
          0.3602217978701831,
          0.6606233492281809,
          0.056603396588590774,
          0.20824393319966084
         ],
         "b": [
          0.012453768325769079,
          0.012304125117743139,
          0.05403282852767662,
          0.015282601178972548,
          0.11811922747923195,
          0.4900008904881286
         ],
         "c": [
          0.9667952761528972,
          0.6404356488690535,
          0.5857453736021403,
          0.32409404959284654,
          0.8252773759321773,
          0.30175517631221055
         ],
         "hovertemplate": "Carbon=Chito5<br>Rep=rep2<br>R=%{a}<br>G=%{b}<br>B=%{c}<br>Time=%{marker.size}<extra></extra>",
         "legendgroup": "Chito5, rep2",
         "marker": {
          "color": "#EF553B",
          "size": [
           0,
           11,
           22,
           35,
           66,
           90
          ],
          "sizemode": "area",
          "sizeref": 0.225,
          "symbol": "diamond"
         },
         "mode": "markers",
         "name": "Chito5, rep2",
         "showlegend": true,
         "subplot": "ternary",
         "type": "scatterternary"
        },
        {
         "a": [
          0.40249221610311137,
          0.9416280530549502,
          0.6931438301998286,
          0.26753778141691503,
          0.361422096226536
         ],
         "b": [
          0.4160485756238812,
          0.05779726530805157,
          0.02361046709029781,
          0.33852746438920545,
          0.4600971394708181
         ],
         "c": [
          0.18145920827300743,
          0.0005746816369981688,
          0.28324570270987354,
          0.39393475419387947,
          0.17848076430264592
         ],
         "hovertemplate": "Carbon=Chito5<br>Rep=rep3<br>R=%{a}<br>G=%{b}<br>B=%{c}<br>Time=%{marker.size}<extra></extra>",
         "legendgroup": "Chito5, rep3",
         "marker": {
          "color": "#EF553B",
          "size": [
           0,
           11,
           22,
           66,
           90
          ],
          "sizemode": "area",
          "sizeref": 0.225,
          "symbol": "square"
         },
         "mode": "markers",
         "name": "Chito5, rep3",
         "showlegend": true,
         "subplot": "ternary",
         "type": "scatterternary"
        },
        {
         "a": [
          0.2994426897724766,
          0.1174410160448337,
          0.13466760206028927,
          0.14632442148462646,
          0.16876610744384085,
          0.30664379337880787
         ],
         "b": [
          0.0289150171551826,
          0.01792436972598916,
          0.3376752802848831,
          0.017678789188822895,
          0.18042297032686963,
          0.19273632749050712
         ],
         "c": [
          0.6716422930723408,
          0.8646346142291771,
          0.5276571176548276,
          0.8359967893265506,
          0.6508109222292895,
          0.5006198791306851
         ],
         "hovertemplate": "Carbon=Chitin<br>Rep=rep1<br>R=%{a}<br>G=%{b}<br>B=%{c}<br>Time=%{marker.size}<extra></extra>",
         "legendgroup": "Chitin, rep1",
         "marker": {
          "color": "#00cc96",
          "size": [
           0,
           11,
           21,
           37,
           66,
           90
          ],
          "sizemode": "area",
          "sizeref": 0.225,
          "symbol": "circle"
         },
         "mode": "markers",
         "name": "Chitin, rep1",
         "showlegend": true,
         "subplot": "ternary",
         "type": "scatterternary"
        },
        {
         "a": [
          0.4796978428952862,
          0.9042549428363554,
          0.9520028010471662,
          0.8525784468782739,
          0.2660325558533249,
          0.2612899983070388
         ],
         "b": [
          0.18705857713072668,
          0.03542295450012872,
          0.020172936783336093,
          0.14733842615461382,
          0.24120849756670382,
          0.3560405343774107
         ],
         "c": [
          0.3332435799739871,
          0.06032210266351581,
          0.02782426216949777,
          0.00008312696711228146,
          0.49275894657997127,
          0.3826694673155505
         ],
         "hovertemplate": "Carbon=Chitin<br>Rep=rep2<br>R=%{a}<br>G=%{b}<br>B=%{c}<br>Time=%{marker.size}<extra></extra>",
         "legendgroup": "Chitin, rep2",
         "marker": {
          "color": "#00cc96",
          "size": [
           0,
           11,
           22,
           35,
           66,
           90
          ],
          "sizemode": "area",
          "sizeref": 0.225,
          "symbol": "diamond"
         },
         "mode": "markers",
         "name": "Chitin, rep2",
         "showlegend": true,
         "subplot": "ternary",
         "type": "scatterternary"
        },
        {
         "a": [
          0.014709476592544297,
          0.011494911962673606,
          0.3443011103227961,
          0.271610314310457,
          0.2999966805520174,
          0.0011534106859027022
         ],
         "b": [
          0.0012887774876685675,
          0.004902252560744565,
          0.0005663042138032078,
          0.0010925047186578414,
          0.0008796053860093402,
          0.002359408590302045
         ],
         "c": [
          0.9840017459197872,
          0.9836028354765818,
          0.6551325854634007,
          0.7272971809708851,
          0.6991237140619733,
          0.9964871807237953
         ],
         "hovertemplate": "Carbon=Chitin<br>Rep=rep3<br>R=%{a}<br>G=%{b}<br>B=%{c}<br>Time=%{marker.size}<extra></extra>",
         "legendgroup": "Chitin, rep3",
         "marker": {
          "color": "#00cc96",
          "size": [
           0,
           11,
           22,
           37,
           66,
           90
          ],
          "sizemode": "area",
          "sizeref": 0.225,
          "symbol": "square"
         },
         "mode": "markers",
         "name": "Chitin, rep3",
         "showlegend": true,
         "subplot": "ternary",
         "type": "scatterternary"
        }
       ],
       "layout": {
        "legend": {
         "itemsizing": "constant",
         "title": {
          "text": "Carbon, Rep"
         },
         "tracegroupgap": 0
        },
        "margin": {
         "t": 60
        },
        "template": {
         "data": {
          "bar": [
           {
            "error_x": {
             "color": "#2a3f5f"
            },
            "error_y": {
             "color": "#2a3f5f"
            },
            "marker": {
             "line": {
              "color": "#E5ECF6",
              "width": 0.5
             },
             "pattern": {
              "fillmode": "overlay",
              "size": 10,
              "solidity": 0.2
             }
            },
            "type": "bar"
           }
          ],
          "barpolar": [
           {
            "marker": {
             "line": {
              "color": "#E5ECF6",
              "width": 0.5
             },
             "pattern": {
              "fillmode": "overlay",
              "size": 10,
              "solidity": 0.2
             }
            },
            "type": "barpolar"
           }
          ],
          "carpet": [
           {
            "aaxis": {
             "endlinecolor": "#2a3f5f",
             "gridcolor": "white",
             "linecolor": "white",
             "minorgridcolor": "white",
             "startlinecolor": "#2a3f5f"
            },
            "baxis": {
             "endlinecolor": "#2a3f5f",
             "gridcolor": "white",
             "linecolor": "white",
             "minorgridcolor": "white",
             "startlinecolor": "#2a3f5f"
            },
            "type": "carpet"
           }
          ],
          "choropleth": [
           {
            "colorbar": {
             "outlinewidth": 0,
             "ticks": ""
            },
            "type": "choropleth"
           }
          ],
          "contour": [
           {
            "colorbar": {
             "outlinewidth": 0,
             "ticks": ""
            },
            "colorscale": [
             [
              0,
              "#0d0887"
             ],
             [
              0.1111111111111111,
              "#46039f"
             ],
             [
              0.2222222222222222,
              "#7201a8"
             ],
             [
              0.3333333333333333,
              "#9c179e"
             ],
             [
              0.4444444444444444,
              "#bd3786"
             ],
             [
              0.5555555555555556,
              "#d8576b"
             ],
             [
              0.6666666666666666,
              "#ed7953"
             ],
             [
              0.7777777777777778,
              "#fb9f3a"
             ],
             [
              0.8888888888888888,
              "#fdca26"
             ],
             [
              1,
              "#f0f921"
             ]
            ],
            "type": "contour"
           }
          ],
          "contourcarpet": [
           {
            "colorbar": {
             "outlinewidth": 0,
             "ticks": ""
            },
            "type": "contourcarpet"
           }
          ],
          "heatmap": [
           {
            "colorbar": {
             "outlinewidth": 0,
             "ticks": ""
            },
            "colorscale": [
             [
              0,
              "#0d0887"
             ],
             [
              0.1111111111111111,
              "#46039f"
             ],
             [
              0.2222222222222222,
              "#7201a8"
             ],
             [
              0.3333333333333333,
              "#9c179e"
             ],
             [
              0.4444444444444444,
              "#bd3786"
             ],
             [
              0.5555555555555556,
              "#d8576b"
             ],
             [
              0.6666666666666666,
              "#ed7953"
             ],
             [
              0.7777777777777778,
              "#fb9f3a"
             ],
             [
              0.8888888888888888,
              "#fdca26"
             ],
             [
              1,
              "#f0f921"
             ]
            ],
            "type": "heatmap"
           }
          ],
          "heatmapgl": [
           {
            "colorbar": {
             "outlinewidth": 0,
             "ticks": ""
            },
            "colorscale": [
             [
              0,
              "#0d0887"
             ],
             [
              0.1111111111111111,
              "#46039f"
             ],
             [
              0.2222222222222222,
              "#7201a8"
             ],
             [
              0.3333333333333333,
              "#9c179e"
             ],
             [
              0.4444444444444444,
              "#bd3786"
             ],
             [
              0.5555555555555556,
              "#d8576b"
             ],
             [
              0.6666666666666666,
              "#ed7953"
             ],
             [
              0.7777777777777778,
              "#fb9f3a"
             ],
             [
              0.8888888888888888,
              "#fdca26"
             ],
             [
              1,
              "#f0f921"
             ]
            ],
            "type": "heatmapgl"
           }
          ],
          "histogram": [
           {
            "marker": {
             "pattern": {
              "fillmode": "overlay",
              "size": 10,
              "solidity": 0.2
             }
            },
            "type": "histogram"
           }
          ],
          "histogram2d": [
           {
            "colorbar": {
             "outlinewidth": 0,
             "ticks": ""
            },
            "colorscale": [
             [
              0,
              "#0d0887"
             ],
             [
              0.1111111111111111,
              "#46039f"
             ],
             [
              0.2222222222222222,
              "#7201a8"
             ],
             [
              0.3333333333333333,
              "#9c179e"
             ],
             [
              0.4444444444444444,
              "#bd3786"
             ],
             [
              0.5555555555555556,
              "#d8576b"
             ],
             [
              0.6666666666666666,
              "#ed7953"
             ],
             [
              0.7777777777777778,
              "#fb9f3a"
             ],
             [
              0.8888888888888888,
              "#fdca26"
             ],
             [
              1,
              "#f0f921"
             ]
            ],
            "type": "histogram2d"
           }
          ],
          "histogram2dcontour": [
           {
            "colorbar": {
             "outlinewidth": 0,
             "ticks": ""
            },
            "colorscale": [
             [
              0,
              "#0d0887"
             ],
             [
              0.1111111111111111,
              "#46039f"
             ],
             [
              0.2222222222222222,
              "#7201a8"
             ],
             [
              0.3333333333333333,
              "#9c179e"
             ],
             [
              0.4444444444444444,
              "#bd3786"
             ],
             [
              0.5555555555555556,
              "#d8576b"
             ],
             [
              0.6666666666666666,
              "#ed7953"
             ],
             [
              0.7777777777777778,
              "#fb9f3a"
             ],
             [
              0.8888888888888888,
              "#fdca26"
             ],
             [
              1,
              "#f0f921"
             ]
            ],
            "type": "histogram2dcontour"
           }
          ],
          "mesh3d": [
           {
            "colorbar": {
             "outlinewidth": 0,
             "ticks": ""
            },
            "type": "mesh3d"
           }
          ],
          "parcoords": [
           {
            "line": {
             "colorbar": {
              "outlinewidth": 0,
              "ticks": ""
             }
            },
            "type": "parcoords"
           }
          ],
          "pie": [
           {
            "automargin": true,
            "type": "pie"
           }
          ],
          "scatter": [
           {
            "fillpattern": {
             "fillmode": "overlay",
             "size": 10,
             "solidity": 0.2
            },
            "type": "scatter"
           }
          ],
          "scatter3d": [
           {
            "line": {
             "colorbar": {
              "outlinewidth": 0,
              "ticks": ""
             }
            },
            "marker": {
             "colorbar": {
              "outlinewidth": 0,
              "ticks": ""
             }
            },
            "type": "scatter3d"
           }
          ],
          "scattercarpet": [
           {
            "marker": {
             "colorbar": {
              "outlinewidth": 0,
              "ticks": ""
             }
            },
            "type": "scattercarpet"
           }
          ],
          "scattergeo": [
           {
            "marker": {
             "colorbar": {
              "outlinewidth": 0,
              "ticks": ""
             }
            },
            "type": "scattergeo"
           }
          ],
          "scattergl": [
           {
            "marker": {
             "colorbar": {
              "outlinewidth": 0,
              "ticks": ""
             }
            },
            "type": "scattergl"
           }
          ],
          "scattermapbox": [
           {
            "marker": {
             "colorbar": {
              "outlinewidth": 0,
              "ticks": ""
             }
            },
            "type": "scattermapbox"
           }
          ],
          "scatterpolar": [
           {
            "marker": {
             "colorbar": {
              "outlinewidth": 0,
              "ticks": ""
             }
            },
            "type": "scatterpolar"
           }
          ],
          "scatterpolargl": [
           {
            "marker": {
             "colorbar": {
              "outlinewidth": 0,
              "ticks": ""
             }
            },
            "type": "scatterpolargl"
           }
          ],
          "scatterternary": [
           {
            "marker": {
             "colorbar": {
              "outlinewidth": 0,
              "ticks": ""
             }
            },
            "type": "scatterternary"
           }
          ],
          "surface": [
           {
            "colorbar": {
             "outlinewidth": 0,
             "ticks": ""
            },
            "colorscale": [
             [
              0,
              "#0d0887"
             ],
             [
              0.1111111111111111,
              "#46039f"
             ],
             [
              0.2222222222222222,
              "#7201a8"
             ],
             [
              0.3333333333333333,
              "#9c179e"
             ],
             [
              0.4444444444444444,
              "#bd3786"
             ],
             [
              0.5555555555555556,
              "#d8576b"
             ],
             [
              0.6666666666666666,
              "#ed7953"
             ],
             [
              0.7777777777777778,
              "#fb9f3a"
             ],
             [
              0.8888888888888888,
              "#fdca26"
             ],
             [
              1,
              "#f0f921"
             ]
            ],
            "type": "surface"
           }
          ],
          "table": [
           {
            "cells": {
             "fill": {
              "color": "#EBF0F8"
             },
             "line": {
              "color": "white"
             }
            },
            "header": {
             "fill": {
              "color": "#C8D4E3"
             },
             "line": {
              "color": "white"
             }
            },
            "type": "table"
           }
          ]
         },
         "layout": {
          "annotationdefaults": {
           "arrowcolor": "#2a3f5f",
           "arrowhead": 0,
           "arrowwidth": 1
          },
          "autotypenumbers": "strict",
          "coloraxis": {
           "colorbar": {
            "outlinewidth": 0,
            "ticks": ""
           }
          },
          "colorscale": {
           "diverging": [
            [
             0,
             "#8e0152"
            ],
            [
             0.1,
             "#c51b7d"
            ],
            [
             0.2,
             "#de77ae"
            ],
            [
             0.3,
             "#f1b6da"
            ],
            [
             0.4,
             "#fde0ef"
            ],
            [
             0.5,
             "#f7f7f7"
            ],
            [
             0.6,
             "#e6f5d0"
            ],
            [
             0.7,
             "#b8e186"
            ],
            [
             0.8,
             "#7fbc41"
            ],
            [
             0.9,
             "#4d9221"
            ],
            [
             1,
             "#276419"
            ]
           ],
           "sequential": [
            [
             0,
             "#0d0887"
            ],
            [
             0.1111111111111111,
             "#46039f"
            ],
            [
             0.2222222222222222,
             "#7201a8"
            ],
            [
             0.3333333333333333,
             "#9c179e"
            ],
            [
             0.4444444444444444,
             "#bd3786"
            ],
            [
             0.5555555555555556,
             "#d8576b"
            ],
            [
             0.6666666666666666,
             "#ed7953"
            ],
            [
             0.7777777777777778,
             "#fb9f3a"
            ],
            [
             0.8888888888888888,
             "#fdca26"
            ],
            [
             1,
             "#f0f921"
            ]
           ],
           "sequentialminus": [
            [
             0,
             "#0d0887"
            ],
            [
             0.1111111111111111,
             "#46039f"
            ],
            [
             0.2222222222222222,
             "#7201a8"
            ],
            [
             0.3333333333333333,
             "#9c179e"
            ],
            [
             0.4444444444444444,
             "#bd3786"
            ],
            [
             0.5555555555555556,
             "#d8576b"
            ],
            [
             0.6666666666666666,
             "#ed7953"
            ],
            [
             0.7777777777777778,
             "#fb9f3a"
            ],
            [
             0.8888888888888888,
             "#fdca26"
            ],
            [
             1,
             "#f0f921"
            ]
           ]
          },
          "colorway": [
           "#636efa",
           "#EF553B",
           "#00cc96",
           "#ab63fa",
           "#FFA15A",
           "#19d3f3",
           "#FF6692",
           "#B6E880",
           "#FF97FF",
           "#FECB52"
          ],
          "font": {
           "color": "#2a3f5f"
          },
          "geo": {
           "bgcolor": "white",
           "lakecolor": "white",
           "landcolor": "#E5ECF6",
           "showlakes": true,
           "showland": true,
           "subunitcolor": "white"
          },
          "hoverlabel": {
           "align": "left"
          },
          "hovermode": "closest",
          "mapbox": {
           "style": "light"
          },
          "paper_bgcolor": "white",
          "plot_bgcolor": "#E5ECF6",
          "polar": {
           "angularaxis": {
            "gridcolor": "white",
            "linecolor": "white",
            "ticks": ""
           },
           "bgcolor": "#E5ECF6",
           "radialaxis": {
            "gridcolor": "white",
            "linecolor": "white",
            "ticks": ""
           }
          },
          "scene": {
           "xaxis": {
            "backgroundcolor": "#E5ECF6",
            "gridcolor": "white",
            "gridwidth": 2,
            "linecolor": "white",
            "showbackground": true,
            "ticks": "",
            "zerolinecolor": "white"
           },
           "yaxis": {
            "backgroundcolor": "#E5ECF6",
            "gridcolor": "white",
            "gridwidth": 2,
            "linecolor": "white",
            "showbackground": true,
            "ticks": "",
            "zerolinecolor": "white"
           },
           "zaxis": {
            "backgroundcolor": "#E5ECF6",
            "gridcolor": "white",
            "gridwidth": 2,
            "linecolor": "white",
            "showbackground": true,
            "ticks": "",
            "zerolinecolor": "white"
           }
          },
          "shapedefaults": {
           "line": {
            "color": "#2a3f5f"
           }
          },
          "ternary": {
           "aaxis": {
            "gridcolor": "white",
            "linecolor": "white",
            "ticks": ""
           },
           "baxis": {
            "gridcolor": "white",
            "linecolor": "white",
            "ticks": ""
           },
           "bgcolor": "#E5ECF6",
           "caxis": {
            "gridcolor": "white",
            "linecolor": "white",
            "ticks": ""
           }
          },
          "title": {
           "x": 0.05
          },
          "xaxis": {
           "automargin": true,
           "gridcolor": "white",
           "linecolor": "white",
           "ticks": "",
           "title": {
            "standoff": 15
           },
           "zerolinecolor": "white",
           "zerolinewidth": 2
          },
          "yaxis": {
           "automargin": true,
           "gridcolor": "white",
           "linecolor": "white",
           "ticks": "",
           "title": {
            "standoff": 15
           },
           "zerolinecolor": "white",
           "zerolinewidth": 2
          }
         }
        },
        "ternary": {
         "aaxis": {
          "title": {
           "text": "R"
          }
         },
         "baxis": {
          "title": {
           "text": "G"
          }
         },
         "caxis": {
          "title": {
           "text": "B"
          }
         },
         "domain": {
          "x": [
           0,
           1
          ],
          "y": [
           0,
           1
          ]
         }
        }
       }
      }
     },
     "metadata": {},
     "output_type": "display_data"
    }
   ],
   "source": [
    "fig = px.scatter_ternary(pop_den_df, a='R', b='G', c='B',\n",
    "    size=\"Time\", color=\"Carbon\", symbol=\"Rep\")\n",
    "fig.write_image(\"results/rep123.pdf\")\n",
    "fig.show()"
   ]
  },
  {
   "cell_type": "code",
   "execution_count": 13,
   "metadata": {},
   "outputs": [],
   "source": [
    "slide_win = 1500\n",
    "result_dir = work_dir + \"/results_20220408\"\n",
    "pop_densities_1d = []\n",
    "for rep_samples, folder in zip([rep1_samples, rep2_samples, rep3_samples], [\"results_rep\" + str(i+1) for i in range(3)]):\n",
    "    rep_dir = result_dir + \"/\" + folder    \n",
    "    for sample in rep_samples:\n",
    "        rgb_file = rep_dir + '/' + sample[0] + '_' + sample[1] + \"_1_combined_processed.pkl\"\n",
    "        with open(rgb_file, 'rb') as f:\n",
    "            rgb_array = pickle.load(f)\n",
    "        pop_den = get_pop_density(slide_sum_y_vol(rgb_array, slide_win))\n",
    "        for i in range(len(pop_den)):\n",
    "            pop_densities_1d.append([folder.split('_')[1], sample[1], sample[2], pop_den[i,0], pop_den[i,1], pop_den[i,2], i])\n",
    "# pop_den_table = [list(pop_deni) for pop_deni in zip(*pop_densities)]"
   ]
  },
  {
   "cell_type": "code",
   "execution_count": 14,
   "metadata": {},
   "outputs": [
    {
     "data": {
      "text/html": [
       "<div>\n",
       "<style scoped>\n",
       "    .dataframe tbody tr th:only-of-type {\n",
       "        vertical-align: middle;\n",
       "    }\n",
       "\n",
       "    .dataframe tbody tr th {\n",
       "        vertical-align: top;\n",
       "    }\n",
       "\n",
       "    .dataframe thead th {\n",
       "        text-align: right;\n",
       "    }\n",
       "</style>\n",
       "<table border=\"1\" class=\"dataframe\">\n",
       "  <thead>\n",
       "    <tr style=\"text-align: right;\">\n",
       "      <th></th>\n",
       "      <th>Rep</th>\n",
       "      <th>Carbon</th>\n",
       "      <th>Time</th>\n",
       "      <th>R</th>\n",
       "      <th>G</th>\n",
       "      <th>B</th>\n",
       "      <th>Radius</th>\n",
       "    </tr>\n",
       "  </thead>\n",
       "  <tbody>\n",
       "    <tr>\n",
       "      <th>0</th>\n",
       "      <td>rep1</td>\n",
       "      <td>Nag</td>\n",
       "      <td>0</td>\n",
       "      <td>0.837857</td>\n",
       "      <td>0.000109</td>\n",
       "      <td>0.162034</td>\n",
       "      <td>0</td>\n",
       "    </tr>\n",
       "    <tr>\n",
       "      <th>1</th>\n",
       "      <td>rep1</td>\n",
       "      <td>Nag</td>\n",
       "      <td>0</td>\n",
       "      <td>0.837327</td>\n",
       "      <td>0.000109</td>\n",
       "      <td>0.162564</td>\n",
       "      <td>1</td>\n",
       "    </tr>\n",
       "    <tr>\n",
       "      <th>2</th>\n",
       "      <td>rep1</td>\n",
       "      <td>Nag</td>\n",
       "      <td>0</td>\n",
       "      <td>0.836857</td>\n",
       "      <td>0.000109</td>\n",
       "      <td>0.163033</td>\n",
       "      <td>2</td>\n",
       "    </tr>\n",
       "    <tr>\n",
       "      <th>3</th>\n",
       "      <td>rep1</td>\n",
       "      <td>Nag</td>\n",
       "      <td>0</td>\n",
       "      <td>0.836393</td>\n",
       "      <td>0.000109</td>\n",
       "      <td>0.163498</td>\n",
       "      <td>3</td>\n",
       "    </tr>\n",
       "    <tr>\n",
       "      <th>4</th>\n",
       "      <td>rep1</td>\n",
       "      <td>Nag</td>\n",
       "      <td>0</td>\n",
       "      <td>0.835975</td>\n",
       "      <td>0.000109</td>\n",
       "      <td>0.163916</td>\n",
       "      <td>4</td>\n",
       "    </tr>\n",
       "  </tbody>\n",
       "</table>\n",
       "</div>"
      ],
      "text/plain": [
       "    Rep Carbon  Time         R         G         B  Radius\n",
       "0  rep1    Nag     0  0.837857  0.000109  0.162034       0\n",
       "1  rep1    Nag     0  0.837327  0.000109  0.162564       1\n",
       "2  rep1    Nag     0  0.836857  0.000109  0.163033       2\n",
       "3  rep1    Nag     0  0.836393  0.000109  0.163498       3\n",
       "4  rep1    Nag     0  0.835975  0.000109  0.163916       4"
      ]
     },
     "execution_count": 14,
     "metadata": {},
     "output_type": "execute_result"
    }
   ],
   "source": [
    "pop_den_1d_df = pd.DataFrame(pop_densities_1d, columns = [\"Rep\", \"Carbon\", \"Time\", \"R\", \"G\", \"B\", \"Radius\"])\n",
    "pop_den_1d_df.head()"
   ]
  },
  {
   "cell_type": "code",
   "execution_count": 15,
   "metadata": {},
   "outputs": [
    {
     "data": {
      "text/plain": [
       "3368"
      ]
     },
     "execution_count": 15,
     "metadata": {},
     "output_type": "execute_result"
    }
   ],
   "source": [
    "pop_den_1d_df[\"Radius\"].max()"
   ]
  },
  {
   "cell_type": "code",
   "execution_count": 16,
   "metadata": {},
   "outputs": [
    {
     "data": {
      "application/vnd.plotly.v1+json": {
       "config": {
        "plotlyServerURL": "https://plot.ly"
       },
       "data": [
        {
         "a": [
          0.8378567758209932,
          0.39931002827995676,
          0.15552895080539836,
          0.13107386090027287,
          0.2658096402329219,
          0.6415385844809675
         ],
         "b": [
          0.0001089986141604771,
          0.0704777980129999,
          0.04954288202002612,
          0.21192873030796394,
          0.09976076869487494,
          0.3441836924962042
         ],
         "c": [
          0.1620342255648464,
          0.5302121737070433,
          0.7949281671745755,
          0.6569974087917632,
          0.6344295910722032,
          0.014277723022828374
         ],
         "hovertemplate": "Carbon=Nag<br>Radius=0<br>R=%{a}<br>G=%{b}<br>B=%{c}<br>Time=%{marker.size}<extra></extra>",
         "legendgroup": "Nag, 0",
         "marker": {
          "color": "#636efa",
          "size": [
           0,
           11,
           21,
           37,
           66,
           90
          ],
          "sizemode": "area",
          "sizeref": 0.225,
          "symbol": "circle"
         },
         "mode": "markers",
         "name": "Nag, 0",
         "showlegend": true,
         "subplot": "ternary",
         "type": "scatterternary"
        },
        {
         "a": [
          0.5183338222352596,
          0.3897386983196147,
          0.20320832144659748,
          0.07417372201515562,
          0.17759960506941075,
          0.8528356172509937
         ],
         "b": [
          0.006673511293634497,
          0.027896515585073185,
          0.027891768526849395,
          0.08175153654382544,
          0.22084620687894185,
          0.10790769413300112
         ],
         "c": [
          0.4749926664711059,
          0.5823647860953121,
          0.7688999100265531,
          0.8440747414410189,
          0.6015541880516474,
          0.03925668861600522
         ],
         "hovertemplate": "Carbon=Nag<br>Radius=750<br>R=%{a}<br>G=%{b}<br>B=%{c}<br>Time=%{marker.size}<extra></extra>",
         "legendgroup": "Nag, 750",
         "marker": {
          "color": "#636efa",
          "size": [
           0,
           11,
           21,
           37,
           66,
           90
          ],
          "sizemode": "area",
          "sizeref": 0.225,
          "symbol": "diamond"
         },
         "mode": "markers",
         "name": "Nag, 750",
         "showlegend": true,
         "subplot": "ternary",
         "type": "scatterternary"
        },
        {
         "a": [
          0.44695544131020015,
          0.29814659977703456,
          0.19739475723140495,
          0.044818737123649116,
          0.13863712188612098,
          0.7752827586206896
         ],
         "b": [
          0.005546201842131326,
          0.01898690078037904,
          0.024841813016528925,
          0.04214407055336683,
          0.17635120106761565,
          0.13041970443349754
         ],
         "c": [
          0.5474983568476686,
          0.6828664994425864,
          0.7777634297520661,
          0.9130371923229841,
          0.6850116770462633,
          0.0942975369458128
         ],
         "hovertemplate": "Carbon=Nag<br>Radius=1500<br>R=%{a}<br>G=%{b}<br>B=%{c}<br>Time=%{marker.size}<extra></extra>",
         "legendgroup": "Nag, 1500",
         "marker": {
          "color": "#636efa",
          "size": [
           0,
           11,
           21,
           37,
           66,
           90
          ],
          "sizemode": "area",
          "sizeref": 0.225,
          "symbol": "square"
         },
         "mode": "markers",
         "name": "Nag, 1500",
         "showlegend": true,
         "subplot": "ternary",
         "type": "scatterternary"
        },
        {
         "a": [
          0.4421298029108875,
          0.2595069651164289,
          0.1732875929102344,
          0.02544966668064232,
          0.10683690617698897,
          0.6322962867040046
         ],
         "b": [
          0.008138080011977201,
          0.017010090076158814,
          0.014614065180102916,
          0.041046497002222126,
          0.08059392548264131,
          0.24127521124024734
         ],
         "c": [
          0.5497321170771353,
          0.7234829448074123,
          0.8120983419096627,
          0.9335038363171355,
          0.8125691683403697,
          0.126428502055748
         ],
         "hovertemplate": "Carbon=Nag<br>Radius=2250<br>R=%{a}<br>G=%{b}<br>B=%{c}<br>Time=%{marker.size}<extra></extra>",
         "legendgroup": "Nag, 2250",
         "marker": {
          "color": "#636efa",
          "size": [
           0,
           11,
           21,
           37,
           66,
           90
          ],
          "sizemode": "area",
          "sizeref": 0.225,
          "symbol": "x"
         },
         "mode": "markers",
         "name": "Nag, 2250",
         "showlegend": true,
         "subplot": "ternary",
         "type": "scatterternary"
        },
        {
         "a": [
          0.541758495800262,
          0.41767620544386963,
          0.1931648161272541,
          0.01965719383203772,
          0.12464279502025197,
          0.42690188658244754
         ],
         "b": [
          0.012822686291130462,
          0.026062471350926594,
          0.015237420269312544,
          0.042564037211673254,
          0.06541510324776979,
          0.43888919806333127
         ],
         "c": [
          0.44541881790860754,
          0.5562613232052037,
          0.7915977636034334,
          0.937778768956289,
          0.8099421017319782,
          0.13420891535422116
         ],
         "hovertemplate": "Carbon=Nag<br>Radius=3000<br>R=%{a}<br>G=%{b}<br>B=%{c}<br>Time=%{marker.size}<extra></extra>",
         "legendgroup": "Nag, 3000",
         "marker": {
          "color": "#636efa",
          "size": [
           0,
           11,
           21,
           37,
           66,
           90
          ],
          "sizemode": "area",
          "sizeref": 0.225,
          "symbol": "cross"
         },
         "mode": "markers",
         "name": "Nag, 3000",
         "showlegend": true,
         "subplot": "ternary",
         "type": "scatterternary"
        },
        {
         "a": [
          0.2,
          0.4092315084537073,
          0.7200616004264645,
          0.39446321468793377,
          0.11179513216767684,
          0.029608052800412964
         ],
         "b": [
          0.06991150442477877,
          0.002552629208084327,
          0.006254812533317538,
          0.0533249522013567,
          0.3386221559356456,
          0.5765950124749579
         ],
         "c": [
          0.7300884955752213,
          0.5882158623382083,
          0.27368358704021795,
          0.5522118331107095,
          0.5495827118966775,
          0.3937969347246291
         ],
         "hovertemplate": "Carbon=Chito5<br>Radius=0<br>R=%{a}<br>G=%{b}<br>B=%{c}<br>Time=%{marker.size}<extra></extra>",
         "legendgroup": "Chito5, 0",
         "marker": {
          "color": "#EF553B",
          "size": [
           0,
           11,
           21,
           37,
           66,
           90
          ],
          "sizemode": "area",
          "sizeref": 0.225,
          "symbol": "circle"
         },
         "mode": "markers",
         "name": "Chito5, 0",
         "showlegend": true,
         "subplot": "ternary",
         "type": "scatterternary"
        },
        {
         "a": [
          0.2884097035040431,
          0.6327202033796919,
          0.74076418460122,
          0.09159007020337266,
          0.047368867045165665,
          0.017217377746594945
         ],
         "b": [
          0.06954177897574124,
          0.0007290264692687303,
          0.0075382667740821726,
          0.05637982195845697,
          0.2423805892156032,
          0.6656977715412115
         ],
         "c": [
          0.6420485175202156,
          0.3665507701510393,
          0.2516975486246979,
          0.8520301078381703,
          0.7102505437392311,
          0.3170848507121936
         ],
         "hovertemplate": "Carbon=Chito5<br>Radius=750<br>R=%{a}<br>G=%{b}<br>B=%{c}<br>Time=%{marker.size}<extra></extra>",
         "legendgroup": "Chito5, 750",
         "marker": {
          "color": "#EF553B",
          "size": [
           0,
           11,
           21,
           37,
           66,
           90
          ],
          "sizemode": "area",
          "sizeref": 0.225,
          "symbol": "diamond"
         },
         "mode": "markers",
         "name": "Chito5, 750",
         "showlegend": true,
         "subplot": "ternary",
         "type": "scatterternary"
        },
        {
         "a": [
          0.24553062000760745,
          0.6864231222477206,
          0.6763922904908956,
          0.10024014061842398,
          0.02615758506011768,
          0.02376217935971366
         ],
         "b": [
          0.058767592240395586,
          0.0009055386714631272,
          0.006373883809726638,
          0.0621394796128042,
          0.15123752877973906,
          0.5902993407467458
         ],
         "c": [
          0.695701787751997,
          0.31267133908081624,
          0.3172338256993778,
          0.8376203797687718,
          0.8226048861601433,
          0.3859384798935405
         ],
         "hovertemplate": "Carbon=Chito5<br>Radius=1500<br>R=%{a}<br>G=%{b}<br>B=%{c}<br>Time=%{marker.size}<extra></extra>",
         "legendgroup": "Chito5, 1500",
         "marker": {
          "color": "#EF553B",
          "size": [
           0,
           11,
           21,
           37,
           66,
           90
          ],
          "sizemode": "area",
          "sizeref": 0.225,
          "symbol": "square"
         },
         "mode": "markers",
         "name": "Chito5, 1500",
         "showlegend": true,
         "subplot": "ternary",
         "type": "scatterternary"
        },
        {
         "a": [
          0.27484596839003483,
          0.771558556518517,
          0.6491576649689371,
          0.12065325632344155,
          0.020152320133999844,
          0.030493033226152197
         ],
         "b": [
          0.04045004018215912,
          0.0006999197150915043,
          0.0027984552527005094,
          0.06030671181039633,
          0.17493260750085057,
          0.5959699892818864
         ],
         "c": [
          0.684703991427806,
          0.2277415237663915,
          0.3480438797783623,
          0.8190400318661621,
          0.8049150723651496,
          0.3735369774919614
         ],
         "hovertemplate": "Carbon=Chito5<br>Radius=2250<br>R=%{a}<br>G=%{b}<br>B=%{c}<br>Time=%{marker.size}<extra></extra>",
         "legendgroup": "Chito5, 2250",
         "marker": {
          "color": "#EF553B",
          "size": [
           0,
           11,
           21,
           37,
           66,
           90
          ],
          "sizemode": "area",
          "sizeref": 0.225,
          "symbol": "x"
         },
         "mode": "markers",
         "name": "Chito5, 2250",
         "showlegend": true,
         "subplot": "ternary",
         "type": "scatterternary"
        },
        {
         "a": [
          0.5267349260523322,
          0.7234708430171138,
          0.4041344049436301,
          0.044332178033640764,
          0.019297056830568895,
          0.026670356721483404
         ],
         "b": [
          0.059726962457337884,
          0.0006206422987534334,
          0.0012506207124859765,
          0.025847382952476062,
          0.21562619685944082,
          0.5273476759937658
         ],
         "c": [
          0.41353811149032993,
          0.2759085146841327,
          0.5946149743438839,
          0.9298204390138832,
          0.7650767463099902,
          0.44598196728475087
         ],
         "hovertemplate": "Carbon=Chito5<br>Radius=3000<br>R=%{a}<br>G=%{b}<br>B=%{c}<br>Time=%{marker.size}<extra></extra>",
         "legendgroup": "Chito5, 3000",
         "marker": {
          "color": "#EF553B",
          "size": [
           0,
           11,
           21,
           37,
           66,
           90
          ],
          "sizemode": "area",
          "sizeref": 0.225,
          "symbol": "cross"
         },
         "mode": "markers",
         "name": "Chito5, 3000",
         "showlegend": true,
         "subplot": "ternary",
         "type": "scatterternary"
        },
        {
         "a": [
          0.39444719881011403,
          0.07737012380399831,
          0.05084745762711865,
          0.15315826353899029,
          0.34971796937953264,
          0.45185522026943997
         ],
         "b": [
          0.07934556271690629,
          0.03348313059895961,
          0.4745762711864407,
          0.04829434860466927,
          0.3908474348643567,
          0.2598939874131749
         ],
         "c": [
          0.5262072384729797,
          0.8891467455970421,
          0.4745762711864407,
          0.7985473878563405,
          0.25943459575611066,
          0.28825079231738515
         ],
         "hovertemplate": "Carbon=Chitin<br>Radius=0<br>R=%{a}<br>G=%{b}<br>B=%{c}<br>Time=%{marker.size}<extra></extra>",
         "legendgroup": "Chitin, 0",
         "marker": {
          "color": "#00cc96",
          "size": [
           0,
           11,
           21,
           37,
           66,
           90
          ],
          "sizemode": "area",
          "sizeref": 0.225,
          "symbol": "circle"
         },
         "mode": "markers",
         "name": "Chitin, 0",
         "showlegend": true,
         "subplot": "ternary",
         "type": "scatterternary"
        },
        {
         "a": [
          0.3915900131406045,
          0.09354613758042021,
          0.05555555555555555,
          0.3439659755449229,
          0.44675404464468566,
          0.2934114413828018
         ],
         "b": [
          0.05495161868355035,
          0.014475637737886354,
          0.027777777777777776,
          0.10647409770216788,
          0.3748134928761593,
          0.3317112481790286
         ],
         "c": [
          0.5534583681758452,
          0.8919782246816934,
          0.9166666666666666,
          0.5495599267529092,
          0.1784324624791551,
          0.37487731043816963
         ],
         "hovertemplate": "Carbon=Chitin<br>Radius=750<br>R=%{a}<br>G=%{b}<br>B=%{c}<br>Time=%{marker.size}<extra></extra>",
         "legendgroup": "Chitin, 750",
         "marker": {
          "color": "#00cc96",
          "size": [
           0,
           11,
           21,
           37,
           66,
           90
          ],
          "sizemode": "area",
          "sizeref": 0.225,
          "symbol": "diamond"
         },
         "mode": "markers",
         "name": "Chitin, 750",
         "showlegend": true,
         "subplot": "ternary",
         "type": "scatterternary"
        },
        {
         "a": [
          0.5245657568238213,
          0.0983724201280248,
          0.10344827586206896,
          0.2505087044992087,
          0.3413392820258603,
          0.17585297341737463
         ],
         "b": [
          0.14838709677419354,
          0.011711685851250108,
          0.06896551724137931,
          0.08111445416442026,
          0.2240591564423514,
          0.2433543436557961
         ],
         "c": [
          0.3270471464019851,
          0.8899158940207251,
          0.8275862068965517,
          0.6683768413363711,
          0.4346015615317883,
          0.5807926829268293
         ],
         "hovertemplate": "Carbon=Chitin<br>Radius=1500<br>R=%{a}<br>G=%{b}<br>B=%{c}<br>Time=%{marker.size}<extra></extra>",
         "legendgroup": "Chitin, 1500",
         "marker": {
          "color": "#00cc96",
          "size": [
           0,
           11,
           21,
           37,
           66,
           90
          ],
          "sizemode": "area",
          "sizeref": 0.225,
          "symbol": "square"
         },
         "mode": "markers",
         "name": "Chitin, 1500",
         "showlegend": true,
         "subplot": "ternary",
         "type": "scatterternary"
        },
        {
         "a": [
          0.09907773386034256,
          0.08639117884170286,
          0.5,
          0.16879077786416957,
          0.25900230040967454,
          0.0919210431438529
         ],
         "b": [
          0.03820816864295125,
          0.022716042961537463,
          0.375,
          0.046922010750143676,
          0.15380667393754985,
          0.2299002523735128
         ],
         "c": [
          0.8627140974967062,
          0.8908927781967597,
          0.125,
          0.7842872113856868,
          0.5871910256527756,
          0.6781787044826343
         ],
         "hovertemplate": "Carbon=Chitin<br>Radius=2250<br>R=%{a}<br>G=%{b}<br>B=%{c}<br>Time=%{marker.size}<extra></extra>",
         "legendgroup": "Chitin, 2250",
         "marker": {
          "color": "#00cc96",
          "size": [
           0,
           11,
           21,
           37,
           66,
           90
          ],
          "sizemode": "area",
          "sizeref": 0.225,
          "symbol": "x"
         },
         "mode": "markers",
         "name": "Chitin, 2250",
         "showlegend": true,
         "subplot": "ternary",
         "type": "scatterternary"
        },
        {
         "a": [
          0.030375223347230494,
          0.1873919523099851,
          0.5833333333333334,
          0.2813788708105271,
          0.2507067495919521,
          0.04473421967284836
         ],
         "b": [
          0.06372840976771887,
          0.05454545454545454,
          0.25,
          0.043356826872610034,
          0.10783131887474796,
          0.15258974795226404
         ],
         "c": [
          0.9058963668850506,
          0.7580625931445604,
          0.16666666666666666,
          0.6752643023168629,
          0.6414619315332999,
          0.8026760323748876
         ],
         "hovertemplate": "Carbon=Chitin<br>Radius=3000<br>R=%{a}<br>G=%{b}<br>B=%{c}<br>Time=%{marker.size}<extra></extra>",
         "legendgroup": "Chitin, 3000",
         "marker": {
          "color": "#00cc96",
          "size": [
           0,
           11,
           21,
           37,
           66,
           90
          ],
          "sizemode": "area",
          "sizeref": 0.225,
          "symbol": "cross"
         },
         "mode": "markers",
         "name": "Chitin, 3000",
         "showlegend": true,
         "subplot": "ternary",
         "type": "scatterternary"
        }
       ],
       "layout": {
        "legend": {
         "itemsizing": "constant",
         "title": {
          "text": "Carbon, Radius"
         },
         "tracegroupgap": 0
        },
        "margin": {
         "t": 60
        },
        "template": {
         "data": {
          "bar": [
           {
            "error_x": {
             "color": "#2a3f5f"
            },
            "error_y": {
             "color": "#2a3f5f"
            },
            "marker": {
             "line": {
              "color": "#E5ECF6",
              "width": 0.5
             },
             "pattern": {
              "fillmode": "overlay",
              "size": 10,
              "solidity": 0.2
             }
            },
            "type": "bar"
           }
          ],
          "barpolar": [
           {
            "marker": {
             "line": {
              "color": "#E5ECF6",
              "width": 0.5
             },
             "pattern": {
              "fillmode": "overlay",
              "size": 10,
              "solidity": 0.2
             }
            },
            "type": "barpolar"
           }
          ],
          "carpet": [
           {
            "aaxis": {
             "endlinecolor": "#2a3f5f",
             "gridcolor": "white",
             "linecolor": "white",
             "minorgridcolor": "white",
             "startlinecolor": "#2a3f5f"
            },
            "baxis": {
             "endlinecolor": "#2a3f5f",
             "gridcolor": "white",
             "linecolor": "white",
             "minorgridcolor": "white",
             "startlinecolor": "#2a3f5f"
            },
            "type": "carpet"
           }
          ],
          "choropleth": [
           {
            "colorbar": {
             "outlinewidth": 0,
             "ticks": ""
            },
            "type": "choropleth"
           }
          ],
          "contour": [
           {
            "colorbar": {
             "outlinewidth": 0,
             "ticks": ""
            },
            "colorscale": [
             [
              0,
              "#0d0887"
             ],
             [
              0.1111111111111111,
              "#46039f"
             ],
             [
              0.2222222222222222,
              "#7201a8"
             ],
             [
              0.3333333333333333,
              "#9c179e"
             ],
             [
              0.4444444444444444,
              "#bd3786"
             ],
             [
              0.5555555555555556,
              "#d8576b"
             ],
             [
              0.6666666666666666,
              "#ed7953"
             ],
             [
              0.7777777777777778,
              "#fb9f3a"
             ],
             [
              0.8888888888888888,
              "#fdca26"
             ],
             [
              1,
              "#f0f921"
             ]
            ],
            "type": "contour"
           }
          ],
          "contourcarpet": [
           {
            "colorbar": {
             "outlinewidth": 0,
             "ticks": ""
            },
            "type": "contourcarpet"
           }
          ],
          "heatmap": [
           {
            "colorbar": {
             "outlinewidth": 0,
             "ticks": ""
            },
            "colorscale": [
             [
              0,
              "#0d0887"
             ],
             [
              0.1111111111111111,
              "#46039f"
             ],
             [
              0.2222222222222222,
              "#7201a8"
             ],
             [
              0.3333333333333333,
              "#9c179e"
             ],
             [
              0.4444444444444444,
              "#bd3786"
             ],
             [
              0.5555555555555556,
              "#d8576b"
             ],
             [
              0.6666666666666666,
              "#ed7953"
             ],
             [
              0.7777777777777778,
              "#fb9f3a"
             ],
             [
              0.8888888888888888,
              "#fdca26"
             ],
             [
              1,
              "#f0f921"
             ]
            ],
            "type": "heatmap"
           }
          ],
          "heatmapgl": [
           {
            "colorbar": {
             "outlinewidth": 0,
             "ticks": ""
            },
            "colorscale": [
             [
              0,
              "#0d0887"
             ],
             [
              0.1111111111111111,
              "#46039f"
             ],
             [
              0.2222222222222222,
              "#7201a8"
             ],
             [
              0.3333333333333333,
              "#9c179e"
             ],
             [
              0.4444444444444444,
              "#bd3786"
             ],
             [
              0.5555555555555556,
              "#d8576b"
             ],
             [
              0.6666666666666666,
              "#ed7953"
             ],
             [
              0.7777777777777778,
              "#fb9f3a"
             ],
             [
              0.8888888888888888,
              "#fdca26"
             ],
             [
              1,
              "#f0f921"
             ]
            ],
            "type": "heatmapgl"
           }
          ],
          "histogram": [
           {
            "marker": {
             "pattern": {
              "fillmode": "overlay",
              "size": 10,
              "solidity": 0.2
             }
            },
            "type": "histogram"
           }
          ],
          "histogram2d": [
           {
            "colorbar": {
             "outlinewidth": 0,
             "ticks": ""
            },
            "colorscale": [
             [
              0,
              "#0d0887"
             ],
             [
              0.1111111111111111,
              "#46039f"
             ],
             [
              0.2222222222222222,
              "#7201a8"
             ],
             [
              0.3333333333333333,
              "#9c179e"
             ],
             [
              0.4444444444444444,
              "#bd3786"
             ],
             [
              0.5555555555555556,
              "#d8576b"
             ],
             [
              0.6666666666666666,
              "#ed7953"
             ],
             [
              0.7777777777777778,
              "#fb9f3a"
             ],
             [
              0.8888888888888888,
              "#fdca26"
             ],
             [
              1,
              "#f0f921"
             ]
            ],
            "type": "histogram2d"
           }
          ],
          "histogram2dcontour": [
           {
            "colorbar": {
             "outlinewidth": 0,
             "ticks": ""
            },
            "colorscale": [
             [
              0,
              "#0d0887"
             ],
             [
              0.1111111111111111,
              "#46039f"
             ],
             [
              0.2222222222222222,
              "#7201a8"
             ],
             [
              0.3333333333333333,
              "#9c179e"
             ],
             [
              0.4444444444444444,
              "#bd3786"
             ],
             [
              0.5555555555555556,
              "#d8576b"
             ],
             [
              0.6666666666666666,
              "#ed7953"
             ],
             [
              0.7777777777777778,
              "#fb9f3a"
             ],
             [
              0.8888888888888888,
              "#fdca26"
             ],
             [
              1,
              "#f0f921"
             ]
            ],
            "type": "histogram2dcontour"
           }
          ],
          "mesh3d": [
           {
            "colorbar": {
             "outlinewidth": 0,
             "ticks": ""
            },
            "type": "mesh3d"
           }
          ],
          "parcoords": [
           {
            "line": {
             "colorbar": {
              "outlinewidth": 0,
              "ticks": ""
             }
            },
            "type": "parcoords"
           }
          ],
          "pie": [
           {
            "automargin": true,
            "type": "pie"
           }
          ],
          "scatter": [
           {
            "fillpattern": {
             "fillmode": "overlay",
             "size": 10,
             "solidity": 0.2
            },
            "type": "scatter"
           }
          ],
          "scatter3d": [
           {
            "line": {
             "colorbar": {
              "outlinewidth": 0,
              "ticks": ""
             }
            },
            "marker": {
             "colorbar": {
              "outlinewidth": 0,
              "ticks": ""
             }
            },
            "type": "scatter3d"
           }
          ],
          "scattercarpet": [
           {
            "marker": {
             "colorbar": {
              "outlinewidth": 0,
              "ticks": ""
             }
            },
            "type": "scattercarpet"
           }
          ],
          "scattergeo": [
           {
            "marker": {
             "colorbar": {
              "outlinewidth": 0,
              "ticks": ""
             }
            },
            "type": "scattergeo"
           }
          ],
          "scattergl": [
           {
            "marker": {
             "colorbar": {
              "outlinewidth": 0,
              "ticks": ""
             }
            },
            "type": "scattergl"
           }
          ],
          "scattermapbox": [
           {
            "marker": {
             "colorbar": {
              "outlinewidth": 0,
              "ticks": ""
             }
            },
            "type": "scattermapbox"
           }
          ],
          "scatterpolar": [
           {
            "marker": {
             "colorbar": {
              "outlinewidth": 0,
              "ticks": ""
             }
            },
            "type": "scatterpolar"
           }
          ],
          "scatterpolargl": [
           {
            "marker": {
             "colorbar": {
              "outlinewidth": 0,
              "ticks": ""
             }
            },
            "type": "scatterpolargl"
           }
          ],
          "scatterternary": [
           {
            "marker": {
             "colorbar": {
              "outlinewidth": 0,
              "ticks": ""
             }
            },
            "type": "scatterternary"
           }
          ],
          "surface": [
           {
            "colorbar": {
             "outlinewidth": 0,
             "ticks": ""
            },
            "colorscale": [
             [
              0,
              "#0d0887"
             ],
             [
              0.1111111111111111,
              "#46039f"
             ],
             [
              0.2222222222222222,
              "#7201a8"
             ],
             [
              0.3333333333333333,
              "#9c179e"
             ],
             [
              0.4444444444444444,
              "#bd3786"
             ],
             [
              0.5555555555555556,
              "#d8576b"
             ],
             [
              0.6666666666666666,
              "#ed7953"
             ],
             [
              0.7777777777777778,
              "#fb9f3a"
             ],
             [
              0.8888888888888888,
              "#fdca26"
             ],
             [
              1,
              "#f0f921"
             ]
            ],
            "type": "surface"
           }
          ],
          "table": [
           {
            "cells": {
             "fill": {
              "color": "#EBF0F8"
             },
             "line": {
              "color": "white"
             }
            },
            "header": {
             "fill": {
              "color": "#C8D4E3"
             },
             "line": {
              "color": "white"
             }
            },
            "type": "table"
           }
          ]
         },
         "layout": {
          "annotationdefaults": {
           "arrowcolor": "#2a3f5f",
           "arrowhead": 0,
           "arrowwidth": 1
          },
          "autotypenumbers": "strict",
          "coloraxis": {
           "colorbar": {
            "outlinewidth": 0,
            "ticks": ""
           }
          },
          "colorscale": {
           "diverging": [
            [
             0,
             "#8e0152"
            ],
            [
             0.1,
             "#c51b7d"
            ],
            [
             0.2,
             "#de77ae"
            ],
            [
             0.3,
             "#f1b6da"
            ],
            [
             0.4,
             "#fde0ef"
            ],
            [
             0.5,
             "#f7f7f7"
            ],
            [
             0.6,
             "#e6f5d0"
            ],
            [
             0.7,
             "#b8e186"
            ],
            [
             0.8,
             "#7fbc41"
            ],
            [
             0.9,
             "#4d9221"
            ],
            [
             1,
             "#276419"
            ]
           ],
           "sequential": [
            [
             0,
             "#0d0887"
            ],
            [
             0.1111111111111111,
             "#46039f"
            ],
            [
             0.2222222222222222,
             "#7201a8"
            ],
            [
             0.3333333333333333,
             "#9c179e"
            ],
            [
             0.4444444444444444,
             "#bd3786"
            ],
            [
             0.5555555555555556,
             "#d8576b"
            ],
            [
             0.6666666666666666,
             "#ed7953"
            ],
            [
             0.7777777777777778,
             "#fb9f3a"
            ],
            [
             0.8888888888888888,
             "#fdca26"
            ],
            [
             1,
             "#f0f921"
            ]
           ],
           "sequentialminus": [
            [
             0,
             "#0d0887"
            ],
            [
             0.1111111111111111,
             "#46039f"
            ],
            [
             0.2222222222222222,
             "#7201a8"
            ],
            [
             0.3333333333333333,
             "#9c179e"
            ],
            [
             0.4444444444444444,
             "#bd3786"
            ],
            [
             0.5555555555555556,
             "#d8576b"
            ],
            [
             0.6666666666666666,
             "#ed7953"
            ],
            [
             0.7777777777777778,
             "#fb9f3a"
            ],
            [
             0.8888888888888888,
             "#fdca26"
            ],
            [
             1,
             "#f0f921"
            ]
           ]
          },
          "colorway": [
           "#636efa",
           "#EF553B",
           "#00cc96",
           "#ab63fa",
           "#FFA15A",
           "#19d3f3",
           "#FF6692",
           "#B6E880",
           "#FF97FF",
           "#FECB52"
          ],
          "font": {
           "color": "#2a3f5f"
          },
          "geo": {
           "bgcolor": "white",
           "lakecolor": "white",
           "landcolor": "#E5ECF6",
           "showlakes": true,
           "showland": true,
           "subunitcolor": "white"
          },
          "hoverlabel": {
           "align": "left"
          },
          "hovermode": "closest",
          "mapbox": {
           "style": "light"
          },
          "paper_bgcolor": "white",
          "plot_bgcolor": "#E5ECF6",
          "polar": {
           "angularaxis": {
            "gridcolor": "white",
            "linecolor": "white",
            "ticks": ""
           },
           "bgcolor": "#E5ECF6",
           "radialaxis": {
            "gridcolor": "white",
            "linecolor": "white",
            "ticks": ""
           }
          },
          "scene": {
           "xaxis": {
            "backgroundcolor": "#E5ECF6",
            "gridcolor": "white",
            "gridwidth": 2,
            "linecolor": "white",
            "showbackground": true,
            "ticks": "",
            "zerolinecolor": "white"
           },
           "yaxis": {
            "backgroundcolor": "#E5ECF6",
            "gridcolor": "white",
            "gridwidth": 2,
            "linecolor": "white",
            "showbackground": true,
            "ticks": "",
            "zerolinecolor": "white"
           },
           "zaxis": {
            "backgroundcolor": "#E5ECF6",
            "gridcolor": "white",
            "gridwidth": 2,
            "linecolor": "white",
            "showbackground": true,
            "ticks": "",
            "zerolinecolor": "white"
           }
          },
          "shapedefaults": {
           "line": {
            "color": "#2a3f5f"
           }
          },
          "ternary": {
           "aaxis": {
            "gridcolor": "white",
            "linecolor": "white",
            "ticks": ""
           },
           "baxis": {
            "gridcolor": "white",
            "linecolor": "white",
            "ticks": ""
           },
           "bgcolor": "#E5ECF6",
           "caxis": {
            "gridcolor": "white",
            "linecolor": "white",
            "ticks": ""
           }
          },
          "title": {
           "x": 0.05
          },
          "xaxis": {
           "automargin": true,
           "gridcolor": "white",
           "linecolor": "white",
           "ticks": "",
           "title": {
            "standoff": 15
           },
           "zerolinecolor": "white",
           "zerolinewidth": 2
          },
          "yaxis": {
           "automargin": true,
           "gridcolor": "white",
           "linecolor": "white",
           "ticks": "",
           "title": {
            "standoff": 15
           },
           "zerolinecolor": "white",
           "zerolinewidth": 2
          }
         }
        },
        "ternary": {
         "aaxis": {
          "title": {
           "text": "R"
          }
         },
         "baxis": {
          "title": {
           "text": "G"
          }
         },
         "caxis": {
          "title": {
           "text": "B"
          }
         },
         "domain": {
          "x": [
           0,
           1
          ],
          "y": [
           0,
           1
          ]
         }
        }
       }
      }
     },
     "metadata": {},
     "output_type": "display_data"
    }
   ],
   "source": [
    "df4plot = pop_den_1d_df[(pop_den_1d_df[\"Rep\"] == \"rep1\") & ((pop_den_1d_df[\"Radius\"] == 0) | (pop_den_1d_df[\"Radius\"] == 750) | (pop_den_1d_df[\"Radius\"] == 1500) | (pop_den_1d_df[\"Radius\"] == 2250) | (pop_den_1d_df[\"Radius\"] == 3000))]\n",
    "fig = px.scatter_ternary(df4plot, a='R', b='G', c='B',\n",
    "    size=\"Time\", color=\"Carbon\", symbol=\"Radius\")\n",
    "fig.write_image(\"results/1Drep1.pdf\")\n",
    "fig.show()"
   ]
  },
  {
   "cell_type": "code",
   "execution_count": 17,
   "metadata": {},
   "outputs": [
    {
     "data": {
      "application/vnd.plotly.v1+json": {
       "config": {
        "plotlyServerURL": "https://plot.ly"
       },
       "data": [
        {
         "a": [
          0.6837891927951968,
          0.4441244467930511,
          0.4398537570628691,
          0.5231069439817239,
          0.6079265410843292,
          0.4604930363946919
         ],
         "b": [
          0.00008338892595063375,
          0.0035141026487878987,
          0.05830542274946949,
          0.06798026430599845,
          0.16470866248058874,
          0.4171101037971357
         ],
         "c": [
          0.31612741827885255,
          0.552361450558161,
          0.5018408201876614,
          0.4089127917122777,
          0.22736479643508203,
          0.12239685980817239
         ],
         "hovertemplate": "Carbon=Nag<br>Radius=0<br>R=%{a}<br>G=%{b}<br>B=%{c}<br>Time=%{marker.size}<extra></extra>",
         "legendgroup": "Nag, 0",
         "marker": {
          "color": "#636efa",
          "size": [
           0,
           11,
           22,
           35,
           66,
           90
          ],
          "sizemode": "area",
          "sizeref": 0.225,
          "symbol": "circle"
         },
         "mode": "markers",
         "name": "Nag, 0",
         "showlegend": true,
         "subplot": "ternary",
         "type": "scatterternary"
        },
        {
         "a": [
          0.6455931573075493,
          0.7892991518398061,
          0.5920229495731517,
          0.26412825651302607,
          0.4552625092432832,
          0.35823445362489903
         ],
         "b": [
          0,
          0,
          0.0541596101337573,
          0.12472945891783567,
          0.14892777914715308,
          0.33872771323849166
         ],
         "c": [
          0.3544068426924507,
          0.21070084816019385,
          0.3538174402930909,
          0.6111422845691383,
          0.39580971160956374,
          0.3030378331366093
         ],
         "hovertemplate": "Carbon=Nag<br>Radius=750<br>R=%{a}<br>G=%{b}<br>B=%{c}<br>Time=%{marker.size}<extra></extra>",
         "legendgroup": "Nag, 750",
         "marker": {
          "color": "#636efa",
          "size": [
           0,
           11,
           22,
           35,
           66,
           90
          ],
          "sizemode": "area",
          "sizeref": 0.225,
          "symbol": "diamond"
         },
         "mode": "markers",
         "name": "Nag, 750",
         "showlegend": true,
         "subplot": "ternary",
         "type": "scatterternary"
        },
        {
         "a": [
          0.6084296397008837,
          0.9556092279503623,
          0.6987406601887256,
          0.3142286854861705,
          0.49016768648699144,
          0.3111899579593906
         ],
         "b": [
          0.02957171991842284,
          0,
          0.04984740590030519,
          0.16585875867312994,
          0.2089775328133028,
          0.4819762068040192
         ],
         "c": [
          0.3619986403806934,
          0.04439077204963771,
          0.2514119339109692,
          0.5199125558406995,
          0.3008547806997057,
          0.20683383523659024
         ],
         "hovertemplate": "Carbon=Nag<br>Radius=1500<br>R=%{a}<br>G=%{b}<br>B=%{c}<br>Time=%{marker.size}<extra></extra>",
         "legendgroup": "Nag, 1500",
         "marker": {
          "color": "#636efa",
          "size": [
           0,
           11,
           22,
           35,
           66,
           90
          ],
          "sizemode": "area",
          "sizeref": 0.225,
          "symbol": "square"
         },
         "mode": "markers",
         "name": "Nag, 1500",
         "showlegend": true,
         "subplot": "ternary",
         "type": "scatterternary"
        },
        {
         "a": [
          0.5706968203343964,
          0.9459706959706959,
          0.6072585333444066,
          0.18255008425388505,
          0.4401335002085941,
          0.11554781027428399
         ],
         "b": [
          0.048709770948100896,
          0,
          0.05232123577775932,
          0.20408163265306123,
          0.29962453066332917,
          0.8008789210486438
         ],
         "c": [
          0.38059340871750263,
          0.05402930402930403,
          0.3404202308778341,
          0.6133682830930537,
          0.2602419691280768,
          0.08357326867707228
         ],
         "hovertemplate": "Carbon=Nag<br>Radius=2250<br>R=%{a}<br>G=%{b}<br>B=%{c}<br>Time=%{marker.size}<extra></extra>",
         "legendgroup": "Nag, 2250",
         "marker": {
          "color": "#636efa",
          "size": [
           0,
           11,
           22,
           35,
           66,
           90
          ],
          "sizemode": "area",
          "sizeref": 0.225,
          "symbol": "x"
         },
         "mode": "markers",
         "name": "Nag, 2250",
         "showlegend": true,
         "subplot": "ternary",
         "type": "scatterternary"
        },
        {
         "a": [
          0.583991928703548,
          0.7840796019900498,
          0.6029868942395611,
          0.15349606950765413,
          0.3520268984330394,
          0.057308584686774945
         ],
         "b": [
          0.0509500588532033,
          0,
          0.07583053946967389,
          0.14708316094331816,
          0.17769460128148196,
          0.5235112142304718
         ],
         "c": [
          0.3650580124432487,
          0.21592039800995025,
          0.321182566290765,
          0.6994207695490278,
          0.47027850028547863,
          0.4191802010827533
         ],
         "hovertemplate": "Carbon=Nag<br>Radius=3000<br>R=%{a}<br>G=%{b}<br>B=%{c}<br>Time=%{marker.size}<extra></extra>",
         "legendgroup": "Nag, 3000",
         "marker": {
          "color": "#636efa",
          "size": [
           0,
           11,
           22,
           35,
           66,
           90
          ],
          "sizemode": "area",
          "sizeref": 0.225,
          "symbol": "cross"
         },
         "mode": "markers",
         "name": "Nag, 3000",
         "showlegend": true,
         "subplot": "ternary",
         "type": "scatterternary"
        },
        {
         "a": [
          0.0025477707006369425,
          0.4708780063749638,
          0.7161678900809335,
          0.7815025853272646,
          0.16940911035904618,
          0.3399303307058482
         ],
         "b": [
          0.02038216560509554,
          0.025992465951898,
          0.035886818495514144,
          0.010662325304105569,
          0.15374800637958533,
          0.3927115199964272
         ],
         "c": [
          0.9770700636942675,
          0.5031295276731382,
          0.2479452914235523,
          0.20783508936862982,
          0.6768428832613685,
          0.26735814929772456
         ],
         "hovertemplate": "Carbon=Chito5<br>Radius=0<br>R=%{a}<br>G=%{b}<br>B=%{c}<br>Time=%{marker.size}<extra></extra>",
         "legendgroup": "Chito5, 0",
         "marker": {
          "color": "#EF553B",
          "size": [
           0,
           11,
           22,
           35,
           66,
           90
          ],
          "sizemode": "area",
          "sizeref": 0.225,
          "symbol": "circle"
         },
         "mode": "markers",
         "name": "Chito5, 0",
         "showlegend": true,
         "subplot": "ternary",
         "type": "scatterternary"
        },
        {
         "a": [
          0.07692307692307693,
          0.44116926594267986,
          0.6436379224119454,
          0.7165252409032072,
          0.16635135135135135,
          0.23367240596648486
         ],
         "b": [
          0.38461538461538464,
          0.025557279333714378,
          0.006501393155676216,
          0.013627211275708328,
          0.35195945945945944,
          0.6805322012441898
         ],
         "c": [
          0.5384615384615384,
          0.5332734547236058,
          0.3498606844323784,
          0.26984754782108444,
          0.4816891891891892,
          0.08579539278932528
         ],
         "hovertemplate": "Carbon=Chito5<br>Radius=750<br>R=%{a}<br>G=%{b}<br>B=%{c}<br>Time=%{marker.size}<extra></extra>",
         "legendgroup": "Chito5, 750",
         "marker": {
          "color": "#EF553B",
          "size": [
           0,
           11,
           22,
           35,
           66,
           90
          ],
          "sizemode": "area",
          "sizeref": 0.225,
          "symbol": "diamond"
         },
         "mode": "markers",
         "name": "Chito5, 750",
         "showlegend": true,
         "subplot": "ternary",
         "type": "scatterternary"
        },
        {
         "a": [
          0.23529411764705882,
          0.5278206314923377,
          0.8569098773310643,
          0.7224759825915895,
          0.14671357942309443,
          0.20692181885328065
         ],
         "b": [
          0,
          0.025609379821042888,
          0.005530738140821102,
          0.012436503765983535,
          0.35994418999666355,
          0.695523210485899
         ],
         "c": [
          0.7647058823529411,
          0.44656998868661935,
          0.1375593845281146,
          0.26508751364242694,
          0.49334223058024207,
          0.09755497066082032
         ],
         "hovertemplate": "Carbon=Chito5<br>Radius=1500<br>R=%{a}<br>G=%{b}<br>B=%{c}<br>Time=%{marker.size}<extra></extra>",
         "legendgroup": "Chito5, 1500",
         "marker": {
          "color": "#EF553B",
          "size": [
           0,
           11,
           22,
           35,
           66,
           90
          ],
          "sizemode": "area",
          "sizeref": 0.225,
          "symbol": "square"
         },
         "mode": "markers",
         "name": "Chito5, 1500",
         "showlegend": true,
         "subplot": "ternary",
         "type": "scatterternary"
        },
        {
         "a": [
          0.6666666666666666,
          0.4500482625482625,
          0.9046029337379868,
          0.7347294938917975,
          0.13658732183866146,
          0.152276295133438
         ],
         "b": [
          0,
          0.05357142857142857,
          0.0010622154779969652,
          0.011548488570012711,
          0.28516749899755767,
          0.7616489330775045
         ],
         "c": [
          0.3333333333333333,
          0.4963803088803089,
          0.09433485078401618,
          0.25372201753818974,
          0.5782451791637808,
          0.08607477178905751
         ],
         "hovertemplate": "Carbon=Chito5<br>Radius=2250<br>R=%{a}<br>G=%{b}<br>B=%{c}<br>Time=%{marker.size}<extra></extra>",
         "legendgroup": "Chito5, 2250",
         "marker": {
          "color": "#EF553B",
          "size": [
           0,
           11,
           22,
           35,
           66,
           90
          ],
          "sizemode": "area",
          "sizeref": 0.225,
          "symbol": "x"
         },
         "mode": "markers",
         "name": "Chito5, 2250",
         "showlegend": true,
         "subplot": "ternary",
         "type": "scatterternary"
        },
        {
         "a": [
          0.020833333333333332,
          0.14674413661163466,
          0.6171814051672709,
          0.7022040365498544,
          0.13013203546646107,
          0.1553781711846993
         ],
         "b": [
          0.08333333333333333,
          0.020548430525047828,
          0.00039006929466293424,
          0.007756802891856612,
          0.23188126445643795,
          0.6544692958191733
         ],
         "c": [
          0.8958333333333334,
          0.8327074328633175,
          0.38242852553806617,
          0.290039160558289,
          0.637986700077101,
          0.1901525329961274
         ],
         "hovertemplate": "Carbon=Chito5<br>Radius=3000<br>R=%{a}<br>G=%{b}<br>B=%{c}<br>Time=%{marker.size}<extra></extra>",
         "legendgroup": "Chito5, 3000",
         "marker": {
          "color": "#EF553B",
          "size": [
           0,
           11,
           22,
           35,
           66,
           90
          ],
          "sizemode": "area",
          "sizeref": 0.225,
          "symbol": "cross"
         },
         "mode": "markers",
         "name": "Chito5, 3000",
         "showlegend": true,
         "subplot": "ternary",
         "type": "scatterternary"
        },
        {
         "a": [
          0.8440665154950869,
          0.837066350941499,
          0.9690446002141652,
          0.899436081879135,
          0.438948610286736,
          0.4608065094011413
         ],
         "b": [
          0.12528344671201813,
          0.14293591968470734,
          0.01822374342230602,
          0.10055503752053639,
          0.2680794624341416,
          0.26558938224038464
         ],
         "c": [
          0.030650037792894935,
          0.01999772937379373,
          0.012731656363528862,
          0.000008880600328582213,
          0.2929719272791224,
          0.273604108358474
         ],
         "hovertemplate": "Carbon=Chitin<br>Radius=0<br>R=%{a}<br>G=%{b}<br>B=%{c}<br>Time=%{marker.size}<extra></extra>",
         "legendgroup": "Chitin, 0",
         "marker": {
          "color": "#00cc96",
          "size": [
           0,
           11,
           22,
           35,
           66,
           90
          ],
          "sizemode": "area",
          "sizeref": 0.225,
          "symbol": "circle"
         },
         "mode": "markers",
         "name": "Chitin, 0",
         "showlegend": true,
         "subplot": "ternary",
         "type": "scatterternary"
        },
        {
         "a": [
          0.17431929337907875,
          0.6146655972359328,
          0.9330273440429585,
          0.7955175857095307,
          0.5257990933502729,
          0.33147632311977715
         ],
         "b": [
          0.7858237827578656,
          0.3853344027640671,
          0.06037288694895679,
          0.20448241429046932,
          0.47420090664972714,
          0.3049861517828092
         ],
         "c": [
          0.0398569238630557,
          0,
          0.006599769008084717,
          0,
          0,
          0.36353752509741366
         ],
         "hovertemplate": "Carbon=Chitin<br>Radius=750<br>R=%{a}<br>G=%{b}<br>B=%{c}<br>Time=%{marker.size}<extra></extra>",
         "legendgroup": "Chitin, 750",
         "marker": {
          "color": "#00cc96",
          "size": [
           0,
           11,
           22,
           35,
           66,
           90
          ],
          "sizemode": "area",
          "sizeref": 0.225,
          "symbol": "diamond"
         },
         "mode": "markers",
         "name": "Chitin, 750",
         "showlegend": true,
         "subplot": "ternary",
         "type": "scatterternary"
        },
        {
         "a": [
          0.1303855770496118,
          0.6110847120825954,
          0.9228611185923332,
          0.793395502567432,
          0.40203287197231835,
          0.3422061191626409
         ],
         "b": [
          0.784419002500329,
          0.37720851872651084,
          0.07713888140766675,
          0.20660449743256804,
          0.5979671280276817,
          0.5478260869565217
         ],
         "c": [
          0.08519542045005922,
          0.011706769190893775,
          0,
          0,
          0,
          0.10996779388083736
         ],
         "hovertemplate": "Carbon=Chitin<br>Radius=1500<br>R=%{a}<br>G=%{b}<br>B=%{c}<br>Time=%{marker.size}<extra></extra>",
         "legendgroup": "Chitin, 1500",
         "marker": {
          "color": "#00cc96",
          "size": [
           0,
           11,
           22,
           35,
           66,
           90
          ],
          "sizemode": "area",
          "sizeref": 0.225,
          "symbol": "square"
         },
         "mode": "markers",
         "name": "Chitin, 1500",
         "showlegend": true,
         "subplot": "ternary",
         "type": "scatterternary"
        },
        {
         "a": [
          0.36677258284157965,
          0.9017817699896923,
          0.9665994454247542,
          0.7867779569382529,
          0.17353829749422428,
          0.28933394656520467
         ],
         "b": [
          0.10349523377212891,
          0.058312472389927844,
          0.03340055457524578,
          0.21322204306174714,
          0.8264617025057758,
          0.6682276205209684
         ],
         "c": [
          0.5297321833862915,
          0.039905757620379914,
          0,
          0,
          0,
          0.042438432913826984
         ],
         "hovertemplate": "Carbon=Chitin<br>Radius=2250<br>R=%{a}<br>G=%{b}<br>B=%{c}<br>Time=%{marker.size}<extra></extra>",
         "legendgroup": "Chitin, 2250",
         "marker": {
          "color": "#00cc96",
          "size": [
           0,
           11,
           22,
           35,
           66,
           90
          ],
          "sizemode": "area",
          "sizeref": 0.225,
          "symbol": "x"
         },
         "mode": "markers",
         "name": "Chitin, 2250",
         "showlegend": true,
         "subplot": "ternary",
         "type": "scatterternary"
        },
        {
         "a": [
          0.18217404396266185,
          0.9745107513892245,
          0.7602912349481937,
          0.6414928373963308,
          0.20516243880729862,
          0.2422131331745247
         ],
         "b": [
          0.3062330623306233,
          0.02548924861077555,
          0.2380285634276113,
          0.35850716260366927,
          0.7948375611927013,
          0.7577868668254752
         ],
         "c": [
          0.5115928937067148,
          0,
          0.0016802016241949033,
          0,
          0,
          0
         ],
         "hovertemplate": "Carbon=Chitin<br>Radius=3000<br>R=%{a}<br>G=%{b}<br>B=%{c}<br>Time=%{marker.size}<extra></extra>",
         "legendgroup": "Chitin, 3000",
         "marker": {
          "color": "#00cc96",
          "size": [
           0,
           11,
           22,
           35,
           66,
           90
          ],
          "sizemode": "area",
          "sizeref": 0.225,
          "symbol": "cross"
         },
         "mode": "markers",
         "name": "Chitin, 3000",
         "showlegend": true,
         "subplot": "ternary",
         "type": "scatterternary"
        }
       ],
       "layout": {
        "legend": {
         "itemsizing": "constant",
         "title": {
          "text": "Carbon, Radius"
         },
         "tracegroupgap": 0
        },
        "margin": {
         "t": 60
        },
        "template": {
         "data": {
          "bar": [
           {
            "error_x": {
             "color": "#2a3f5f"
            },
            "error_y": {
             "color": "#2a3f5f"
            },
            "marker": {
             "line": {
              "color": "#E5ECF6",
              "width": 0.5
             },
             "pattern": {
              "fillmode": "overlay",
              "size": 10,
              "solidity": 0.2
             }
            },
            "type": "bar"
           }
          ],
          "barpolar": [
           {
            "marker": {
             "line": {
              "color": "#E5ECF6",
              "width": 0.5
             },
             "pattern": {
              "fillmode": "overlay",
              "size": 10,
              "solidity": 0.2
             }
            },
            "type": "barpolar"
           }
          ],
          "carpet": [
           {
            "aaxis": {
             "endlinecolor": "#2a3f5f",
             "gridcolor": "white",
             "linecolor": "white",
             "minorgridcolor": "white",
             "startlinecolor": "#2a3f5f"
            },
            "baxis": {
             "endlinecolor": "#2a3f5f",
             "gridcolor": "white",
             "linecolor": "white",
             "minorgridcolor": "white",
             "startlinecolor": "#2a3f5f"
            },
            "type": "carpet"
           }
          ],
          "choropleth": [
           {
            "colorbar": {
             "outlinewidth": 0,
             "ticks": ""
            },
            "type": "choropleth"
           }
          ],
          "contour": [
           {
            "colorbar": {
             "outlinewidth": 0,
             "ticks": ""
            },
            "colorscale": [
             [
              0,
              "#0d0887"
             ],
             [
              0.1111111111111111,
              "#46039f"
             ],
             [
              0.2222222222222222,
              "#7201a8"
             ],
             [
              0.3333333333333333,
              "#9c179e"
             ],
             [
              0.4444444444444444,
              "#bd3786"
             ],
             [
              0.5555555555555556,
              "#d8576b"
             ],
             [
              0.6666666666666666,
              "#ed7953"
             ],
             [
              0.7777777777777778,
              "#fb9f3a"
             ],
             [
              0.8888888888888888,
              "#fdca26"
             ],
             [
              1,
              "#f0f921"
             ]
            ],
            "type": "contour"
           }
          ],
          "contourcarpet": [
           {
            "colorbar": {
             "outlinewidth": 0,
             "ticks": ""
            },
            "type": "contourcarpet"
           }
          ],
          "heatmap": [
           {
            "colorbar": {
             "outlinewidth": 0,
             "ticks": ""
            },
            "colorscale": [
             [
              0,
              "#0d0887"
             ],
             [
              0.1111111111111111,
              "#46039f"
             ],
             [
              0.2222222222222222,
              "#7201a8"
             ],
             [
              0.3333333333333333,
              "#9c179e"
             ],
             [
              0.4444444444444444,
              "#bd3786"
             ],
             [
              0.5555555555555556,
              "#d8576b"
             ],
             [
              0.6666666666666666,
              "#ed7953"
             ],
             [
              0.7777777777777778,
              "#fb9f3a"
             ],
             [
              0.8888888888888888,
              "#fdca26"
             ],
             [
              1,
              "#f0f921"
             ]
            ],
            "type": "heatmap"
           }
          ],
          "heatmapgl": [
           {
            "colorbar": {
             "outlinewidth": 0,
             "ticks": ""
            },
            "colorscale": [
             [
              0,
              "#0d0887"
             ],
             [
              0.1111111111111111,
              "#46039f"
             ],
             [
              0.2222222222222222,
              "#7201a8"
             ],
             [
              0.3333333333333333,
              "#9c179e"
             ],
             [
              0.4444444444444444,
              "#bd3786"
             ],
             [
              0.5555555555555556,
              "#d8576b"
             ],
             [
              0.6666666666666666,
              "#ed7953"
             ],
             [
              0.7777777777777778,
              "#fb9f3a"
             ],
             [
              0.8888888888888888,
              "#fdca26"
             ],
             [
              1,
              "#f0f921"
             ]
            ],
            "type": "heatmapgl"
           }
          ],
          "histogram": [
           {
            "marker": {
             "pattern": {
              "fillmode": "overlay",
              "size": 10,
              "solidity": 0.2
             }
            },
            "type": "histogram"
           }
          ],
          "histogram2d": [
           {
            "colorbar": {
             "outlinewidth": 0,
             "ticks": ""
            },
            "colorscale": [
             [
              0,
              "#0d0887"
             ],
             [
              0.1111111111111111,
              "#46039f"
             ],
             [
              0.2222222222222222,
              "#7201a8"
             ],
             [
              0.3333333333333333,
              "#9c179e"
             ],
             [
              0.4444444444444444,
              "#bd3786"
             ],
             [
              0.5555555555555556,
              "#d8576b"
             ],
             [
              0.6666666666666666,
              "#ed7953"
             ],
             [
              0.7777777777777778,
              "#fb9f3a"
             ],
             [
              0.8888888888888888,
              "#fdca26"
             ],
             [
              1,
              "#f0f921"
             ]
            ],
            "type": "histogram2d"
           }
          ],
          "histogram2dcontour": [
           {
            "colorbar": {
             "outlinewidth": 0,
             "ticks": ""
            },
            "colorscale": [
             [
              0,
              "#0d0887"
             ],
             [
              0.1111111111111111,
              "#46039f"
             ],
             [
              0.2222222222222222,
              "#7201a8"
             ],
             [
              0.3333333333333333,
              "#9c179e"
             ],
             [
              0.4444444444444444,
              "#bd3786"
             ],
             [
              0.5555555555555556,
              "#d8576b"
             ],
             [
              0.6666666666666666,
              "#ed7953"
             ],
             [
              0.7777777777777778,
              "#fb9f3a"
             ],
             [
              0.8888888888888888,
              "#fdca26"
             ],
             [
              1,
              "#f0f921"
             ]
            ],
            "type": "histogram2dcontour"
           }
          ],
          "mesh3d": [
           {
            "colorbar": {
             "outlinewidth": 0,
             "ticks": ""
            },
            "type": "mesh3d"
           }
          ],
          "parcoords": [
           {
            "line": {
             "colorbar": {
              "outlinewidth": 0,
              "ticks": ""
             }
            },
            "type": "parcoords"
           }
          ],
          "pie": [
           {
            "automargin": true,
            "type": "pie"
           }
          ],
          "scatter": [
           {
            "fillpattern": {
             "fillmode": "overlay",
             "size": 10,
             "solidity": 0.2
            },
            "type": "scatter"
           }
          ],
          "scatter3d": [
           {
            "line": {
             "colorbar": {
              "outlinewidth": 0,
              "ticks": ""
             }
            },
            "marker": {
             "colorbar": {
              "outlinewidth": 0,
              "ticks": ""
             }
            },
            "type": "scatter3d"
           }
          ],
          "scattercarpet": [
           {
            "marker": {
             "colorbar": {
              "outlinewidth": 0,
              "ticks": ""
             }
            },
            "type": "scattercarpet"
           }
          ],
          "scattergeo": [
           {
            "marker": {
             "colorbar": {
              "outlinewidth": 0,
              "ticks": ""
             }
            },
            "type": "scattergeo"
           }
          ],
          "scattergl": [
           {
            "marker": {
             "colorbar": {
              "outlinewidth": 0,
              "ticks": ""
             }
            },
            "type": "scattergl"
           }
          ],
          "scattermapbox": [
           {
            "marker": {
             "colorbar": {
              "outlinewidth": 0,
              "ticks": ""
             }
            },
            "type": "scattermapbox"
           }
          ],
          "scatterpolar": [
           {
            "marker": {
             "colorbar": {
              "outlinewidth": 0,
              "ticks": ""
             }
            },
            "type": "scatterpolar"
           }
          ],
          "scatterpolargl": [
           {
            "marker": {
             "colorbar": {
              "outlinewidth": 0,
              "ticks": ""
             }
            },
            "type": "scatterpolargl"
           }
          ],
          "scatterternary": [
           {
            "marker": {
             "colorbar": {
              "outlinewidth": 0,
              "ticks": ""
             }
            },
            "type": "scatterternary"
           }
          ],
          "surface": [
           {
            "colorbar": {
             "outlinewidth": 0,
             "ticks": ""
            },
            "colorscale": [
             [
              0,
              "#0d0887"
             ],
             [
              0.1111111111111111,
              "#46039f"
             ],
             [
              0.2222222222222222,
              "#7201a8"
             ],
             [
              0.3333333333333333,
              "#9c179e"
             ],
             [
              0.4444444444444444,
              "#bd3786"
             ],
             [
              0.5555555555555556,
              "#d8576b"
             ],
             [
              0.6666666666666666,
              "#ed7953"
             ],
             [
              0.7777777777777778,
              "#fb9f3a"
             ],
             [
              0.8888888888888888,
              "#fdca26"
             ],
             [
              1,
              "#f0f921"
             ]
            ],
            "type": "surface"
           }
          ],
          "table": [
           {
            "cells": {
             "fill": {
              "color": "#EBF0F8"
             },
             "line": {
              "color": "white"
             }
            },
            "header": {
             "fill": {
              "color": "#C8D4E3"
             },
             "line": {
              "color": "white"
             }
            },
            "type": "table"
           }
          ]
         },
         "layout": {
          "annotationdefaults": {
           "arrowcolor": "#2a3f5f",
           "arrowhead": 0,
           "arrowwidth": 1
          },
          "autotypenumbers": "strict",
          "coloraxis": {
           "colorbar": {
            "outlinewidth": 0,
            "ticks": ""
           }
          },
          "colorscale": {
           "diverging": [
            [
             0,
             "#8e0152"
            ],
            [
             0.1,
             "#c51b7d"
            ],
            [
             0.2,
             "#de77ae"
            ],
            [
             0.3,
             "#f1b6da"
            ],
            [
             0.4,
             "#fde0ef"
            ],
            [
             0.5,
             "#f7f7f7"
            ],
            [
             0.6,
             "#e6f5d0"
            ],
            [
             0.7,
             "#b8e186"
            ],
            [
             0.8,
             "#7fbc41"
            ],
            [
             0.9,
             "#4d9221"
            ],
            [
             1,
             "#276419"
            ]
           ],
           "sequential": [
            [
             0,
             "#0d0887"
            ],
            [
             0.1111111111111111,
             "#46039f"
            ],
            [
             0.2222222222222222,
             "#7201a8"
            ],
            [
             0.3333333333333333,
             "#9c179e"
            ],
            [
             0.4444444444444444,
             "#bd3786"
            ],
            [
             0.5555555555555556,
             "#d8576b"
            ],
            [
             0.6666666666666666,
             "#ed7953"
            ],
            [
             0.7777777777777778,
             "#fb9f3a"
            ],
            [
             0.8888888888888888,
             "#fdca26"
            ],
            [
             1,
             "#f0f921"
            ]
           ],
           "sequentialminus": [
            [
             0,
             "#0d0887"
            ],
            [
             0.1111111111111111,
             "#46039f"
            ],
            [
             0.2222222222222222,
             "#7201a8"
            ],
            [
             0.3333333333333333,
             "#9c179e"
            ],
            [
             0.4444444444444444,
             "#bd3786"
            ],
            [
             0.5555555555555556,
             "#d8576b"
            ],
            [
             0.6666666666666666,
             "#ed7953"
            ],
            [
             0.7777777777777778,
             "#fb9f3a"
            ],
            [
             0.8888888888888888,
             "#fdca26"
            ],
            [
             1,
             "#f0f921"
            ]
           ]
          },
          "colorway": [
           "#636efa",
           "#EF553B",
           "#00cc96",
           "#ab63fa",
           "#FFA15A",
           "#19d3f3",
           "#FF6692",
           "#B6E880",
           "#FF97FF",
           "#FECB52"
          ],
          "font": {
           "color": "#2a3f5f"
          },
          "geo": {
           "bgcolor": "white",
           "lakecolor": "white",
           "landcolor": "#E5ECF6",
           "showlakes": true,
           "showland": true,
           "subunitcolor": "white"
          },
          "hoverlabel": {
           "align": "left"
          },
          "hovermode": "closest",
          "mapbox": {
           "style": "light"
          },
          "paper_bgcolor": "white",
          "plot_bgcolor": "#E5ECF6",
          "polar": {
           "angularaxis": {
            "gridcolor": "white",
            "linecolor": "white",
            "ticks": ""
           },
           "bgcolor": "#E5ECF6",
           "radialaxis": {
            "gridcolor": "white",
            "linecolor": "white",
            "ticks": ""
           }
          },
          "scene": {
           "xaxis": {
            "backgroundcolor": "#E5ECF6",
            "gridcolor": "white",
            "gridwidth": 2,
            "linecolor": "white",
            "showbackground": true,
            "ticks": "",
            "zerolinecolor": "white"
           },
           "yaxis": {
            "backgroundcolor": "#E5ECF6",
            "gridcolor": "white",
            "gridwidth": 2,
            "linecolor": "white",
            "showbackground": true,
            "ticks": "",
            "zerolinecolor": "white"
           },
           "zaxis": {
            "backgroundcolor": "#E5ECF6",
            "gridcolor": "white",
            "gridwidth": 2,
            "linecolor": "white",
            "showbackground": true,
            "ticks": "",
            "zerolinecolor": "white"
           }
          },
          "shapedefaults": {
           "line": {
            "color": "#2a3f5f"
           }
          },
          "ternary": {
           "aaxis": {
            "gridcolor": "white",
            "linecolor": "white",
            "ticks": ""
           },
           "baxis": {
            "gridcolor": "white",
            "linecolor": "white",
            "ticks": ""
           },
           "bgcolor": "#E5ECF6",
           "caxis": {
            "gridcolor": "white",
            "linecolor": "white",
            "ticks": ""
           }
          },
          "title": {
           "x": 0.05
          },
          "xaxis": {
           "automargin": true,
           "gridcolor": "white",
           "linecolor": "white",
           "ticks": "",
           "title": {
            "standoff": 15
           },
           "zerolinecolor": "white",
           "zerolinewidth": 2
          },
          "yaxis": {
           "automargin": true,
           "gridcolor": "white",
           "linecolor": "white",
           "ticks": "",
           "title": {
            "standoff": 15
           },
           "zerolinecolor": "white",
           "zerolinewidth": 2
          }
         }
        },
        "ternary": {
         "aaxis": {
          "title": {
           "text": "R"
          }
         },
         "baxis": {
          "title": {
           "text": "G"
          }
         },
         "caxis": {
          "title": {
           "text": "B"
          }
         },
         "domain": {
          "x": [
           0,
           1
          ],
          "y": [
           0,
           1
          ]
         }
        }
       }
      }
     },
     "metadata": {},
     "output_type": "display_data"
    }
   ],
   "source": [
    "df4plot = pop_den_1d_df[(pop_den_1d_df[\"Rep\"] == \"rep2\") & ((pop_den_1d_df[\"Radius\"] == 0) | (pop_den_1d_df[\"Radius\"] == 750) | (pop_den_1d_df[\"Radius\"] == 1500) | (pop_den_1d_df[\"Radius\"] == 2250) | (pop_den_1d_df[\"Radius\"] == 3000))]\n",
    "fig = px.scatter_ternary(df4plot, a='R', b='G', c='B',\n",
    "    size=\"Time\", color=\"Carbon\", symbol=\"Radius\")\n",
    "fig.write_image(\"results/1Drep2.pdf\")\n",
    "fig.show()"
   ]
  },
  {
   "cell_type": "code",
   "execution_count": 18,
   "metadata": {},
   "outputs": [
    {
     "data": {
      "application/vnd.plotly.v1+json": {
       "config": {
        "plotlyServerURL": "https://plot.ly"
       },
       "data": [
        {
         "a": [
          0.45097787050003335,
          0.4629357201811518,
          0.4622152417372303,
          0.2549963873659157,
          0.26613971719658563,
          0.5454545454545454
         ],
         "b": [
          0.06774122869690301,
          0.028355221799800715,
          0.016326140398798143,
          0.04363277329331646,
          0.275184243346993,
          0.2727272727272727
         ],
         "c": [
          0.4812809008030636,
          0.5087090580190474,
          0.5214586178639716,
          0.7013708393407678,
          0.4586760394564214,
          0.18181818181818182
         ],
         "hovertemplate": "Carbon=Nag<br>Radius=0<br>R=%{a}<br>G=%{b}<br>B=%{c}<br>Time=%{marker.size}<extra></extra>",
         "legendgroup": "Nag, 0",
         "marker": {
          "color": "#636efa",
          "size": [
           0,
           11,
           22,
           37,
           66,
           90
          ],
          "sizemode": "area",
          "sizeref": 0.225,
          "symbol": "circle"
         },
         "mode": "markers",
         "name": "Nag, 0",
         "showlegend": true,
         "subplot": "ternary",
         "type": "scatterternary"
        },
        {
         "a": [
          0.6057907920499667,
          0.6963452977317962,
          0.6904472514116036,
          0.6112953797517556,
          0.3654588388567706,
          0.5714285714285714
         ],
         "b": [
          0.09808468513798799,
          0.012980394796303953,
          0.011646691385756266,
          0.04608587494493535,
          0.41511277583258693,
          0.42857142857142855
         ],
         "c": [
          0.2961245228120454,
          0.2906743074718999,
          0.29790605720264013,
          0.34261874530330905,
          0.21942838531064246,
          0
         ],
         "hovertemplate": "Carbon=Nag<br>Radius=750<br>R=%{a}<br>G=%{b}<br>B=%{c}<br>Time=%{marker.size}<extra></extra>",
         "legendgroup": "Nag, 750",
         "marker": {
          "color": "#636efa",
          "size": [
           0,
           11,
           22,
           37,
           66,
           90
          ],
          "sizemode": "area",
          "sizeref": 0.225,
          "symbol": "diamond"
         },
         "mode": "markers",
         "name": "Nag, 750",
         "showlegend": true,
         "subplot": "ternary",
         "type": "scatterternary"
        },
        {
         "a": [
          0.6227388249364628,
          0.7809158251065819,
          0.8280156329351498,
          0.7112492445825779,
          0.6490947368421053,
          0.8148148148148148
         ],
         "b": [
          0.11126476304380326,
          0.019545911646813876,
          0.0059617125571330785,
          0.03810757144090477,
          0.25569924812030076,
          0.18518518518518517
         ],
         "c": [
          0.2659964120197339,
          0.19953826324660426,
          0.1660226545077171,
          0.2506431839765173,
          0.09520601503759399,
          0
         ],
         "hovertemplate": "Carbon=Nag<br>Radius=1500<br>R=%{a}<br>G=%{b}<br>B=%{c}<br>Time=%{marker.size}<extra></extra>",
         "legendgroup": "Nag, 1500",
         "marker": {
          "color": "#636efa",
          "size": [
           0,
           11,
           22,
           37,
           66,
           90
          ],
          "sizemode": "area",
          "sizeref": 0.225,
          "symbol": "square"
         },
         "mode": "markers",
         "name": "Nag, 1500",
         "showlegend": true,
         "subplot": "ternary",
         "type": "scatterternary"
        },
        {
         "a": [
          0.5532263347527022,
          0.6868456375838926,
          0.9351654215581644,
          0.8441514536849223,
          0.8154113501423997,
          0.8636363636363636
         ],
         "b": [
          0.1990828693088765,
          0.11060402684563758,
          0.003735325506937033,
          0.010141987829614604,
          0.14849796456901962,
          0.13636363636363635
         ],
         "c": [
          0.24769079593842122,
          0.2025503355704698,
          0.06109925293489861,
          0.14570655848546316,
          0.03609068528858067,
          0
         ],
         "hovertemplate": "Carbon=Nag<br>Radius=2250<br>R=%{a}<br>G=%{b}<br>B=%{c}<br>Time=%{marker.size}<extra></extra>",
         "legendgroup": "Nag, 2250",
         "marker": {
          "color": "#636efa",
          "size": [
           0,
           11,
           22,
           37,
           66,
           90
          ],
          "sizemode": "area",
          "sizeref": 0.225,
          "symbol": "x"
         },
         "mode": "markers",
         "name": "Nag, 2250",
         "showlegend": true,
         "subplot": "ternary",
         "type": "scatterternary"
        },
        {
         "a": [
          0.8241269227048467,
          0.9498186215235792,
          0.6942659416707859,
          0.2667671073094868,
          0.7316759348203505,
          0.012755102040816327
         ],
         "b": [
          0.0503047305794718,
          0.002720677146311971,
          0.0034602076124567475,
          0.0021384136858475893,
          0.09409452635475143,
          0.02295918367346939
         ],
         "c": [
          0.12556834671568154,
          0.04746070133010883,
          0.3022738507167573,
          0.7310944790046656,
          0.174229538824898,
          0.9642857142857143
         ],
         "hovertemplate": "Carbon=Nag<br>Radius=3000<br>R=%{a}<br>G=%{b}<br>B=%{c}<br>Time=%{marker.size}<extra></extra>",
         "legendgroup": "Nag, 3000",
         "marker": {
          "color": "#636efa",
          "size": [
           0,
           11,
           22,
           37,
           66,
           90
          ],
          "sizemode": "area",
          "sizeref": 0.225,
          "symbol": "cross"
         },
         "mode": "markers",
         "name": "Nag, 3000",
         "showlegend": true,
         "subplot": "ternary",
         "type": "scatterternary"
        },
        {
         "a": [
          0.7,
          0.9578311274590299,
          0.9284615758203688,
          0.8547598329272538,
          0.45454545454545453
         ],
         "b": [
          0.3,
          0.04207034713783704,
          0.03126062391737223,
          0.08156108597285068,
          0.5454545454545454
         ],
         "c": [
          0,
          0.00009852540313310782,
          0.04027780026225899,
          0.06367908109989558,
          0
         ],
         "hovertemplate": "Carbon=Chito5<br>Radius=0<br>R=%{a}<br>G=%{b}<br>B=%{c}<br>Time=%{marker.size}<extra></extra>",
         "legendgroup": "Chito5, 0",
         "marker": {
          "color": "#EF553B",
          "size": [
           0,
           11,
           22,
           66,
           90
          ],
          "sizemode": "area",
          "sizeref": 0.225,
          "symbol": "circle"
         },
         "mode": "markers",
         "name": "Chito5, 0",
         "showlegend": true,
         "subplot": "ternary",
         "type": "scatterternary"
        },
        {
         "a": [
          0.6666666666666666,
          0.8145977623867874,
          0.6599910266345801,
          0.6664663687234762,
          0.5
         ],
         "b": [
          0.3333333333333333,
          0.18540223761321256,
          0.02879634539299262,
          0.19506515942464417,
          0.5
         ],
         "c": [
          0,
          0,
          0.31121262797242727,
          0.13846847185187966,
          0
         ],
         "hovertemplate": "Carbon=Chito5<br>Radius=750<br>R=%{a}<br>G=%{b}<br>B=%{c}<br>Time=%{marker.size}<extra></extra>",
         "legendgroup": "Chito5, 750",
         "marker": {
          "color": "#EF553B",
          "size": [
           0,
           11,
           22,
           66,
           90
          ],
          "sizemode": "area",
          "sizeref": 0.225,
          "symbol": "diamond"
         },
         "mode": "markers",
         "name": "Chito5, 750",
         "showlegend": true,
         "subplot": "ternary",
         "type": "scatterternary"
        },
        {
         "a": [
          0.5,
          0.471671388101983,
          0.6967293467605383,
          0.4878454004896817,
          0.7142857142857143
         ],
         "b": [
          0.5,
          0.5283286118980169,
          0.025933517511808217,
          0.2951643931444561,
          0.14285714285714285
         ],
         "c": [
          0,
          0,
          0.2773371357276535,
          0.2169902063658622,
          0.14285714285714285
         ],
         "hovertemplate": "Carbon=Chito5<br>Radius=1500<br>R=%{a}<br>G=%{b}<br>B=%{c}<br>Time=%{marker.size}<extra></extra>",
         "legendgroup": "Chito5, 1500",
         "marker": {
          "color": "#EF553B",
          "size": [
           0,
           11,
           22,
           66,
           90
          ],
          "sizemode": "area",
          "sizeref": 0.225,
          "symbol": "square"
         },
         "mode": "markers",
         "name": "Chito5, 1500",
         "showlegend": true,
         "subplot": "ternary",
         "type": "scatterternary"
        },
        {
         "a": [
          0.2222222222222222,
          0.6375545851528385,
          0.6765329240663597,
          0.4171901485691495,
          0.6666666666666666
         ],
         "b": [
          0.6666666666666666,
          0.3624454148471616,
          0.0039465029598772195,
          0.3989430651111776,
          0.16666666666666666
         ],
         "c": [
          0.1111111111111111,
          0,
          0.3195205729737631,
          0.18386678631967296,
          0.16666666666666666
         ],
         "hovertemplate": "Carbon=Chito5<br>Radius=2250<br>R=%{a}<br>G=%{b}<br>B=%{c}<br>Time=%{marker.size}<extra></extra>",
         "legendgroup": "Chito5, 2250",
         "marker": {
          "color": "#EF553B",
          "size": [
           0,
           11,
           22,
           66,
           90
          ],
          "sizemode": "area",
          "sizeref": 0.225,
          "symbol": "x"
         },
         "mode": "markers",
         "name": "Chito5, 2250",
         "showlegend": true,
         "subplot": "ternary",
         "type": "scatterternary"
        },
        {
         "a": [
          0.3333333333333333,
          0.7371134020618557,
          0.6484,
          0.3852897156296771,
          0.5
         ],
         "b": [
          0.26666666666666666,
          0.26288659793814434,
          0.00184,
          0.5330339961513791,
          0.5
         ],
         "c": [
          0.4,
          0,
          0.34976,
          0.08167628821894377,
          0
         ],
         "hovertemplate": "Carbon=Chito5<br>Radius=3000<br>R=%{a}<br>G=%{b}<br>B=%{c}<br>Time=%{marker.size}<extra></extra>",
         "legendgroup": "Chito5, 3000",
         "marker": {
          "color": "#EF553B",
          "size": [
           0,
           11,
           22,
           66,
           90
          ],
          "sizemode": "area",
          "sizeref": 0.225,
          "symbol": "cross"
         },
         "mode": "markers",
         "name": "Chito5, 3000",
         "showlegend": true,
         "subplot": "ternary",
         "type": "scatterternary"
        },
        {
         "a": [
          0.007724107919930374,
          0.006097560975609756,
          0.39152614205007175,
          0.34855943723686467,
          0.6514571843251089,
          0.0020964360587002098
         ],
         "b": [
          0.0004351610095735422,
          0.001524390243902439,
          0.0014463958692178187,
          0.0012142168960920694,
          0.0017329462989840348,
          0.0010482180293501049
         ],
         "c": [
          0.9918407310704961,
          0.9923780487804879,
          0.6070274620807105,
          0.6502263458670432,
          0.34680986937590713,
          0.9968553459119497
         ],
         "hovertemplate": "Carbon=Chitin<br>Radius=0<br>R=%{a}<br>G=%{b}<br>B=%{c}<br>Time=%{marker.size}<extra></extra>",
         "legendgroup": "Chitin, 0",
         "marker": {
          "color": "#00cc96",
          "size": [
           0,
           11,
           22,
           37,
           66,
           90
          ],
          "sizemode": "area",
          "sizeref": 0.225,
          "symbol": "circle"
         },
         "mode": "markers",
         "name": "Chitin, 0",
         "showlegend": true,
         "subplot": "ternary",
         "type": "scatterternary"
        },
        {
         "a": [
          0.02510460251046025,
          0.02564102564102564,
          0.19400202004506253,
          0.3309074560602442,
          0.7672930644674093,
          0.034482758620689655
         ],
         "b": [
          0.029288702928870293,
          0.00641025641025641,
          0.002165721389169451,
          0.0019107295896146227,
          0.002379884484068504,
          0.002652519893899204
         ],
         "c": [
          0.9456066945606695,
          0.967948717948718,
          0.803832258565768,
          0.6671818143501412,
          0.2303270510485222,
          0.9628647214854111
         ],
         "hovertemplate": "Carbon=Chitin<br>Radius=750<br>R=%{a}<br>G=%{b}<br>B=%{c}<br>Time=%{marker.size}<extra></extra>",
         "legendgroup": "Chitin, 750",
         "marker": {
          "color": "#00cc96",
          "size": [
           0,
           11,
           22,
           37,
           66,
           90
          ],
          "sizemode": "area",
          "sizeref": 0.225,
          "symbol": "diamond"
         },
         "mode": "markers",
         "name": "Chitin, 750",
         "showlegend": true,
         "subplot": "ternary",
         "type": "scatterternary"
        },
        {
         "a": [
          0.015105740181268883,
          0.058823529411764705,
          0.17485613623018204,
          0.2129979035639413,
          0.694192898232256,
          0.0053309640159928924
         ],
         "b": [
          0.01812688821752266,
          0.011764705882352941,
          0.0018907809747504404,
          0.002154268777560905,
          0.0058784833512953655,
          0
         ],
         "c": [
          0.9667673716012085,
          0.9294117647058824,
          0.8232530827950675,
          0.7848478276584978,
          0.2999286184164486,
          0.9946690359840071
         ],
         "hovertemplate": "Carbon=Chitin<br>Radius=1500<br>R=%{a}<br>G=%{b}<br>B=%{c}<br>Time=%{marker.size}<extra></extra>",
         "legendgroup": "Chitin, 1500",
         "marker": {
          "color": "#00cc96",
          "size": [
           0,
           11,
           22,
           37,
           66,
           90
          ],
          "sizemode": "area",
          "sizeref": 0.225,
          "symbol": "square"
         },
         "mode": "markers",
         "name": "Chitin, 1500",
         "showlegend": true,
         "subplot": "ternary",
         "type": "scatterternary"
        },
        {
         "a": [
          0.008968609865470852,
          0.07407407407407407,
          0.12022524636320976,
          0.14442198426573427,
          0.5827324742987393,
          0.0014563106796116505
         ],
         "b": [
          0.008968609865470852,
          0.018518518518518517,
          0.014140466134834976,
          0.01057145979020979,
          0.014397357770851747,
          0
         ],
         "c": [
          0.9820627802690582,
          0.9074074074074074,
          0.8656342875019553,
          0.8450065559440559,
          0.4028701679304089,
          0.9985436893203884
         ],
         "hovertemplate": "Carbon=Chitin<br>Radius=2250<br>R=%{a}<br>G=%{b}<br>B=%{c}<br>Time=%{marker.size}<extra></extra>",
         "legendgroup": "Chitin, 2250",
         "marker": {
          "color": "#00cc96",
          "size": [
           0,
           11,
           22,
           37,
           66,
           90
          ],
          "sizemode": "area",
          "sizeref": 0.225,
          "symbol": "x"
         },
         "mode": "markers",
         "name": "Chitin, 2250",
         "showlegend": true,
         "subplot": "ternary",
         "type": "scatterternary"
        },
        {
         "a": [
          0.05223880597014925,
          0.6923076923076923,
          0.5263374485596708,
          0.37158737943436326,
          0.7390436224576128,
          0.013282732447817837
         ],
         "b": [
          0.05223880597014925,
          0.23076923076923078,
          0.07860082304526748,
          0.05427497139120484,
          0.017124098954279333,
          0.0056925996204933585
         ],
         "c": [
          0.8955223880597015,
          0.07692307692307693,
          0.3950617283950617,
          0.5741376491744319,
          0.24383227858810788,
          0.9810246679316889
         ],
         "hovertemplate": "Carbon=Chitin<br>Radius=3000<br>R=%{a}<br>G=%{b}<br>B=%{c}<br>Time=%{marker.size}<extra></extra>",
         "legendgroup": "Chitin, 3000",
         "marker": {
          "color": "#00cc96",
          "size": [
           0,
           11,
           22,
           37,
           66,
           90
          ],
          "sizemode": "area",
          "sizeref": 0.225,
          "symbol": "cross"
         },
         "mode": "markers",
         "name": "Chitin, 3000",
         "showlegend": true,
         "subplot": "ternary",
         "type": "scatterternary"
        }
       ],
       "layout": {
        "legend": {
         "itemsizing": "constant",
         "title": {
          "text": "Carbon, Radius"
         },
         "tracegroupgap": 0
        },
        "margin": {
         "t": 60
        },
        "template": {
         "data": {
          "bar": [
           {
            "error_x": {
             "color": "#2a3f5f"
            },
            "error_y": {
             "color": "#2a3f5f"
            },
            "marker": {
             "line": {
              "color": "#E5ECF6",
              "width": 0.5
             },
             "pattern": {
              "fillmode": "overlay",
              "size": 10,
              "solidity": 0.2
             }
            },
            "type": "bar"
           }
          ],
          "barpolar": [
           {
            "marker": {
             "line": {
              "color": "#E5ECF6",
              "width": 0.5
             },
             "pattern": {
              "fillmode": "overlay",
              "size": 10,
              "solidity": 0.2
             }
            },
            "type": "barpolar"
           }
          ],
          "carpet": [
           {
            "aaxis": {
             "endlinecolor": "#2a3f5f",
             "gridcolor": "white",
             "linecolor": "white",
             "minorgridcolor": "white",
             "startlinecolor": "#2a3f5f"
            },
            "baxis": {
             "endlinecolor": "#2a3f5f",
             "gridcolor": "white",
             "linecolor": "white",
             "minorgridcolor": "white",
             "startlinecolor": "#2a3f5f"
            },
            "type": "carpet"
           }
          ],
          "choropleth": [
           {
            "colorbar": {
             "outlinewidth": 0,
             "ticks": ""
            },
            "type": "choropleth"
           }
          ],
          "contour": [
           {
            "colorbar": {
             "outlinewidth": 0,
             "ticks": ""
            },
            "colorscale": [
             [
              0,
              "#0d0887"
             ],
             [
              0.1111111111111111,
              "#46039f"
             ],
             [
              0.2222222222222222,
              "#7201a8"
             ],
             [
              0.3333333333333333,
              "#9c179e"
             ],
             [
              0.4444444444444444,
              "#bd3786"
             ],
             [
              0.5555555555555556,
              "#d8576b"
             ],
             [
              0.6666666666666666,
              "#ed7953"
             ],
             [
              0.7777777777777778,
              "#fb9f3a"
             ],
             [
              0.8888888888888888,
              "#fdca26"
             ],
             [
              1,
              "#f0f921"
             ]
            ],
            "type": "contour"
           }
          ],
          "contourcarpet": [
           {
            "colorbar": {
             "outlinewidth": 0,
             "ticks": ""
            },
            "type": "contourcarpet"
           }
          ],
          "heatmap": [
           {
            "colorbar": {
             "outlinewidth": 0,
             "ticks": ""
            },
            "colorscale": [
             [
              0,
              "#0d0887"
             ],
             [
              0.1111111111111111,
              "#46039f"
             ],
             [
              0.2222222222222222,
              "#7201a8"
             ],
             [
              0.3333333333333333,
              "#9c179e"
             ],
             [
              0.4444444444444444,
              "#bd3786"
             ],
             [
              0.5555555555555556,
              "#d8576b"
             ],
             [
              0.6666666666666666,
              "#ed7953"
             ],
             [
              0.7777777777777778,
              "#fb9f3a"
             ],
             [
              0.8888888888888888,
              "#fdca26"
             ],
             [
              1,
              "#f0f921"
             ]
            ],
            "type": "heatmap"
           }
          ],
          "heatmapgl": [
           {
            "colorbar": {
             "outlinewidth": 0,
             "ticks": ""
            },
            "colorscale": [
             [
              0,
              "#0d0887"
             ],
             [
              0.1111111111111111,
              "#46039f"
             ],
             [
              0.2222222222222222,
              "#7201a8"
             ],
             [
              0.3333333333333333,
              "#9c179e"
             ],
             [
              0.4444444444444444,
              "#bd3786"
             ],
             [
              0.5555555555555556,
              "#d8576b"
             ],
             [
              0.6666666666666666,
              "#ed7953"
             ],
             [
              0.7777777777777778,
              "#fb9f3a"
             ],
             [
              0.8888888888888888,
              "#fdca26"
             ],
             [
              1,
              "#f0f921"
             ]
            ],
            "type": "heatmapgl"
           }
          ],
          "histogram": [
           {
            "marker": {
             "pattern": {
              "fillmode": "overlay",
              "size": 10,
              "solidity": 0.2
             }
            },
            "type": "histogram"
           }
          ],
          "histogram2d": [
           {
            "colorbar": {
             "outlinewidth": 0,
             "ticks": ""
            },
            "colorscale": [
             [
              0,
              "#0d0887"
             ],
             [
              0.1111111111111111,
              "#46039f"
             ],
             [
              0.2222222222222222,
              "#7201a8"
             ],
             [
              0.3333333333333333,
              "#9c179e"
             ],
             [
              0.4444444444444444,
              "#bd3786"
             ],
             [
              0.5555555555555556,
              "#d8576b"
             ],
             [
              0.6666666666666666,
              "#ed7953"
             ],
             [
              0.7777777777777778,
              "#fb9f3a"
             ],
             [
              0.8888888888888888,
              "#fdca26"
             ],
             [
              1,
              "#f0f921"
             ]
            ],
            "type": "histogram2d"
           }
          ],
          "histogram2dcontour": [
           {
            "colorbar": {
             "outlinewidth": 0,
             "ticks": ""
            },
            "colorscale": [
             [
              0,
              "#0d0887"
             ],
             [
              0.1111111111111111,
              "#46039f"
             ],
             [
              0.2222222222222222,
              "#7201a8"
             ],
             [
              0.3333333333333333,
              "#9c179e"
             ],
             [
              0.4444444444444444,
              "#bd3786"
             ],
             [
              0.5555555555555556,
              "#d8576b"
             ],
             [
              0.6666666666666666,
              "#ed7953"
             ],
             [
              0.7777777777777778,
              "#fb9f3a"
             ],
             [
              0.8888888888888888,
              "#fdca26"
             ],
             [
              1,
              "#f0f921"
             ]
            ],
            "type": "histogram2dcontour"
           }
          ],
          "mesh3d": [
           {
            "colorbar": {
             "outlinewidth": 0,
             "ticks": ""
            },
            "type": "mesh3d"
           }
          ],
          "parcoords": [
           {
            "line": {
             "colorbar": {
              "outlinewidth": 0,
              "ticks": ""
             }
            },
            "type": "parcoords"
           }
          ],
          "pie": [
           {
            "automargin": true,
            "type": "pie"
           }
          ],
          "scatter": [
           {
            "fillpattern": {
             "fillmode": "overlay",
             "size": 10,
             "solidity": 0.2
            },
            "type": "scatter"
           }
          ],
          "scatter3d": [
           {
            "line": {
             "colorbar": {
              "outlinewidth": 0,
              "ticks": ""
             }
            },
            "marker": {
             "colorbar": {
              "outlinewidth": 0,
              "ticks": ""
             }
            },
            "type": "scatter3d"
           }
          ],
          "scattercarpet": [
           {
            "marker": {
             "colorbar": {
              "outlinewidth": 0,
              "ticks": ""
             }
            },
            "type": "scattercarpet"
           }
          ],
          "scattergeo": [
           {
            "marker": {
             "colorbar": {
              "outlinewidth": 0,
              "ticks": ""
             }
            },
            "type": "scattergeo"
           }
          ],
          "scattergl": [
           {
            "marker": {
             "colorbar": {
              "outlinewidth": 0,
              "ticks": ""
             }
            },
            "type": "scattergl"
           }
          ],
          "scattermapbox": [
           {
            "marker": {
             "colorbar": {
              "outlinewidth": 0,
              "ticks": ""
             }
            },
            "type": "scattermapbox"
           }
          ],
          "scatterpolar": [
           {
            "marker": {
             "colorbar": {
              "outlinewidth": 0,
              "ticks": ""
             }
            },
            "type": "scatterpolar"
           }
          ],
          "scatterpolargl": [
           {
            "marker": {
             "colorbar": {
              "outlinewidth": 0,
              "ticks": ""
             }
            },
            "type": "scatterpolargl"
           }
          ],
          "scatterternary": [
           {
            "marker": {
             "colorbar": {
              "outlinewidth": 0,
              "ticks": ""
             }
            },
            "type": "scatterternary"
           }
          ],
          "surface": [
           {
            "colorbar": {
             "outlinewidth": 0,
             "ticks": ""
            },
            "colorscale": [
             [
              0,
              "#0d0887"
             ],
             [
              0.1111111111111111,
              "#46039f"
             ],
             [
              0.2222222222222222,
              "#7201a8"
             ],
             [
              0.3333333333333333,
              "#9c179e"
             ],
             [
              0.4444444444444444,
              "#bd3786"
             ],
             [
              0.5555555555555556,
              "#d8576b"
             ],
             [
              0.6666666666666666,
              "#ed7953"
             ],
             [
              0.7777777777777778,
              "#fb9f3a"
             ],
             [
              0.8888888888888888,
              "#fdca26"
             ],
             [
              1,
              "#f0f921"
             ]
            ],
            "type": "surface"
           }
          ],
          "table": [
           {
            "cells": {
             "fill": {
              "color": "#EBF0F8"
             },
             "line": {
              "color": "white"
             }
            },
            "header": {
             "fill": {
              "color": "#C8D4E3"
             },
             "line": {
              "color": "white"
             }
            },
            "type": "table"
           }
          ]
         },
         "layout": {
          "annotationdefaults": {
           "arrowcolor": "#2a3f5f",
           "arrowhead": 0,
           "arrowwidth": 1
          },
          "autotypenumbers": "strict",
          "coloraxis": {
           "colorbar": {
            "outlinewidth": 0,
            "ticks": ""
           }
          },
          "colorscale": {
           "diverging": [
            [
             0,
             "#8e0152"
            ],
            [
             0.1,
             "#c51b7d"
            ],
            [
             0.2,
             "#de77ae"
            ],
            [
             0.3,
             "#f1b6da"
            ],
            [
             0.4,
             "#fde0ef"
            ],
            [
             0.5,
             "#f7f7f7"
            ],
            [
             0.6,
             "#e6f5d0"
            ],
            [
             0.7,
             "#b8e186"
            ],
            [
             0.8,
             "#7fbc41"
            ],
            [
             0.9,
             "#4d9221"
            ],
            [
             1,
             "#276419"
            ]
           ],
           "sequential": [
            [
             0,
             "#0d0887"
            ],
            [
             0.1111111111111111,
             "#46039f"
            ],
            [
             0.2222222222222222,
             "#7201a8"
            ],
            [
             0.3333333333333333,
             "#9c179e"
            ],
            [
             0.4444444444444444,
             "#bd3786"
            ],
            [
             0.5555555555555556,
             "#d8576b"
            ],
            [
             0.6666666666666666,
             "#ed7953"
            ],
            [
             0.7777777777777778,
             "#fb9f3a"
            ],
            [
             0.8888888888888888,
             "#fdca26"
            ],
            [
             1,
             "#f0f921"
            ]
           ],
           "sequentialminus": [
            [
             0,
             "#0d0887"
            ],
            [
             0.1111111111111111,
             "#46039f"
            ],
            [
             0.2222222222222222,
             "#7201a8"
            ],
            [
             0.3333333333333333,
             "#9c179e"
            ],
            [
             0.4444444444444444,
             "#bd3786"
            ],
            [
             0.5555555555555556,
             "#d8576b"
            ],
            [
             0.6666666666666666,
             "#ed7953"
            ],
            [
             0.7777777777777778,
             "#fb9f3a"
            ],
            [
             0.8888888888888888,
             "#fdca26"
            ],
            [
             1,
             "#f0f921"
            ]
           ]
          },
          "colorway": [
           "#636efa",
           "#EF553B",
           "#00cc96",
           "#ab63fa",
           "#FFA15A",
           "#19d3f3",
           "#FF6692",
           "#B6E880",
           "#FF97FF",
           "#FECB52"
          ],
          "font": {
           "color": "#2a3f5f"
          },
          "geo": {
           "bgcolor": "white",
           "lakecolor": "white",
           "landcolor": "#E5ECF6",
           "showlakes": true,
           "showland": true,
           "subunitcolor": "white"
          },
          "hoverlabel": {
           "align": "left"
          },
          "hovermode": "closest",
          "mapbox": {
           "style": "light"
          },
          "paper_bgcolor": "white",
          "plot_bgcolor": "#E5ECF6",
          "polar": {
           "angularaxis": {
            "gridcolor": "white",
            "linecolor": "white",
            "ticks": ""
           },
           "bgcolor": "#E5ECF6",
           "radialaxis": {
            "gridcolor": "white",
            "linecolor": "white",
            "ticks": ""
           }
          },
          "scene": {
           "xaxis": {
            "backgroundcolor": "#E5ECF6",
            "gridcolor": "white",
            "gridwidth": 2,
            "linecolor": "white",
            "showbackground": true,
            "ticks": "",
            "zerolinecolor": "white"
           },
           "yaxis": {
            "backgroundcolor": "#E5ECF6",
            "gridcolor": "white",
            "gridwidth": 2,
            "linecolor": "white",
            "showbackground": true,
            "ticks": "",
            "zerolinecolor": "white"
           },
           "zaxis": {
            "backgroundcolor": "#E5ECF6",
            "gridcolor": "white",
            "gridwidth": 2,
            "linecolor": "white",
            "showbackground": true,
            "ticks": "",
            "zerolinecolor": "white"
           }
          },
          "shapedefaults": {
           "line": {
            "color": "#2a3f5f"
           }
          },
          "ternary": {
           "aaxis": {
            "gridcolor": "white",
            "linecolor": "white",
            "ticks": ""
           },
           "baxis": {
            "gridcolor": "white",
            "linecolor": "white",
            "ticks": ""
           },
           "bgcolor": "#E5ECF6",
           "caxis": {
            "gridcolor": "white",
            "linecolor": "white",
            "ticks": ""
           }
          },
          "title": {
           "x": 0.05
          },
          "xaxis": {
           "automargin": true,
           "gridcolor": "white",
           "linecolor": "white",
           "ticks": "",
           "title": {
            "standoff": 15
           },
           "zerolinecolor": "white",
           "zerolinewidth": 2
          },
          "yaxis": {
           "automargin": true,
           "gridcolor": "white",
           "linecolor": "white",
           "ticks": "",
           "title": {
            "standoff": 15
           },
           "zerolinecolor": "white",
           "zerolinewidth": 2
          }
         }
        },
        "ternary": {
         "aaxis": {
          "title": {
           "text": "R"
          }
         },
         "baxis": {
          "title": {
           "text": "G"
          }
         },
         "caxis": {
          "title": {
           "text": "B"
          }
         },
         "domain": {
          "x": [
           0,
           1
          ],
          "y": [
           0,
           1
          ]
         }
        }
       }
      }
     },
     "metadata": {},
     "output_type": "display_data"
    }
   ],
   "source": [
    "df4plot = pop_den_1d_df[(pop_den_1d_df[\"Rep\"] == \"rep3\") & ((pop_den_1d_df[\"Radius\"] == 0) | (pop_den_1d_df[\"Radius\"] == 750) | (pop_den_1d_df[\"Radius\"] == 1500) | (pop_den_1d_df[\"Radius\"] == 2250) | (pop_den_1d_df[\"Radius\"] == 3000))]\n",
    "fig = px.scatter_ternary(df4plot, a='R', b='G', c='B',\n",
    "    size=\"Time\", color=\"Carbon\", symbol=\"Radius\")\n",
    "fig.write_image(\"results/1Drep3.pdf\")\n",
    "fig.show()"
   ]
  },
  {
   "cell_type": "code",
   "execution_count": 32,
   "metadata": {},
   "outputs": [
    {
     "data": {
      "application/vnd.plotly.v1+json": {
       "config": {
        "plotlyServerURL": "https://plot.ly"
       },
       "data": [
        {
         "a": [
          0.45097787050003335
         ],
         "b": [
          0.06774122869690301
         ],
         "c": [
          0.4812809008030636
         ],
         "hovertemplate": "Radius=0<br>Time=0<br>R=%{a}<br>G=%{b}<br>B=%{c}<extra></extra>",
         "legendgroup": "0",
         "line": {
          "color": "#636efa",
          "dash": "solid"
         },
         "marker": {
          "symbol": "circle"
         },
         "mode": "lines",
         "name": "0",
         "showlegend": true,
         "subplot": "ternary",
         "type": "scatterternary"
        },
        {
         "a": [
          0.4629357201811518
         ],
         "b": [
          0.028355221799800715
         ],
         "c": [
          0.5087090580190474
         ],
         "hovertemplate": "Radius=0<br>Time=11<br>R=%{a}<br>G=%{b}<br>B=%{c}<extra></extra>",
         "legendgroup": "0",
         "line": {
          "color": "#636efa",
          "dash": "solid"
         },
         "marker": {
          "symbol": "circle"
         },
         "mode": "lines",
         "name": "0",
         "showlegend": false,
         "subplot": "ternary",
         "type": "scatterternary"
        },
        {
         "a": [
          0.4622152417372303
         ],
         "b": [
          0.016326140398798143
         ],
         "c": [
          0.5214586178639716
         ],
         "hovertemplate": "Radius=0<br>Time=22<br>R=%{a}<br>G=%{b}<br>B=%{c}<extra></extra>",
         "legendgroup": "0",
         "line": {
          "color": "#636efa",
          "dash": "solid"
         },
         "marker": {
          "symbol": "circle"
         },
         "mode": "lines",
         "name": "0",
         "showlegend": false,
         "subplot": "ternary",
         "type": "scatterternary"
        },
        {
         "a": [
          0.2549963873659157
         ],
         "b": [
          0.04363277329331646
         ],
         "c": [
          0.7013708393407678
         ],
         "hovertemplate": "Radius=0<br>Time=37<br>R=%{a}<br>G=%{b}<br>B=%{c}<extra></extra>",
         "legendgroup": "0",
         "line": {
          "color": "#636efa",
          "dash": "solid"
         },
         "marker": {
          "symbol": "circle"
         },
         "mode": "lines",
         "name": "0",
         "showlegend": false,
         "subplot": "ternary",
         "type": "scatterternary"
        },
        {
         "a": [
          0.26613971719658563
         ],
         "b": [
          0.275184243346993
         ],
         "c": [
          0.4586760394564214
         ],
         "hovertemplate": "Radius=0<br>Time=66<br>R=%{a}<br>G=%{b}<br>B=%{c}<extra></extra>",
         "legendgroup": "0",
         "line": {
          "color": "#636efa",
          "dash": "solid"
         },
         "marker": {
          "symbol": "circle"
         },
         "mode": "lines",
         "name": "0",
         "showlegend": false,
         "subplot": "ternary",
         "type": "scatterternary"
        },
        {
         "a": [
          0.5454545454545454
         ],
         "b": [
          0.2727272727272727
         ],
         "c": [
          0.18181818181818182
         ],
         "hovertemplate": "Radius=0<br>Time=90<br>R=%{a}<br>G=%{b}<br>B=%{c}<extra></extra>",
         "legendgroup": "0",
         "line": {
          "color": "#636efa",
          "dash": "solid"
         },
         "marker": {
          "symbol": "circle"
         },
         "mode": "lines",
         "name": "0",
         "showlegend": false,
         "subplot": "ternary",
         "type": "scatterternary"
        },
        {
         "a": [
          0.507129319325727
         ],
         "b": [
          0.07548543384669452
         ],
         "c": [
          0.41738524682757844
         ],
         "hovertemplate": "Radius=300<br>Time=0<br>R=%{a}<br>G=%{b}<br>B=%{c}<extra></extra>",
         "legendgroup": "300",
         "line": {
          "color": "#EF553B",
          "dash": "solid"
         },
         "marker": {
          "symbol": "circle"
         },
         "mode": "lines",
         "name": "300",
         "showlegend": true,
         "subplot": "ternary",
         "type": "scatterternary"
        },
        {
         "a": [
          0.5080546101287202
         ],
         "b": [
          0.021204928730455257
         ],
         "c": [
          0.4707404611408245
         ],
         "hovertemplate": "Radius=300<br>Time=11<br>R=%{a}<br>G=%{b}<br>B=%{c}<extra></extra>",
         "legendgroup": "300",
         "line": {
          "color": "#EF553B",
          "dash": "solid"
         },
         "marker": {
          "symbol": "circle"
         },
         "mode": "lines",
         "name": "300",
         "showlegend": false,
         "subplot": "ternary",
         "type": "scatterternary"
        },
        {
         "a": [
          0.5185561065621036
         ],
         "b": [
          0.017797255218544573
         ],
         "c": [
          0.46364663821935187
         ],
         "hovertemplate": "Radius=300<br>Time=22<br>R=%{a}<br>G=%{b}<br>B=%{c}<extra></extra>",
         "legendgroup": "300",
         "line": {
          "color": "#EF553B",
          "dash": "solid"
         },
         "marker": {
          "symbol": "circle"
         },
         "mode": "lines",
         "name": "300",
         "showlegend": false,
         "subplot": "ternary",
         "type": "scatterternary"
        },
        {
         "a": [
          0.3748770491803279
         ],
         "b": [
          0.05504610655737705
         ],
         "c": [
          0.5700768442622951
         ],
         "hovertemplate": "Radius=300<br>Time=37<br>R=%{a}<br>G=%{b}<br>B=%{c}<extra></extra>",
         "legendgroup": "300",
         "line": {
          "color": "#EF553B",
          "dash": "solid"
         },
         "marker": {
          "symbol": "circle"
         },
         "mode": "lines",
         "name": "300",
         "showlegend": false,
         "subplot": "ternary",
         "type": "scatterternary"
        },
        {
         "a": [
          0.2727638180180953
         ],
         "b": [
          0.3860093906779298
         ],
         "c": [
          0.341226791303975
         ],
         "hovertemplate": "Radius=300<br>Time=66<br>R=%{a}<br>G=%{b}<br>B=%{c}<extra></extra>",
         "legendgroup": "300",
         "line": {
          "color": "#EF553B",
          "dash": "solid"
         },
         "marker": {
          "symbol": "circle"
         },
         "mode": "lines",
         "name": "300",
         "showlegend": false,
         "subplot": "ternary",
         "type": "scatterternary"
        },
        {
         "a": [
          0.5714285714285714
         ],
         "b": [
          0.42857142857142855
         ],
         "c": [
          0
         ],
         "hovertemplate": "Radius=300<br>Time=90<br>R=%{a}<br>G=%{b}<br>B=%{c}<extra></extra>",
         "legendgroup": "300",
         "line": {
          "color": "#EF553B",
          "dash": "solid"
         },
         "marker": {
          "symbol": "circle"
         },
         "mode": "lines",
         "name": "300",
         "showlegend": false,
         "subplot": "ternary",
         "type": "scatterternary"
        },
        {
         "a": [
          0.5897853746765398
         ],
         "b": [
          0.08845571841730612
         ],
         "c": [
          0.32175890690615405
         ],
         "hovertemplate": "Radius=600<br>Time=0<br>R=%{a}<br>G=%{b}<br>B=%{c}<extra></extra>",
         "legendgroup": "600",
         "line": {
          "color": "#00cc96",
          "dash": "solid"
         },
         "marker": {
          "symbol": "circle"
         },
         "mode": "lines",
         "name": "600",
         "showlegend": true,
         "subplot": "ternary",
         "type": "scatterternary"
        },
        {
         "a": [
          0.6176641304210673
         ],
         "b": [
          0.016472978258949413
         ],
         "c": [
          0.36586289131998334
         ],
         "hovertemplate": "Radius=600<br>Time=11<br>R=%{a}<br>G=%{b}<br>B=%{c}<extra></extra>",
         "legendgroup": "600",
         "line": {
          "color": "#00cc96",
          "dash": "solid"
         },
         "marker": {
          "symbol": "circle"
         },
         "mode": "lines",
         "name": "600",
         "showlegend": false,
         "subplot": "ternary",
         "type": "scatterternary"
        },
        {
         "a": [
          0.6282343463466858
         ],
         "b": [
          0.01608030613002046
         ],
         "c": [
          0.35568534752329367
         ],
         "hovertemplate": "Radius=600<br>Time=22<br>R=%{a}<br>G=%{b}<br>B=%{c}<extra></extra>",
         "legendgroup": "600",
         "line": {
          "color": "#00cc96",
          "dash": "solid"
         },
         "marker": {
          "symbol": "circle"
         },
         "mode": "lines",
         "name": "600",
         "showlegend": false,
         "subplot": "ternary",
         "type": "scatterternary"
        },
        {
         "a": [
          0.5378325337985173
         ],
         "b": [
          0.056813226023867104
         ],
         "c": [
          0.4053542401776157
         ],
         "hovertemplate": "Radius=600<br>Time=37<br>R=%{a}<br>G=%{b}<br>B=%{c}<extra></extra>",
         "legendgroup": "600",
         "line": {
          "color": "#00cc96",
          "dash": "solid"
         },
         "marker": {
          "symbol": "circle"
         },
         "mode": "lines",
         "name": "600",
         "showlegend": false,
         "subplot": "ternary",
         "type": "scatterternary"
        },
        {
         "a": [
          0.31981149947901866
         ],
         "b": [
          0.45608364118594297
         ],
         "c": [
          0.22410485933503838
         ],
         "hovertemplate": "Radius=600<br>Time=66<br>R=%{a}<br>G=%{b}<br>B=%{c}<extra></extra>",
         "legendgroup": "600",
         "line": {
          "color": "#00cc96",
          "dash": "solid"
         },
         "marker": {
          "symbol": "circle"
         },
         "mode": "lines",
         "name": "600",
         "showlegend": false,
         "subplot": "ternary",
         "type": "scatterternary"
        },
        {
         "a": [
          0.5714285714285714
         ],
         "b": [
          0.42857142857142855
         ],
         "c": [
          0
         ],
         "hovertemplate": "Radius=600<br>Time=90<br>R=%{a}<br>G=%{b}<br>B=%{c}<extra></extra>",
         "legendgroup": "600",
         "line": {
          "color": "#00cc96",
          "dash": "solid"
         },
         "marker": {
          "symbol": "circle"
         },
         "mode": "lines",
         "name": "600",
         "showlegend": false,
         "subplot": "ternary",
         "type": "scatterternary"
        },
        {
         "a": [
          0.5915154039264684
         ],
         "b": [
          0.10164393387244183
         ],
         "c": [
          0.3068406622010898
         ],
         "hovertemplate": "Radius=900<br>Time=0<br>R=%{a}<br>G=%{b}<br>B=%{c}<extra></extra>",
         "legendgroup": "900",
         "line": {
          "color": "#ab63fa",
          "dash": "solid"
         },
         "marker": {
          "symbol": "circle"
         },
         "mode": "lines",
         "name": "900",
         "showlegend": true,
         "subplot": "ternary",
         "type": "scatterternary"
        },
        {
         "a": [
          0.7290088328736515
         ],
         "b": [
          0.012556878353058921
         ],
         "c": [
          0.25843428877328956
         ],
         "hovertemplate": "Radius=900<br>Time=11<br>R=%{a}<br>G=%{b}<br>B=%{c}<extra></extra>",
         "legendgroup": "900",
         "line": {
          "color": "#ab63fa",
          "dash": "solid"
         },
         "marker": {
          "symbol": "circle"
         },
         "mode": "lines",
         "name": "900",
         "showlegend": false,
         "subplot": "ternary",
         "type": "scatterternary"
        },
        {
         "a": [
          0.7172542483423312
         ],
         "b": [
          0.010634443276930323
         ],
         "c": [
          0.27211130838073844
         ],
         "hovertemplate": "Radius=900<br>Time=22<br>R=%{a}<br>G=%{b}<br>B=%{c}<extra></extra>",
         "legendgroup": "900",
         "line": {
          "color": "#ab63fa",
          "dash": "solid"
         },
         "marker": {
          "symbol": "circle"
         },
         "mode": "lines",
         "name": "900",
         "showlegend": false,
         "subplot": "ternary",
         "type": "scatterternary"
        },
        {
         "a": [
          0.6213055069804776
         ],
         "b": [
          0.0421838718000172
         ],
         "c": [
          0.3365106212195052
         ],
         "hovertemplate": "Radius=900<br>Time=37<br>R=%{a}<br>G=%{b}<br>B=%{c}<extra></extra>",
         "legendgroup": "900",
         "line": {
          "color": "#ab63fa",
          "dash": "solid"
         },
         "marker": {
          "symbol": "circle"
         },
         "mode": "lines",
         "name": "900",
         "showlegend": false,
         "subplot": "ternary",
         "type": "scatterternary"
        },
        {
         "a": [
          0.38502830016432354
         ],
         "b": [
          0.38475442760635387
         ],
         "c": [
          0.23021727222932262
         ],
         "hovertemplate": "Radius=900<br>Time=66<br>R=%{a}<br>G=%{b}<br>B=%{c}<extra></extra>",
         "legendgroup": "900",
         "line": {
          "color": "#ab63fa",
          "dash": "solid"
         },
         "marker": {
          "symbol": "circle"
         },
         "mode": "lines",
         "name": "900",
         "showlegend": false,
         "subplot": "ternary",
         "type": "scatterternary"
        },
        {
         "a": [
          0.5714285714285714
         ],
         "b": [
          0.42857142857142855
         ],
         "c": [
          0
         ],
         "hovertemplate": "Radius=900<br>Time=90<br>R=%{a}<br>G=%{b}<br>B=%{c}<extra></extra>",
         "legendgroup": "900",
         "line": {
          "color": "#ab63fa",
          "dash": "solid"
         },
         "marker": {
          "symbol": "circle"
         },
         "mode": "lines",
         "name": "900",
         "showlegend": false,
         "subplot": "ternary",
         "type": "scatterternary"
        },
        {
         "a": [
          0.5604628192465076
         ],
         "b": [
          0.10902591599642537
         ],
         "c": [
          0.33051126475706694
         ],
         "hovertemplate": "Radius=1200<br>Time=0<br>R=%{a}<br>G=%{b}<br>B=%{c}<extra></extra>",
         "legendgroup": "1200",
         "line": {
          "color": "#FFA15A",
          "dash": "solid"
         },
         "marker": {
          "symbol": "circle"
         },
         "mode": "lines",
         "name": "1200",
         "showlegend": true,
         "subplot": "ternary",
         "type": "scatterternary"
        },
        {
         "a": [
          0.7159929240647317
         ],
         "b": [
          0.022996789621961607
         ],
         "c": [
          0.2610102863133067
         ],
         "hovertemplate": "Radius=1200<br>Time=11<br>R=%{a}<br>G=%{b}<br>B=%{c}<extra></extra>",
         "legendgroup": "1200",
         "line": {
          "color": "#FFA15A",
          "dash": "solid"
         },
         "marker": {
          "symbol": "circle"
         },
         "mode": "lines",
         "name": "1200",
         "showlegend": false,
         "subplot": "ternary",
         "type": "scatterternary"
        },
        {
         "a": [
          0.7180599446483601
         ],
         "b": [
          0.007478359864172572
         ],
         "c": [
          0.27446169548746735
         ],
         "hovertemplate": "Radius=1200<br>Time=22<br>R=%{a}<br>G=%{b}<br>B=%{c}<extra></extra>",
         "legendgroup": "1200",
         "line": {
          "color": "#FFA15A",
          "dash": "solid"
         },
         "marker": {
          "symbol": "circle"
         },
         "mode": "lines",
         "name": "1200",
         "showlegend": false,
         "subplot": "ternary",
         "type": "scatterternary"
        },
        {
         "a": [
          0.6173052740026969
         ],
         "b": [
          0.03871036165022802
         ],
         "c": [
          0.34398436434707513
         ],
         "hovertemplate": "Radius=1200<br>Time=37<br>R=%{a}<br>G=%{b}<br>B=%{c}<extra></extra>",
         "legendgroup": "1200",
         "line": {
          "color": "#FFA15A",
          "dash": "solid"
         },
         "marker": {
          "symbol": "circle"
         },
         "mode": "lines",
         "name": "1200",
         "showlegend": false,
         "subplot": "ternary",
         "type": "scatterternary"
        },
        {
         "a": [
          0.4054117903612706
         ],
         "b": [
          0.36359671439994184
         ],
         "c": [
          0.23099149523878754
         ],
         "hovertemplate": "Radius=1200<br>Time=66<br>R=%{a}<br>G=%{b}<br>B=%{c}<extra></extra>",
         "legendgroup": "1200",
         "line": {
          "color": "#FFA15A",
          "dash": "solid"
         },
         "marker": {
          "symbol": "circle"
         },
         "mode": "lines",
         "name": "1200",
         "showlegend": false,
         "subplot": "ternary",
         "type": "scatterternary"
        },
        {
         "a": [
          0.8571428571428571
         ],
         "b": [
          0.14285714285714285
         ],
         "c": [
          0
         ],
         "hovertemplate": "Radius=1200<br>Time=90<br>R=%{a}<br>G=%{b}<br>B=%{c}<extra></extra>",
         "legendgroup": "1200",
         "line": {
          "color": "#FFA15A",
          "dash": "solid"
         },
         "marker": {
          "symbol": "circle"
         },
         "mode": "lines",
         "name": "1200",
         "showlegend": false,
         "subplot": "ternary",
         "type": "scatterternary"
        },
        {
         "a": [
          0.6227388249364628
         ],
         "b": [
          0.11126476304380326
         ],
         "c": [
          0.2659964120197339
         ],
         "hovertemplate": "Radius=1500<br>Time=0<br>R=%{a}<br>G=%{b}<br>B=%{c}<extra></extra>",
         "legendgroup": "1500",
         "line": {
          "color": "#19d3f3",
          "dash": "solid"
         },
         "marker": {
          "symbol": "circle"
         },
         "mode": "lines",
         "name": "1500",
         "showlegend": true,
         "subplot": "ternary",
         "type": "scatterternary"
        },
        {
         "a": [
          0.7809158251065819
         ],
         "b": [
          0.019545911646813876
         ],
         "c": [
          0.19953826324660426
         ],
         "hovertemplate": "Radius=1500<br>Time=11<br>R=%{a}<br>G=%{b}<br>B=%{c}<extra></extra>",
         "legendgroup": "1500",
         "line": {
          "color": "#19d3f3",
          "dash": "solid"
         },
         "marker": {
          "symbol": "circle"
         },
         "mode": "lines",
         "name": "1500",
         "showlegend": false,
         "subplot": "ternary",
         "type": "scatterternary"
        },
        {
         "a": [
          0.8280156329351498
         ],
         "b": [
          0.0059617125571330785
         ],
         "c": [
          0.1660226545077171
         ],
         "hovertemplate": "Radius=1500<br>Time=22<br>R=%{a}<br>G=%{b}<br>B=%{c}<extra></extra>",
         "legendgroup": "1500",
         "line": {
          "color": "#19d3f3",
          "dash": "solid"
         },
         "marker": {
          "symbol": "circle"
         },
         "mode": "lines",
         "name": "1500",
         "showlegend": false,
         "subplot": "ternary",
         "type": "scatterternary"
        },
        {
         "a": [
          0.7112492445825779
         ],
         "b": [
          0.03810757144090477
         ],
         "c": [
          0.2506431839765173
         ],
         "hovertemplate": "Radius=1500<br>Time=37<br>R=%{a}<br>G=%{b}<br>B=%{c}<extra></extra>",
         "legendgroup": "1500",
         "line": {
          "color": "#19d3f3",
          "dash": "solid"
         },
         "marker": {
          "symbol": "circle"
         },
         "mode": "lines",
         "name": "1500",
         "showlegend": false,
         "subplot": "ternary",
         "type": "scatterternary"
        },
        {
         "a": [
          0.6490947368421053
         ],
         "b": [
          0.25569924812030076
         ],
         "c": [
          0.09520601503759399
         ],
         "hovertemplate": "Radius=1500<br>Time=66<br>R=%{a}<br>G=%{b}<br>B=%{c}<extra></extra>",
         "legendgroup": "1500",
         "line": {
          "color": "#19d3f3",
          "dash": "solid"
         },
         "marker": {
          "symbol": "circle"
         },
         "mode": "lines",
         "name": "1500",
         "showlegend": false,
         "subplot": "ternary",
         "type": "scatterternary"
        },
        {
         "a": [
          0.8148148148148148
         ],
         "b": [
          0.18518518518518517
         ],
         "c": [
          0
         ],
         "hovertemplate": "Radius=1500<br>Time=90<br>R=%{a}<br>G=%{b}<br>B=%{c}<extra></extra>",
         "legendgroup": "1500",
         "line": {
          "color": "#19d3f3",
          "dash": "solid"
         },
         "marker": {
          "symbol": "circle"
         },
         "mode": "lines",
         "name": "1500",
         "showlegend": false,
         "subplot": "ternary",
         "type": "scatterternary"
        },
        {
         "a": [
          0.6595165559606453
         ],
         "b": [
          0.13329670878489736
         ],
         "c": [
          0.20718673525445738
         ],
         "hovertemplate": "Radius=1800<br>Time=0<br>R=%{a}<br>G=%{b}<br>B=%{c}<extra></extra>",
         "legendgroup": "1800",
         "line": {
          "color": "#FF6692",
          "dash": "solid"
         },
         "marker": {
          "symbol": "circle"
         },
         "mode": "lines",
         "name": "1800",
         "showlegend": true,
         "subplot": "ternary",
         "type": "scatterternary"
        },
        {
         "a": [
          0.8338799554211113
         ],
         "b": [
          0.03110969590829486
         ],
         "c": [
          0.13501034867059386
         ],
         "hovertemplate": "Radius=1800<br>Time=11<br>R=%{a}<br>G=%{b}<br>B=%{c}<extra></extra>",
         "legendgroup": "1800",
         "line": {
          "color": "#FF6692",
          "dash": "solid"
         },
         "marker": {
          "symbol": "circle"
         },
         "mode": "lines",
         "name": "1800",
         "showlegend": false,
         "subplot": "ternary",
         "type": "scatterternary"
        },
        {
         "a": [
          0.913984431071606
         ],
         "b": [
          0.00750841936730525
         ],
         "c": [
          0.07850714956108872
         ],
         "hovertemplate": "Radius=1800<br>Time=22<br>R=%{a}<br>G=%{b}<br>B=%{c}<extra></extra>",
         "legendgroup": "1800",
         "line": {
          "color": "#FF6692",
          "dash": "solid"
         },
         "marker": {
          "symbol": "circle"
         },
         "mode": "lines",
         "name": "1800",
         "showlegend": false,
         "subplot": "ternary",
         "type": "scatterternary"
        },
        {
         "a": [
          0.857856230402973
         ],
         "b": [
          0.02525839043084427
         ],
         "c": [
          0.11688537916618279
         ],
         "hovertemplate": "Radius=1800<br>Time=37<br>R=%{a}<br>G=%{b}<br>B=%{c}<extra></extra>",
         "legendgroup": "1800",
         "line": {
          "color": "#FF6692",
          "dash": "solid"
         },
         "marker": {
          "symbol": "circle"
         },
         "mode": "lines",
         "name": "1800",
         "showlegend": false,
         "subplot": "ternary",
         "type": "scatterternary"
        },
        {
         "a": [
          0.7842378591499566
         ],
         "b": [
          0.17571682874082356
         ],
         "c": [
          0.040045312109219834
         ],
         "hovertemplate": "Radius=1800<br>Time=66<br>R=%{a}<br>G=%{b}<br>B=%{c}<extra></extra>",
         "legendgroup": "1800",
         "line": {
          "color": "#FF6692",
          "dash": "solid"
         },
         "marker": {
          "symbol": "circle"
         },
         "mode": "lines",
         "name": "1800",
         "showlegend": false,
         "subplot": "ternary",
         "type": "scatterternary"
        },
        {
         "a": [
          0.84
         ],
         "b": [
          0.16
         ],
         "c": [
          0
         ],
         "hovertemplate": "Radius=1800<br>Time=90<br>R=%{a}<br>G=%{b}<br>B=%{c}<extra></extra>",
         "legendgroup": "1800",
         "line": {
          "color": "#FF6692",
          "dash": "solid"
         },
         "marker": {
          "symbol": "circle"
         },
         "mode": "lines",
         "name": "1800",
         "showlegend": false,
         "subplot": "ternary",
         "type": "scatterternary"
        },
        {
         "a": [
          0.5914239482200647
         ],
         "b": [
          0.19007165973185391
         ],
         "c": [
          0.21850439204808136
         ],
         "hovertemplate": "Radius=2100<br>Time=0<br>R=%{a}<br>G=%{b}<br>B=%{c}<extra></extra>",
         "legendgroup": "2100",
         "line": {
          "color": "#B6E880",
          "dash": "solid"
         },
         "marker": {
          "symbol": "circle"
         },
         "mode": "lines",
         "name": "2100",
         "showlegend": true,
         "subplot": "ternary",
         "type": "scatterternary"
        },
        {
         "a": [
          0.7464155788572652
         ],
         "b": [
          0.0921249732505885
         ],
         "c": [
          0.16145944789214636
         ],
         "hovertemplate": "Radius=2100<br>Time=11<br>R=%{a}<br>G=%{b}<br>B=%{c}<extra></extra>",
         "legendgroup": "2100",
         "line": {
          "color": "#B6E880",
          "dash": "solid"
         },
         "marker": {
          "symbol": "circle"
         },
         "mode": "lines",
         "name": "2100",
         "showlegend": false,
         "subplot": "ternary",
         "type": "scatterternary"
        },
        {
         "a": [
          0.9476744186046512
         ],
         "b": [
          0.0030146425495262705
         ],
         "c": [
          0.04931093884582256
         ],
         "hovertemplate": "Radius=2100<br>Time=22<br>R=%{a}<br>G=%{b}<br>B=%{c}<extra></extra>",
         "legendgroup": "2100",
         "line": {
          "color": "#B6E880",
          "dash": "solid"
         },
         "marker": {
          "symbol": "circle"
         },
         "mode": "lines",
         "name": "2100",
         "showlegend": false,
         "subplot": "ternary",
         "type": "scatterternary"
        },
        {
         "a": [
          0.8757861635220126
         ],
         "b": [
          0.011268343815513627
         ],
         "c": [
          0.11294549266247379
         ],
         "hovertemplate": "Radius=2100<br>Time=37<br>R=%{a}<br>G=%{b}<br>B=%{c}<extra></extra>",
         "legendgroup": "2100",
         "line": {
          "color": "#B6E880",
          "dash": "solid"
         },
         "marker": {
          "symbol": "circle"
         },
         "mode": "lines",
         "name": "2100",
         "showlegend": false,
         "subplot": "ternary",
         "type": "scatterternary"
        },
        {
         "a": [
          0.8167768660877878
         ],
         "b": [
          0.14748665657611726
         ],
         "c": [
          0.03573647733609496
         ],
         "hovertemplate": "Radius=2100<br>Time=66<br>R=%{a}<br>G=%{b}<br>B=%{c}<extra></extra>",
         "legendgroup": "2100",
         "line": {
          "color": "#B6E880",
          "dash": "solid"
         },
         "marker": {
          "symbol": "circle"
         },
         "mode": "lines",
         "name": "2100",
         "showlegend": false,
         "subplot": "ternary",
         "type": "scatterternary"
        },
        {
         "a": [
          0.8636363636363636
         ],
         "b": [
          0.13636363636363635
         ],
         "c": [
          0
         ],
         "hovertemplate": "Radius=2100<br>Time=90<br>R=%{a}<br>G=%{b}<br>B=%{c}<extra></extra>",
         "legendgroup": "2100",
         "line": {
          "color": "#B6E880",
          "dash": "solid"
         },
         "marker": {
          "symbol": "circle"
         },
         "mode": "lines",
         "name": "2100",
         "showlegend": false,
         "subplot": "ternary",
         "type": "scatterternary"
        },
        {
         "a": [
          0.6054790396628283
         ],
         "b": [
          0.22781666290358998
         ],
         "c": [
          0.1667042974335817
         ],
         "hovertemplate": "Radius=2400<br>Time=0<br>R=%{a}<br>G=%{b}<br>B=%{c}<extra></extra>",
         "legendgroup": "2400",
         "line": {
          "color": "#FF97FF",
          "dash": "solid"
         },
         "marker": {
          "symbol": "circle"
         },
         "mode": "lines",
         "name": "2400",
         "showlegend": true,
         "subplot": "ternary",
         "type": "scatterternary"
        },
        {
         "a": [
          0.7119441493398088
         ],
         "b": [
          0.11913795720139626
         ],
         "c": [
          0.16891789345879496
         ],
         "hovertemplate": "Radius=2400<br>Time=11<br>R=%{a}<br>G=%{b}<br>B=%{c}<extra></extra>",
         "legendgroup": "2400",
         "line": {
          "color": "#FF97FF",
          "dash": "solid"
         },
         "marker": {
          "symbol": "circle"
         },
         "mode": "lines",
         "name": "2400",
         "showlegend": false,
         "subplot": "ternary",
         "type": "scatterternary"
        },
        {
         "a": [
          0.9581926772266943
         ],
         "b": [
          0.0033757465593352376
         ],
         "c": [
          0.0384315762139704
         ],
         "hovertemplate": "Radius=2400<br>Time=22<br>R=%{a}<br>G=%{b}<br>B=%{c}<extra></extra>",
         "legendgroup": "2400",
         "line": {
          "color": "#FF97FF",
          "dash": "solid"
         },
         "marker": {
          "symbol": "circle"
         },
         "mode": "lines",
         "name": "2400",
         "showlegend": false,
         "subplot": "ternary",
         "type": "scatterternary"
        },
        {
         "a": [
          0.8592297476759628
         ],
         "b": [
          0.0006640106241699867
         ],
         "c": [
          0.14010624169986718
         ],
         "hovertemplate": "Radius=2400<br>Time=37<br>R=%{a}<br>G=%{b}<br>B=%{c}<extra></extra>",
         "legendgroup": "2400",
         "line": {
          "color": "#FF97FF",
          "dash": "solid"
         },
         "marker": {
          "symbol": "circle"
         },
         "mode": "lines",
         "name": "2400",
         "showlegend": false,
         "subplot": "ternary",
         "type": "scatterternary"
        },
        {
         "a": [
          0.8169511564324244
         ],
         "b": [
          0.14990024384837064
         ],
         "c": [
          0.033148599719204905
         ],
         "hovertemplate": "Radius=2400<br>Time=66<br>R=%{a}<br>G=%{b}<br>B=%{c}<extra></extra>",
         "legendgroup": "2400",
         "line": {
          "color": "#FF97FF",
          "dash": "solid"
         },
         "marker": {
          "symbol": "circle"
         },
         "mode": "lines",
         "name": "2400",
         "showlegend": false,
         "subplot": "ternary",
         "type": "scatterternary"
        },
        {
         "a": [
          0.8636363636363636
         ],
         "b": [
          0.13636363636363635
         ],
         "c": [
          0
         ],
         "hovertemplate": "Radius=2400<br>Time=90<br>R=%{a}<br>G=%{b}<br>B=%{c}<extra></extra>",
         "legendgroup": "2400",
         "line": {
          "color": "#FF97FF",
          "dash": "solid"
         },
         "marker": {
          "symbol": "circle"
         },
         "mode": "lines",
         "name": "2400",
         "showlegend": false,
         "subplot": "ternary",
         "type": "scatterternary"
        },
        {
         "a": [
          0.8336269821293733
         ],
         "b": [
          0.1304639650977431
         ],
         "c": [
          0.03590905277288363
         ],
         "hovertemplate": "Radius=2700<br>Time=0<br>R=%{a}<br>G=%{b}<br>B=%{c}<extra></extra>",
         "legendgroup": "2700",
         "line": {
          "color": "#FECB52",
          "dash": "solid"
         },
         "marker": {
          "symbol": "circle"
         },
         "mode": "lines",
         "name": "2700",
         "showlegend": true,
         "subplot": "ternary",
         "type": "scatterternary"
        },
        {
         "a": [
          0.8477064220183487
         ],
         "b": [
          0.003975535168195718
         ],
         "c": [
          0.14831804281345565
         ],
         "hovertemplate": "Radius=2700<br>Time=11<br>R=%{a}<br>G=%{b}<br>B=%{c}<extra></extra>",
         "legendgroup": "2700",
         "line": {
          "color": "#FECB52",
          "dash": "solid"
         },
         "marker": {
          "symbol": "circle"
         },
         "mode": "lines",
         "name": "2700",
         "showlegend": false,
         "subplot": "ternary",
         "type": "scatterternary"
        },
        {
         "a": [
          0.9114196323816973
         ],
         "b": [
          0.002933124755572937
         ],
         "c": [
          0.08564724286272976
         ],
         "hovertemplate": "Radius=2700<br>Time=22<br>R=%{a}<br>G=%{b}<br>B=%{c}<extra></extra>",
         "legendgroup": "2700",
         "line": {
          "color": "#FECB52",
          "dash": "solid"
         },
         "marker": {
          "symbol": "circle"
         },
         "mode": "lines",
         "name": "2700",
         "showlegend": false,
         "subplot": "ternary",
         "type": "scatterternary"
        },
        {
         "a": [
          0.27403727929966065
         ],
         "b": [
          0.0017705208282102986
         ],
         "c": [
          0.724192199872129
         ],
         "hovertemplate": "Radius=2700<br>Time=37<br>R=%{a}<br>G=%{b}<br>B=%{c}<extra></extra>",
         "legendgroup": "2700",
         "line": {
          "color": "#FECB52",
          "dash": "solid"
         },
         "marker": {
          "symbol": "circle"
         },
         "mode": "lines",
         "name": "2700",
         "showlegend": false,
         "subplot": "ternary",
         "type": "scatterternary"
        },
        {
         "a": [
          0.7551119616043458
         ],
         "b": [
          0.10943070109106622
         ],
         "c": [
          0.13545733730458803
         ],
         "hovertemplate": "Radius=2700<br>Time=66<br>R=%{a}<br>G=%{b}<br>B=%{c}<extra></extra>",
         "legendgroup": "2700",
         "line": {
          "color": "#FECB52",
          "dash": "solid"
         },
         "marker": {
          "symbol": "circle"
         },
         "mode": "lines",
         "name": "2700",
         "showlegend": false,
         "subplot": "ternary",
         "type": "scatterternary"
        },
        {
         "a": [
          0.029288702928870293
         ],
         "b": [
          0.016736401673640166
         ],
         "c": [
          0.9539748953974896
         ],
         "hovertemplate": "Radius=2700<br>Time=90<br>R=%{a}<br>G=%{b}<br>B=%{c}<extra></extra>",
         "legendgroup": "2700",
         "line": {
          "color": "#FECB52",
          "dash": "solid"
         },
         "marker": {
          "symbol": "circle"
         },
         "mode": "lines",
         "name": "2700",
         "showlegend": false,
         "subplot": "ternary",
         "type": "scatterternary"
        },
        {
         "a": [
          0.8241269227048467
         ],
         "b": [
          0.0503047305794718
         ],
         "c": [
          0.12556834671568154
         ],
         "hovertemplate": "Radius=3000<br>Time=0<br>R=%{a}<br>G=%{b}<br>B=%{c}<extra></extra>",
         "legendgroup": "3000",
         "line": {
          "color": "#636efa",
          "dash": "solid"
         },
         "marker": {
          "symbol": "circle"
         },
         "mode": "lines",
         "name": "3000",
         "showlegend": true,
         "subplot": "ternary",
         "type": "scatterternary"
        },
        {
         "a": [
          0.9498186215235792
         ],
         "b": [
          0.002720677146311971
         ],
         "c": [
          0.04746070133010883
         ],
         "hovertemplate": "Radius=3000<br>Time=11<br>R=%{a}<br>G=%{b}<br>B=%{c}<extra></extra>",
         "legendgroup": "3000",
         "line": {
          "color": "#636efa",
          "dash": "solid"
         },
         "marker": {
          "symbol": "circle"
         },
         "mode": "lines",
         "name": "3000",
         "showlegend": false,
         "subplot": "ternary",
         "type": "scatterternary"
        },
        {
         "a": [
          0.6942659416707859
         ],
         "b": [
          0.0034602076124567475
         ],
         "c": [
          0.3022738507167573
         ],
         "hovertemplate": "Radius=3000<br>Time=22<br>R=%{a}<br>G=%{b}<br>B=%{c}<extra></extra>",
         "legendgroup": "3000",
         "line": {
          "color": "#636efa",
          "dash": "solid"
         },
         "marker": {
          "symbol": "circle"
         },
         "mode": "lines",
         "name": "3000",
         "showlegend": false,
         "subplot": "ternary",
         "type": "scatterternary"
        },
        {
         "a": [
          0.2667671073094868
         ],
         "b": [
          0.0021384136858475893
         ],
         "c": [
          0.7310944790046656
         ],
         "hovertemplate": "Radius=3000<br>Time=37<br>R=%{a}<br>G=%{b}<br>B=%{c}<extra></extra>",
         "legendgroup": "3000",
         "line": {
          "color": "#636efa",
          "dash": "solid"
         },
         "marker": {
          "symbol": "circle"
         },
         "mode": "lines",
         "name": "3000",
         "showlegend": false,
         "subplot": "ternary",
         "type": "scatterternary"
        },
        {
         "a": [
          0.7316759348203505
         ],
         "b": [
          0.09409452635475143
         ],
         "c": [
          0.174229538824898
         ],
         "hovertemplate": "Radius=3000<br>Time=66<br>R=%{a}<br>G=%{b}<br>B=%{c}<extra></extra>",
         "legendgroup": "3000",
         "line": {
          "color": "#636efa",
          "dash": "solid"
         },
         "marker": {
          "symbol": "circle"
         },
         "mode": "lines",
         "name": "3000",
         "showlegend": false,
         "subplot": "ternary",
         "type": "scatterternary"
        },
        {
         "a": [
          0.012755102040816327
         ],
         "b": [
          0.02295918367346939
         ],
         "c": [
          0.9642857142857143
         ],
         "hovertemplate": "Radius=3000<br>Time=90<br>R=%{a}<br>G=%{b}<br>B=%{c}<extra></extra>",
         "legendgroup": "3000",
         "line": {
          "color": "#636efa",
          "dash": "solid"
         },
         "marker": {
          "symbol": "circle"
         },
         "mode": "lines",
         "name": "3000",
         "showlegend": false,
         "subplot": "ternary",
         "type": "scatterternary"
        },
        {
         "a": [
          0.823921028466483
         ],
         "b": [
          0.04465105601469238
         ],
         "c": [
          0.1314279155188246
         ],
         "hovertemplate": "Radius=3300<br>Time=0<br>R=%{a}<br>G=%{b}<br>B=%{c}<extra></extra>",
         "legendgroup": "3300",
         "line": {
          "color": "#EF553B",
          "dash": "solid"
         },
         "marker": {
          "symbol": "circle"
         },
         "mode": "lines",
         "name": "3300",
         "showlegend": true,
         "subplot": "ternary",
         "type": "scatterternary"
        },
        {
         "a": [
          0.9575177009579342
         ],
         "b": [
          0.003331945022907122
         ],
         "c": [
          0.03915035401915869
         ],
         "hovertemplate": "Radius=3300<br>Time=11<br>R=%{a}<br>G=%{b}<br>B=%{c}<extra></extra>",
         "legendgroup": "3300",
         "line": {
          "color": "#EF553B",
          "dash": "solid"
         },
         "marker": {
          "symbol": "circle"
         },
         "mode": "lines",
         "name": "3300",
         "showlegend": false,
         "subplot": "ternary",
         "type": "scatterternary"
        },
        {
         "a": [
          0.6360084159903817
         ],
         "b": [
          0.0036068530207394047
         ],
         "c": [
          0.36038473098887885
         ],
         "hovertemplate": "Radius=3300<br>Time=22<br>R=%{a}<br>G=%{b}<br>B=%{c}<extra></extra>",
         "legendgroup": "3300",
         "line": {
          "color": "#EF553B",
          "dash": "solid"
         },
         "marker": {
          "symbol": "circle"
         },
         "mode": "lines",
         "name": "3300",
         "showlegend": false,
         "subplot": "ternary",
         "type": "scatterternary"
        },
        {
         "a": [
          0.23601125351672397
         ],
         "b": [
          0.0022402834219026778
         ],
         "c": [
          0.7617484630613733
         ],
         "hovertemplate": "Radius=3300<br>Time=37<br>R=%{a}<br>G=%{b}<br>B=%{c}<extra></extra>",
         "legendgroup": "3300",
         "line": {
          "color": "#EF553B",
          "dash": "solid"
         },
         "marker": {
          "symbol": "circle"
         },
         "mode": "lines",
         "name": "3300",
         "showlegend": false,
         "subplot": "ternary",
         "type": "scatterternary"
        },
        {
         "a": [
          0.7439268790620142
         ],
         "b": [
          0.0898559682343466
         ],
         "c": [
          0.16621715270363918
         ],
         "hovertemplate": "Radius=3300<br>Time=66<br>R=%{a}<br>G=%{b}<br>B=%{c}<extra></extra>",
         "legendgroup": "3300",
         "line": {
          "color": "#EF553B",
          "dash": "solid"
         },
         "marker": {
          "symbol": "circle"
         },
         "mode": "lines",
         "name": "3300",
         "showlegend": false,
         "subplot": "ternary",
         "type": "scatterternary"
        },
        {
         "a": [
          0.01015228426395939
         ],
         "b": [
          0.02030456852791878
         ],
         "c": [
          0.9695431472081218
         ],
         "hovertemplate": "Radius=3300<br>Time=90<br>R=%{a}<br>G=%{b}<br>B=%{c}<extra></extra>",
         "legendgroup": "3300",
         "line": {
          "color": "#EF553B",
          "dash": "solid"
         },
         "marker": {
          "symbol": "circle"
         },
         "mode": "lines",
         "name": "3300",
         "showlegend": false,
         "subplot": "ternary",
         "type": "scatterternary"
        }
       ],
       "layout": {
        "legend": {
         "title": {
          "text": "Radius"
         },
         "tracegroupgap": 0
        },
        "margin": {
         "t": 60
        },
        "template": {
         "data": {
          "bar": [
           {
            "error_x": {
             "color": "#2a3f5f"
            },
            "error_y": {
             "color": "#2a3f5f"
            },
            "marker": {
             "line": {
              "color": "#E5ECF6",
              "width": 0.5
             },
             "pattern": {
              "fillmode": "overlay",
              "size": 10,
              "solidity": 0.2
             }
            },
            "type": "bar"
           }
          ],
          "barpolar": [
           {
            "marker": {
             "line": {
              "color": "#E5ECF6",
              "width": 0.5
             },
             "pattern": {
              "fillmode": "overlay",
              "size": 10,
              "solidity": 0.2
             }
            },
            "type": "barpolar"
           }
          ],
          "carpet": [
           {
            "aaxis": {
             "endlinecolor": "#2a3f5f",
             "gridcolor": "white",
             "linecolor": "white",
             "minorgridcolor": "white",
             "startlinecolor": "#2a3f5f"
            },
            "baxis": {
             "endlinecolor": "#2a3f5f",
             "gridcolor": "white",
             "linecolor": "white",
             "minorgridcolor": "white",
             "startlinecolor": "#2a3f5f"
            },
            "type": "carpet"
           }
          ],
          "choropleth": [
           {
            "colorbar": {
             "outlinewidth": 0,
             "ticks": ""
            },
            "type": "choropleth"
           }
          ],
          "contour": [
           {
            "colorbar": {
             "outlinewidth": 0,
             "ticks": ""
            },
            "colorscale": [
             [
              0,
              "#0d0887"
             ],
             [
              0.1111111111111111,
              "#46039f"
             ],
             [
              0.2222222222222222,
              "#7201a8"
             ],
             [
              0.3333333333333333,
              "#9c179e"
             ],
             [
              0.4444444444444444,
              "#bd3786"
             ],
             [
              0.5555555555555556,
              "#d8576b"
             ],
             [
              0.6666666666666666,
              "#ed7953"
             ],
             [
              0.7777777777777778,
              "#fb9f3a"
             ],
             [
              0.8888888888888888,
              "#fdca26"
             ],
             [
              1,
              "#f0f921"
             ]
            ],
            "type": "contour"
           }
          ],
          "contourcarpet": [
           {
            "colorbar": {
             "outlinewidth": 0,
             "ticks": ""
            },
            "type": "contourcarpet"
           }
          ],
          "heatmap": [
           {
            "colorbar": {
             "outlinewidth": 0,
             "ticks": ""
            },
            "colorscale": [
             [
              0,
              "#0d0887"
             ],
             [
              0.1111111111111111,
              "#46039f"
             ],
             [
              0.2222222222222222,
              "#7201a8"
             ],
             [
              0.3333333333333333,
              "#9c179e"
             ],
             [
              0.4444444444444444,
              "#bd3786"
             ],
             [
              0.5555555555555556,
              "#d8576b"
             ],
             [
              0.6666666666666666,
              "#ed7953"
             ],
             [
              0.7777777777777778,
              "#fb9f3a"
             ],
             [
              0.8888888888888888,
              "#fdca26"
             ],
             [
              1,
              "#f0f921"
             ]
            ],
            "type": "heatmap"
           }
          ],
          "heatmapgl": [
           {
            "colorbar": {
             "outlinewidth": 0,
             "ticks": ""
            },
            "colorscale": [
             [
              0,
              "#0d0887"
             ],
             [
              0.1111111111111111,
              "#46039f"
             ],
             [
              0.2222222222222222,
              "#7201a8"
             ],
             [
              0.3333333333333333,
              "#9c179e"
             ],
             [
              0.4444444444444444,
              "#bd3786"
             ],
             [
              0.5555555555555556,
              "#d8576b"
             ],
             [
              0.6666666666666666,
              "#ed7953"
             ],
             [
              0.7777777777777778,
              "#fb9f3a"
             ],
             [
              0.8888888888888888,
              "#fdca26"
             ],
             [
              1,
              "#f0f921"
             ]
            ],
            "type": "heatmapgl"
           }
          ],
          "histogram": [
           {
            "marker": {
             "pattern": {
              "fillmode": "overlay",
              "size": 10,
              "solidity": 0.2
             }
            },
            "type": "histogram"
           }
          ],
          "histogram2d": [
           {
            "colorbar": {
             "outlinewidth": 0,
             "ticks": ""
            },
            "colorscale": [
             [
              0,
              "#0d0887"
             ],
             [
              0.1111111111111111,
              "#46039f"
             ],
             [
              0.2222222222222222,
              "#7201a8"
             ],
             [
              0.3333333333333333,
              "#9c179e"
             ],
             [
              0.4444444444444444,
              "#bd3786"
             ],
             [
              0.5555555555555556,
              "#d8576b"
             ],
             [
              0.6666666666666666,
              "#ed7953"
             ],
             [
              0.7777777777777778,
              "#fb9f3a"
             ],
             [
              0.8888888888888888,
              "#fdca26"
             ],
             [
              1,
              "#f0f921"
             ]
            ],
            "type": "histogram2d"
           }
          ],
          "histogram2dcontour": [
           {
            "colorbar": {
             "outlinewidth": 0,
             "ticks": ""
            },
            "colorscale": [
             [
              0,
              "#0d0887"
             ],
             [
              0.1111111111111111,
              "#46039f"
             ],
             [
              0.2222222222222222,
              "#7201a8"
             ],
             [
              0.3333333333333333,
              "#9c179e"
             ],
             [
              0.4444444444444444,
              "#bd3786"
             ],
             [
              0.5555555555555556,
              "#d8576b"
             ],
             [
              0.6666666666666666,
              "#ed7953"
             ],
             [
              0.7777777777777778,
              "#fb9f3a"
             ],
             [
              0.8888888888888888,
              "#fdca26"
             ],
             [
              1,
              "#f0f921"
             ]
            ],
            "type": "histogram2dcontour"
           }
          ],
          "mesh3d": [
           {
            "colorbar": {
             "outlinewidth": 0,
             "ticks": ""
            },
            "type": "mesh3d"
           }
          ],
          "parcoords": [
           {
            "line": {
             "colorbar": {
              "outlinewidth": 0,
              "ticks": ""
             }
            },
            "type": "parcoords"
           }
          ],
          "pie": [
           {
            "automargin": true,
            "type": "pie"
           }
          ],
          "scatter": [
           {
            "fillpattern": {
             "fillmode": "overlay",
             "size": 10,
             "solidity": 0.2
            },
            "type": "scatter"
           }
          ],
          "scatter3d": [
           {
            "line": {
             "colorbar": {
              "outlinewidth": 0,
              "ticks": ""
             }
            },
            "marker": {
             "colorbar": {
              "outlinewidth": 0,
              "ticks": ""
             }
            },
            "type": "scatter3d"
           }
          ],
          "scattercarpet": [
           {
            "marker": {
             "colorbar": {
              "outlinewidth": 0,
              "ticks": ""
             }
            },
            "type": "scattercarpet"
           }
          ],
          "scattergeo": [
           {
            "marker": {
             "colorbar": {
              "outlinewidth": 0,
              "ticks": ""
             }
            },
            "type": "scattergeo"
           }
          ],
          "scattergl": [
           {
            "marker": {
             "colorbar": {
              "outlinewidth": 0,
              "ticks": ""
             }
            },
            "type": "scattergl"
           }
          ],
          "scattermapbox": [
           {
            "marker": {
             "colorbar": {
              "outlinewidth": 0,
              "ticks": ""
             }
            },
            "type": "scattermapbox"
           }
          ],
          "scatterpolar": [
           {
            "marker": {
             "colorbar": {
              "outlinewidth": 0,
              "ticks": ""
             }
            },
            "type": "scatterpolar"
           }
          ],
          "scatterpolargl": [
           {
            "marker": {
             "colorbar": {
              "outlinewidth": 0,
              "ticks": ""
             }
            },
            "type": "scatterpolargl"
           }
          ],
          "scatterternary": [
           {
            "marker": {
             "colorbar": {
              "outlinewidth": 0,
              "ticks": ""
             }
            },
            "type": "scatterternary"
           }
          ],
          "surface": [
           {
            "colorbar": {
             "outlinewidth": 0,
             "ticks": ""
            },
            "colorscale": [
             [
              0,
              "#0d0887"
             ],
             [
              0.1111111111111111,
              "#46039f"
             ],
             [
              0.2222222222222222,
              "#7201a8"
             ],
             [
              0.3333333333333333,
              "#9c179e"
             ],
             [
              0.4444444444444444,
              "#bd3786"
             ],
             [
              0.5555555555555556,
              "#d8576b"
             ],
             [
              0.6666666666666666,
              "#ed7953"
             ],
             [
              0.7777777777777778,
              "#fb9f3a"
             ],
             [
              0.8888888888888888,
              "#fdca26"
             ],
             [
              1,
              "#f0f921"
             ]
            ],
            "type": "surface"
           }
          ],
          "table": [
           {
            "cells": {
             "fill": {
              "color": "#EBF0F8"
             },
             "line": {
              "color": "white"
             }
            },
            "header": {
             "fill": {
              "color": "#C8D4E3"
             },
             "line": {
              "color": "white"
             }
            },
            "type": "table"
           }
          ]
         },
         "layout": {
          "annotationdefaults": {
           "arrowcolor": "#2a3f5f",
           "arrowhead": 0,
           "arrowwidth": 1
          },
          "autotypenumbers": "strict",
          "coloraxis": {
           "colorbar": {
            "outlinewidth": 0,
            "ticks": ""
           }
          },
          "colorscale": {
           "diverging": [
            [
             0,
             "#8e0152"
            ],
            [
             0.1,
             "#c51b7d"
            ],
            [
             0.2,
             "#de77ae"
            ],
            [
             0.3,
             "#f1b6da"
            ],
            [
             0.4,
             "#fde0ef"
            ],
            [
             0.5,
             "#f7f7f7"
            ],
            [
             0.6,
             "#e6f5d0"
            ],
            [
             0.7,
             "#b8e186"
            ],
            [
             0.8,
             "#7fbc41"
            ],
            [
             0.9,
             "#4d9221"
            ],
            [
             1,
             "#276419"
            ]
           ],
           "sequential": [
            [
             0,
             "#0d0887"
            ],
            [
             0.1111111111111111,
             "#46039f"
            ],
            [
             0.2222222222222222,
             "#7201a8"
            ],
            [
             0.3333333333333333,
             "#9c179e"
            ],
            [
             0.4444444444444444,
             "#bd3786"
            ],
            [
             0.5555555555555556,
             "#d8576b"
            ],
            [
             0.6666666666666666,
             "#ed7953"
            ],
            [
             0.7777777777777778,
             "#fb9f3a"
            ],
            [
             0.8888888888888888,
             "#fdca26"
            ],
            [
             1,
             "#f0f921"
            ]
           ],
           "sequentialminus": [
            [
             0,
             "#0d0887"
            ],
            [
             0.1111111111111111,
             "#46039f"
            ],
            [
             0.2222222222222222,
             "#7201a8"
            ],
            [
             0.3333333333333333,
             "#9c179e"
            ],
            [
             0.4444444444444444,
             "#bd3786"
            ],
            [
             0.5555555555555556,
             "#d8576b"
            ],
            [
             0.6666666666666666,
             "#ed7953"
            ],
            [
             0.7777777777777778,
             "#fb9f3a"
            ],
            [
             0.8888888888888888,
             "#fdca26"
            ],
            [
             1,
             "#f0f921"
            ]
           ]
          },
          "colorway": [
           "#636efa",
           "#EF553B",
           "#00cc96",
           "#ab63fa",
           "#FFA15A",
           "#19d3f3",
           "#FF6692",
           "#B6E880",
           "#FF97FF",
           "#FECB52"
          ],
          "font": {
           "color": "#2a3f5f"
          },
          "geo": {
           "bgcolor": "white",
           "lakecolor": "white",
           "landcolor": "#E5ECF6",
           "showlakes": true,
           "showland": true,
           "subunitcolor": "white"
          },
          "hoverlabel": {
           "align": "left"
          },
          "hovermode": "closest",
          "mapbox": {
           "style": "light"
          },
          "paper_bgcolor": "white",
          "plot_bgcolor": "#E5ECF6",
          "polar": {
           "angularaxis": {
            "gridcolor": "white",
            "linecolor": "white",
            "ticks": ""
           },
           "bgcolor": "#E5ECF6",
           "radialaxis": {
            "gridcolor": "white",
            "linecolor": "white",
            "ticks": ""
           }
          },
          "scene": {
           "xaxis": {
            "backgroundcolor": "#E5ECF6",
            "gridcolor": "white",
            "gridwidth": 2,
            "linecolor": "white",
            "showbackground": true,
            "ticks": "",
            "zerolinecolor": "white"
           },
           "yaxis": {
            "backgroundcolor": "#E5ECF6",
            "gridcolor": "white",
            "gridwidth": 2,
            "linecolor": "white",
            "showbackground": true,
            "ticks": "",
            "zerolinecolor": "white"
           },
           "zaxis": {
            "backgroundcolor": "#E5ECF6",
            "gridcolor": "white",
            "gridwidth": 2,
            "linecolor": "white",
            "showbackground": true,
            "ticks": "",
            "zerolinecolor": "white"
           }
          },
          "shapedefaults": {
           "line": {
            "color": "#2a3f5f"
           }
          },
          "ternary": {
           "aaxis": {
            "gridcolor": "white",
            "linecolor": "white",
            "ticks": ""
           },
           "baxis": {
            "gridcolor": "white",
            "linecolor": "white",
            "ticks": ""
           },
           "bgcolor": "#E5ECF6",
           "caxis": {
            "gridcolor": "white",
            "linecolor": "white",
            "ticks": ""
           }
          },
          "title": {
           "x": 0.05
          },
          "xaxis": {
           "automargin": true,
           "gridcolor": "white",
           "linecolor": "white",
           "ticks": "",
           "title": {
            "standoff": 15
           },
           "zerolinecolor": "white",
           "zerolinewidth": 2
          },
          "yaxis": {
           "automargin": true,
           "gridcolor": "white",
           "linecolor": "white",
           "ticks": "",
           "title": {
            "standoff": 15
           },
           "zerolinecolor": "white",
           "zerolinewidth": 2
          }
         }
        },
        "ternary": {
         "aaxis": {
          "title": {
           "text": "R"
          }
         },
         "baxis": {
          "title": {
           "text": "G"
          }
         },
         "caxis": {
          "title": {
           "text": "B"
          }
         },
         "domain": {
          "x": [
           0,
           1
          ],
          "y": [
           0,
           1
          ]
         }
        }
       }
      }
     },
     "metadata": {},
     "output_type": "display_data"
    }
   ],
   "source": [
    "# df4plot = pop_den_1d_df[(pop_den_1d_df[\"Rep\"] == \"rep3\") & ((pop_den_1d_df[\"Radius\"] == 0) | (pop_den_1d_df[\"Radius\"] == 750) | (pop_den_1d_df[\"Radius\"] == 1500) | (pop_den_1d_df[\"Radius\"] == 2250) | (pop_den_1d_df[\"Radius\"] == 3000))]\n",
    "df4plot = pop_den_1d_df[(pop_den_1d_df[\"Rep\"] == \"rep3\") & (pop_den_1d_df[\"Carbon\"] == \"Nag\") & (pop_den_1d_df[\"Radius\"] % 500 == 0)]\n",
    "fig = px.line_ternary(df4plot, a='R', b='G', c='B',\n",
    "    line_group=\"Time\", color=\"Radius\")\n",
    "fig.write_image(\"results/1Drep3_alt.pdf\")\n",
    "fig.show()"
   ]
  },
  {
   "cell_type": "code",
   "execution_count": 34,
   "metadata": {},
   "outputs": [
    {
     "data": {
      "text/plain": [
       "(2080, 4869, 3)"
      ]
     },
     "execution_count": 34,
     "metadata": {},
     "output_type": "execute_result"
    }
   ],
   "source": [
    "rgb_file = \"/Users/feng626/workspace/data/SoilSFA/spatial_interactions/results_20220408/results_rep1/11.18.21_21_Nag_1_combined_processed.pkl\"\n",
    "with open(rgb_file, 'rb') as f:\n",
    "    rgb_array = pickle.load(f)\n",
    "rgb_array.shape"
   ]
  },
  {
   "cell_type": "code",
   "execution_count": null,
   "metadata": {},
   "outputs": [],
   "source": []
  },
  {
   "cell_type": "code",
   "execution_count": null,
   "metadata": {},
   "outputs": [],
   "source": []
  }
 ],
 "metadata": {
  "kernelspec": {
   "display_name": "soil",
   "language": "python",
   "name": "python3"
  },
  "language_info": {
   "codemirror_mode": {
    "name": "ipython",
    "version": 3
   },
   "file_extension": ".py",
   "mimetype": "text/x-python",
   "name": "python",
   "nbconvert_exporter": "python",
   "pygments_lexer": "ipython3",
   "version": "3.9.15 | packaged by conda-forge | (main, Nov 22 2022, 08:55:37) \n[Clang 14.0.6 ]"
  },
  "orig_nbformat": 4,
  "vscode": {
   "interpreter": {
    "hash": "e7253b76136690c01ceb83e6c3e464eecbeebe25c28631260796ed977d8b63c5"
   }
  }
 },
 "nbformat": 4,
 "nbformat_minor": 2
}
