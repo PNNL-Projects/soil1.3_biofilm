{
 "cells": [
  {
   "cell_type": "code",
   "execution_count": 3,
   "metadata": {},
   "outputs": [],
   "source": [
    "import warnings\n",
    "warnings.filterwarnings(\"ignore\")\n",
    "import math, os, sys, copy, pickle\n",
    "from skimage import io, filters, restoration\n",
    "from skimage import morphology as morph\n",
    "import PIL\n",
    "from PIL import Image, ImageSequence, ImageEnhance\n",
    "import numpy as np\n",
    "import pandas as pd\n",
    "# Make images higher resolution and set default size\n",
    "import matplotlib\n",
    "%matplotlib inline\n",
    "matplotlib.rcParams['figure.dpi'] = 200\n",
    "matplotlib.rcParams['figure.figsize'] = (6, 6)\n",
    "import matplotlib.pyplot as plt\n",
    "from mpl_toolkits.axes_grid1 import make_axes_locatable\n",
    "import glob\n",
    "import cv2\n",
    "import multipagetiff as mtif\n",
    "import tifffile\n",
    "import ternary\n",
    "import plotly.express as px"
   ]
  },
  {
   "cell_type": "code",
   "execution_count": 4,
   "metadata": {},
   "outputs": [],
   "source": [
    "def plot(tif_files, try_denoise = False):\n",
    "    fig, axes = plt.subplots(2, 4, figsize=(16,8), sharex=True, sharey=True)\n",
    "    for num, tif_file in enumerate(tif_files):\n",
    "        #print(tif_file, tif_file.rsplit(\".\", 1)[0][-1])\n",
    "        # num = int(tif_file.rsplit(\".\", 1)[0][-1])-1\n",
    "        im = Image.open(tif_file)\n",
    "        if denoise:\n",
    "            imarray = denoise(np.array(im))\n",
    "        else:\n",
    "            imarray = np.array(im)\n",
    "        # print(num, num//4, num%4)\n",
    "        axes[num//4, num%4].imshow(imarray)\n",
    "        axes[num//4, num%4].set_title(\"{}\".format(num+1))\n",
    "    plt.show()\n",
    "    # plt.colorbar()\n",
    "#     fig.subplots_adjust(right=0.85)\n",
    "#     cbar_ax = fig.add_axes([0.88, 0.15, 0.04, 0.7])\n",
    "#     fig.colorbar(im, cax=cbar_ax)\n",
    "def plot_oneZ(tif_files, z_pos = 0, z_num = 0):\n",
    "    fig, axes = plt.subplots(2, 4, figsize=(16,8), sharex=True, sharey=True)\n",
    "    for tif_file in tif_files:\n",
    "        #print(tif_file, tif_file.rsplit(\".\", 1)[0][-1])\n",
    "        num = int(tif_file.rsplit(\".\", 1)[0][-1])-1\n",
    "        imgs = mtif.read_stack(tif_file)\n",
    "        if z_num != 0:\n",
    "            img = imgs[z_num - 1]\n",
    "        else:\n",
    "            img = imgs[math.floor(len(imgs) * z_pos)]\n",
    "        # print(num, num//4, num%4)\n",
    "        axes[num//4, num%4].imshow(img)\n",
    "        axes[num//4, num%4].set_title(\"{}\".format(num+1))\n",
    "    plt.show()\n",
    "def plot_single(img):\n",
    "    #print(tif_file, tif_file.rsplit(\".\", 1)[0][-1])\n",
    "    # im = Image.open(tif_file)\n",
    "    # img = np.array(im)\n",
    "    plt.figure()\n",
    "    ax = plt.gca()\n",
    "    im_vis = ax.imshow(img)\n",
    "    divider = make_axes_locatable(ax)\n",
    "    cax = divider.append_axes(\"right\", size=\"5%\", pad=0.05)\n",
    "    plt.colorbar(im_vis, cax=cax)\n",
    "    plt.show()\n",
    "def flatten_plot(tif_files):\n",
    "    # fig, axes = plt.subplots(2,4, figsize=(16,8), sharex = True, sharey = True)\n",
    "    plt.figure(figsize=(16,8))\n",
    "    for i, tif_file in enumerate(tif_files):\n",
    "        imgs = mtif.read_stack(tif_file)\n",
    "        plt.subplot(2,4,i+1)\n",
    "        img = mtif.flatten(imgs)\n",
    "        plt.imshow(img)\n",
    "    plt.tight_layout()\n",
    "\n",
    "def normalize(img, min_range = 32, im_max = None, im_min = None, scale_to = 65535):\n",
    "    img_new = copy.deepcopy(img)\n",
    "    if im_max == None:\n",
    "        im_max = np.max(img)\n",
    "    if im_min == None:\n",
    "        im_min = np.min(img)\n",
    "    img_new = (img - im_min) / max([(im_max - im_min), min_range])\n",
    "    img_new = np.array(img_new * scale_to).astype(np.uint16)\n",
    "    return(img_new)\n",
    "def filter(img, min_thr = 0, threshold = None):\n",
    "    if threshold == None:\n",
    "        try:\n",
    "            threshold = max(filters.threshold_otsu(img), min_thr)\n",
    "        except:\n",
    "            threshold = img.min() + min_thr\n",
    "    mask = img > threshold\n",
    "    otsu_filtered = np.zeros_like(img)\n",
    "    otsu_filtered[mask] = img[mask]\n",
    "    return(otsu_filtered)\n",
    "def filter_z(imgz, min_thr = 0, threshold = None):\n",
    "    for i in range(len(imgz)):\n",
    "        imgz[i] = filter(imgz[i], min_thr, threshold)\n",
    "    return(imgz)\n",
    "def sub_bg_thr(img_ori, min_thr = 0, threshold = None):\n",
    "    img = copy.deepcopy(img_ori)\n",
    "    if threshold == None:\n",
    "        try:\n",
    "            threshold = max(filters.threshold_otsu(img), min_thr)\n",
    "        except:\n",
    "            threshold = img.min() + min_thr\n",
    "    img[img < threshold] = threshold\n",
    "    img = img - threshold\n",
    "    return(img)\n",
    "def sub_bg_thr_z(imgz, min_thr = 0, threshold = None):\n",
    "    for i in range(len(imgz)):\n",
    "        imgz[i] = sub_bg_thr(imgz[i], min_thr, threshold)\n",
    "    return(imgz)\n",
    "def threshold_z(imgz):\n",
    "    thresholds = [filters.threshold_otsu(img) for img in imgz]\n",
    "    return(max(thresholds))\n",
    "def threshold_all(imgs):\n",
    "    thresholds = [max([filters.threshold_otsu(img) for img in imgz]) for imgz in imgs]\n",
    "    return(max(thresholds)) \n",
    "def remove_background(img, rolling_ball_radius = 10):\n",
    "    background = restoration.rolling_ball(img, radius=rolling_ball_radius)\n",
    "    rolling_ball_filtered = img - background\n",
    "    return(rolling_ball_filtered)\n",
    "def remove_background_z(imgz, rolling_ball_radius = 10):\n",
    "    for i in range(len(imgz)):\n",
    "        imgz[i] = remove_background(imgz[i], rolling_ball_radius)\n",
    "    return(imgz)\n",
    "def denoise(img, min_thr = 0, rolling_ball_filtered = 10, threshold = None):\n",
    "    return(filter(remove_background(img, rolling_ball_filtered), min_thr, threshold))\n",
    "def denoise_z(imgz, min_thr = 0, rolling_ball_radius = 10, threshold = None):\n",
    "    imgz_denoised = copy.deepcopy(imgz)\n",
    "    try:\n",
    "        for i in range(len(imgz)):\n",
    "            imgz_denoised[i] = remove_background(imgz[i], rolling_ball_radius)\n",
    "        if threshold == None:\n",
    "            threshold = threshold_z(imgz_denoised)\n",
    "        for i in range(len(imgz)):\n",
    "            imgz_denoised[i] = filter(imgz_denoised[i], min_thr, threshold)\n",
    "    except:\n",
    "        # imgz_denoised = normalize(imgz)\n",
    "        print(\"Denoising failed, returning the original image\")\n",
    "    return(imgz_denoised)\n",
    "\n",
    "def max_z(imgz):\n",
    "    try:\n",
    "        img_max = np.max(imgz, axis=0)\n",
    "    except:\n",
    "        img_max = np.zeros_like(imgz)\n",
    "    return(img_max)\n",
    "def sum_z(imgz):\n",
    "    try:\n",
    "        img_sum = np.sum(imgz, axis=0)\n",
    "    except:\n",
    "        img_sum = np.zeros_like(imgz)\n",
    "    return(img_sum)\n",
    "def ave_z(imgz):\n",
    "    try:\n",
    "        img_ave = np.mean(imgz, axis=0)\n",
    "    except:\n",
    "        img_ave = np.zero_like(imgz)\n",
    "    return(img_ave)\n",
    "\n",
    "def simple_stitch(imgs, seq_num = 4, hr_margin = 233, vu_margin = 0):\n",
    "    images = []\n",
    "    for i in range(seq_num):\n",
    "        img = imgs[i]\n",
    "        if i < 3:\n",
    "            images.append(img[:,:-hr_margin])\n",
    "        else:\n",
    "            images.append(img)\n",
    "    img1 = np.hstack(images)\n",
    "    images = []\n",
    "    for i in range(seq_num):\n",
    "        img = imgs[i+seq_num]\n",
    "        if i < 3:\n",
    "            images.append(img[:,:-hr_margin])\n",
    "        else:\n",
    "            images.append(img)\n",
    "    img2 = np.hstack(images)\n",
    "    im_h = np.vstack([img1[vu_margin:, :], img2[vu_margin:, :]])\n",
    "    return(im_h)\n",
    "def simple_stitch_z(imgs, z_num = None, seq_num = 4, hr_margin = 233, vu_margin = 0):\n",
    "    if z_num == None:\n",
    "        z_num = len(imgs[0])\n",
    "    stitched = []\n",
    "    for i in range(z_num):\n",
    "        images = [img[i] for img in imgs]\n",
    "        stitched.append(simple_stitch(images, seq_num, hr_margin, vu_margin))\n",
    "    return(np.array(stitched))\n",
    "\n",
    "def simple_stitch_alt(imgs, seq_num = 4, hr_margin = 233, vu_margin = 0):\n",
    "    images = []\n",
    "    for i in range(seq_num):\n",
    "        img = imgs[i * 2]\n",
    "        if i < 3:\n",
    "            images.append(img[:,:-hr_margin])\n",
    "        else:\n",
    "            images.append(img)\n",
    "    img1 = np.hstack(images)\n",
    "    images = []\n",
    "    for i in range(seq_num):\n",
    "        img = imgs[i * 2 + 1]\n",
    "        if i < 3:\n",
    "            images.append(img[:,:-hr_margin])\n",
    "        else:\n",
    "            images.append(img)\n",
    "    img2 = np.hstack(images)\n",
    "    im_h = np.vstack([img1[vu_margin:, :], img2[vu_margin:, :]])\n",
    "    return(im_h)\n",
    "def simple_stitch_z_alt(imgs, z_num = None, seq_num = 4, hr_margin = 233, vu_margin = 0):\n",
    "    if z_num == None:\n",
    "        z_num = len(imgs[0])\n",
    "    stitched = []\n",
    "    for i in range(z_num):\n",
    "        images = [img[i] for img in imgs]\n",
    "        stitched.append(simple_stitch_alt(images, seq_num, hr_margin, vu_margin))\n",
    "    return(np.array(stitched))\n",
    "\n",
    "def sharping(img, cut_off = None):\n",
    "    img_new = copy.deepcopy(img)\n",
    "    if cut_off == None:\n",
    "        cut_off = int(img.max() / 2)\n",
    "    else:\n",
    "        cut_off = int(img.max() * cut_off)\n",
    "    img_new[img <= cut_off] = 0\n",
    "    img_new[img > cut_off] = img.max()\n",
    "    return(img_new)\n",
    "def sum_y_int(img):\n",
    "    img1d = np.sum(img, axis=0)\n",
    "    return(img1d)\n",
    "def slide_sum_y_int(img, slide_len = 100):\n",
    "    img1d = np.sum(img, axis=0)\n",
    "    img_slides = []\n",
    "    for i in range(0, len(img1d) - slide_len):\n",
    "        img_slides.append(np.sum(img1d[i:i+slide_len], axis=0))\n",
    "    return(np.array(img_slides))\n",
    "def sum_y_vol(img):\n",
    "    img1d = np.count_nonzero(img, axis=0)\n",
    "    return(img1d)\n",
    "def slide_sum_y_vol(img, slide_len = 100):\n",
    "    img1d = np.count_nonzero(img, axis=0)\n",
    "    img_slides = []\n",
    "    for i in range(0, len(img1d) - slide_len):\n",
    "        img_slides.append(np.sum(img1d[i:i+slide_len], axis=0))\n",
    "    return(np.array(img_slides))\n",
    "def get_pop_density(img1d):\n",
    "    pop_density = img1d/img1d.sum(axis=1, keepdims=True)\n",
    "    return(pop_density)\n",
    "\n",
    "def get_mask(img):\n",
    "    img[img > 0] = 1\n",
    "    img = np.abs(1 - img)\n",
    "    return(img)\n",
    "def get_mask_inv(img):\n",
    "    img[img > 0] = 1\n",
    "    return(img)\n",
    "def mask_img(img_ori, mask):\n",
    "    img = copy.deepcopy(img_ori)\n",
    "    img[mask == 0] = 0\n",
    "    return(img)\n",
    "def simple_stitch_z_with_mask(imgs, mask, z_num = None, seq_num = 4, hr_margin = 233, vu_margin = 0):\n",
    "    if z_num == None:\n",
    "        z_num = len(imgs[0])\n",
    "    stitched = []\n",
    "    for i in range(z_num):\n",
    "        images = [img[i] for img in imgs]\n",
    "        stitched.append(mask_img(simple_stitch(images, seq_num, hr_margin, vu_margin), get_mask(mask)))\n",
    "    return(np.array(stitched))\n"
   ]
  },
  {
   "cell_type": "code",
   "execution_count": 5,
   "metadata": {},
   "outputs": [],
   "source": [
    "work_dir = \"/Users/feng626/workspace/data/SoilSFA/spatial_interactions\"\n",
    "patch_number = 8\n",
    "rolling_ball_sizes = [7, 9, 5]\n",
    "min_thrs = [32, 48, 128]\n",
    "sharping_thr = 0.01\n",
    "\n",
    "rep1_dir = \"/Users/feng626/workspace/data/SoilSFA/spatial_interactions/Activity_1.3_rep1_11.18.21_start\"\n",
    "rep3_dir = work_dir + \"/Activity_1.3_rep3_02.07.22_start\"\n",
    "rep3_img_dirs = [name for name in os.listdir(rep3_dir) if os.path.isdir(os.path.join(rep3_dir, name))] \n",
    "rep3_img_dirs.sort()\n",
    "rep2_dir = work_dir + \"/Activity_1.3_rep2_12.13.21_start\"\n",
    "rep2_img_dirs = [name for name in os.listdir(rep2_dir) if os.path.isdir(os.path.join(rep2_dir, name))] \n",
    "rep2_img_dirs.sort()"
   ]
  },
  {
   "cell_type": "code",
   "execution_count": null,
   "metadata": {},
   "outputs": [],
   "source": [
    "# Replicate 1\n",
    "result_dir = work_dir + \"/results_dev/results_rep1\"\n",
    "for carbon in [\"Chitin\", \"Chito5\", \"Nag\"]:\n",
    "# for carbon, timepoints in zip([\"Chitin\", \"Chito5\", \"Nag\"], [[\"11.22.21_17\"], [\"11.22.21_16\"], [\"11.22.21_15\"]]):\n",
    "    time_dir = rep1_dir + '/' + carbon \n",
    "    timepoints = [name for name in os.listdir(time_dir) if os.path.isdir(os.path.join(time_dir, name))] \n",
    "    timepoints.sort()\n",
    "    for timepoint in timepoints:\n",
    "        all_channels_ori = []\n",
    "        all_channels = []\n",
    "        all_channels_sharp = []\n",
    "        for chi, channel in enumerate(['w4SD RFP', 'w3SD GFP', 'w2SD DAPI']):\n",
    "            masked_file = rep1_dir + '/' + carbon + '/' + timepoint + '/' + timepoint + '_' + carbon + '_1_w1SD BF_stitched_MASK.tif'\n",
    "            tif_files = [rep1_dir + '/' + carbon + '/' + timepoint + '/' + timepoint + '_' + carbon + '_1_' + channel + '_s' + str(i+1) + '.TIF' for i in range(patch_number)]\n",
    "            tif_files.sort()\n",
    "            imgm_tif_file= result_dir + '/' + timepoint + '_' + carbon + '_1_{}_masked.TIF'.format(channel)\n",
    "            imgn_tif_file= result_dir + '/' + timepoint + '_' + carbon + '_1_{}_processed.TIF'.format(channel)\n",
    "            imgn_sharp_tif_file= result_dir + '/' + timepoint + '_' + carbon + '_1_{}_sharp.TIF'.format(channel)\n",
    "            projected_csv_file = result_dir + '/' + timepoint + '_' + carbon + '_1_{}_processed.csv'.format(channel)\n",
    "\n",
    "            imgs_mask = get_mask(io.imread(masked_file))\n",
    "            imgs = [io.imread(tif_file) for tif_file in tif_files]\n",
    "            imgz = simple_stitch_z(imgs)\n",
    "            imgp = max_z(imgz)\n",
    "            imgp_rm_bg = remove_background(imgp, rolling_ball_sizes[chi])\n",
    "            imgm = mask_img(imgp_rm_bg, imgs_mask)\n",
    "            tifffile.imsave(imgm_tif_file, imgm)\n",
    "            imgm_filtered = filter(imgm, min_thrs[chi])  # Don't use the minimal threshold\n",
    "            imgn = normalize(imgm_filtered)\n",
    "            tifffile.imsave(imgn_tif_file, imgn)\n",
    "            np.savetxt(projected_csv_file, imgn, delimiter=',')\n",
    "            imgn_sharp = sharping(imgn, sharping_thr)\n",
    "            tifffile.imsave(imgn_sharp_tif_file, imgn_sharp)\n",
    "    \n",
    "            all_channels_ori.append(imgn)\n",
    "            all_channels_sharp.append(imgn_sharp)\n",
    "            \n",
    "        combined_img_ori = np.transpose(all_channels_ori, (1,2,0))\n",
    "        combined_img_sharp = np.transpose(all_channels_sharp, (1,2,0))\n",
    "            \n",
    "        output = result_dir + '/' + timepoint + '_' + carbon + '_1_combined_processed'\n",
    "        img_out_ori = output + '.TIF'\n",
    "        img_out_sharp = output + '_sharp.TIF'\n",
    "        img_out_small_ori = output + '_small.TIF'\n",
    "        img_out_small_sharp = output + '_small_sharp.TIF'\n",
    "        pkl_out_ori = output + '.pkl'\n",
    "        plot_out_ori = output + '_1d.png'\n",
    "        plot_out_sharp = output + '_1d_sharp.png'\n",
    "        \n",
    "        tifffile.imsave(img_out_ori, combined_img_ori)\n",
    "        tifffile.imsave(img_out_sharp, combined_img_sharp)\n",
    "    \n",
    "        with open(pkl_out_ori, 'wb') as f:\n",
    "            pickle.dump(combined_img_ori, f)\n",
    "            \n",
    "        plt.figure(figsize=(16,8))\n",
    "        plt.imshow(combined_img_ori)\n",
    "        plt.savefig(img_out_small_ori, dpi=200)\n",
    "        plt.close()\n",
    "    \n",
    "        plt.figure(figsize=(16,8))\n",
    "        plt.imshow(combined_img_sharp)\n",
    "        plt.savefig(img_out_small_sharp, dpi=200)\n",
    "        plt.close()\n",
    "    \n",
    "        pop_den = get_pop_density(slide_sum_y_vol(combined_img_ori, 500))\n",
    "        colors = ['red', 'green', 'blue']\n",
    "        plt.figure(figsize=(16,8))\n",
    "        for i in range(3):\n",
    "            plt.plot(range(len(pop_den)), pop_den[:,i], color = colors[i], linewidth=3)\n",
    "        # plt.plot(range(len(pop_den)), pop_den, linewidth=2)\n",
    "        plt.savefig(plot_out_ori, dpi=200)\n",
    "        # plt.show()\n",
    "        plt.close()\n",
    "    \n",
    "        pop_den = get_pop_density(slide_sum_y_vol(combined_img_sharp, 500))\n",
    "        colors = ['red', 'green', 'blue']\n",
    "        plt.figure(figsize=(16,8))\n",
    "        for i in range(3):\n",
    "            plt.plot(range(len(pop_den)), pop_den[:,i], color = colors[i], linewidth=3)\n",
    "        # plt.plot(range(len(pop_den)), pop_den, linewidth=2)\n",
    "        plt.savefig(plot_out_sharp, dpi=200)\n",
    "        # plt.show()\n",
    "        plt.close()\n",
    "    "
   ]
  },
  {
   "cell_type": "code",
   "execution_count": null,
   "metadata": {},
   "outputs": [],
   "source": [
    "# Replicate 2\n",
    "result_dir = work_dir + \"/results_dev/results_rep2\"\n",
    "for dir in rep2_img_dirs:\n",
    "    img_dir = rep2_dir + '/' + dir \n",
    "    all_channels_ori = []\n",
    "    all_channels = []\n",
    "    all_channels_sharp = []\n",
    "    for chi, channel in enumerate(['w4SD RFP', 'w3SD GFP', 'w2SD DAPI']):\n",
    "        masked_file = img_dir + '/' + dir + '_1_w1SD BF_stitched_mask.tif'\n",
    "        tif_files = [img_dir + '/' + dir + '_1_' + channel +  '_s' + str(i+1) + '.TIF' for i in range(patch_number)]\n",
    "        tif_files.sort()\n",
    "        imgm_tif_file= result_dir + '/' + dir + '_1_{}_masked.TIF'.format(channel)\n",
    "        imgn_tif_file= result_dir + '/' + dir + '_1_{}_processed.TIF'.format(channel)\n",
    "        imgn_sharp_tif_file= result_dir + '/' + dir + '_1_{}_sharp.TIF'.format(channel)\n",
    "        projected_csv_file = result_dir + '/' + dir + '_1_{}_processed.csv'.format(channel)\n",
    "        \n",
    "        imgs_mask = get_mask(io.imread(masked_file))\n",
    "        imgs = [io.imread(tif_file) for tif_file in tif_files]\n",
    "        imgz = simple_stitch_z(imgs)\n",
    "        imgp = max_z(imgz)\n",
    "        imgp_rm_bg = remove_background(imgp, rolling_ball_sizes[chi])\n",
    "        imgm = mask_img(imgp_rm_bg, imgs_mask)\n",
    "        tifffile.imsave(imgm_tif_file, imgm)\n",
    "        imgm_filtered = filter(imgm, min_thrs[chi])  # Don't use the minimal threshold\n",
    "        imgn = normalize(imgm_filtered)\n",
    "        tifffile.imsave(imgn_tif_file, imgn)\n",
    "        np.savetxt(projected_csv_file, imgn, delimiter=',')\n",
    "        imgn_sharp = sharping(imgn, sharping_thr)\n",
    "        tifffile.imsave(imgn_sharp_tif_file, imgn_sharp)\n",
    "\n",
    "        all_channels_ori.append(imgn)\n",
    "        all_channels_sharp.append(imgn_sharp)\n",
    "        \n",
    "    combined_img_ori = np.transpose(all_channels_ori, (1,2,0))\n",
    "    combined_img_sharp = np.transpose(all_channels_sharp, (1,2,0))\n",
    "        \n",
    "    output = result_dir + '/' + dir + '_1_combined_processed'\n",
    "    img_out_ori = output + '.TIF'\n",
    "    img_out_sharp = output + '_sharp.TIF'\n",
    "    img_out_small_ori = output + '_small.TIF'\n",
    "    img_out_small_sharp = output + '_small_sharp.TIF'\n",
    "    pkl_out_ori = output + '.pkl'\n",
    "    plot_out_ori = output + '_1d.png'\n",
    "    plot_out_sharp = output + '_1d_sharp.png'\n",
    "    \n",
    "    tifffile.imsave(img_out_ori, combined_img_ori)\n",
    "    tifffile.imsave(img_out_sharp, combined_img_sharp)\n",
    "\n",
    "    with open(pkl_out_ori, 'wb') as f:\n",
    "        pickle.dump(combined_img_ori, f)\n",
    "        \n",
    "    plt.figure(figsize=(16,8))\n",
    "    plt.imshow(combined_img_ori)\n",
    "    plt.savefig(img_out_small_ori, dpi=200)\n",
    "    plt.close()\n",
    "\n",
    "    plt.figure(figsize=(16,8))\n",
    "    plt.imshow(combined_img_sharp)\n",
    "    plt.savefig(img_out_small_sharp, dpi=200)\n",
    "    plt.close()\n",
    "\n",
    "    pop_den = get_pop_density(slide_sum_y_vol(combined_img_ori, 500))\n",
    "    colors = ['red', 'green', 'blue']\n",
    "    plt.figure(figsize=(16,8))\n",
    "    for i in range(3):\n",
    "        plt.plot(range(len(pop_den)), pop_den[:,i], color = colors[i], linewidth=3)\n",
    "    # plt.plot(range(len(pop_den)), pop_den, linewidth=2)\n",
    "    plt.savefig(plot_out_ori, dpi=200)\n",
    "    # plt.show()\n",
    "    plt.close()\n",
    "\n",
    "    pop_den = get_pop_density(slide_sum_y_vol(combined_img_sharp, 500))\n",
    "    colors = ['red', 'green', 'blue']\n",
    "    plt.figure(figsize=(16,8))\n",
    "    for i in range(3):\n",
    "        plt.plot(range(len(pop_den)), pop_den[:,i], color = colors[i], linewidth=3)\n",
    "    # plt.plot(range(len(pop_den)), pop_den, linewidth=2)\n",
    "    plt.savefig(plot_out_sharp, dpi=200)\n",
    "    # plt.show()\n",
    "    plt.close()\n",
    "    "
   ]
  },
  {
   "cell_type": "code",
   "execution_count": null,
   "metadata": {},
   "outputs": [],
   "source": [
    "# Replicate 3\n",
    "result_dir = work_dir + \"/results_dev/results_rep3\"\n",
    "for dir in rep3_img_dirs:\n",
    "    # if dir == \"02.09.22_11AM_Chito5\":\n",
    "    #     continue\n",
    "    img_dir = rep3_dir + '/' + dir \n",
    "    all_channels_ori = []\n",
    "    all_channels = []\n",
    "    all_channels_sharp = []\n",
    "    for chi, channel in enumerate(['w4SD RFP', 'w3SD GFP', 'w2SD DAPI']):\n",
    "        masked_file = img_dir + '/' + dir + '_1_w1SD BF_stitched_mask.tif'\n",
    "        tif_files = [img_dir + '/' + dir + '_1_' + channel +  '_s' + str(i+1) + '.TIF' for i in range(patch_number)]\n",
    "        tif_files.sort()\n",
    "        imgm_tif_file= result_dir + '/' + dir + '_1_{}_masked.TIF'.format(channel)\n",
    "        imgn_tif_file= result_dir + '/' + dir + '_1_{}_processed.TIF'.format(channel)\n",
    "        imgn_sharp_tif_file= result_dir + '/' + dir + '_1_{}_sharp.TIF'.format(channel)\n",
    "        projected_csv_file = result_dir + '/' + dir + '_1_{}_processed.csv'.format(channel)\n",
    "        \n",
    "        imgs_mask = get_mask(io.imread(masked_file))\n",
    "        imgs = [io.imread(tif_file) for tif_file in tif_files]\n",
    "        imgz = simple_stitch_z(imgs)\n",
    "        imgp = max_z(imgz)\n",
    "        imgp_rm_bg = remove_background(imgp, rolling_ball_sizes[chi])\n",
    "        imgm = mask_img(imgp_rm_bg, imgs_mask)\n",
    "        tifffile.imsave(imgm_tif_file, imgm)\n",
    "        imgm_filtered = filter(imgm, min_thrs[chi])  # Don't use the minimal threshold\n",
    "        imgn = normalize(imgm_filtered)\n",
    "        tifffile.imsave(imgn_tif_file, imgn)\n",
    "        np.savetxt(projected_csv_file, imgn, delimiter=',')\n",
    "        imgn_sharp = sharping(imgn, sharping_thr)\n",
    "        tifffile.imsave(imgn_sharp_tif_file, imgn_sharp)\n",
    "\n",
    "        all_channels_ori.append(imgn)\n",
    "        all_channels_sharp.append(imgn_sharp)\n",
    "        \n",
    "    combined_img_ori = np.transpose(all_channels_ori, (1,2,0))\n",
    "    combined_img_sharp = np.transpose(all_channels_sharp, (1,2,0))\n",
    "        \n",
    "    output = result_dir + '/' + dir + '_1_combined_processed'\n",
    "    img_out_ori = output + '.TIF'\n",
    "    img_out_sharp = output + '_sharp.TIF'\n",
    "    img_out_small_ori = output + '_small.TIF'\n",
    "    img_out_small_sharp = output + '_small_sharp.TIF'\n",
    "    pkl_out_ori = output + '.pkl'\n",
    "    plot_out_ori = output + '_1d.png'\n",
    "    plot_out_sharp = output + '_1d_sharp.png'\n",
    "    \n",
    "    tifffile.imsave(img_out_ori, combined_img_ori)\n",
    "    tifffile.imsave(img_out_sharp, combined_img_sharp)\n",
    "\n",
    "    with open(pkl_out_ori, 'wb') as f:\n",
    "        pickle.dump(combined_img_ori, f)\n",
    "        \n",
    "    plt.figure(figsize=(16,8))\n",
    "    plt.imshow(combined_img_ori)\n",
    "    plt.savefig(img_out_small_ori, dpi=200)\n",
    "    plt.close()\n",
    "\n",
    "    plt.figure(figsize=(16,8))\n",
    "    plt.imshow(combined_img_sharp)\n",
    "    plt.savefig(img_out_small_sharp, dpi=200)\n",
    "    plt.close()\n",
    "\n",
    "    pop_den = get_pop_density(slide_sum_y_vol(combined_img_ori, 500))\n",
    "    colors = ['red', 'green', 'blue']\n",
    "    plt.figure(figsize=(16,8))\n",
    "    for i in range(3):\n",
    "        plt.plot(range(len(pop_den)), pop_den[:,i], color = colors[i], linewidth=3)\n",
    "    # plt.plot(range(len(pop_den)), pop_den, linewidth=2)\n",
    "    plt.savefig(plot_out_ori, dpi=200)\n",
    "    # plt.show()\n",
    "    plt.close()\n",
    "\n",
    "    pop_den = get_pop_density(slide_sum_y_vol(combined_img_sharp, 500))\n",
    "    colors = ['red', 'green', 'blue']\n",
    "    plt.figure(figsize=(16,8))\n",
    "    for i in range(3):\n",
    "        plt.plot(range(len(pop_den)), pop_den[:,i], color = colors[i], linewidth=3)\n",
    "    # plt.plot(range(len(pop_den)), pop_den, linewidth=2)\n",
    "    plt.savefig(plot_out_sharp, dpi=200)\n",
    "    # plt.show()\n",
    "    plt.close()\n",
    "    "
   ]
  },
  {
   "cell_type": "code",
   "execution_count": 52,
   "metadata": {},
   "outputs": [
    {
     "name": "stdout",
     "output_type": "stream",
     "text": [
      "['12.13.21_10PM_Chito5', '12.13.21_11PM_Chitin', '12.13.21_9PM_Nag', '12.14.21_10AM_Chitin', '12.14.21_7PM_Nag', '12.14.21_8AM_Nag', '12.14.21_8PM_Chito5', '12.14.21_9AM_Chito5', '12.14.21_9PM_Chitin', '12.15.21_10AM_Chitin', '12.15.21_8AM_Nag', '12.15.21_9AM_Chito5', '12.16.21_3PM_Nag', '12.16.21_4PM_Chito5', '12.16.21_5PM_Chitin', '12.17.21_3PM_Nag', '12.17.21_4PM_Chito5', '12.17.21_5PM_Chitin']\n",
      "['02.07.22_10PM_Chito5', '02.07.22_11PM_Chitin', '02.07.22_9PM_NAG', '02.08.22_10AM_Chitin', '02.08.22_7PM_NAG', '02.08.22_8AM_NAG', '02.08.22_8PM_Chito5', '02.08.22_9AM_Chito5', '02.08.22_9PM_Chitin', '02.09.22_10AM_NAG', '02.09.22_11AM_Chito5', '02.09.22_12PM_Chitin', '02.10.22_3PM_NAG', '02.10.22_4PM_Chito5', '02.10.22_5PM_Chitin', '02.11.22_3PM_NAG', '02.11.22_4PM_Chito5', '02.11.22_5PM_Chitin']\n"
     ]
    }
   ],
   "source": [
    "print(rep2_img_dirs)\n",
    "print(rep3_img_dirs)"
   ]
  },
  {
   "cell_type": "code",
   "execution_count": 5,
   "metadata": {},
   "outputs": [],
   "source": [
    "rep2_img_dirs = ['12.13.21_10PM_Chito5', '12.13.21_11PM_Chitin', '12.13.21_9PM_Nag', '12.14.21_10AM_Chitin', '12.14.21_7PM_Nag', '12.14.21_8AM_Nag', '12.14.21_8PM_Chito5', '12.14.21_9AM_Chito5', '12.14.21_9PM_Chitin', '12.15.21_10AM_Chitin', '12.15.21_8AM_Nag', '12.15.21_9AM_Chito5', '12.16.21_3PM_Nag', '12.16.21_4PM_Chito5', '12.16.21_5PM_Chitin', '12.17.21_3PM_Nag', '12.17.21_4PM_Chito5', '12.17.21_5PM_Chitin']\n",
    "rep3_img_dirs = ['02.07.22_10PM_Chito5', '02.07.22_11PM_Chitin', '02.07.22_9PM_NAG', '02.08.22_10AM_Chitin', '02.08.22_7PM_NAG', '02.08.22_8AM_NAG', '02.08.22_8PM_Chito5', '02.08.22_9AM_Chito5', '02.08.22_9PM_Chitin', '02.09.22_10AM_NAG', '02.09.22_11AM_Chito5', '02.09.22_12PM_Chitin', '02.10.22_3PM_NAG', '02.10.22_4PM_Chito5', '02.10.22_5PM_Chitin', '02.11.22_3PM_NAG', '02.11.22_4PM_Chito5', '02.11.22_5PM_Chitin']"
   ]
  },
  {
   "cell_type": "code",
   "execution_count": 19,
   "metadata": {},
   "outputs": [
    {
     "data": {
      "text/plain": [
       "[['11.18.21_21', 'Nag', 0],\n",
       " ['11.19.21_08', 'Nag', 11],\n",
       " ['11.19.21_18', 'Nag', 21],\n",
       " ['11.20.21_10', 'Nag', 37],\n",
       " ['11.21.21_15', 'Nag', 66],\n",
       " ['11.22.21_15', 'Nag', 90],\n",
       " ['11.18.21_22', 'Chito5', 0],\n",
       " ['11.19.21_09', 'Chito5', 11],\n",
       " ['11.19.21_19', 'Chito5', 21],\n",
       " ['11.20.21_11', 'Chito5', 37],\n",
       " ['11.21.21_16', 'Chito5', 66],\n",
       " ['11.22.21_16', 'Chito5', 90],\n",
       " ['11.18.21_23', 'Chitin', 0],\n",
       " ['11.19.21_10', 'Chitin', 11],\n",
       " ['11.19.21_20', 'Chitin', 21],\n",
       " ['11.20.21_12', 'Chitin', 37],\n",
       " ['11.21.21_17', 'Chitin', 66],\n",
       " ['11.22.21_17', 'Chitin', 90]]"
      ]
     },
     "execution_count": 19,
     "metadata": {},
     "output_type": "execute_result"
    }
   ],
   "source": [
    "rep1_samples = []\n",
    "for carbon in [\"Nag\", \"Chito5\", \"Chitin\"]:\n",
    "    time_dir = rep1_dir + '/' + carbon \n",
    "    timepoints = [name for name in os.listdir(time_dir) if os.path.isdir(os.path.join(time_dir, name))] \n",
    "    timepoints.sort()\n",
    "    rep1_samples.append([list(zipped) for zipped in zip(timepoints, [carbon] * len(timepoints), [0, 11, 21, 37, 66, 90])])\n",
    "rep1_samples = rep1_samples[0] + rep1_samples[1] + rep1_samples[2]\n",
    "rep1_samples"
   ]
  },
  {
   "cell_type": "code",
   "execution_count": 20,
   "metadata": {},
   "outputs": [],
   "source": [
    "rep2_samples = [[\"12.13.21_9PM\", \"Nag\", 0],\n",
    "                [\"12.14.21_8AM\", \"Nag\", 11],\n",
    "                [\"12.14.21_7PM\", \"Nag\", 22],\n",
    "                [\"12.15.21_8AM\", \"Nag\", 35],\n",
    "                [\"12.16.21_3PM\", \"Nag\", 66],\n",
    "                [\"12.17.21_3PM\", \"Nag\", 90],\n",
    "                [\"12.13.21_10PM\", \"Chito5\", 0],\n",
    "                [\"12.14.21_9AM\", \"Chito5\", 11],\n",
    "                [\"12.14.21_8PM\", \"Chito5\", 22],\n",
    "                [\"12.15.21_9AM\", \"Chito5\", 35],\n",
    "                [\"12.16.21_4PM\", \"Chito5\", 66],\n",
    "                [\"12.17.21_4PM\", \"Chito5\", 90],\n",
    "                [\"12.13.21_11PM\", \"Chitin\", 0],\n",
    "                [\"12.14.21_10AM\", \"Chitin\", 11],\n",
    "                [\"12.14.21_9PM\", \"Chitin\", 22],\n",
    "                [\"12.15.21_10AM\", \"Chitin\", 35],\n",
    "                [\"12.16.21_5PM\", \"Chitin\", 66],\n",
    "                [\"12.17.21_5PM\", \"Chitin\", 90]]"
   ]
  },
  {
   "cell_type": "code",
   "execution_count": 21,
   "metadata": {},
   "outputs": [],
   "source": [
    "rep3_samples = [[\"02.07.22_9PM\", \"Nag\", 0],\n",
    "                [\"02.08.22_8AM\", \"Nag\", 11],\n",
    "                [\"02.08.22_7PM\", \"Nag\", 22],\n",
    "                [\"02.09.22_10AM\", \"Nag\", 37],\n",
    "                [\"02.10.22_3PM\", \"Nag\", 66],\n",
    "                [\"02.11.22_3PM\", \"Nag\", 90],\n",
    "                [\"02.07.22_10PM\", \"Chito5\", 0],\n",
    "                [\"02.08.22_9AM\", \"Chito5\", 11],\n",
    "                [\"02.08.22_8PM\", \"Chito5\", 22],\n",
    "                # [\"02.09.22_11AM\", \"Chito5\", 37],\n",
    "                [\"02.10.22_4PM\", \"Chito5\", 66],\n",
    "                [\"02.11.22_4PM\", \"Chito5\", 90],\n",
    "                [\"02.07.22_11PM\", \"Chitin\", 0],\n",
    "                [\"02.08.22_10AM\", \"Chitin\", 11],\n",
    "                [\"02.08.22_9PM\", \"Chitin\", 22],\n",
    "                [\"02.09.22_12PM\", \"Chitin\", 37],\n",
    "                [\"02.10.22_5PM\", \"Chitin\", 66],\n",
    "                [\"02.11.22_5PM\", \"Chitin\", 90]]\n"
   ]
  },
  {
   "cell_type": "code",
   "execution_count": 93,
   "metadata": {},
   "outputs": [],
   "source": [
    "result_dir = work_dir + \"/results_20220408\"\n",
    "pop_densities = []\n",
    "for rep_samples, folder in zip([rep1_samples, rep2_samples, rep3_samples], [\"results_rep\" + str(i+1) for i in range(3)]):\n",
    "    rep_dir = result_dir + \"/\" + folder    \n",
    "    for sample in rep_samples:\n",
    "        rgb_file = rep_dir + '/' + sample[0] + '_' + sample[1] + \"_1_combined_processed.pkl\"\n",
    "        with open(rgb_file, 'rb') as f:\n",
    "            rgb_array = pickle.load(f)\n",
    "        pops = rgb_array.sum(axis=(0,1))\n",
    "        pop_den = pops / pops.sum()\n",
    "        pop_densities.append([folder.split('_')[1], sample[1], sample[2], pop_den[0], pop_den[1], pop_den[2]])\n",
    "# pop_den_table = [list(pop_deni) for pop_deni in zip(*pop_densities)]"
   ]
  },
  {
   "cell_type": "code",
   "execution_count": 94,
   "metadata": {},
   "outputs": [
    {
     "data": {
      "text/html": [
       "<div>\n",
       "<style scoped>\n",
       "    .dataframe tbody tr th:only-of-type {\n",
       "        vertical-align: middle;\n",
       "    }\n",
       "\n",
       "    .dataframe tbody tr th {\n",
       "        vertical-align: top;\n",
       "    }\n",
       "\n",
       "    .dataframe thead th {\n",
       "        text-align: right;\n",
       "    }\n",
       "</style>\n",
       "<table border=\"1\" class=\"dataframe\">\n",
       "  <thead>\n",
       "    <tr style=\"text-align: right;\">\n",
       "      <th></th>\n",
       "      <th>Rep</th>\n",
       "      <th>Carbon</th>\n",
       "      <th>Time</th>\n",
       "      <th>R</th>\n",
       "      <th>G</th>\n",
       "      <th>B</th>\n",
       "    </tr>\n",
       "  </thead>\n",
       "  <tbody>\n",
       "    <tr>\n",
       "      <th>0</th>\n",
       "      <td>rep1</td>\n",
       "      <td>Nag</td>\n",
       "      <td>0</td>\n",
       "      <td>0.373772</td>\n",
       "      <td>0.013258</td>\n",
       "      <td>0.612970</td>\n",
       "    </tr>\n",
       "    <tr>\n",
       "      <th>1</th>\n",
       "      <td>rep1</td>\n",
       "      <td>Nag</td>\n",
       "      <td>11</td>\n",
       "      <td>0.182860</td>\n",
       "      <td>0.016181</td>\n",
       "      <td>0.800959</td>\n",
       "    </tr>\n",
       "    <tr>\n",
       "      <th>2</th>\n",
       "      <td>rep1</td>\n",
       "      <td>Nag</td>\n",
       "      <td>21</td>\n",
       "      <td>0.027128</td>\n",
       "      <td>0.020428</td>\n",
       "      <td>0.952443</td>\n",
       "    </tr>\n",
       "    <tr>\n",
       "      <th>3</th>\n",
       "      <td>rep1</td>\n",
       "      <td>Nag</td>\n",
       "      <td>37</td>\n",
       "      <td>0.080007</td>\n",
       "      <td>0.085327</td>\n",
       "      <td>0.834666</td>\n",
       "    </tr>\n",
       "    <tr>\n",
       "      <th>4</th>\n",
       "      <td>rep1</td>\n",
       "      <td>Nag</td>\n",
       "      <td>66</td>\n",
       "      <td>0.058351</td>\n",
       "      <td>0.139180</td>\n",
       "      <td>0.802468</td>\n",
       "    </tr>\n",
       "  </tbody>\n",
       "</table>\n",
       "</div>"
      ],
      "text/plain": [
       "    Rep Carbon  Time         R         G         B\n",
       "0  rep1    Nag     0  0.373772  0.013258  0.612970\n",
       "1  rep1    Nag    11  0.182860  0.016181  0.800959\n",
       "2  rep1    Nag    21  0.027128  0.020428  0.952443\n",
       "3  rep1    Nag    37  0.080007  0.085327  0.834666\n",
       "4  rep1    Nag    66  0.058351  0.139180  0.802468"
      ]
     },
     "execution_count": 94,
     "metadata": {},
     "output_type": "execute_result"
    }
   ],
   "source": [
    "pop_den_df = pd.DataFrame(pop_densities, columns = [\"Rep\", \"Carbon\", \"Time\", \"R\", \"G\", \"B\"])\n",
    "pop_den_df.head()"
   ]
  },
  {
   "cell_type": "code",
   "execution_count": 95,
   "metadata": {},
   "outputs": [
    {
     "data": {
      "application/vnd.plotly.v1+json": {
       "config": {
        "plotlyServerURL": "https://plot.ly"
       },
       "data": [
        {
         "a": [
          0.3737716369183117,
          0.18286030541952247,
          0.02712849917266579,
          0.08000727310812361,
          0.0583512743226211,
          0.33222767743097725
         ],
         "b": [
          0.013258196892347418,
          0.016180604276496143,
          0.02042819405840658,
          0.08532698918524668,
          0.13918036854653465,
          0.4990617157418185
         ],
         "c": [
          0.6129701661893409,
          0.8009590903039814,
          0.9524433067689276,
          0.8346657377066297,
          0.8024683571308443,
          0.16871060682720423
         ],
         "hovertemplate": "Carbon=Nag<br>R=%{a}<br>G=%{b}<br>B=%{c}<br>Time=%{marker.size}<extra></extra>",
         "legendgroup": "Nag",
         "marker": {
          "color": "#636efa",
          "size": [
           0,
           11,
           21,
           37,
           66,
           90
          ],
          "sizemode": "area",
          "sizeref": 0.225,
          "symbol": "circle"
         },
         "mode": "markers",
         "name": "Nag",
         "showlegend": true,
         "subplot": "ternary",
         "type": "scatterternary"
        },
        {
         "a": [
          0.13955426277220356,
          0.31606607417060884,
          0.08159541433732703,
          0.06432776087718876,
          0.030860873662088947,
          0.009730744040467754
         ],
         "b": [
          0.07448234147146877,
          0.0031957617597518223,
          0.015585409502114629,
          0.021319920225610908,
          0.18264595310382034,
          0.5507431154951548
         ],
         "c": [
          0.7859633957563277,
          0.6807381640696393,
          0.9028191761605583,
          0.9143523188972004,
          0.7864931732340907,
          0.4395261404643775
         ],
         "hovertemplate": "Carbon=Chito5<br>R=%{a}<br>G=%{b}<br>B=%{c}<br>Time=%{marker.size}<extra></extra>",
         "legendgroup": "Chito5",
         "marker": {
          "color": "#EF553B",
          "size": [
           0,
           11,
           21,
           37,
           66,
           90
          ],
          "sizemode": "area",
          "sizeref": 0.225,
          "symbol": "circle"
         },
         "mode": "markers",
         "name": "Chito5",
         "showlegend": true,
         "subplot": "ternary",
         "type": "scatterternary"
        },
        {
         "a": [
          0.2994426897724766,
          0.1174410160448337,
          0.13466760206028927,
          0.14632442148462646,
          0.16876610744384085,
          0.30664379337880787
         ],
         "b": [
          0.0289150171551826,
          0.01792436972598916,
          0.3376752802848831,
          0.017678789188822895,
          0.18042297032686963,
          0.19273632749050712
         ],
         "c": [
          0.6716422930723408,
          0.8646346142291771,
          0.5276571176548276,
          0.8359967893265506,
          0.6508109222292895,
          0.5006198791306851
         ],
         "hovertemplate": "Carbon=Chitin<br>R=%{a}<br>G=%{b}<br>B=%{c}<br>Time=%{marker.size}<extra></extra>",
         "legendgroup": "Chitin",
         "marker": {
          "color": "#00cc96",
          "size": [
           0,
           11,
           21,
           37,
           66,
           90
          ],
          "sizemode": "area",
          "sizeref": 0.225,
          "symbol": "circle"
         },
         "mode": "markers",
         "name": "Chitin",
         "showlegend": true,
         "subplot": "ternary",
         "type": "scatterternary"
        }
       ],
       "layout": {
        "legend": {
         "itemsizing": "constant",
         "title": {
          "text": "Carbon"
         },
         "tracegroupgap": 0
        },
        "margin": {
         "t": 60
        },
        "template": {
         "data": {
          "bar": [
           {
            "error_x": {
             "color": "#2a3f5f"
            },
            "error_y": {
             "color": "#2a3f5f"
            },
            "marker": {
             "line": {
              "color": "#E5ECF6",
              "width": 0.5
             },
             "pattern": {
              "fillmode": "overlay",
              "size": 10,
              "solidity": 0.2
             }
            },
            "type": "bar"
           }
          ],
          "barpolar": [
           {
            "marker": {
             "line": {
              "color": "#E5ECF6",
              "width": 0.5
             },
             "pattern": {
              "fillmode": "overlay",
              "size": 10,
              "solidity": 0.2
             }
            },
            "type": "barpolar"
           }
          ],
          "carpet": [
           {
            "aaxis": {
             "endlinecolor": "#2a3f5f",
             "gridcolor": "white",
             "linecolor": "white",
             "minorgridcolor": "white",
             "startlinecolor": "#2a3f5f"
            },
            "baxis": {
             "endlinecolor": "#2a3f5f",
             "gridcolor": "white",
             "linecolor": "white",
             "minorgridcolor": "white",
             "startlinecolor": "#2a3f5f"
            },
            "type": "carpet"
           }
          ],
          "choropleth": [
           {
            "colorbar": {
             "outlinewidth": 0,
             "ticks": ""
            },
            "type": "choropleth"
           }
          ],
          "contour": [
           {
            "colorbar": {
             "outlinewidth": 0,
             "ticks": ""
            },
            "colorscale": [
             [
              0,
              "#0d0887"
             ],
             [
              0.1111111111111111,
              "#46039f"
             ],
             [
              0.2222222222222222,
              "#7201a8"
             ],
             [
              0.3333333333333333,
              "#9c179e"
             ],
             [
              0.4444444444444444,
              "#bd3786"
             ],
             [
              0.5555555555555556,
              "#d8576b"
             ],
             [
              0.6666666666666666,
              "#ed7953"
             ],
             [
              0.7777777777777778,
              "#fb9f3a"
             ],
             [
              0.8888888888888888,
              "#fdca26"
             ],
             [
              1,
              "#f0f921"
             ]
            ],
            "type": "contour"
           }
          ],
          "contourcarpet": [
           {
            "colorbar": {
             "outlinewidth": 0,
             "ticks": ""
            },
            "type": "contourcarpet"
           }
          ],
          "heatmap": [
           {
            "colorbar": {
             "outlinewidth": 0,
             "ticks": ""
            },
            "colorscale": [
             [
              0,
              "#0d0887"
             ],
             [
              0.1111111111111111,
              "#46039f"
             ],
             [
              0.2222222222222222,
              "#7201a8"
             ],
             [
              0.3333333333333333,
              "#9c179e"
             ],
             [
              0.4444444444444444,
              "#bd3786"
             ],
             [
              0.5555555555555556,
              "#d8576b"
             ],
             [
              0.6666666666666666,
              "#ed7953"
             ],
             [
              0.7777777777777778,
              "#fb9f3a"
             ],
             [
              0.8888888888888888,
              "#fdca26"
             ],
             [
              1,
              "#f0f921"
             ]
            ],
            "type": "heatmap"
           }
          ],
          "heatmapgl": [
           {
            "colorbar": {
             "outlinewidth": 0,
             "ticks": ""
            },
            "colorscale": [
             [
              0,
              "#0d0887"
             ],
             [
              0.1111111111111111,
              "#46039f"
             ],
             [
              0.2222222222222222,
              "#7201a8"
             ],
             [
              0.3333333333333333,
              "#9c179e"
             ],
             [
              0.4444444444444444,
              "#bd3786"
             ],
             [
              0.5555555555555556,
              "#d8576b"
             ],
             [
              0.6666666666666666,
              "#ed7953"
             ],
             [
              0.7777777777777778,
              "#fb9f3a"
             ],
             [
              0.8888888888888888,
              "#fdca26"
             ],
             [
              1,
              "#f0f921"
             ]
            ],
            "type": "heatmapgl"
           }
          ],
          "histogram": [
           {
            "marker": {
             "pattern": {
              "fillmode": "overlay",
              "size": 10,
              "solidity": 0.2
             }
            },
            "type": "histogram"
           }
          ],
          "histogram2d": [
           {
            "colorbar": {
             "outlinewidth": 0,
             "ticks": ""
            },
            "colorscale": [
             [
              0,
              "#0d0887"
             ],
             [
              0.1111111111111111,
              "#46039f"
             ],
             [
              0.2222222222222222,
              "#7201a8"
             ],
             [
              0.3333333333333333,
              "#9c179e"
             ],
             [
              0.4444444444444444,
              "#bd3786"
             ],
             [
              0.5555555555555556,
              "#d8576b"
             ],
             [
              0.6666666666666666,
              "#ed7953"
             ],
             [
              0.7777777777777778,
              "#fb9f3a"
             ],
             [
              0.8888888888888888,
              "#fdca26"
             ],
             [
              1,
              "#f0f921"
             ]
            ],
            "type": "histogram2d"
           }
          ],
          "histogram2dcontour": [
           {
            "colorbar": {
             "outlinewidth": 0,
             "ticks": ""
            },
            "colorscale": [
             [
              0,
              "#0d0887"
             ],
             [
              0.1111111111111111,
              "#46039f"
             ],
             [
              0.2222222222222222,
              "#7201a8"
             ],
             [
              0.3333333333333333,
              "#9c179e"
             ],
             [
              0.4444444444444444,
              "#bd3786"
             ],
             [
              0.5555555555555556,
              "#d8576b"
             ],
             [
              0.6666666666666666,
              "#ed7953"
             ],
             [
              0.7777777777777778,
              "#fb9f3a"
             ],
             [
              0.8888888888888888,
              "#fdca26"
             ],
             [
              1,
              "#f0f921"
             ]
            ],
            "type": "histogram2dcontour"
           }
          ],
          "mesh3d": [
           {
            "colorbar": {
             "outlinewidth": 0,
             "ticks": ""
            },
            "type": "mesh3d"
           }
          ],
          "parcoords": [
           {
            "line": {
             "colorbar": {
              "outlinewidth": 0,
              "ticks": ""
             }
            },
            "type": "parcoords"
           }
          ],
          "pie": [
           {
            "automargin": true,
            "type": "pie"
           }
          ],
          "scatter": [
           {
            "marker": {
             "colorbar": {
              "outlinewidth": 0,
              "ticks": ""
             }
            },
            "type": "scatter"
           }
          ],
          "scatter3d": [
           {
            "line": {
             "colorbar": {
              "outlinewidth": 0,
              "ticks": ""
             }
            },
            "marker": {
             "colorbar": {
              "outlinewidth": 0,
              "ticks": ""
             }
            },
            "type": "scatter3d"
           }
          ],
          "scattercarpet": [
           {
            "marker": {
             "colorbar": {
              "outlinewidth": 0,
              "ticks": ""
             }
            },
            "type": "scattercarpet"
           }
          ],
          "scattergeo": [
           {
            "marker": {
             "colorbar": {
              "outlinewidth": 0,
              "ticks": ""
             }
            },
            "type": "scattergeo"
           }
          ],
          "scattergl": [
           {
            "marker": {
             "colorbar": {
              "outlinewidth": 0,
              "ticks": ""
             }
            },
            "type": "scattergl"
           }
          ],
          "scattermapbox": [
           {
            "marker": {
             "colorbar": {
              "outlinewidth": 0,
              "ticks": ""
             }
            },
            "type": "scattermapbox"
           }
          ],
          "scatterpolar": [
           {
            "marker": {
             "colorbar": {
              "outlinewidth": 0,
              "ticks": ""
             }
            },
            "type": "scatterpolar"
           }
          ],
          "scatterpolargl": [
           {
            "marker": {
             "colorbar": {
              "outlinewidth": 0,
              "ticks": ""
             }
            },
            "type": "scatterpolargl"
           }
          ],
          "scatterternary": [
           {
            "marker": {
             "colorbar": {
              "outlinewidth": 0,
              "ticks": ""
             }
            },
            "type": "scatterternary"
           }
          ],
          "surface": [
           {
            "colorbar": {
             "outlinewidth": 0,
             "ticks": ""
            },
            "colorscale": [
             [
              0,
              "#0d0887"
             ],
             [
              0.1111111111111111,
              "#46039f"
             ],
             [
              0.2222222222222222,
              "#7201a8"
             ],
             [
              0.3333333333333333,
              "#9c179e"
             ],
             [
              0.4444444444444444,
              "#bd3786"
             ],
             [
              0.5555555555555556,
              "#d8576b"
             ],
             [
              0.6666666666666666,
              "#ed7953"
             ],
             [
              0.7777777777777778,
              "#fb9f3a"
             ],
             [
              0.8888888888888888,
              "#fdca26"
             ],
             [
              1,
              "#f0f921"
             ]
            ],
            "type": "surface"
           }
          ],
          "table": [
           {
            "cells": {
             "fill": {
              "color": "#EBF0F8"
             },
             "line": {
              "color": "white"
             }
            },
            "header": {
             "fill": {
              "color": "#C8D4E3"
             },
             "line": {
              "color": "white"
             }
            },
            "type": "table"
           }
          ]
         },
         "layout": {
          "annotationdefaults": {
           "arrowcolor": "#2a3f5f",
           "arrowhead": 0,
           "arrowwidth": 1
          },
          "autotypenumbers": "strict",
          "coloraxis": {
           "colorbar": {
            "outlinewidth": 0,
            "ticks": ""
           }
          },
          "colorscale": {
           "diverging": [
            [
             0,
             "#8e0152"
            ],
            [
             0.1,
             "#c51b7d"
            ],
            [
             0.2,
             "#de77ae"
            ],
            [
             0.3,
             "#f1b6da"
            ],
            [
             0.4,
             "#fde0ef"
            ],
            [
             0.5,
             "#f7f7f7"
            ],
            [
             0.6,
             "#e6f5d0"
            ],
            [
             0.7,
             "#b8e186"
            ],
            [
             0.8,
             "#7fbc41"
            ],
            [
             0.9,
             "#4d9221"
            ],
            [
             1,
             "#276419"
            ]
           ],
           "sequential": [
            [
             0,
             "#0d0887"
            ],
            [
             0.1111111111111111,
             "#46039f"
            ],
            [
             0.2222222222222222,
             "#7201a8"
            ],
            [
             0.3333333333333333,
             "#9c179e"
            ],
            [
             0.4444444444444444,
             "#bd3786"
            ],
            [
             0.5555555555555556,
             "#d8576b"
            ],
            [
             0.6666666666666666,
             "#ed7953"
            ],
            [
             0.7777777777777778,
             "#fb9f3a"
            ],
            [
             0.8888888888888888,
             "#fdca26"
            ],
            [
             1,
             "#f0f921"
            ]
           ],
           "sequentialminus": [
            [
             0,
             "#0d0887"
            ],
            [
             0.1111111111111111,
             "#46039f"
            ],
            [
             0.2222222222222222,
             "#7201a8"
            ],
            [
             0.3333333333333333,
             "#9c179e"
            ],
            [
             0.4444444444444444,
             "#bd3786"
            ],
            [
             0.5555555555555556,
             "#d8576b"
            ],
            [
             0.6666666666666666,
             "#ed7953"
            ],
            [
             0.7777777777777778,
             "#fb9f3a"
            ],
            [
             0.8888888888888888,
             "#fdca26"
            ],
            [
             1,
             "#f0f921"
            ]
           ]
          },
          "colorway": [
           "#636efa",
           "#EF553B",
           "#00cc96",
           "#ab63fa",
           "#FFA15A",
           "#19d3f3",
           "#FF6692",
           "#B6E880",
           "#FF97FF",
           "#FECB52"
          ],
          "font": {
           "color": "#2a3f5f"
          },
          "geo": {
           "bgcolor": "white",
           "lakecolor": "white",
           "landcolor": "#E5ECF6",
           "showlakes": true,
           "showland": true,
           "subunitcolor": "white"
          },
          "hoverlabel": {
           "align": "left"
          },
          "hovermode": "closest",
          "mapbox": {
           "style": "light"
          },
          "paper_bgcolor": "white",
          "plot_bgcolor": "#E5ECF6",
          "polar": {
           "angularaxis": {
            "gridcolor": "white",
            "linecolor": "white",
            "ticks": ""
           },
           "bgcolor": "#E5ECF6",
           "radialaxis": {
            "gridcolor": "white",
            "linecolor": "white",
            "ticks": ""
           }
          },
          "scene": {
           "xaxis": {
            "backgroundcolor": "#E5ECF6",
            "gridcolor": "white",
            "gridwidth": 2,
            "linecolor": "white",
            "showbackground": true,
            "ticks": "",
            "zerolinecolor": "white"
           },
           "yaxis": {
            "backgroundcolor": "#E5ECF6",
            "gridcolor": "white",
            "gridwidth": 2,
            "linecolor": "white",
            "showbackground": true,
            "ticks": "",
            "zerolinecolor": "white"
           },
           "zaxis": {
            "backgroundcolor": "#E5ECF6",
            "gridcolor": "white",
            "gridwidth": 2,
            "linecolor": "white",
            "showbackground": true,
            "ticks": "",
            "zerolinecolor": "white"
           }
          },
          "shapedefaults": {
           "line": {
            "color": "#2a3f5f"
           }
          },
          "ternary": {
           "aaxis": {
            "gridcolor": "white",
            "linecolor": "white",
            "ticks": ""
           },
           "baxis": {
            "gridcolor": "white",
            "linecolor": "white",
            "ticks": ""
           },
           "bgcolor": "#E5ECF6",
           "caxis": {
            "gridcolor": "white",
            "linecolor": "white",
            "ticks": ""
           }
          },
          "title": {
           "x": 0.05
          },
          "xaxis": {
           "automargin": true,
           "gridcolor": "white",
           "linecolor": "white",
           "ticks": "",
           "title": {
            "standoff": 15
           },
           "zerolinecolor": "white",
           "zerolinewidth": 2
          },
          "yaxis": {
           "automargin": true,
           "gridcolor": "white",
           "linecolor": "white",
           "ticks": "",
           "title": {
            "standoff": 15
           },
           "zerolinecolor": "white",
           "zerolinewidth": 2
          }
         }
        },
        "ternary": {
         "aaxis": {
          "title": {
           "text": "R"
          }
         },
         "baxis": {
          "title": {
           "text": "G"
          }
         },
         "caxis": {
          "title": {
           "text": "B"
          }
         },
         "domain": {
          "x": [
           0,
           1
          ],
          "y": [
           0,
           1
          ]
         }
        }
       }
      }
     },
     "metadata": {},
     "output_type": "display_data"
    }
   ],
   "source": [
    "fig = px.scatter_ternary(pop_den_df[pop_den_df[\"Rep\"] == \"rep1\"], a='R', b='G', c='B',\n",
    "    size=\"Time\", color=\"Carbon\")\n",
    "fig.write_image(\"results/rep1.pdf\")\n",
    "fig.show()"
   ]
  },
  {
   "cell_type": "code",
   "execution_count": 96,
   "metadata": {},
   "outputs": [
    {
     "data": {
      "application/vnd.plotly.v1+json": {
       "config": {
        "plotlyServerURL": "https://plot.ly"
       },
       "data": [
        {
         "a": [
          0.5251415557264751,
          0.34051099505611,
          0.2959333944151351,
          0.06274672101914365,
          0.42128252110862646,
          0.4549843100735905
         ],
         "b": [
          0.031787839231146905,
          0.006569462611503966,
          0.0428233297222186,
          0.1095242378709232,
          0.26247149626884136,
          0.4279484743810341
         ],
         "c": [
          0.44307060504237794,
          0.652919542332386,
          0.6612432758626463,
          0.8277290411099332,
          0.3162459826225322,
          0.11706721554537534
         ],
         "hovertemplate": "Carbon=Nag<br>R=%{a}<br>G=%{b}<br>B=%{c}<br>Time=%{marker.size}<extra></extra>",
         "legendgroup": "Nag",
         "marker": {
          "color": "#636efa",
          "size": [
           0,
           11,
           22,
           35,
           66,
           90
          ],
          "sizemode": "area",
          "sizeref": 0.225,
          "symbol": "circle"
         },
         "mode": "markers",
         "name": "Nag",
         "showlegend": true,
         "subplot": "ternary",
         "type": "scatterternary"
        },
        {
         "a": [
          0.02075095552133378,
          0.34726022601320344,
          0.3602217978701831,
          0.6606233492281809,
          0.056603396588590774,
          0.20824393319966084
         ],
         "b": [
          0.012453768325769079,
          0.012304125117743139,
          0.05403282852767662,
          0.015282601178972548,
          0.11811922747923195,
          0.4900008904881286
         ],
         "c": [
          0.9667952761528972,
          0.6404356488690535,
          0.5857453736021403,
          0.32409404959284654,
          0.8252773759321773,
          0.30175517631221055
         ],
         "hovertemplate": "Carbon=Chito5<br>R=%{a}<br>G=%{b}<br>B=%{c}<br>Time=%{marker.size}<extra></extra>",
         "legendgroup": "Chito5",
         "marker": {
          "color": "#EF553B",
          "size": [
           0,
           11,
           22,
           35,
           66,
           90
          ],
          "sizemode": "area",
          "sizeref": 0.225,
          "symbol": "circle"
         },
         "mode": "markers",
         "name": "Chito5",
         "showlegend": true,
         "subplot": "ternary",
         "type": "scatterternary"
        },
        {
         "a": [
          0.4796978428952862,
          0.9042549428363554,
          0.9520028010471662,
          0.8525784468782739,
          0.2660325558533249,
          0.2612899983070388
         ],
         "b": [
          0.18705857713072668,
          0.03542295450012872,
          0.020172936783336093,
          0.14733842615461382,
          0.24120849756670382,
          0.3560405343774107
         ],
         "c": [
          0.3332435799739871,
          0.06032210266351581,
          0.02782426216949777,
          0.00008312696711228146,
          0.49275894657997127,
          0.3826694673155505
         ],
         "hovertemplate": "Carbon=Chitin<br>R=%{a}<br>G=%{b}<br>B=%{c}<br>Time=%{marker.size}<extra></extra>",
         "legendgroup": "Chitin",
         "marker": {
          "color": "#00cc96",
          "size": [
           0,
           11,
           22,
           35,
           66,
           90
          ],
          "sizemode": "area",
          "sizeref": 0.225,
          "symbol": "circle"
         },
         "mode": "markers",
         "name": "Chitin",
         "showlegend": true,
         "subplot": "ternary",
         "type": "scatterternary"
        }
       ],
       "layout": {
        "legend": {
         "itemsizing": "constant",
         "title": {
          "text": "Carbon"
         },
         "tracegroupgap": 0
        },
        "margin": {
         "t": 60
        },
        "template": {
         "data": {
          "bar": [
           {
            "error_x": {
             "color": "#2a3f5f"
            },
            "error_y": {
             "color": "#2a3f5f"
            },
            "marker": {
             "line": {
              "color": "#E5ECF6",
              "width": 0.5
             },
             "pattern": {
              "fillmode": "overlay",
              "size": 10,
              "solidity": 0.2
             }
            },
            "type": "bar"
           }
          ],
          "barpolar": [
           {
            "marker": {
             "line": {
              "color": "#E5ECF6",
              "width": 0.5
             },
             "pattern": {
              "fillmode": "overlay",
              "size": 10,
              "solidity": 0.2
             }
            },
            "type": "barpolar"
           }
          ],
          "carpet": [
           {
            "aaxis": {
             "endlinecolor": "#2a3f5f",
             "gridcolor": "white",
             "linecolor": "white",
             "minorgridcolor": "white",
             "startlinecolor": "#2a3f5f"
            },
            "baxis": {
             "endlinecolor": "#2a3f5f",
             "gridcolor": "white",
             "linecolor": "white",
             "minorgridcolor": "white",
             "startlinecolor": "#2a3f5f"
            },
            "type": "carpet"
           }
          ],
          "choropleth": [
           {
            "colorbar": {
             "outlinewidth": 0,
             "ticks": ""
            },
            "type": "choropleth"
           }
          ],
          "contour": [
           {
            "colorbar": {
             "outlinewidth": 0,
             "ticks": ""
            },
            "colorscale": [
             [
              0,
              "#0d0887"
             ],
             [
              0.1111111111111111,
              "#46039f"
             ],
             [
              0.2222222222222222,
              "#7201a8"
             ],
             [
              0.3333333333333333,
              "#9c179e"
             ],
             [
              0.4444444444444444,
              "#bd3786"
             ],
             [
              0.5555555555555556,
              "#d8576b"
             ],
             [
              0.6666666666666666,
              "#ed7953"
             ],
             [
              0.7777777777777778,
              "#fb9f3a"
             ],
             [
              0.8888888888888888,
              "#fdca26"
             ],
             [
              1,
              "#f0f921"
             ]
            ],
            "type": "contour"
           }
          ],
          "contourcarpet": [
           {
            "colorbar": {
             "outlinewidth": 0,
             "ticks": ""
            },
            "type": "contourcarpet"
           }
          ],
          "heatmap": [
           {
            "colorbar": {
             "outlinewidth": 0,
             "ticks": ""
            },
            "colorscale": [
             [
              0,
              "#0d0887"
             ],
             [
              0.1111111111111111,
              "#46039f"
             ],
             [
              0.2222222222222222,
              "#7201a8"
             ],
             [
              0.3333333333333333,
              "#9c179e"
             ],
             [
              0.4444444444444444,
              "#bd3786"
             ],
             [
              0.5555555555555556,
              "#d8576b"
             ],
             [
              0.6666666666666666,
              "#ed7953"
             ],
             [
              0.7777777777777778,
              "#fb9f3a"
             ],
             [
              0.8888888888888888,
              "#fdca26"
             ],
             [
              1,
              "#f0f921"
             ]
            ],
            "type": "heatmap"
           }
          ],
          "heatmapgl": [
           {
            "colorbar": {
             "outlinewidth": 0,
             "ticks": ""
            },
            "colorscale": [
             [
              0,
              "#0d0887"
             ],
             [
              0.1111111111111111,
              "#46039f"
             ],
             [
              0.2222222222222222,
              "#7201a8"
             ],
             [
              0.3333333333333333,
              "#9c179e"
             ],
             [
              0.4444444444444444,
              "#bd3786"
             ],
             [
              0.5555555555555556,
              "#d8576b"
             ],
             [
              0.6666666666666666,
              "#ed7953"
             ],
             [
              0.7777777777777778,
              "#fb9f3a"
             ],
             [
              0.8888888888888888,
              "#fdca26"
             ],
             [
              1,
              "#f0f921"
             ]
            ],
            "type": "heatmapgl"
           }
          ],
          "histogram": [
           {
            "marker": {
             "pattern": {
              "fillmode": "overlay",
              "size": 10,
              "solidity": 0.2
             }
            },
            "type": "histogram"
           }
          ],
          "histogram2d": [
           {
            "colorbar": {
             "outlinewidth": 0,
             "ticks": ""
            },
            "colorscale": [
             [
              0,
              "#0d0887"
             ],
             [
              0.1111111111111111,
              "#46039f"
             ],
             [
              0.2222222222222222,
              "#7201a8"
             ],
             [
              0.3333333333333333,
              "#9c179e"
             ],
             [
              0.4444444444444444,
              "#bd3786"
             ],
             [
              0.5555555555555556,
              "#d8576b"
             ],
             [
              0.6666666666666666,
              "#ed7953"
             ],
             [
              0.7777777777777778,
              "#fb9f3a"
             ],
             [
              0.8888888888888888,
              "#fdca26"
             ],
             [
              1,
              "#f0f921"
             ]
            ],
            "type": "histogram2d"
           }
          ],
          "histogram2dcontour": [
           {
            "colorbar": {
             "outlinewidth": 0,
             "ticks": ""
            },
            "colorscale": [
             [
              0,
              "#0d0887"
             ],
             [
              0.1111111111111111,
              "#46039f"
             ],
             [
              0.2222222222222222,
              "#7201a8"
             ],
             [
              0.3333333333333333,
              "#9c179e"
             ],
             [
              0.4444444444444444,
              "#bd3786"
             ],
             [
              0.5555555555555556,
              "#d8576b"
             ],
             [
              0.6666666666666666,
              "#ed7953"
             ],
             [
              0.7777777777777778,
              "#fb9f3a"
             ],
             [
              0.8888888888888888,
              "#fdca26"
             ],
             [
              1,
              "#f0f921"
             ]
            ],
            "type": "histogram2dcontour"
           }
          ],
          "mesh3d": [
           {
            "colorbar": {
             "outlinewidth": 0,
             "ticks": ""
            },
            "type": "mesh3d"
           }
          ],
          "parcoords": [
           {
            "line": {
             "colorbar": {
              "outlinewidth": 0,
              "ticks": ""
             }
            },
            "type": "parcoords"
           }
          ],
          "pie": [
           {
            "automargin": true,
            "type": "pie"
           }
          ],
          "scatter": [
           {
            "marker": {
             "colorbar": {
              "outlinewidth": 0,
              "ticks": ""
             }
            },
            "type": "scatter"
           }
          ],
          "scatter3d": [
           {
            "line": {
             "colorbar": {
              "outlinewidth": 0,
              "ticks": ""
             }
            },
            "marker": {
             "colorbar": {
              "outlinewidth": 0,
              "ticks": ""
             }
            },
            "type": "scatter3d"
           }
          ],
          "scattercarpet": [
           {
            "marker": {
             "colorbar": {
              "outlinewidth": 0,
              "ticks": ""
             }
            },
            "type": "scattercarpet"
           }
          ],
          "scattergeo": [
           {
            "marker": {
             "colorbar": {
              "outlinewidth": 0,
              "ticks": ""
             }
            },
            "type": "scattergeo"
           }
          ],
          "scattergl": [
           {
            "marker": {
             "colorbar": {
              "outlinewidth": 0,
              "ticks": ""
             }
            },
            "type": "scattergl"
           }
          ],
          "scattermapbox": [
           {
            "marker": {
             "colorbar": {
              "outlinewidth": 0,
              "ticks": ""
             }
            },
            "type": "scattermapbox"
           }
          ],
          "scatterpolar": [
           {
            "marker": {
             "colorbar": {
              "outlinewidth": 0,
              "ticks": ""
             }
            },
            "type": "scatterpolar"
           }
          ],
          "scatterpolargl": [
           {
            "marker": {
             "colorbar": {
              "outlinewidth": 0,
              "ticks": ""
             }
            },
            "type": "scatterpolargl"
           }
          ],
          "scatterternary": [
           {
            "marker": {
             "colorbar": {
              "outlinewidth": 0,
              "ticks": ""
             }
            },
            "type": "scatterternary"
           }
          ],
          "surface": [
           {
            "colorbar": {
             "outlinewidth": 0,
             "ticks": ""
            },
            "colorscale": [
             [
              0,
              "#0d0887"
             ],
             [
              0.1111111111111111,
              "#46039f"
             ],
             [
              0.2222222222222222,
              "#7201a8"
             ],
             [
              0.3333333333333333,
              "#9c179e"
             ],
             [
              0.4444444444444444,
              "#bd3786"
             ],
             [
              0.5555555555555556,
              "#d8576b"
             ],
             [
              0.6666666666666666,
              "#ed7953"
             ],
             [
              0.7777777777777778,
              "#fb9f3a"
             ],
             [
              0.8888888888888888,
              "#fdca26"
             ],
             [
              1,
              "#f0f921"
             ]
            ],
            "type": "surface"
           }
          ],
          "table": [
           {
            "cells": {
             "fill": {
              "color": "#EBF0F8"
             },
             "line": {
              "color": "white"
             }
            },
            "header": {
             "fill": {
              "color": "#C8D4E3"
             },
             "line": {
              "color": "white"
             }
            },
            "type": "table"
           }
          ]
         },
         "layout": {
          "annotationdefaults": {
           "arrowcolor": "#2a3f5f",
           "arrowhead": 0,
           "arrowwidth": 1
          },
          "autotypenumbers": "strict",
          "coloraxis": {
           "colorbar": {
            "outlinewidth": 0,
            "ticks": ""
           }
          },
          "colorscale": {
           "diverging": [
            [
             0,
             "#8e0152"
            ],
            [
             0.1,
             "#c51b7d"
            ],
            [
             0.2,
             "#de77ae"
            ],
            [
             0.3,
             "#f1b6da"
            ],
            [
             0.4,
             "#fde0ef"
            ],
            [
             0.5,
             "#f7f7f7"
            ],
            [
             0.6,
             "#e6f5d0"
            ],
            [
             0.7,
             "#b8e186"
            ],
            [
             0.8,
             "#7fbc41"
            ],
            [
             0.9,
             "#4d9221"
            ],
            [
             1,
             "#276419"
            ]
           ],
           "sequential": [
            [
             0,
             "#0d0887"
            ],
            [
             0.1111111111111111,
             "#46039f"
            ],
            [
             0.2222222222222222,
             "#7201a8"
            ],
            [
             0.3333333333333333,
             "#9c179e"
            ],
            [
             0.4444444444444444,
             "#bd3786"
            ],
            [
             0.5555555555555556,
             "#d8576b"
            ],
            [
             0.6666666666666666,
             "#ed7953"
            ],
            [
             0.7777777777777778,
             "#fb9f3a"
            ],
            [
             0.8888888888888888,
             "#fdca26"
            ],
            [
             1,
             "#f0f921"
            ]
           ],
           "sequentialminus": [
            [
             0,
             "#0d0887"
            ],
            [
             0.1111111111111111,
             "#46039f"
            ],
            [
             0.2222222222222222,
             "#7201a8"
            ],
            [
             0.3333333333333333,
             "#9c179e"
            ],
            [
             0.4444444444444444,
             "#bd3786"
            ],
            [
             0.5555555555555556,
             "#d8576b"
            ],
            [
             0.6666666666666666,
             "#ed7953"
            ],
            [
             0.7777777777777778,
             "#fb9f3a"
            ],
            [
             0.8888888888888888,
             "#fdca26"
            ],
            [
             1,
             "#f0f921"
            ]
           ]
          },
          "colorway": [
           "#636efa",
           "#EF553B",
           "#00cc96",
           "#ab63fa",
           "#FFA15A",
           "#19d3f3",
           "#FF6692",
           "#B6E880",
           "#FF97FF",
           "#FECB52"
          ],
          "font": {
           "color": "#2a3f5f"
          },
          "geo": {
           "bgcolor": "white",
           "lakecolor": "white",
           "landcolor": "#E5ECF6",
           "showlakes": true,
           "showland": true,
           "subunitcolor": "white"
          },
          "hoverlabel": {
           "align": "left"
          },
          "hovermode": "closest",
          "mapbox": {
           "style": "light"
          },
          "paper_bgcolor": "white",
          "plot_bgcolor": "#E5ECF6",
          "polar": {
           "angularaxis": {
            "gridcolor": "white",
            "linecolor": "white",
            "ticks": ""
           },
           "bgcolor": "#E5ECF6",
           "radialaxis": {
            "gridcolor": "white",
            "linecolor": "white",
            "ticks": ""
           }
          },
          "scene": {
           "xaxis": {
            "backgroundcolor": "#E5ECF6",
            "gridcolor": "white",
            "gridwidth": 2,
            "linecolor": "white",
            "showbackground": true,
            "ticks": "",
            "zerolinecolor": "white"
           },
           "yaxis": {
            "backgroundcolor": "#E5ECF6",
            "gridcolor": "white",
            "gridwidth": 2,
            "linecolor": "white",
            "showbackground": true,
            "ticks": "",
            "zerolinecolor": "white"
           },
           "zaxis": {
            "backgroundcolor": "#E5ECF6",
            "gridcolor": "white",
            "gridwidth": 2,
            "linecolor": "white",
            "showbackground": true,
            "ticks": "",
            "zerolinecolor": "white"
           }
          },
          "shapedefaults": {
           "line": {
            "color": "#2a3f5f"
           }
          },
          "ternary": {
           "aaxis": {
            "gridcolor": "white",
            "linecolor": "white",
            "ticks": ""
           },
           "baxis": {
            "gridcolor": "white",
            "linecolor": "white",
            "ticks": ""
           },
           "bgcolor": "#E5ECF6",
           "caxis": {
            "gridcolor": "white",
            "linecolor": "white",
            "ticks": ""
           }
          },
          "title": {
           "x": 0.05
          },
          "xaxis": {
           "automargin": true,
           "gridcolor": "white",
           "linecolor": "white",
           "ticks": "",
           "title": {
            "standoff": 15
           },
           "zerolinecolor": "white",
           "zerolinewidth": 2
          },
          "yaxis": {
           "automargin": true,
           "gridcolor": "white",
           "linecolor": "white",
           "ticks": "",
           "title": {
            "standoff": 15
           },
           "zerolinecolor": "white",
           "zerolinewidth": 2
          }
         }
        },
        "ternary": {
         "aaxis": {
          "title": {
           "text": "R"
          }
         },
         "baxis": {
          "title": {
           "text": "G"
          }
         },
         "caxis": {
          "title": {
           "text": "B"
          }
         },
         "domain": {
          "x": [
           0,
           1
          ],
          "y": [
           0,
           1
          ]
         }
        }
       }
      }
     },
     "metadata": {},
     "output_type": "display_data"
    }
   ],
   "source": [
    "fig = px.scatter_ternary(pop_den_df[pop_den_df[\"Rep\"] == \"rep2\"], a='R', b='G', c='B',\n",
    "    size=\"Time\", color=\"Carbon\")\n",
    "fig.write_image(\"results/rep2.pdf\")\n",
    "fig.show()"
   ]
  },
  {
   "cell_type": "code",
   "execution_count": 97,
   "metadata": {},
   "outputs": [
    {
     "data": {
      "application/vnd.plotly.v1+json": {
       "config": {
        "plotlyServerURL": "https://plot.ly"
       },
       "data": [
        {
         "a": [
          0.48107341872613235,
          0.4728219575455074,
          0.4379981020385138,
          0.20368583891905143,
          0.38059630859868004,
          0.0837392971928067
         ],
         "b": [
          0.1348707693684215,
          0.039445300027813684,
          0.014863160944376076,
          0.04332209185906644,
          0.14480807185591332,
          0.026578497875805105
         ],
         "c": [
          0.38405581190544613,
          0.48773274242667897,
          0.5471387370171101,
          0.7529920692218821,
          0.47459561954540663,
          0.8896822049313882
         ],
         "hovertemplate": "Carbon=Nag<br>R=%{a}<br>G=%{b}<br>B=%{c}<br>Time=%{marker.size}<extra></extra>",
         "legendgroup": "Nag",
         "marker": {
          "color": "#636efa",
          "size": [
           0,
           11,
           22,
           37,
           66,
           90
          ],
          "sizemode": "area",
          "sizeref": 0.225,
          "symbol": "circle"
         },
         "mode": "markers",
         "name": "Nag",
         "showlegend": true,
         "subplot": "ternary",
         "type": "scatterternary"
        },
        {
         "a": [
          0.40249221610311137,
          0.9416280530549502,
          0.6931438301998286,
          0.26753778141691503,
          0.361422096226536
         ],
         "b": [
          0.4160485756238812,
          0.05779726530805157,
          0.02361046709029781,
          0.33852746438920545,
          0.4600971394708181
         ],
         "c": [
          0.18145920827300743,
          0.0005746816369981688,
          0.28324570270987354,
          0.39393475419387947,
          0.17848076430264592
         ],
         "hovertemplate": "Carbon=Chito5<br>R=%{a}<br>G=%{b}<br>B=%{c}<br>Time=%{marker.size}<extra></extra>",
         "legendgroup": "Chito5",
         "marker": {
          "color": "#EF553B",
          "size": [
           0,
           11,
           22,
           66,
           90
          ],
          "sizemode": "area",
          "sizeref": 0.225,
          "symbol": "circle"
         },
         "mode": "markers",
         "name": "Chito5",
         "showlegend": true,
         "subplot": "ternary",
         "type": "scatterternary"
        },
        {
         "a": [
          0.014709476592544297,
          0.011494911962673606,
          0.3443011103227961,
          0.271610314310457,
          0.2999966805520174,
          0.0011534106859027022
         ],
         "b": [
          0.0012887774876685675,
          0.004902252560744565,
          0.0005663042138032078,
          0.0010925047186578414,
          0.0008796053860093402,
          0.002359408590302045
         ],
         "c": [
          0.9840017459197872,
          0.9836028354765818,
          0.6551325854634007,
          0.7272971809708851,
          0.6991237140619733,
          0.9964871807237953
         ],
         "hovertemplate": "Carbon=Chitin<br>R=%{a}<br>G=%{b}<br>B=%{c}<br>Time=%{marker.size}<extra></extra>",
         "legendgroup": "Chitin",
         "marker": {
          "color": "#00cc96",
          "size": [
           0,
           11,
           22,
           37,
           66,
           90
          ],
          "sizemode": "area",
          "sizeref": 0.225,
          "symbol": "circle"
         },
         "mode": "markers",
         "name": "Chitin",
         "showlegend": true,
         "subplot": "ternary",
         "type": "scatterternary"
        }
       ],
       "layout": {
        "legend": {
         "itemsizing": "constant",
         "title": {
          "text": "Carbon"
         },
         "tracegroupgap": 0
        },
        "margin": {
         "t": 60
        },
        "template": {
         "data": {
          "bar": [
           {
            "error_x": {
             "color": "#2a3f5f"
            },
            "error_y": {
             "color": "#2a3f5f"
            },
            "marker": {
             "line": {
              "color": "#E5ECF6",
              "width": 0.5
             },
             "pattern": {
              "fillmode": "overlay",
              "size": 10,
              "solidity": 0.2
             }
            },
            "type": "bar"
           }
          ],
          "barpolar": [
           {
            "marker": {
             "line": {
              "color": "#E5ECF6",
              "width": 0.5
             },
             "pattern": {
              "fillmode": "overlay",
              "size": 10,
              "solidity": 0.2
             }
            },
            "type": "barpolar"
           }
          ],
          "carpet": [
           {
            "aaxis": {
             "endlinecolor": "#2a3f5f",
             "gridcolor": "white",
             "linecolor": "white",
             "minorgridcolor": "white",
             "startlinecolor": "#2a3f5f"
            },
            "baxis": {
             "endlinecolor": "#2a3f5f",
             "gridcolor": "white",
             "linecolor": "white",
             "minorgridcolor": "white",
             "startlinecolor": "#2a3f5f"
            },
            "type": "carpet"
           }
          ],
          "choropleth": [
           {
            "colorbar": {
             "outlinewidth": 0,
             "ticks": ""
            },
            "type": "choropleth"
           }
          ],
          "contour": [
           {
            "colorbar": {
             "outlinewidth": 0,
             "ticks": ""
            },
            "colorscale": [
             [
              0,
              "#0d0887"
             ],
             [
              0.1111111111111111,
              "#46039f"
             ],
             [
              0.2222222222222222,
              "#7201a8"
             ],
             [
              0.3333333333333333,
              "#9c179e"
             ],
             [
              0.4444444444444444,
              "#bd3786"
             ],
             [
              0.5555555555555556,
              "#d8576b"
             ],
             [
              0.6666666666666666,
              "#ed7953"
             ],
             [
              0.7777777777777778,
              "#fb9f3a"
             ],
             [
              0.8888888888888888,
              "#fdca26"
             ],
             [
              1,
              "#f0f921"
             ]
            ],
            "type": "contour"
           }
          ],
          "contourcarpet": [
           {
            "colorbar": {
             "outlinewidth": 0,
             "ticks": ""
            },
            "type": "contourcarpet"
           }
          ],
          "heatmap": [
           {
            "colorbar": {
             "outlinewidth": 0,
             "ticks": ""
            },
            "colorscale": [
             [
              0,
              "#0d0887"
             ],
             [
              0.1111111111111111,
              "#46039f"
             ],
             [
              0.2222222222222222,
              "#7201a8"
             ],
             [
              0.3333333333333333,
              "#9c179e"
             ],
             [
              0.4444444444444444,
              "#bd3786"
             ],
             [
              0.5555555555555556,
              "#d8576b"
             ],
             [
              0.6666666666666666,
              "#ed7953"
             ],
             [
              0.7777777777777778,
              "#fb9f3a"
             ],
             [
              0.8888888888888888,
              "#fdca26"
             ],
             [
              1,
              "#f0f921"
             ]
            ],
            "type": "heatmap"
           }
          ],
          "heatmapgl": [
           {
            "colorbar": {
             "outlinewidth": 0,
             "ticks": ""
            },
            "colorscale": [
             [
              0,
              "#0d0887"
             ],
             [
              0.1111111111111111,
              "#46039f"
             ],
             [
              0.2222222222222222,
              "#7201a8"
             ],
             [
              0.3333333333333333,
              "#9c179e"
             ],
             [
              0.4444444444444444,
              "#bd3786"
             ],
             [
              0.5555555555555556,
              "#d8576b"
             ],
             [
              0.6666666666666666,
              "#ed7953"
             ],
             [
              0.7777777777777778,
              "#fb9f3a"
             ],
             [
              0.8888888888888888,
              "#fdca26"
             ],
             [
              1,
              "#f0f921"
             ]
            ],
            "type": "heatmapgl"
           }
          ],
          "histogram": [
           {
            "marker": {
             "pattern": {
              "fillmode": "overlay",
              "size": 10,
              "solidity": 0.2
             }
            },
            "type": "histogram"
           }
          ],
          "histogram2d": [
           {
            "colorbar": {
             "outlinewidth": 0,
             "ticks": ""
            },
            "colorscale": [
             [
              0,
              "#0d0887"
             ],
             [
              0.1111111111111111,
              "#46039f"
             ],
             [
              0.2222222222222222,
              "#7201a8"
             ],
             [
              0.3333333333333333,
              "#9c179e"
             ],
             [
              0.4444444444444444,
              "#bd3786"
             ],
             [
              0.5555555555555556,
              "#d8576b"
             ],
             [
              0.6666666666666666,
              "#ed7953"
             ],
             [
              0.7777777777777778,
              "#fb9f3a"
             ],
             [
              0.8888888888888888,
              "#fdca26"
             ],
             [
              1,
              "#f0f921"
             ]
            ],
            "type": "histogram2d"
           }
          ],
          "histogram2dcontour": [
           {
            "colorbar": {
             "outlinewidth": 0,
             "ticks": ""
            },
            "colorscale": [
             [
              0,
              "#0d0887"
             ],
             [
              0.1111111111111111,
              "#46039f"
             ],
             [
              0.2222222222222222,
              "#7201a8"
             ],
             [
              0.3333333333333333,
              "#9c179e"
             ],
             [
              0.4444444444444444,
              "#bd3786"
             ],
             [
              0.5555555555555556,
              "#d8576b"
             ],
             [
              0.6666666666666666,
              "#ed7953"
             ],
             [
              0.7777777777777778,
              "#fb9f3a"
             ],
             [
              0.8888888888888888,
              "#fdca26"
             ],
             [
              1,
              "#f0f921"
             ]
            ],
            "type": "histogram2dcontour"
           }
          ],
          "mesh3d": [
           {
            "colorbar": {
             "outlinewidth": 0,
             "ticks": ""
            },
            "type": "mesh3d"
           }
          ],
          "parcoords": [
           {
            "line": {
             "colorbar": {
              "outlinewidth": 0,
              "ticks": ""
             }
            },
            "type": "parcoords"
           }
          ],
          "pie": [
           {
            "automargin": true,
            "type": "pie"
           }
          ],
          "scatter": [
           {
            "marker": {
             "colorbar": {
              "outlinewidth": 0,
              "ticks": ""
             }
            },
            "type": "scatter"
           }
          ],
          "scatter3d": [
           {
            "line": {
             "colorbar": {
              "outlinewidth": 0,
              "ticks": ""
             }
            },
            "marker": {
             "colorbar": {
              "outlinewidth": 0,
              "ticks": ""
             }
            },
            "type": "scatter3d"
           }
          ],
          "scattercarpet": [
           {
            "marker": {
             "colorbar": {
              "outlinewidth": 0,
              "ticks": ""
             }
            },
            "type": "scattercarpet"
           }
          ],
          "scattergeo": [
           {
            "marker": {
             "colorbar": {
              "outlinewidth": 0,
              "ticks": ""
             }
            },
            "type": "scattergeo"
           }
          ],
          "scattergl": [
           {
            "marker": {
             "colorbar": {
              "outlinewidth": 0,
              "ticks": ""
             }
            },
            "type": "scattergl"
           }
          ],
          "scattermapbox": [
           {
            "marker": {
             "colorbar": {
              "outlinewidth": 0,
              "ticks": ""
             }
            },
            "type": "scattermapbox"
           }
          ],
          "scatterpolar": [
           {
            "marker": {
             "colorbar": {
              "outlinewidth": 0,
              "ticks": ""
             }
            },
            "type": "scatterpolar"
           }
          ],
          "scatterpolargl": [
           {
            "marker": {
             "colorbar": {
              "outlinewidth": 0,
              "ticks": ""
             }
            },
            "type": "scatterpolargl"
           }
          ],
          "scatterternary": [
           {
            "marker": {
             "colorbar": {
              "outlinewidth": 0,
              "ticks": ""
             }
            },
            "type": "scatterternary"
           }
          ],
          "surface": [
           {
            "colorbar": {
             "outlinewidth": 0,
             "ticks": ""
            },
            "colorscale": [
             [
              0,
              "#0d0887"
             ],
             [
              0.1111111111111111,
              "#46039f"
             ],
             [
              0.2222222222222222,
              "#7201a8"
             ],
             [
              0.3333333333333333,
              "#9c179e"
             ],
             [
              0.4444444444444444,
              "#bd3786"
             ],
             [
              0.5555555555555556,
              "#d8576b"
             ],
             [
              0.6666666666666666,
              "#ed7953"
             ],
             [
              0.7777777777777778,
              "#fb9f3a"
             ],
             [
              0.8888888888888888,
              "#fdca26"
             ],
             [
              1,
              "#f0f921"
             ]
            ],
            "type": "surface"
           }
          ],
          "table": [
           {
            "cells": {
             "fill": {
              "color": "#EBF0F8"
             },
             "line": {
              "color": "white"
             }
            },
            "header": {
             "fill": {
              "color": "#C8D4E3"
             },
             "line": {
              "color": "white"
             }
            },
            "type": "table"
           }
          ]
         },
         "layout": {
          "annotationdefaults": {
           "arrowcolor": "#2a3f5f",
           "arrowhead": 0,
           "arrowwidth": 1
          },
          "autotypenumbers": "strict",
          "coloraxis": {
           "colorbar": {
            "outlinewidth": 0,
            "ticks": ""
           }
          },
          "colorscale": {
           "diverging": [
            [
             0,
             "#8e0152"
            ],
            [
             0.1,
             "#c51b7d"
            ],
            [
             0.2,
             "#de77ae"
            ],
            [
             0.3,
             "#f1b6da"
            ],
            [
             0.4,
             "#fde0ef"
            ],
            [
             0.5,
             "#f7f7f7"
            ],
            [
             0.6,
             "#e6f5d0"
            ],
            [
             0.7,
             "#b8e186"
            ],
            [
             0.8,
             "#7fbc41"
            ],
            [
             0.9,
             "#4d9221"
            ],
            [
             1,
             "#276419"
            ]
           ],
           "sequential": [
            [
             0,
             "#0d0887"
            ],
            [
             0.1111111111111111,
             "#46039f"
            ],
            [
             0.2222222222222222,
             "#7201a8"
            ],
            [
             0.3333333333333333,
             "#9c179e"
            ],
            [
             0.4444444444444444,
             "#bd3786"
            ],
            [
             0.5555555555555556,
             "#d8576b"
            ],
            [
             0.6666666666666666,
             "#ed7953"
            ],
            [
             0.7777777777777778,
             "#fb9f3a"
            ],
            [
             0.8888888888888888,
             "#fdca26"
            ],
            [
             1,
             "#f0f921"
            ]
           ],
           "sequentialminus": [
            [
             0,
             "#0d0887"
            ],
            [
             0.1111111111111111,
             "#46039f"
            ],
            [
             0.2222222222222222,
             "#7201a8"
            ],
            [
             0.3333333333333333,
             "#9c179e"
            ],
            [
             0.4444444444444444,
             "#bd3786"
            ],
            [
             0.5555555555555556,
             "#d8576b"
            ],
            [
             0.6666666666666666,
             "#ed7953"
            ],
            [
             0.7777777777777778,
             "#fb9f3a"
            ],
            [
             0.8888888888888888,
             "#fdca26"
            ],
            [
             1,
             "#f0f921"
            ]
           ]
          },
          "colorway": [
           "#636efa",
           "#EF553B",
           "#00cc96",
           "#ab63fa",
           "#FFA15A",
           "#19d3f3",
           "#FF6692",
           "#B6E880",
           "#FF97FF",
           "#FECB52"
          ],
          "font": {
           "color": "#2a3f5f"
          },
          "geo": {
           "bgcolor": "white",
           "lakecolor": "white",
           "landcolor": "#E5ECF6",
           "showlakes": true,
           "showland": true,
           "subunitcolor": "white"
          },
          "hoverlabel": {
           "align": "left"
          },
          "hovermode": "closest",
          "mapbox": {
           "style": "light"
          },
          "paper_bgcolor": "white",
          "plot_bgcolor": "#E5ECF6",
          "polar": {
           "angularaxis": {
            "gridcolor": "white",
            "linecolor": "white",
            "ticks": ""
           },
           "bgcolor": "#E5ECF6",
           "radialaxis": {
            "gridcolor": "white",
            "linecolor": "white",
            "ticks": ""
           }
          },
          "scene": {
           "xaxis": {
            "backgroundcolor": "#E5ECF6",
            "gridcolor": "white",
            "gridwidth": 2,
            "linecolor": "white",
            "showbackground": true,
            "ticks": "",
            "zerolinecolor": "white"
           },
           "yaxis": {
            "backgroundcolor": "#E5ECF6",
            "gridcolor": "white",
            "gridwidth": 2,
            "linecolor": "white",
            "showbackground": true,
            "ticks": "",
            "zerolinecolor": "white"
           },
           "zaxis": {
            "backgroundcolor": "#E5ECF6",
            "gridcolor": "white",
            "gridwidth": 2,
            "linecolor": "white",
            "showbackground": true,
            "ticks": "",
            "zerolinecolor": "white"
           }
          },
          "shapedefaults": {
           "line": {
            "color": "#2a3f5f"
           }
          },
          "ternary": {
           "aaxis": {
            "gridcolor": "white",
            "linecolor": "white",
            "ticks": ""
           },
           "baxis": {
            "gridcolor": "white",
            "linecolor": "white",
            "ticks": ""
           },
           "bgcolor": "#E5ECF6",
           "caxis": {
            "gridcolor": "white",
            "linecolor": "white",
            "ticks": ""
           }
          },
          "title": {
           "x": 0.05
          },
          "xaxis": {
           "automargin": true,
           "gridcolor": "white",
           "linecolor": "white",
           "ticks": "",
           "title": {
            "standoff": 15
           },
           "zerolinecolor": "white",
           "zerolinewidth": 2
          },
          "yaxis": {
           "automargin": true,
           "gridcolor": "white",
           "linecolor": "white",
           "ticks": "",
           "title": {
            "standoff": 15
           },
           "zerolinecolor": "white",
           "zerolinewidth": 2
          }
         }
        },
        "ternary": {
         "aaxis": {
          "title": {
           "text": "R"
          }
         },
         "baxis": {
          "title": {
           "text": "G"
          }
         },
         "caxis": {
          "title": {
           "text": "B"
          }
         },
         "domain": {
          "x": [
           0,
           1
          ],
          "y": [
           0,
           1
          ]
         }
        }
       }
      }
     },
     "metadata": {},
     "output_type": "display_data"
    }
   ],
   "source": [
    "fig = px.scatter_ternary(pop_den_df[pop_den_df[\"Rep\"] == \"rep3\"], a='R', b='G', c='B',\n",
    "    size=\"Time\", color=\"Carbon\")\n",
    "fig.write_image(\"results/rep3.pdf\")\n",
    "fig.show()"
   ]
  },
  {
   "cell_type": "code",
   "execution_count": 108,
   "metadata": {},
   "outputs": [
    {
     "data": {
      "application/vnd.plotly.v1+json": {
       "config": {
        "plotlyServerURL": "https://plot.ly"
       },
       "data": [
        {
         "a": [
          0.3737716369183117,
          0.18286030541952247,
          0.02712849917266579,
          0.08000727310812361,
          0.0583512743226211,
          0.33222767743097725
         ],
         "b": [
          0.013258196892347418,
          0.016180604276496143,
          0.02042819405840658,
          0.08532698918524668,
          0.13918036854653465,
          0.4990617157418185
         ],
         "c": [
          0.6129701661893409,
          0.8009590903039814,
          0.9524433067689276,
          0.8346657377066297,
          0.8024683571308443,
          0.16871060682720423
         ],
         "hovertemplate": "Carbon=Nag<br>Rep=rep1<br>R=%{a}<br>G=%{b}<br>B=%{c}<br>Time=%{marker.size}<extra></extra>",
         "legendgroup": "Nag, rep1",
         "marker": {
          "color": "#636efa",
          "size": [
           0,
           11,
           21,
           37,
           66,
           90
          ],
          "sizemode": "area",
          "sizeref": 0.225,
          "symbol": "circle"
         },
         "mode": "markers",
         "name": "Nag, rep1",
         "showlegend": true,
         "subplot": "ternary",
         "type": "scatterternary"
        },
        {
         "a": [
          0.5251415557264751,
          0.34051099505611,
          0.2959333944151351,
          0.06274672101914365,
          0.42128252110862646,
          0.4549843100735905
         ],
         "b": [
          0.031787839231146905,
          0.006569462611503966,
          0.0428233297222186,
          0.1095242378709232,
          0.26247149626884136,
          0.4279484743810341
         ],
         "c": [
          0.44307060504237794,
          0.652919542332386,
          0.6612432758626463,
          0.8277290411099332,
          0.3162459826225322,
          0.11706721554537534
         ],
         "hovertemplate": "Carbon=Nag<br>Rep=rep2<br>R=%{a}<br>G=%{b}<br>B=%{c}<br>Time=%{marker.size}<extra></extra>",
         "legendgroup": "Nag, rep2",
         "marker": {
          "color": "#636efa",
          "size": [
           0,
           11,
           22,
           35,
           66,
           90
          ],
          "sizemode": "area",
          "sizeref": 0.225,
          "symbol": "diamond"
         },
         "mode": "markers",
         "name": "Nag, rep2",
         "showlegend": true,
         "subplot": "ternary",
         "type": "scatterternary"
        },
        {
         "a": [
          0.48107341872613235,
          0.4728219575455074,
          0.4379981020385138,
          0.20368583891905143,
          0.38059630859868004,
          0.0837392971928067
         ],
         "b": [
          0.1348707693684215,
          0.039445300027813684,
          0.014863160944376076,
          0.04332209185906644,
          0.14480807185591332,
          0.026578497875805105
         ],
         "c": [
          0.38405581190544613,
          0.48773274242667897,
          0.5471387370171101,
          0.7529920692218821,
          0.47459561954540663,
          0.8896822049313882
         ],
         "hovertemplate": "Carbon=Nag<br>Rep=rep3<br>R=%{a}<br>G=%{b}<br>B=%{c}<br>Time=%{marker.size}<extra></extra>",
         "legendgroup": "Nag, rep3",
         "marker": {
          "color": "#636efa",
          "size": [
           0,
           11,
           22,
           37,
           66,
           90
          ],
          "sizemode": "area",
          "sizeref": 0.225,
          "symbol": "square"
         },
         "mode": "markers",
         "name": "Nag, rep3",
         "showlegend": true,
         "subplot": "ternary",
         "type": "scatterternary"
        },
        {
         "a": [
          0.13955426277220356,
          0.31606607417060884,
          0.08159541433732703,
          0.06432776087718876,
          0.030860873662088947,
          0.009730744040467754
         ],
         "b": [
          0.07448234147146877,
          0.0031957617597518223,
          0.015585409502114629,
          0.021319920225610908,
          0.18264595310382034,
          0.5507431154951548
         ],
         "c": [
          0.7859633957563277,
          0.6807381640696393,
          0.9028191761605583,
          0.9143523188972004,
          0.7864931732340907,
          0.4395261404643775
         ],
         "hovertemplate": "Carbon=Chito5<br>Rep=rep1<br>R=%{a}<br>G=%{b}<br>B=%{c}<br>Time=%{marker.size}<extra></extra>",
         "legendgroup": "Chito5, rep1",
         "marker": {
          "color": "#EF553B",
          "size": [
           0,
           11,
           21,
           37,
           66,
           90
          ],
          "sizemode": "area",
          "sizeref": 0.225,
          "symbol": "circle"
         },
         "mode": "markers",
         "name": "Chito5, rep1",
         "showlegend": true,
         "subplot": "ternary",
         "type": "scatterternary"
        },
        {
         "a": [
          0.02075095552133378,
          0.34726022601320344,
          0.3602217978701831,
          0.6606233492281809,
          0.056603396588590774,
          0.20824393319966084
         ],
         "b": [
          0.012453768325769079,
          0.012304125117743139,
          0.05403282852767662,
          0.015282601178972548,
          0.11811922747923195,
          0.4900008904881286
         ],
         "c": [
          0.9667952761528972,
          0.6404356488690535,
          0.5857453736021403,
          0.32409404959284654,
          0.8252773759321773,
          0.30175517631221055
         ],
         "hovertemplate": "Carbon=Chito5<br>Rep=rep2<br>R=%{a}<br>G=%{b}<br>B=%{c}<br>Time=%{marker.size}<extra></extra>",
         "legendgroup": "Chito5, rep2",
         "marker": {
          "color": "#EF553B",
          "size": [
           0,
           11,
           22,
           35,
           66,
           90
          ],
          "sizemode": "area",
          "sizeref": 0.225,
          "symbol": "diamond"
         },
         "mode": "markers",
         "name": "Chito5, rep2",
         "showlegend": true,
         "subplot": "ternary",
         "type": "scatterternary"
        },
        {
         "a": [
          0.40249221610311137,
          0.9416280530549502,
          0.6931438301998286,
          0.26753778141691503,
          0.361422096226536
         ],
         "b": [
          0.4160485756238812,
          0.05779726530805157,
          0.02361046709029781,
          0.33852746438920545,
          0.4600971394708181
         ],
         "c": [
          0.18145920827300743,
          0.0005746816369981688,
          0.28324570270987354,
          0.39393475419387947,
          0.17848076430264592
         ],
         "hovertemplate": "Carbon=Chito5<br>Rep=rep3<br>R=%{a}<br>G=%{b}<br>B=%{c}<br>Time=%{marker.size}<extra></extra>",
         "legendgroup": "Chito5, rep3",
         "marker": {
          "color": "#EF553B",
          "size": [
           0,
           11,
           22,
           66,
           90
          ],
          "sizemode": "area",
          "sizeref": 0.225,
          "symbol": "square"
         },
         "mode": "markers",
         "name": "Chito5, rep3",
         "showlegend": true,
         "subplot": "ternary",
         "type": "scatterternary"
        },
        {
         "a": [
          0.2994426897724766,
          0.1174410160448337,
          0.13466760206028927,
          0.14632442148462646,
          0.16876610744384085,
          0.30664379337880787
         ],
         "b": [
          0.0289150171551826,
          0.01792436972598916,
          0.3376752802848831,
          0.017678789188822895,
          0.18042297032686963,
          0.19273632749050712
         ],
         "c": [
          0.6716422930723408,
          0.8646346142291771,
          0.5276571176548276,
          0.8359967893265506,
          0.6508109222292895,
          0.5006198791306851
         ],
         "hovertemplate": "Carbon=Chitin<br>Rep=rep1<br>R=%{a}<br>G=%{b}<br>B=%{c}<br>Time=%{marker.size}<extra></extra>",
         "legendgroup": "Chitin, rep1",
         "marker": {
          "color": "#00cc96",
          "size": [
           0,
           11,
           21,
           37,
           66,
           90
          ],
          "sizemode": "area",
          "sizeref": 0.225,
          "symbol": "circle"
         },
         "mode": "markers",
         "name": "Chitin, rep1",
         "showlegend": true,
         "subplot": "ternary",
         "type": "scatterternary"
        },
        {
         "a": [
          0.4796978428952862,
          0.9042549428363554,
          0.9520028010471662,
          0.8525784468782739,
          0.2660325558533249,
          0.2612899983070388
         ],
         "b": [
          0.18705857713072668,
          0.03542295450012872,
          0.020172936783336093,
          0.14733842615461382,
          0.24120849756670382,
          0.3560405343774107
         ],
         "c": [
          0.3332435799739871,
          0.06032210266351581,
          0.02782426216949777,
          0.00008312696711228146,
          0.49275894657997127,
          0.3826694673155505
         ],
         "hovertemplate": "Carbon=Chitin<br>Rep=rep2<br>R=%{a}<br>G=%{b}<br>B=%{c}<br>Time=%{marker.size}<extra></extra>",
         "legendgroup": "Chitin, rep2",
         "marker": {
          "color": "#00cc96",
          "size": [
           0,
           11,
           22,
           35,
           66,
           90
          ],
          "sizemode": "area",
          "sizeref": 0.225,
          "symbol": "diamond"
         },
         "mode": "markers",
         "name": "Chitin, rep2",
         "showlegend": true,
         "subplot": "ternary",
         "type": "scatterternary"
        },
        {
         "a": [
          0.014709476592544297,
          0.011494911962673606,
          0.3443011103227961,
          0.271610314310457,
          0.2999966805520174,
          0.0011534106859027022
         ],
         "b": [
          0.0012887774876685675,
          0.004902252560744565,
          0.0005663042138032078,
          0.0010925047186578414,
          0.0008796053860093402,
          0.002359408590302045
         ],
         "c": [
          0.9840017459197872,
          0.9836028354765818,
          0.6551325854634007,
          0.7272971809708851,
          0.6991237140619733,
          0.9964871807237953
         ],
         "hovertemplate": "Carbon=Chitin<br>Rep=rep3<br>R=%{a}<br>G=%{b}<br>B=%{c}<br>Time=%{marker.size}<extra></extra>",
         "legendgroup": "Chitin, rep3",
         "marker": {
          "color": "#00cc96",
          "size": [
           0,
           11,
           22,
           37,
           66,
           90
          ],
          "sizemode": "area",
          "sizeref": 0.225,
          "symbol": "square"
         },
         "mode": "markers",
         "name": "Chitin, rep3",
         "showlegend": true,
         "subplot": "ternary",
         "type": "scatterternary"
        }
       ],
       "layout": {
        "legend": {
         "itemsizing": "constant",
         "title": {
          "text": "Carbon, Rep"
         },
         "tracegroupgap": 0
        },
        "margin": {
         "t": 60
        },
        "template": {
         "data": {
          "bar": [
           {
            "error_x": {
             "color": "#2a3f5f"
            },
            "error_y": {
             "color": "#2a3f5f"
            },
            "marker": {
             "line": {
              "color": "#E5ECF6",
              "width": 0.5
             },
             "pattern": {
              "fillmode": "overlay",
              "size": 10,
              "solidity": 0.2
             }
            },
            "type": "bar"
           }
          ],
          "barpolar": [
           {
            "marker": {
             "line": {
              "color": "#E5ECF6",
              "width": 0.5
             },
             "pattern": {
              "fillmode": "overlay",
              "size": 10,
              "solidity": 0.2
             }
            },
            "type": "barpolar"
           }
          ],
          "carpet": [
           {
            "aaxis": {
             "endlinecolor": "#2a3f5f",
             "gridcolor": "white",
             "linecolor": "white",
             "minorgridcolor": "white",
             "startlinecolor": "#2a3f5f"
            },
            "baxis": {
             "endlinecolor": "#2a3f5f",
             "gridcolor": "white",
             "linecolor": "white",
             "minorgridcolor": "white",
             "startlinecolor": "#2a3f5f"
            },
            "type": "carpet"
           }
          ],
          "choropleth": [
           {
            "colorbar": {
             "outlinewidth": 0,
             "ticks": ""
            },
            "type": "choropleth"
           }
          ],
          "contour": [
           {
            "colorbar": {
             "outlinewidth": 0,
             "ticks": ""
            },
            "colorscale": [
             [
              0,
              "#0d0887"
             ],
             [
              0.1111111111111111,
              "#46039f"
             ],
             [
              0.2222222222222222,
              "#7201a8"
             ],
             [
              0.3333333333333333,
              "#9c179e"
             ],
             [
              0.4444444444444444,
              "#bd3786"
             ],
             [
              0.5555555555555556,
              "#d8576b"
             ],
             [
              0.6666666666666666,
              "#ed7953"
             ],
             [
              0.7777777777777778,
              "#fb9f3a"
             ],
             [
              0.8888888888888888,
              "#fdca26"
             ],
             [
              1,
              "#f0f921"
             ]
            ],
            "type": "contour"
           }
          ],
          "contourcarpet": [
           {
            "colorbar": {
             "outlinewidth": 0,
             "ticks": ""
            },
            "type": "contourcarpet"
           }
          ],
          "heatmap": [
           {
            "colorbar": {
             "outlinewidth": 0,
             "ticks": ""
            },
            "colorscale": [
             [
              0,
              "#0d0887"
             ],
             [
              0.1111111111111111,
              "#46039f"
             ],
             [
              0.2222222222222222,
              "#7201a8"
             ],
             [
              0.3333333333333333,
              "#9c179e"
             ],
             [
              0.4444444444444444,
              "#bd3786"
             ],
             [
              0.5555555555555556,
              "#d8576b"
             ],
             [
              0.6666666666666666,
              "#ed7953"
             ],
             [
              0.7777777777777778,
              "#fb9f3a"
             ],
             [
              0.8888888888888888,
              "#fdca26"
             ],
             [
              1,
              "#f0f921"
             ]
            ],
            "type": "heatmap"
           }
          ],
          "heatmapgl": [
           {
            "colorbar": {
             "outlinewidth": 0,
             "ticks": ""
            },
            "colorscale": [
             [
              0,
              "#0d0887"
             ],
             [
              0.1111111111111111,
              "#46039f"
             ],
             [
              0.2222222222222222,
              "#7201a8"
             ],
             [
              0.3333333333333333,
              "#9c179e"
             ],
             [
              0.4444444444444444,
              "#bd3786"
             ],
             [
              0.5555555555555556,
              "#d8576b"
             ],
             [
              0.6666666666666666,
              "#ed7953"
             ],
             [
              0.7777777777777778,
              "#fb9f3a"
             ],
             [
              0.8888888888888888,
              "#fdca26"
             ],
             [
              1,
              "#f0f921"
             ]
            ],
            "type": "heatmapgl"
           }
          ],
          "histogram": [
           {
            "marker": {
             "pattern": {
              "fillmode": "overlay",
              "size": 10,
              "solidity": 0.2
             }
            },
            "type": "histogram"
           }
          ],
          "histogram2d": [
           {
            "colorbar": {
             "outlinewidth": 0,
             "ticks": ""
            },
            "colorscale": [
             [
              0,
              "#0d0887"
             ],
             [
              0.1111111111111111,
              "#46039f"
             ],
             [
              0.2222222222222222,
              "#7201a8"
             ],
             [
              0.3333333333333333,
              "#9c179e"
             ],
             [
              0.4444444444444444,
              "#bd3786"
             ],
             [
              0.5555555555555556,
              "#d8576b"
             ],
             [
              0.6666666666666666,
              "#ed7953"
             ],
             [
              0.7777777777777778,
              "#fb9f3a"
             ],
             [
              0.8888888888888888,
              "#fdca26"
             ],
             [
              1,
              "#f0f921"
             ]
            ],
            "type": "histogram2d"
           }
          ],
          "histogram2dcontour": [
           {
            "colorbar": {
             "outlinewidth": 0,
             "ticks": ""
            },
            "colorscale": [
             [
              0,
              "#0d0887"
             ],
             [
              0.1111111111111111,
              "#46039f"
             ],
             [
              0.2222222222222222,
              "#7201a8"
             ],
             [
              0.3333333333333333,
              "#9c179e"
             ],
             [
              0.4444444444444444,
              "#bd3786"
             ],
             [
              0.5555555555555556,
              "#d8576b"
             ],
             [
              0.6666666666666666,
              "#ed7953"
             ],
             [
              0.7777777777777778,
              "#fb9f3a"
             ],
             [
              0.8888888888888888,
              "#fdca26"
             ],
             [
              1,
              "#f0f921"
             ]
            ],
            "type": "histogram2dcontour"
           }
          ],
          "mesh3d": [
           {
            "colorbar": {
             "outlinewidth": 0,
             "ticks": ""
            },
            "type": "mesh3d"
           }
          ],
          "parcoords": [
           {
            "line": {
             "colorbar": {
              "outlinewidth": 0,
              "ticks": ""
             }
            },
            "type": "parcoords"
           }
          ],
          "pie": [
           {
            "automargin": true,
            "type": "pie"
           }
          ],
          "scatter": [
           {
            "marker": {
             "colorbar": {
              "outlinewidth": 0,
              "ticks": ""
             }
            },
            "type": "scatter"
           }
          ],
          "scatter3d": [
           {
            "line": {
             "colorbar": {
              "outlinewidth": 0,
              "ticks": ""
             }
            },
            "marker": {
             "colorbar": {
              "outlinewidth": 0,
              "ticks": ""
             }
            },
            "type": "scatter3d"
           }
          ],
          "scattercarpet": [
           {
            "marker": {
             "colorbar": {
              "outlinewidth": 0,
              "ticks": ""
             }
            },
            "type": "scattercarpet"
           }
          ],
          "scattergeo": [
           {
            "marker": {
             "colorbar": {
              "outlinewidth": 0,
              "ticks": ""
             }
            },
            "type": "scattergeo"
           }
          ],
          "scattergl": [
           {
            "marker": {
             "colorbar": {
              "outlinewidth": 0,
              "ticks": ""
             }
            },
            "type": "scattergl"
           }
          ],
          "scattermapbox": [
           {
            "marker": {
             "colorbar": {
              "outlinewidth": 0,
              "ticks": ""
             }
            },
            "type": "scattermapbox"
           }
          ],
          "scatterpolar": [
           {
            "marker": {
             "colorbar": {
              "outlinewidth": 0,
              "ticks": ""
             }
            },
            "type": "scatterpolar"
           }
          ],
          "scatterpolargl": [
           {
            "marker": {
             "colorbar": {
              "outlinewidth": 0,
              "ticks": ""
             }
            },
            "type": "scatterpolargl"
           }
          ],
          "scatterternary": [
           {
            "marker": {
             "colorbar": {
              "outlinewidth": 0,
              "ticks": ""
             }
            },
            "type": "scatterternary"
           }
          ],
          "surface": [
           {
            "colorbar": {
             "outlinewidth": 0,
             "ticks": ""
            },
            "colorscale": [
             [
              0,
              "#0d0887"
             ],
             [
              0.1111111111111111,
              "#46039f"
             ],
             [
              0.2222222222222222,
              "#7201a8"
             ],
             [
              0.3333333333333333,
              "#9c179e"
             ],
             [
              0.4444444444444444,
              "#bd3786"
             ],
             [
              0.5555555555555556,
              "#d8576b"
             ],
             [
              0.6666666666666666,
              "#ed7953"
             ],
             [
              0.7777777777777778,
              "#fb9f3a"
             ],
             [
              0.8888888888888888,
              "#fdca26"
             ],
             [
              1,
              "#f0f921"
             ]
            ],
            "type": "surface"
           }
          ],
          "table": [
           {
            "cells": {
             "fill": {
              "color": "#EBF0F8"
             },
             "line": {
              "color": "white"
             }
            },
            "header": {
             "fill": {
              "color": "#C8D4E3"
             },
             "line": {
              "color": "white"
             }
            },
            "type": "table"
           }
          ]
         },
         "layout": {
          "annotationdefaults": {
           "arrowcolor": "#2a3f5f",
           "arrowhead": 0,
           "arrowwidth": 1
          },
          "autotypenumbers": "strict",
          "coloraxis": {
           "colorbar": {
            "outlinewidth": 0,
            "ticks": ""
           }
          },
          "colorscale": {
           "diverging": [
            [
             0,
             "#8e0152"
            ],
            [
             0.1,
             "#c51b7d"
            ],
            [
             0.2,
             "#de77ae"
            ],
            [
             0.3,
             "#f1b6da"
            ],
            [
             0.4,
             "#fde0ef"
            ],
            [
             0.5,
             "#f7f7f7"
            ],
            [
             0.6,
             "#e6f5d0"
            ],
            [
             0.7,
             "#b8e186"
            ],
            [
             0.8,
             "#7fbc41"
            ],
            [
             0.9,
             "#4d9221"
            ],
            [
             1,
             "#276419"
            ]
           ],
           "sequential": [
            [
             0,
             "#0d0887"
            ],
            [
             0.1111111111111111,
             "#46039f"
            ],
            [
             0.2222222222222222,
             "#7201a8"
            ],
            [
             0.3333333333333333,
             "#9c179e"
            ],
            [
             0.4444444444444444,
             "#bd3786"
            ],
            [
             0.5555555555555556,
             "#d8576b"
            ],
            [
             0.6666666666666666,
             "#ed7953"
            ],
            [
             0.7777777777777778,
             "#fb9f3a"
            ],
            [
             0.8888888888888888,
             "#fdca26"
            ],
            [
             1,
             "#f0f921"
            ]
           ],
           "sequentialminus": [
            [
             0,
             "#0d0887"
            ],
            [
             0.1111111111111111,
             "#46039f"
            ],
            [
             0.2222222222222222,
             "#7201a8"
            ],
            [
             0.3333333333333333,
             "#9c179e"
            ],
            [
             0.4444444444444444,
             "#bd3786"
            ],
            [
             0.5555555555555556,
             "#d8576b"
            ],
            [
             0.6666666666666666,
             "#ed7953"
            ],
            [
             0.7777777777777778,
             "#fb9f3a"
            ],
            [
             0.8888888888888888,
             "#fdca26"
            ],
            [
             1,
             "#f0f921"
            ]
           ]
          },
          "colorway": [
           "#636efa",
           "#EF553B",
           "#00cc96",
           "#ab63fa",
           "#FFA15A",
           "#19d3f3",
           "#FF6692",
           "#B6E880",
           "#FF97FF",
           "#FECB52"
          ],
          "font": {
           "color": "#2a3f5f"
          },
          "geo": {
           "bgcolor": "white",
           "lakecolor": "white",
           "landcolor": "#E5ECF6",
           "showlakes": true,
           "showland": true,
           "subunitcolor": "white"
          },
          "hoverlabel": {
           "align": "left"
          },
          "hovermode": "closest",
          "mapbox": {
           "style": "light"
          },
          "paper_bgcolor": "white",
          "plot_bgcolor": "#E5ECF6",
          "polar": {
           "angularaxis": {
            "gridcolor": "white",
            "linecolor": "white",
            "ticks": ""
           },
           "bgcolor": "#E5ECF6",
           "radialaxis": {
            "gridcolor": "white",
            "linecolor": "white",
            "ticks": ""
           }
          },
          "scene": {
           "xaxis": {
            "backgroundcolor": "#E5ECF6",
            "gridcolor": "white",
            "gridwidth": 2,
            "linecolor": "white",
            "showbackground": true,
            "ticks": "",
            "zerolinecolor": "white"
           },
           "yaxis": {
            "backgroundcolor": "#E5ECF6",
            "gridcolor": "white",
            "gridwidth": 2,
            "linecolor": "white",
            "showbackground": true,
            "ticks": "",
            "zerolinecolor": "white"
           },
           "zaxis": {
            "backgroundcolor": "#E5ECF6",
            "gridcolor": "white",
            "gridwidth": 2,
            "linecolor": "white",
            "showbackground": true,
            "ticks": "",
            "zerolinecolor": "white"
           }
          },
          "shapedefaults": {
           "line": {
            "color": "#2a3f5f"
           }
          },
          "ternary": {
           "aaxis": {
            "gridcolor": "white",
            "linecolor": "white",
            "ticks": ""
           },
           "baxis": {
            "gridcolor": "white",
            "linecolor": "white",
            "ticks": ""
           },
           "bgcolor": "#E5ECF6",
           "caxis": {
            "gridcolor": "white",
            "linecolor": "white",
            "ticks": ""
           }
          },
          "title": {
           "x": 0.05
          },
          "xaxis": {
           "automargin": true,
           "gridcolor": "white",
           "linecolor": "white",
           "ticks": "",
           "title": {
            "standoff": 15
           },
           "zerolinecolor": "white",
           "zerolinewidth": 2
          },
          "yaxis": {
           "automargin": true,
           "gridcolor": "white",
           "linecolor": "white",
           "ticks": "",
           "title": {
            "standoff": 15
           },
           "zerolinecolor": "white",
           "zerolinewidth": 2
          }
         }
        },
        "ternary": {
         "aaxis": {
          "title": {
           "text": "R"
          }
         },
         "baxis": {
          "title": {
           "text": "G"
          }
         },
         "caxis": {
          "title": {
           "text": "B"
          }
         },
         "domain": {
          "x": [
           0,
           1
          ],
          "y": [
           0,
           1
          ]
         }
        }
       }
      }
     },
     "metadata": {},
     "output_type": "display_data"
    }
   ],
   "source": [
    "fig = px.scatter_ternary(pop_den_df, a='R', b='G', c='B',\n",
    "    size=\"Time\", color=\"Carbon\", symbol=\"Rep\")\n",
    "fig.write_image(\"results/rep123.pdf\")\n",
    "fig.show()"
   ]
  },
  {
   "cell_type": "code",
   "execution_count": 109,
   "metadata": {},
   "outputs": [],
   "source": [
    "slide_win = 1500\n",
    "result_dir = work_dir + \"/results_20220408\"\n",
    "pop_densities_1d = []\n",
    "for rep_samples, folder in zip([rep1_samples, rep2_samples, rep3_samples], [\"results_rep\" + str(i+1) for i in range(3)]):\n",
    "    rep_dir = result_dir + \"/\" + folder    \n",
    "    for sample in rep_samples:\n",
    "        rgb_file = rep_dir + '/' + sample[0] + '_' + sample[1] + \"_1_combined_processed.pkl\"\n",
    "        with open(rgb_file, 'rb') as f:\n",
    "            rgb_array = pickle.load(f)\n",
    "        pop_den = get_pop_density(slide_sum_y_vol(rgb_array, slide_win))\n",
    "        for i in range(len(pop_den)):\n",
    "            pop_densities_1d.append([folder.split('_')[1], sample[1], sample[2], pop_den[i,0], pop_den[i,1], pop_den[i,2], i])\n",
    "# pop_den_table = [list(pop_deni) for pop_deni in zip(*pop_densities)]"
   ]
  },
  {
   "cell_type": "code",
   "execution_count": 110,
   "metadata": {},
   "outputs": [
    {
     "data": {
      "text/html": [
       "<div>\n",
       "<style scoped>\n",
       "    .dataframe tbody tr th:only-of-type {\n",
       "        vertical-align: middle;\n",
       "    }\n",
       "\n",
       "    .dataframe tbody tr th {\n",
       "        vertical-align: top;\n",
       "    }\n",
       "\n",
       "    .dataframe thead th {\n",
       "        text-align: right;\n",
       "    }\n",
       "</style>\n",
       "<table border=\"1\" class=\"dataframe\">\n",
       "  <thead>\n",
       "    <tr style=\"text-align: right;\">\n",
       "      <th></th>\n",
       "      <th>Rep</th>\n",
       "      <th>Carbon</th>\n",
       "      <th>Time</th>\n",
       "      <th>R</th>\n",
       "      <th>G</th>\n",
       "      <th>B</th>\n",
       "      <th>Radius</th>\n",
       "    </tr>\n",
       "  </thead>\n",
       "  <tbody>\n",
       "    <tr>\n",
       "      <th>0</th>\n",
       "      <td>rep1</td>\n",
       "      <td>Nag</td>\n",
       "      <td>0</td>\n",
       "      <td>0.837857</td>\n",
       "      <td>0.000109</td>\n",
       "      <td>0.162034</td>\n",
       "      <td>0</td>\n",
       "    </tr>\n",
       "    <tr>\n",
       "      <th>1</th>\n",
       "      <td>rep1</td>\n",
       "      <td>Nag</td>\n",
       "      <td>0</td>\n",
       "      <td>0.837327</td>\n",
       "      <td>0.000109</td>\n",
       "      <td>0.162564</td>\n",
       "      <td>1</td>\n",
       "    </tr>\n",
       "    <tr>\n",
       "      <th>2</th>\n",
       "      <td>rep1</td>\n",
       "      <td>Nag</td>\n",
       "      <td>0</td>\n",
       "      <td>0.836857</td>\n",
       "      <td>0.000109</td>\n",
       "      <td>0.163033</td>\n",
       "      <td>2</td>\n",
       "    </tr>\n",
       "    <tr>\n",
       "      <th>3</th>\n",
       "      <td>rep1</td>\n",
       "      <td>Nag</td>\n",
       "      <td>0</td>\n",
       "      <td>0.836393</td>\n",
       "      <td>0.000109</td>\n",
       "      <td>0.163498</td>\n",
       "      <td>3</td>\n",
       "    </tr>\n",
       "    <tr>\n",
       "      <th>4</th>\n",
       "      <td>rep1</td>\n",
       "      <td>Nag</td>\n",
       "      <td>0</td>\n",
       "      <td>0.835975</td>\n",
       "      <td>0.000109</td>\n",
       "      <td>0.163916</td>\n",
       "      <td>4</td>\n",
       "    </tr>\n",
       "  </tbody>\n",
       "</table>\n",
       "</div>"
      ],
      "text/plain": [
       "    Rep Carbon  Time         R         G         B  Radius\n",
       "0  rep1    Nag     0  0.837857  0.000109  0.162034       0\n",
       "1  rep1    Nag     0  0.837327  0.000109  0.162564       1\n",
       "2  rep1    Nag     0  0.836857  0.000109  0.163033       2\n",
       "3  rep1    Nag     0  0.836393  0.000109  0.163498       3\n",
       "4  rep1    Nag     0  0.835975  0.000109  0.163916       4"
      ]
     },
     "execution_count": 110,
     "metadata": {},
     "output_type": "execute_result"
    }
   ],
   "source": [
    "pop_den_1d_df = pd.DataFrame(pop_densities_1d, columns = [\"Rep\", \"Carbon\", \"Time\", \"R\", \"G\", \"B\", \"Radius\"])\n",
    "pop_den_1d_df.head()"
   ]
  },
  {
   "cell_type": "code",
   "execution_count": 114,
   "metadata": {},
   "outputs": [
    {
     "data": {
      "application/vnd.plotly.v1+json": {
       "config": {
        "plotlyServerURL": "https://plot.ly"
       },
       "data": [
        {
         "a": [
          0.8378567758209932,
          0.39931002827995676,
          0.15552895080539836,
          0.13107386090027287,
          0.2658096402329219,
          0.6415385844809675
         ],
         "b": [
          0.0001089986141604771,
          0.0704777980129999,
          0.04954288202002612,
          0.21192873030796394,
          0.09976076869487494,
          0.3441836924962042
         ],
         "c": [
          0.1620342255648464,
          0.5302121737070433,
          0.7949281671745755,
          0.6569974087917632,
          0.6344295910722032,
          0.014277723022828374
         ],
         "hovertemplate": "Carbon=Nag<br>Radius=0<br>R=%{a}<br>G=%{b}<br>B=%{c}<br>Time=%{marker.size}<extra></extra>",
         "legendgroup": "Nag, 0",
         "marker": {
          "color": "#636efa",
          "size": [
           0,
           11,
           21,
           37,
           66,
           90
          ],
          "sizemode": "area",
          "sizeref": 0.225,
          "symbol": "circle"
         },
         "mode": "markers",
         "name": "Nag, 0",
         "showlegend": true,
         "subplot": "ternary",
         "type": "scatterternary"
        },
        {
         "a": [
          0.44695544131020015,
          0.29814659977703456,
          0.19739475723140495,
          0.044818737123649116,
          0.13863712188612098,
          0.7752827586206896
         ],
         "b": [
          0.005546201842131326,
          0.01898690078037904,
          0.024841813016528925,
          0.04214407055336683,
          0.17635120106761565,
          0.13041970443349754
         ],
         "c": [
          0.5474983568476686,
          0.6828664994425864,
          0.7777634297520661,
          0.9130371923229841,
          0.6850116770462633,
          0.0942975369458128
         ],
         "hovertemplate": "Carbon=Nag<br>Radius=1500<br>R=%{a}<br>G=%{b}<br>B=%{c}<br>Time=%{marker.size}<extra></extra>",
         "legendgroup": "Nag, 1500",
         "marker": {
          "color": "#636efa",
          "size": [
           0,
           11,
           21,
           37,
           66,
           90
          ],
          "sizemode": "area",
          "sizeref": 0.225,
          "symbol": "diamond"
         },
         "mode": "markers",
         "name": "Nag, 1500",
         "showlegend": true,
         "subplot": "ternary",
         "type": "scatterternary"
        },
        {
         "a": [
          0.541758495800262,
          0.41767620544386963,
          0.1931648161272541,
          0.01965719383203772,
          0.12464279502025197,
          0.42690188658244754
         ],
         "b": [
          0.012822686291130462,
          0.026062471350926594,
          0.015237420269312544,
          0.042564037211673254,
          0.06541510324776979,
          0.43888919806333127
         ],
         "c": [
          0.44541881790860754,
          0.5562613232052037,
          0.7915977636034334,
          0.937778768956289,
          0.8099421017319782,
          0.13420891535422116
         ],
         "hovertemplate": "Carbon=Nag<br>Radius=3000<br>R=%{a}<br>G=%{b}<br>B=%{c}<br>Time=%{marker.size}<extra></extra>",
         "legendgroup": "Nag, 3000",
         "marker": {
          "color": "#636efa",
          "size": [
           0,
           11,
           21,
           37,
           66,
           90
          ],
          "sizemode": "area",
          "sizeref": 0.225,
          "symbol": "square"
         },
         "mode": "markers",
         "name": "Nag, 3000",
         "showlegend": true,
         "subplot": "ternary",
         "type": "scatterternary"
        },
        {
         "a": [
          0.2,
          0.4092315084537073,
          0.7200616004264645,
          0.39446321468793377,
          0.11179513216767684,
          0.029608052800412964
         ],
         "b": [
          0.06991150442477877,
          0.002552629208084327,
          0.006254812533317538,
          0.0533249522013567,
          0.3386221559356456,
          0.5765950124749579
         ],
         "c": [
          0.7300884955752213,
          0.5882158623382083,
          0.27368358704021795,
          0.5522118331107095,
          0.5495827118966775,
          0.3937969347246291
         ],
         "hovertemplate": "Carbon=Chito5<br>Radius=0<br>R=%{a}<br>G=%{b}<br>B=%{c}<br>Time=%{marker.size}<extra></extra>",
         "legendgroup": "Chito5, 0",
         "marker": {
          "color": "#EF553B",
          "size": [
           0,
           11,
           21,
           37,
           66,
           90
          ],
          "sizemode": "area",
          "sizeref": 0.225,
          "symbol": "circle"
         },
         "mode": "markers",
         "name": "Chito5, 0",
         "showlegend": true,
         "subplot": "ternary",
         "type": "scatterternary"
        },
        {
         "a": [
          0.24553062000760745,
          0.6864231222477206,
          0.6763922904908956,
          0.10024014061842398,
          0.02615758506011768,
          0.02376217935971366
         ],
         "b": [
          0.058767592240395586,
          0.0009055386714631272,
          0.006373883809726638,
          0.0621394796128042,
          0.15123752877973906,
          0.5902993407467458
         ],
         "c": [
          0.695701787751997,
          0.31267133908081624,
          0.3172338256993778,
          0.8376203797687718,
          0.8226048861601433,
          0.3859384798935405
         ],
         "hovertemplate": "Carbon=Chito5<br>Radius=1500<br>R=%{a}<br>G=%{b}<br>B=%{c}<br>Time=%{marker.size}<extra></extra>",
         "legendgroup": "Chito5, 1500",
         "marker": {
          "color": "#EF553B",
          "size": [
           0,
           11,
           21,
           37,
           66,
           90
          ],
          "sizemode": "area",
          "sizeref": 0.225,
          "symbol": "diamond"
         },
         "mode": "markers",
         "name": "Chito5, 1500",
         "showlegend": true,
         "subplot": "ternary",
         "type": "scatterternary"
        },
        {
         "a": [
          0.5267349260523322,
          0.7234708430171138,
          0.4041344049436301,
          0.044332178033640764,
          0.019297056830568895,
          0.026670356721483404
         ],
         "b": [
          0.059726962457337884,
          0.0006206422987534334,
          0.0012506207124859765,
          0.025847382952476062,
          0.21562619685944082,
          0.5273476759937658
         ],
         "c": [
          0.41353811149032993,
          0.2759085146841327,
          0.5946149743438839,
          0.9298204390138832,
          0.7650767463099902,
          0.44598196728475087
         ],
         "hovertemplate": "Carbon=Chito5<br>Radius=3000<br>R=%{a}<br>G=%{b}<br>B=%{c}<br>Time=%{marker.size}<extra></extra>",
         "legendgroup": "Chito5, 3000",
         "marker": {
          "color": "#EF553B",
          "size": [
           0,
           11,
           21,
           37,
           66,
           90
          ],
          "sizemode": "area",
          "sizeref": 0.225,
          "symbol": "square"
         },
         "mode": "markers",
         "name": "Chito5, 3000",
         "showlegend": true,
         "subplot": "ternary",
         "type": "scatterternary"
        },
        {
         "a": [
          0.39444719881011403,
          0.07737012380399831,
          0.05084745762711865,
          0.15315826353899029,
          0.34971796937953264,
          0.45185522026943997
         ],
         "b": [
          0.07934556271690629,
          0.03348313059895961,
          0.4745762711864407,
          0.04829434860466927,
          0.3908474348643567,
          0.2598939874131749
         ],
         "c": [
          0.5262072384729797,
          0.8891467455970421,
          0.4745762711864407,
          0.7985473878563405,
          0.25943459575611066,
          0.28825079231738515
         ],
         "hovertemplate": "Carbon=Chitin<br>Radius=0<br>R=%{a}<br>G=%{b}<br>B=%{c}<br>Time=%{marker.size}<extra></extra>",
         "legendgroup": "Chitin, 0",
         "marker": {
          "color": "#00cc96",
          "size": [
           0,
           11,
           21,
           37,
           66,
           90
          ],
          "sizemode": "area",
          "sizeref": 0.225,
          "symbol": "circle"
         },
         "mode": "markers",
         "name": "Chitin, 0",
         "showlegend": true,
         "subplot": "ternary",
         "type": "scatterternary"
        },
        {
         "a": [
          0.5245657568238213,
          0.0983724201280248,
          0.10344827586206896,
          0.2505087044992087,
          0.3413392820258603,
          0.17585297341737463
         ],
         "b": [
          0.14838709677419354,
          0.011711685851250108,
          0.06896551724137931,
          0.08111445416442026,
          0.2240591564423514,
          0.2433543436557961
         ],
         "c": [
          0.3270471464019851,
          0.8899158940207251,
          0.8275862068965517,
          0.6683768413363711,
          0.4346015615317883,
          0.5807926829268293
         ],
         "hovertemplate": "Carbon=Chitin<br>Radius=1500<br>R=%{a}<br>G=%{b}<br>B=%{c}<br>Time=%{marker.size}<extra></extra>",
         "legendgroup": "Chitin, 1500",
         "marker": {
          "color": "#00cc96",
          "size": [
           0,
           11,
           21,
           37,
           66,
           90
          ],
          "sizemode": "area",
          "sizeref": 0.225,
          "symbol": "diamond"
         },
         "mode": "markers",
         "name": "Chitin, 1500",
         "showlegend": true,
         "subplot": "ternary",
         "type": "scatterternary"
        },
        {
         "a": [
          0.030375223347230494,
          0.1873919523099851,
          0.5833333333333334,
          0.2813788708105271,
          0.2507067495919521,
          0.04473421967284836
         ],
         "b": [
          0.06372840976771887,
          0.05454545454545454,
          0.25,
          0.043356826872610034,
          0.10783131887474796,
          0.15258974795226404
         ],
         "c": [
          0.9058963668850506,
          0.7580625931445604,
          0.16666666666666666,
          0.6752643023168629,
          0.6414619315332999,
          0.8026760323748876
         ],
         "hovertemplate": "Carbon=Chitin<br>Radius=3000<br>R=%{a}<br>G=%{b}<br>B=%{c}<br>Time=%{marker.size}<extra></extra>",
         "legendgroup": "Chitin, 3000",
         "marker": {
          "color": "#00cc96",
          "size": [
           0,
           11,
           21,
           37,
           66,
           90
          ],
          "sizemode": "area",
          "sizeref": 0.225,
          "symbol": "square"
         },
         "mode": "markers",
         "name": "Chitin, 3000",
         "showlegend": true,
         "subplot": "ternary",
         "type": "scatterternary"
        }
       ],
       "layout": {
        "legend": {
         "itemsizing": "constant",
         "title": {
          "text": "Carbon, Radius"
         },
         "tracegroupgap": 0
        },
        "margin": {
         "t": 60
        },
        "template": {
         "data": {
          "bar": [
           {
            "error_x": {
             "color": "#2a3f5f"
            },
            "error_y": {
             "color": "#2a3f5f"
            },
            "marker": {
             "line": {
              "color": "#E5ECF6",
              "width": 0.5
             },
             "pattern": {
              "fillmode": "overlay",
              "size": 10,
              "solidity": 0.2
             }
            },
            "type": "bar"
           }
          ],
          "barpolar": [
           {
            "marker": {
             "line": {
              "color": "#E5ECF6",
              "width": 0.5
             },
             "pattern": {
              "fillmode": "overlay",
              "size": 10,
              "solidity": 0.2
             }
            },
            "type": "barpolar"
           }
          ],
          "carpet": [
           {
            "aaxis": {
             "endlinecolor": "#2a3f5f",
             "gridcolor": "white",
             "linecolor": "white",
             "minorgridcolor": "white",
             "startlinecolor": "#2a3f5f"
            },
            "baxis": {
             "endlinecolor": "#2a3f5f",
             "gridcolor": "white",
             "linecolor": "white",
             "minorgridcolor": "white",
             "startlinecolor": "#2a3f5f"
            },
            "type": "carpet"
           }
          ],
          "choropleth": [
           {
            "colorbar": {
             "outlinewidth": 0,
             "ticks": ""
            },
            "type": "choropleth"
           }
          ],
          "contour": [
           {
            "colorbar": {
             "outlinewidth": 0,
             "ticks": ""
            },
            "colorscale": [
             [
              0,
              "#0d0887"
             ],
             [
              0.1111111111111111,
              "#46039f"
             ],
             [
              0.2222222222222222,
              "#7201a8"
             ],
             [
              0.3333333333333333,
              "#9c179e"
             ],
             [
              0.4444444444444444,
              "#bd3786"
             ],
             [
              0.5555555555555556,
              "#d8576b"
             ],
             [
              0.6666666666666666,
              "#ed7953"
             ],
             [
              0.7777777777777778,
              "#fb9f3a"
             ],
             [
              0.8888888888888888,
              "#fdca26"
             ],
             [
              1,
              "#f0f921"
             ]
            ],
            "type": "contour"
           }
          ],
          "contourcarpet": [
           {
            "colorbar": {
             "outlinewidth": 0,
             "ticks": ""
            },
            "type": "contourcarpet"
           }
          ],
          "heatmap": [
           {
            "colorbar": {
             "outlinewidth": 0,
             "ticks": ""
            },
            "colorscale": [
             [
              0,
              "#0d0887"
             ],
             [
              0.1111111111111111,
              "#46039f"
             ],
             [
              0.2222222222222222,
              "#7201a8"
             ],
             [
              0.3333333333333333,
              "#9c179e"
             ],
             [
              0.4444444444444444,
              "#bd3786"
             ],
             [
              0.5555555555555556,
              "#d8576b"
             ],
             [
              0.6666666666666666,
              "#ed7953"
             ],
             [
              0.7777777777777778,
              "#fb9f3a"
             ],
             [
              0.8888888888888888,
              "#fdca26"
             ],
             [
              1,
              "#f0f921"
             ]
            ],
            "type": "heatmap"
           }
          ],
          "heatmapgl": [
           {
            "colorbar": {
             "outlinewidth": 0,
             "ticks": ""
            },
            "colorscale": [
             [
              0,
              "#0d0887"
             ],
             [
              0.1111111111111111,
              "#46039f"
             ],
             [
              0.2222222222222222,
              "#7201a8"
             ],
             [
              0.3333333333333333,
              "#9c179e"
             ],
             [
              0.4444444444444444,
              "#bd3786"
             ],
             [
              0.5555555555555556,
              "#d8576b"
             ],
             [
              0.6666666666666666,
              "#ed7953"
             ],
             [
              0.7777777777777778,
              "#fb9f3a"
             ],
             [
              0.8888888888888888,
              "#fdca26"
             ],
             [
              1,
              "#f0f921"
             ]
            ],
            "type": "heatmapgl"
           }
          ],
          "histogram": [
           {
            "marker": {
             "pattern": {
              "fillmode": "overlay",
              "size": 10,
              "solidity": 0.2
             }
            },
            "type": "histogram"
           }
          ],
          "histogram2d": [
           {
            "colorbar": {
             "outlinewidth": 0,
             "ticks": ""
            },
            "colorscale": [
             [
              0,
              "#0d0887"
             ],
             [
              0.1111111111111111,
              "#46039f"
             ],
             [
              0.2222222222222222,
              "#7201a8"
             ],
             [
              0.3333333333333333,
              "#9c179e"
             ],
             [
              0.4444444444444444,
              "#bd3786"
             ],
             [
              0.5555555555555556,
              "#d8576b"
             ],
             [
              0.6666666666666666,
              "#ed7953"
             ],
             [
              0.7777777777777778,
              "#fb9f3a"
             ],
             [
              0.8888888888888888,
              "#fdca26"
             ],
             [
              1,
              "#f0f921"
             ]
            ],
            "type": "histogram2d"
           }
          ],
          "histogram2dcontour": [
           {
            "colorbar": {
             "outlinewidth": 0,
             "ticks": ""
            },
            "colorscale": [
             [
              0,
              "#0d0887"
             ],
             [
              0.1111111111111111,
              "#46039f"
             ],
             [
              0.2222222222222222,
              "#7201a8"
             ],
             [
              0.3333333333333333,
              "#9c179e"
             ],
             [
              0.4444444444444444,
              "#bd3786"
             ],
             [
              0.5555555555555556,
              "#d8576b"
             ],
             [
              0.6666666666666666,
              "#ed7953"
             ],
             [
              0.7777777777777778,
              "#fb9f3a"
             ],
             [
              0.8888888888888888,
              "#fdca26"
             ],
             [
              1,
              "#f0f921"
             ]
            ],
            "type": "histogram2dcontour"
           }
          ],
          "mesh3d": [
           {
            "colorbar": {
             "outlinewidth": 0,
             "ticks": ""
            },
            "type": "mesh3d"
           }
          ],
          "parcoords": [
           {
            "line": {
             "colorbar": {
              "outlinewidth": 0,
              "ticks": ""
             }
            },
            "type": "parcoords"
           }
          ],
          "pie": [
           {
            "automargin": true,
            "type": "pie"
           }
          ],
          "scatter": [
           {
            "marker": {
             "colorbar": {
              "outlinewidth": 0,
              "ticks": ""
             }
            },
            "type": "scatter"
           }
          ],
          "scatter3d": [
           {
            "line": {
             "colorbar": {
              "outlinewidth": 0,
              "ticks": ""
             }
            },
            "marker": {
             "colorbar": {
              "outlinewidth": 0,
              "ticks": ""
             }
            },
            "type": "scatter3d"
           }
          ],
          "scattercarpet": [
           {
            "marker": {
             "colorbar": {
              "outlinewidth": 0,
              "ticks": ""
             }
            },
            "type": "scattercarpet"
           }
          ],
          "scattergeo": [
           {
            "marker": {
             "colorbar": {
              "outlinewidth": 0,
              "ticks": ""
             }
            },
            "type": "scattergeo"
           }
          ],
          "scattergl": [
           {
            "marker": {
             "colorbar": {
              "outlinewidth": 0,
              "ticks": ""
             }
            },
            "type": "scattergl"
           }
          ],
          "scattermapbox": [
           {
            "marker": {
             "colorbar": {
              "outlinewidth": 0,
              "ticks": ""
             }
            },
            "type": "scattermapbox"
           }
          ],
          "scatterpolar": [
           {
            "marker": {
             "colorbar": {
              "outlinewidth": 0,
              "ticks": ""
             }
            },
            "type": "scatterpolar"
           }
          ],
          "scatterpolargl": [
           {
            "marker": {
             "colorbar": {
              "outlinewidth": 0,
              "ticks": ""
             }
            },
            "type": "scatterpolargl"
           }
          ],
          "scatterternary": [
           {
            "marker": {
             "colorbar": {
              "outlinewidth": 0,
              "ticks": ""
             }
            },
            "type": "scatterternary"
           }
          ],
          "surface": [
           {
            "colorbar": {
             "outlinewidth": 0,
             "ticks": ""
            },
            "colorscale": [
             [
              0,
              "#0d0887"
             ],
             [
              0.1111111111111111,
              "#46039f"
             ],
             [
              0.2222222222222222,
              "#7201a8"
             ],
             [
              0.3333333333333333,
              "#9c179e"
             ],
             [
              0.4444444444444444,
              "#bd3786"
             ],
             [
              0.5555555555555556,
              "#d8576b"
             ],
             [
              0.6666666666666666,
              "#ed7953"
             ],
             [
              0.7777777777777778,
              "#fb9f3a"
             ],
             [
              0.8888888888888888,
              "#fdca26"
             ],
             [
              1,
              "#f0f921"
             ]
            ],
            "type": "surface"
           }
          ],
          "table": [
           {
            "cells": {
             "fill": {
              "color": "#EBF0F8"
             },
             "line": {
              "color": "white"
             }
            },
            "header": {
             "fill": {
              "color": "#C8D4E3"
             },
             "line": {
              "color": "white"
             }
            },
            "type": "table"
           }
          ]
         },
         "layout": {
          "annotationdefaults": {
           "arrowcolor": "#2a3f5f",
           "arrowhead": 0,
           "arrowwidth": 1
          },
          "autotypenumbers": "strict",
          "coloraxis": {
           "colorbar": {
            "outlinewidth": 0,
            "ticks": ""
           }
          },
          "colorscale": {
           "diverging": [
            [
             0,
             "#8e0152"
            ],
            [
             0.1,
             "#c51b7d"
            ],
            [
             0.2,
             "#de77ae"
            ],
            [
             0.3,
             "#f1b6da"
            ],
            [
             0.4,
             "#fde0ef"
            ],
            [
             0.5,
             "#f7f7f7"
            ],
            [
             0.6,
             "#e6f5d0"
            ],
            [
             0.7,
             "#b8e186"
            ],
            [
             0.8,
             "#7fbc41"
            ],
            [
             0.9,
             "#4d9221"
            ],
            [
             1,
             "#276419"
            ]
           ],
           "sequential": [
            [
             0,
             "#0d0887"
            ],
            [
             0.1111111111111111,
             "#46039f"
            ],
            [
             0.2222222222222222,
             "#7201a8"
            ],
            [
             0.3333333333333333,
             "#9c179e"
            ],
            [
             0.4444444444444444,
             "#bd3786"
            ],
            [
             0.5555555555555556,
             "#d8576b"
            ],
            [
             0.6666666666666666,
             "#ed7953"
            ],
            [
             0.7777777777777778,
             "#fb9f3a"
            ],
            [
             0.8888888888888888,
             "#fdca26"
            ],
            [
             1,
             "#f0f921"
            ]
           ],
           "sequentialminus": [
            [
             0,
             "#0d0887"
            ],
            [
             0.1111111111111111,
             "#46039f"
            ],
            [
             0.2222222222222222,
             "#7201a8"
            ],
            [
             0.3333333333333333,
             "#9c179e"
            ],
            [
             0.4444444444444444,
             "#bd3786"
            ],
            [
             0.5555555555555556,
             "#d8576b"
            ],
            [
             0.6666666666666666,
             "#ed7953"
            ],
            [
             0.7777777777777778,
             "#fb9f3a"
            ],
            [
             0.8888888888888888,
             "#fdca26"
            ],
            [
             1,
             "#f0f921"
            ]
           ]
          },
          "colorway": [
           "#636efa",
           "#EF553B",
           "#00cc96",
           "#ab63fa",
           "#FFA15A",
           "#19d3f3",
           "#FF6692",
           "#B6E880",
           "#FF97FF",
           "#FECB52"
          ],
          "font": {
           "color": "#2a3f5f"
          },
          "geo": {
           "bgcolor": "white",
           "lakecolor": "white",
           "landcolor": "#E5ECF6",
           "showlakes": true,
           "showland": true,
           "subunitcolor": "white"
          },
          "hoverlabel": {
           "align": "left"
          },
          "hovermode": "closest",
          "mapbox": {
           "style": "light"
          },
          "paper_bgcolor": "white",
          "plot_bgcolor": "#E5ECF6",
          "polar": {
           "angularaxis": {
            "gridcolor": "white",
            "linecolor": "white",
            "ticks": ""
           },
           "bgcolor": "#E5ECF6",
           "radialaxis": {
            "gridcolor": "white",
            "linecolor": "white",
            "ticks": ""
           }
          },
          "scene": {
           "xaxis": {
            "backgroundcolor": "#E5ECF6",
            "gridcolor": "white",
            "gridwidth": 2,
            "linecolor": "white",
            "showbackground": true,
            "ticks": "",
            "zerolinecolor": "white"
           },
           "yaxis": {
            "backgroundcolor": "#E5ECF6",
            "gridcolor": "white",
            "gridwidth": 2,
            "linecolor": "white",
            "showbackground": true,
            "ticks": "",
            "zerolinecolor": "white"
           },
           "zaxis": {
            "backgroundcolor": "#E5ECF6",
            "gridcolor": "white",
            "gridwidth": 2,
            "linecolor": "white",
            "showbackground": true,
            "ticks": "",
            "zerolinecolor": "white"
           }
          },
          "shapedefaults": {
           "line": {
            "color": "#2a3f5f"
           }
          },
          "ternary": {
           "aaxis": {
            "gridcolor": "white",
            "linecolor": "white",
            "ticks": ""
           },
           "baxis": {
            "gridcolor": "white",
            "linecolor": "white",
            "ticks": ""
           },
           "bgcolor": "#E5ECF6",
           "caxis": {
            "gridcolor": "white",
            "linecolor": "white",
            "ticks": ""
           }
          },
          "title": {
           "x": 0.05
          },
          "xaxis": {
           "automargin": true,
           "gridcolor": "white",
           "linecolor": "white",
           "ticks": "",
           "title": {
            "standoff": 15
           },
           "zerolinecolor": "white",
           "zerolinewidth": 2
          },
          "yaxis": {
           "automargin": true,
           "gridcolor": "white",
           "linecolor": "white",
           "ticks": "",
           "title": {
            "standoff": 15
           },
           "zerolinecolor": "white",
           "zerolinewidth": 2
          }
         }
        },
        "ternary": {
         "aaxis": {
          "title": {
           "text": "R"
          }
         },
         "baxis": {
          "title": {
           "text": "G"
          }
         },
         "caxis": {
          "title": {
           "text": "B"
          }
         },
         "domain": {
          "x": [
           0,
           1
          ],
          "y": [
           0,
           1
          ]
         }
        }
       }
      }
     },
     "metadata": {},
     "output_type": "display_data"
    }
   ],
   "source": [
    "df4plot = pop_den_1d_df[(pop_den_1d_df[\"Rep\"] == \"rep1\") & ((pop_den_1d_df[\"Radius\"] == 0) | (pop_den_1d_df[\"Radius\"] == 1500) | (pop_den_1d_df[\"Radius\"] == 3000))]\n",
    "fig = px.scatter_ternary(df4plot, a='R', b='G', c='B',\n",
    "    size=\"Time\", color=\"Carbon\", symbol=\"Radius\")\n",
    "fig.write_image(\"results/1Drep1.pdf\")\n",
    "fig.show()"
   ]
  },
  {
   "cell_type": "code",
   "execution_count": 116,
   "metadata": {},
   "outputs": [
    {
     "data": {
      "application/vnd.plotly.v1+json": {
       "config": {
        "plotlyServerURL": "https://plot.ly"
       },
       "data": [
        {
         "a": [
          0.6837891927951968,
          0.4441244467930511,
          0.4398537570628691,
          0.5231069439817239,
          0.6079265410843292,
          0.4604930363946919
         ],
         "b": [
          0.00008338892595063375,
          0.0035141026487878987,
          0.05830542274946949,
          0.06798026430599845,
          0.16470866248058874,
          0.4171101037971357
         ],
         "c": [
          0.31612741827885255,
          0.552361450558161,
          0.5018408201876614,
          0.4089127917122777,
          0.22736479643508203,
          0.12239685980817239
         ],
         "hovertemplate": "Carbon=Nag<br>Radius=0<br>R=%{a}<br>G=%{b}<br>B=%{c}<br>Time=%{marker.size}<extra></extra>",
         "legendgroup": "Nag, 0",
         "marker": {
          "color": "#636efa",
          "size": [
           0,
           11,
           22,
           35,
           66,
           90
          ],
          "sizemode": "area",
          "sizeref": 0.225,
          "symbol": "circle"
         },
         "mode": "markers",
         "name": "Nag, 0",
         "showlegend": true,
         "subplot": "ternary",
         "type": "scatterternary"
        },
        {
         "a": [
          0.6084296397008837,
          0.9556092279503623,
          0.6987406601887256,
          0.3142286854861705,
          0.49016768648699144,
          0.3111899579593906
         ],
         "b": [
          0.02957171991842284,
          0,
          0.04984740590030519,
          0.16585875867312994,
          0.2089775328133028,
          0.4819762068040192
         ],
         "c": [
          0.3619986403806934,
          0.04439077204963771,
          0.2514119339109692,
          0.5199125558406995,
          0.3008547806997057,
          0.20683383523659024
         ],
         "hovertemplate": "Carbon=Nag<br>Radius=1500<br>R=%{a}<br>G=%{b}<br>B=%{c}<br>Time=%{marker.size}<extra></extra>",
         "legendgroup": "Nag, 1500",
         "marker": {
          "color": "#636efa",
          "size": [
           0,
           11,
           22,
           35,
           66,
           90
          ],
          "sizemode": "area",
          "sizeref": 0.225,
          "symbol": "diamond"
         },
         "mode": "markers",
         "name": "Nag, 1500",
         "showlegend": true,
         "subplot": "ternary",
         "type": "scatterternary"
        },
        {
         "a": [
          0.583991928703548,
          0.7840796019900498,
          0.6029868942395611,
          0.15349606950765413,
          0.3520268984330394,
          0.057308584686774945
         ],
         "b": [
          0.0509500588532033,
          0,
          0.07583053946967389,
          0.14708316094331816,
          0.17769460128148196,
          0.5235112142304718
         ],
         "c": [
          0.3650580124432487,
          0.21592039800995025,
          0.321182566290765,
          0.6994207695490278,
          0.47027850028547863,
          0.4191802010827533
         ],
         "hovertemplate": "Carbon=Nag<br>Radius=3000<br>R=%{a}<br>G=%{b}<br>B=%{c}<br>Time=%{marker.size}<extra></extra>",
         "legendgroup": "Nag, 3000",
         "marker": {
          "color": "#636efa",
          "size": [
           0,
           11,
           22,
           35,
           66,
           90
          ],
          "sizemode": "area",
          "sizeref": 0.225,
          "symbol": "square"
         },
         "mode": "markers",
         "name": "Nag, 3000",
         "showlegend": true,
         "subplot": "ternary",
         "type": "scatterternary"
        },
        {
         "a": [
          0.0025477707006369425,
          0.4708780063749638,
          0.7161678900809335,
          0.7815025853272646,
          0.16940911035904618,
          0.3399303307058482
         ],
         "b": [
          0.02038216560509554,
          0.025992465951898,
          0.035886818495514144,
          0.010662325304105569,
          0.15374800637958533,
          0.3927115199964272
         ],
         "c": [
          0.9770700636942675,
          0.5031295276731382,
          0.2479452914235523,
          0.20783508936862982,
          0.6768428832613685,
          0.26735814929772456
         ],
         "hovertemplate": "Carbon=Chito5<br>Radius=0<br>R=%{a}<br>G=%{b}<br>B=%{c}<br>Time=%{marker.size}<extra></extra>",
         "legendgroup": "Chito5, 0",
         "marker": {
          "color": "#EF553B",
          "size": [
           0,
           11,
           22,
           35,
           66,
           90
          ],
          "sizemode": "area",
          "sizeref": 0.225,
          "symbol": "circle"
         },
         "mode": "markers",
         "name": "Chito5, 0",
         "showlegend": true,
         "subplot": "ternary",
         "type": "scatterternary"
        },
        {
         "a": [
          0.23529411764705882,
          0.5278206314923377,
          0.8569098773310643,
          0.7224759825915895,
          0.14671357942309443,
          0.20692181885328065
         ],
         "b": [
          0,
          0.025609379821042888,
          0.005530738140821102,
          0.012436503765983535,
          0.35994418999666355,
          0.695523210485899
         ],
         "c": [
          0.7647058823529411,
          0.44656998868661935,
          0.1375593845281146,
          0.26508751364242694,
          0.49334223058024207,
          0.09755497066082032
         ],
         "hovertemplate": "Carbon=Chito5<br>Radius=1500<br>R=%{a}<br>G=%{b}<br>B=%{c}<br>Time=%{marker.size}<extra></extra>",
         "legendgroup": "Chito5, 1500",
         "marker": {
          "color": "#EF553B",
          "size": [
           0,
           11,
           22,
           35,
           66,
           90
          ],
          "sizemode": "area",
          "sizeref": 0.225,
          "symbol": "diamond"
         },
         "mode": "markers",
         "name": "Chito5, 1500",
         "showlegend": true,
         "subplot": "ternary",
         "type": "scatterternary"
        },
        {
         "a": [
          0.020833333333333332,
          0.14674413661163466,
          0.6171814051672709,
          0.7022040365498544,
          0.13013203546646107,
          0.1553781711846993
         ],
         "b": [
          0.08333333333333333,
          0.020548430525047828,
          0.00039006929466293424,
          0.007756802891856612,
          0.23188126445643795,
          0.6544692958191733
         ],
         "c": [
          0.8958333333333334,
          0.8327074328633175,
          0.38242852553806617,
          0.290039160558289,
          0.637986700077101,
          0.1901525329961274
         ],
         "hovertemplate": "Carbon=Chito5<br>Radius=3000<br>R=%{a}<br>G=%{b}<br>B=%{c}<br>Time=%{marker.size}<extra></extra>",
         "legendgroup": "Chito5, 3000",
         "marker": {
          "color": "#EF553B",
          "size": [
           0,
           11,
           22,
           35,
           66,
           90
          ],
          "sizemode": "area",
          "sizeref": 0.225,
          "symbol": "square"
         },
         "mode": "markers",
         "name": "Chito5, 3000",
         "showlegend": true,
         "subplot": "ternary",
         "type": "scatterternary"
        },
        {
         "a": [
          0.8440665154950869,
          0.837066350941499,
          0.9690446002141652,
          0.899436081879135,
          0.438948610286736,
          0.4608065094011413
         ],
         "b": [
          0.12528344671201813,
          0.14293591968470734,
          0.01822374342230602,
          0.10055503752053639,
          0.2680794624341416,
          0.26558938224038464
         ],
         "c": [
          0.030650037792894935,
          0.01999772937379373,
          0.012731656363528862,
          0.000008880600328582213,
          0.2929719272791224,
          0.273604108358474
         ],
         "hovertemplate": "Carbon=Chitin<br>Radius=0<br>R=%{a}<br>G=%{b}<br>B=%{c}<br>Time=%{marker.size}<extra></extra>",
         "legendgroup": "Chitin, 0",
         "marker": {
          "color": "#00cc96",
          "size": [
           0,
           11,
           22,
           35,
           66,
           90
          ],
          "sizemode": "area",
          "sizeref": 0.225,
          "symbol": "circle"
         },
         "mode": "markers",
         "name": "Chitin, 0",
         "showlegend": true,
         "subplot": "ternary",
         "type": "scatterternary"
        },
        {
         "a": [
          0.1303855770496118,
          0.6110847120825954,
          0.9228611185923332,
          0.793395502567432,
          0.40203287197231835,
          0.3422061191626409
         ],
         "b": [
          0.784419002500329,
          0.37720851872651084,
          0.07713888140766675,
          0.20660449743256804,
          0.5979671280276817,
          0.5478260869565217
         ],
         "c": [
          0.08519542045005922,
          0.011706769190893775,
          0,
          0,
          0,
          0.10996779388083736
         ],
         "hovertemplate": "Carbon=Chitin<br>Radius=1500<br>R=%{a}<br>G=%{b}<br>B=%{c}<br>Time=%{marker.size}<extra></extra>",
         "legendgroup": "Chitin, 1500",
         "marker": {
          "color": "#00cc96",
          "size": [
           0,
           11,
           22,
           35,
           66,
           90
          ],
          "sizemode": "area",
          "sizeref": 0.225,
          "symbol": "diamond"
         },
         "mode": "markers",
         "name": "Chitin, 1500",
         "showlegend": true,
         "subplot": "ternary",
         "type": "scatterternary"
        },
        {
         "a": [
          0.18217404396266185,
          0.9745107513892245,
          0.7602912349481937,
          0.6414928373963308,
          0.20516243880729862,
          0.2422131331745247
         ],
         "b": [
          0.3062330623306233,
          0.02548924861077555,
          0.2380285634276113,
          0.35850716260366927,
          0.7948375611927013,
          0.7577868668254752
         ],
         "c": [
          0.5115928937067148,
          0,
          0.0016802016241949033,
          0,
          0,
          0
         ],
         "hovertemplate": "Carbon=Chitin<br>Radius=3000<br>R=%{a}<br>G=%{b}<br>B=%{c}<br>Time=%{marker.size}<extra></extra>",
         "legendgroup": "Chitin, 3000",
         "marker": {
          "color": "#00cc96",
          "size": [
           0,
           11,
           22,
           35,
           66,
           90
          ],
          "sizemode": "area",
          "sizeref": 0.225,
          "symbol": "square"
         },
         "mode": "markers",
         "name": "Chitin, 3000",
         "showlegend": true,
         "subplot": "ternary",
         "type": "scatterternary"
        }
       ],
       "layout": {
        "legend": {
         "itemsizing": "constant",
         "title": {
          "text": "Carbon, Radius"
         },
         "tracegroupgap": 0
        },
        "margin": {
         "t": 60
        },
        "template": {
         "data": {
          "bar": [
           {
            "error_x": {
             "color": "#2a3f5f"
            },
            "error_y": {
             "color": "#2a3f5f"
            },
            "marker": {
             "line": {
              "color": "#E5ECF6",
              "width": 0.5
             },
             "pattern": {
              "fillmode": "overlay",
              "size": 10,
              "solidity": 0.2
             }
            },
            "type": "bar"
           }
          ],
          "barpolar": [
           {
            "marker": {
             "line": {
              "color": "#E5ECF6",
              "width": 0.5
             },
             "pattern": {
              "fillmode": "overlay",
              "size": 10,
              "solidity": 0.2
             }
            },
            "type": "barpolar"
           }
          ],
          "carpet": [
           {
            "aaxis": {
             "endlinecolor": "#2a3f5f",
             "gridcolor": "white",
             "linecolor": "white",
             "minorgridcolor": "white",
             "startlinecolor": "#2a3f5f"
            },
            "baxis": {
             "endlinecolor": "#2a3f5f",
             "gridcolor": "white",
             "linecolor": "white",
             "minorgridcolor": "white",
             "startlinecolor": "#2a3f5f"
            },
            "type": "carpet"
           }
          ],
          "choropleth": [
           {
            "colorbar": {
             "outlinewidth": 0,
             "ticks": ""
            },
            "type": "choropleth"
           }
          ],
          "contour": [
           {
            "colorbar": {
             "outlinewidth": 0,
             "ticks": ""
            },
            "colorscale": [
             [
              0,
              "#0d0887"
             ],
             [
              0.1111111111111111,
              "#46039f"
             ],
             [
              0.2222222222222222,
              "#7201a8"
             ],
             [
              0.3333333333333333,
              "#9c179e"
             ],
             [
              0.4444444444444444,
              "#bd3786"
             ],
             [
              0.5555555555555556,
              "#d8576b"
             ],
             [
              0.6666666666666666,
              "#ed7953"
             ],
             [
              0.7777777777777778,
              "#fb9f3a"
             ],
             [
              0.8888888888888888,
              "#fdca26"
             ],
             [
              1,
              "#f0f921"
             ]
            ],
            "type": "contour"
           }
          ],
          "contourcarpet": [
           {
            "colorbar": {
             "outlinewidth": 0,
             "ticks": ""
            },
            "type": "contourcarpet"
           }
          ],
          "heatmap": [
           {
            "colorbar": {
             "outlinewidth": 0,
             "ticks": ""
            },
            "colorscale": [
             [
              0,
              "#0d0887"
             ],
             [
              0.1111111111111111,
              "#46039f"
             ],
             [
              0.2222222222222222,
              "#7201a8"
             ],
             [
              0.3333333333333333,
              "#9c179e"
             ],
             [
              0.4444444444444444,
              "#bd3786"
             ],
             [
              0.5555555555555556,
              "#d8576b"
             ],
             [
              0.6666666666666666,
              "#ed7953"
             ],
             [
              0.7777777777777778,
              "#fb9f3a"
             ],
             [
              0.8888888888888888,
              "#fdca26"
             ],
             [
              1,
              "#f0f921"
             ]
            ],
            "type": "heatmap"
           }
          ],
          "heatmapgl": [
           {
            "colorbar": {
             "outlinewidth": 0,
             "ticks": ""
            },
            "colorscale": [
             [
              0,
              "#0d0887"
             ],
             [
              0.1111111111111111,
              "#46039f"
             ],
             [
              0.2222222222222222,
              "#7201a8"
             ],
             [
              0.3333333333333333,
              "#9c179e"
             ],
             [
              0.4444444444444444,
              "#bd3786"
             ],
             [
              0.5555555555555556,
              "#d8576b"
             ],
             [
              0.6666666666666666,
              "#ed7953"
             ],
             [
              0.7777777777777778,
              "#fb9f3a"
             ],
             [
              0.8888888888888888,
              "#fdca26"
             ],
             [
              1,
              "#f0f921"
             ]
            ],
            "type": "heatmapgl"
           }
          ],
          "histogram": [
           {
            "marker": {
             "pattern": {
              "fillmode": "overlay",
              "size": 10,
              "solidity": 0.2
             }
            },
            "type": "histogram"
           }
          ],
          "histogram2d": [
           {
            "colorbar": {
             "outlinewidth": 0,
             "ticks": ""
            },
            "colorscale": [
             [
              0,
              "#0d0887"
             ],
             [
              0.1111111111111111,
              "#46039f"
             ],
             [
              0.2222222222222222,
              "#7201a8"
             ],
             [
              0.3333333333333333,
              "#9c179e"
             ],
             [
              0.4444444444444444,
              "#bd3786"
             ],
             [
              0.5555555555555556,
              "#d8576b"
             ],
             [
              0.6666666666666666,
              "#ed7953"
             ],
             [
              0.7777777777777778,
              "#fb9f3a"
             ],
             [
              0.8888888888888888,
              "#fdca26"
             ],
             [
              1,
              "#f0f921"
             ]
            ],
            "type": "histogram2d"
           }
          ],
          "histogram2dcontour": [
           {
            "colorbar": {
             "outlinewidth": 0,
             "ticks": ""
            },
            "colorscale": [
             [
              0,
              "#0d0887"
             ],
             [
              0.1111111111111111,
              "#46039f"
             ],
             [
              0.2222222222222222,
              "#7201a8"
             ],
             [
              0.3333333333333333,
              "#9c179e"
             ],
             [
              0.4444444444444444,
              "#bd3786"
             ],
             [
              0.5555555555555556,
              "#d8576b"
             ],
             [
              0.6666666666666666,
              "#ed7953"
             ],
             [
              0.7777777777777778,
              "#fb9f3a"
             ],
             [
              0.8888888888888888,
              "#fdca26"
             ],
             [
              1,
              "#f0f921"
             ]
            ],
            "type": "histogram2dcontour"
           }
          ],
          "mesh3d": [
           {
            "colorbar": {
             "outlinewidth": 0,
             "ticks": ""
            },
            "type": "mesh3d"
           }
          ],
          "parcoords": [
           {
            "line": {
             "colorbar": {
              "outlinewidth": 0,
              "ticks": ""
             }
            },
            "type": "parcoords"
           }
          ],
          "pie": [
           {
            "automargin": true,
            "type": "pie"
           }
          ],
          "scatter": [
           {
            "marker": {
             "colorbar": {
              "outlinewidth": 0,
              "ticks": ""
             }
            },
            "type": "scatter"
           }
          ],
          "scatter3d": [
           {
            "line": {
             "colorbar": {
              "outlinewidth": 0,
              "ticks": ""
             }
            },
            "marker": {
             "colorbar": {
              "outlinewidth": 0,
              "ticks": ""
             }
            },
            "type": "scatter3d"
           }
          ],
          "scattercarpet": [
           {
            "marker": {
             "colorbar": {
              "outlinewidth": 0,
              "ticks": ""
             }
            },
            "type": "scattercarpet"
           }
          ],
          "scattergeo": [
           {
            "marker": {
             "colorbar": {
              "outlinewidth": 0,
              "ticks": ""
             }
            },
            "type": "scattergeo"
           }
          ],
          "scattergl": [
           {
            "marker": {
             "colorbar": {
              "outlinewidth": 0,
              "ticks": ""
             }
            },
            "type": "scattergl"
           }
          ],
          "scattermapbox": [
           {
            "marker": {
             "colorbar": {
              "outlinewidth": 0,
              "ticks": ""
             }
            },
            "type": "scattermapbox"
           }
          ],
          "scatterpolar": [
           {
            "marker": {
             "colorbar": {
              "outlinewidth": 0,
              "ticks": ""
             }
            },
            "type": "scatterpolar"
           }
          ],
          "scatterpolargl": [
           {
            "marker": {
             "colorbar": {
              "outlinewidth": 0,
              "ticks": ""
             }
            },
            "type": "scatterpolargl"
           }
          ],
          "scatterternary": [
           {
            "marker": {
             "colorbar": {
              "outlinewidth": 0,
              "ticks": ""
             }
            },
            "type": "scatterternary"
           }
          ],
          "surface": [
           {
            "colorbar": {
             "outlinewidth": 0,
             "ticks": ""
            },
            "colorscale": [
             [
              0,
              "#0d0887"
             ],
             [
              0.1111111111111111,
              "#46039f"
             ],
             [
              0.2222222222222222,
              "#7201a8"
             ],
             [
              0.3333333333333333,
              "#9c179e"
             ],
             [
              0.4444444444444444,
              "#bd3786"
             ],
             [
              0.5555555555555556,
              "#d8576b"
             ],
             [
              0.6666666666666666,
              "#ed7953"
             ],
             [
              0.7777777777777778,
              "#fb9f3a"
             ],
             [
              0.8888888888888888,
              "#fdca26"
             ],
             [
              1,
              "#f0f921"
             ]
            ],
            "type": "surface"
           }
          ],
          "table": [
           {
            "cells": {
             "fill": {
              "color": "#EBF0F8"
             },
             "line": {
              "color": "white"
             }
            },
            "header": {
             "fill": {
              "color": "#C8D4E3"
             },
             "line": {
              "color": "white"
             }
            },
            "type": "table"
           }
          ]
         },
         "layout": {
          "annotationdefaults": {
           "arrowcolor": "#2a3f5f",
           "arrowhead": 0,
           "arrowwidth": 1
          },
          "autotypenumbers": "strict",
          "coloraxis": {
           "colorbar": {
            "outlinewidth": 0,
            "ticks": ""
           }
          },
          "colorscale": {
           "diverging": [
            [
             0,
             "#8e0152"
            ],
            [
             0.1,
             "#c51b7d"
            ],
            [
             0.2,
             "#de77ae"
            ],
            [
             0.3,
             "#f1b6da"
            ],
            [
             0.4,
             "#fde0ef"
            ],
            [
             0.5,
             "#f7f7f7"
            ],
            [
             0.6,
             "#e6f5d0"
            ],
            [
             0.7,
             "#b8e186"
            ],
            [
             0.8,
             "#7fbc41"
            ],
            [
             0.9,
             "#4d9221"
            ],
            [
             1,
             "#276419"
            ]
           ],
           "sequential": [
            [
             0,
             "#0d0887"
            ],
            [
             0.1111111111111111,
             "#46039f"
            ],
            [
             0.2222222222222222,
             "#7201a8"
            ],
            [
             0.3333333333333333,
             "#9c179e"
            ],
            [
             0.4444444444444444,
             "#bd3786"
            ],
            [
             0.5555555555555556,
             "#d8576b"
            ],
            [
             0.6666666666666666,
             "#ed7953"
            ],
            [
             0.7777777777777778,
             "#fb9f3a"
            ],
            [
             0.8888888888888888,
             "#fdca26"
            ],
            [
             1,
             "#f0f921"
            ]
           ],
           "sequentialminus": [
            [
             0,
             "#0d0887"
            ],
            [
             0.1111111111111111,
             "#46039f"
            ],
            [
             0.2222222222222222,
             "#7201a8"
            ],
            [
             0.3333333333333333,
             "#9c179e"
            ],
            [
             0.4444444444444444,
             "#bd3786"
            ],
            [
             0.5555555555555556,
             "#d8576b"
            ],
            [
             0.6666666666666666,
             "#ed7953"
            ],
            [
             0.7777777777777778,
             "#fb9f3a"
            ],
            [
             0.8888888888888888,
             "#fdca26"
            ],
            [
             1,
             "#f0f921"
            ]
           ]
          },
          "colorway": [
           "#636efa",
           "#EF553B",
           "#00cc96",
           "#ab63fa",
           "#FFA15A",
           "#19d3f3",
           "#FF6692",
           "#B6E880",
           "#FF97FF",
           "#FECB52"
          ],
          "font": {
           "color": "#2a3f5f"
          },
          "geo": {
           "bgcolor": "white",
           "lakecolor": "white",
           "landcolor": "#E5ECF6",
           "showlakes": true,
           "showland": true,
           "subunitcolor": "white"
          },
          "hoverlabel": {
           "align": "left"
          },
          "hovermode": "closest",
          "mapbox": {
           "style": "light"
          },
          "paper_bgcolor": "white",
          "plot_bgcolor": "#E5ECF6",
          "polar": {
           "angularaxis": {
            "gridcolor": "white",
            "linecolor": "white",
            "ticks": ""
           },
           "bgcolor": "#E5ECF6",
           "radialaxis": {
            "gridcolor": "white",
            "linecolor": "white",
            "ticks": ""
           }
          },
          "scene": {
           "xaxis": {
            "backgroundcolor": "#E5ECF6",
            "gridcolor": "white",
            "gridwidth": 2,
            "linecolor": "white",
            "showbackground": true,
            "ticks": "",
            "zerolinecolor": "white"
           },
           "yaxis": {
            "backgroundcolor": "#E5ECF6",
            "gridcolor": "white",
            "gridwidth": 2,
            "linecolor": "white",
            "showbackground": true,
            "ticks": "",
            "zerolinecolor": "white"
           },
           "zaxis": {
            "backgroundcolor": "#E5ECF6",
            "gridcolor": "white",
            "gridwidth": 2,
            "linecolor": "white",
            "showbackground": true,
            "ticks": "",
            "zerolinecolor": "white"
           }
          },
          "shapedefaults": {
           "line": {
            "color": "#2a3f5f"
           }
          },
          "ternary": {
           "aaxis": {
            "gridcolor": "white",
            "linecolor": "white",
            "ticks": ""
           },
           "baxis": {
            "gridcolor": "white",
            "linecolor": "white",
            "ticks": ""
           },
           "bgcolor": "#E5ECF6",
           "caxis": {
            "gridcolor": "white",
            "linecolor": "white",
            "ticks": ""
           }
          },
          "title": {
           "x": 0.05
          },
          "xaxis": {
           "automargin": true,
           "gridcolor": "white",
           "linecolor": "white",
           "ticks": "",
           "title": {
            "standoff": 15
           },
           "zerolinecolor": "white",
           "zerolinewidth": 2
          },
          "yaxis": {
           "automargin": true,
           "gridcolor": "white",
           "linecolor": "white",
           "ticks": "",
           "title": {
            "standoff": 15
           },
           "zerolinecolor": "white",
           "zerolinewidth": 2
          }
         }
        },
        "ternary": {
         "aaxis": {
          "title": {
           "text": "R"
          }
         },
         "baxis": {
          "title": {
           "text": "G"
          }
         },
         "caxis": {
          "title": {
           "text": "B"
          }
         },
         "domain": {
          "x": [
           0,
           1
          ],
          "y": [
           0,
           1
          ]
         }
        }
       }
      }
     },
     "metadata": {},
     "output_type": "display_data"
    }
   ],
   "source": [
    "df4plot = pop_den_1d_df[(pop_den_1d_df[\"Rep\"] == \"rep2\") & ((pop_den_1d_df[\"Radius\"] == 0) | (pop_den_1d_df[\"Radius\"] == 1500) | (pop_den_1d_df[\"Radius\"] == 3000))]\n",
    "fig = px.scatter_ternary(df4plot, a='R', b='G', c='B',\n",
    "    size=\"Time\", color=\"Carbon\", symbol=\"Radius\")\n",
    "fig.write_image(\"results/1Drep2.pdf\")\n",
    "fig.show()"
   ]
  },
  {
   "cell_type": "code",
   "execution_count": 115,
   "metadata": {},
   "outputs": [
    {
     "data": {
      "application/vnd.plotly.v1+json": {
       "config": {
        "plotlyServerURL": "https://plot.ly"
       },
       "data": [
        {
         "a": [
          0.45097787050003335,
          0.4629357201811518,
          0.4622152417372303,
          0.2549963873659157,
          0.26613971719658563,
          0.5454545454545454
         ],
         "b": [
          0.06774122869690301,
          0.028355221799800715,
          0.016326140398798143,
          0.04363277329331646,
          0.275184243346993,
          0.2727272727272727
         ],
         "c": [
          0.4812809008030636,
          0.5087090580190474,
          0.5214586178639716,
          0.7013708393407678,
          0.4586760394564214,
          0.18181818181818182
         ],
         "hovertemplate": "Carbon=Nag<br>Radius=0<br>R=%{a}<br>G=%{b}<br>B=%{c}<br>Time=%{marker.size}<extra></extra>",
         "legendgroup": "Nag, 0",
         "marker": {
          "color": "#636efa",
          "size": [
           0,
           11,
           22,
           37,
           66,
           90
          ],
          "sizemode": "area",
          "sizeref": 0.225,
          "symbol": "circle"
         },
         "mode": "markers",
         "name": "Nag, 0",
         "showlegend": true,
         "subplot": "ternary",
         "type": "scatterternary"
        },
        {
         "a": [
          0.6227388249364628,
          0.7809158251065819,
          0.8280156329351498,
          0.7112492445825779,
          0.6490947368421053,
          0.8148148148148148
         ],
         "b": [
          0.11126476304380326,
          0.019545911646813876,
          0.0059617125571330785,
          0.03810757144090477,
          0.25569924812030076,
          0.18518518518518517
         ],
         "c": [
          0.2659964120197339,
          0.19953826324660426,
          0.1660226545077171,
          0.2506431839765173,
          0.09520601503759399,
          0
         ],
         "hovertemplate": "Carbon=Nag<br>Radius=1500<br>R=%{a}<br>G=%{b}<br>B=%{c}<br>Time=%{marker.size}<extra></extra>",
         "legendgroup": "Nag, 1500",
         "marker": {
          "color": "#636efa",
          "size": [
           0,
           11,
           22,
           37,
           66,
           90
          ],
          "sizemode": "area",
          "sizeref": 0.225,
          "symbol": "diamond"
         },
         "mode": "markers",
         "name": "Nag, 1500",
         "showlegend": true,
         "subplot": "ternary",
         "type": "scatterternary"
        },
        {
         "a": [
          0.8241269227048467,
          0.9498186215235792,
          0.6942659416707859,
          0.2667671073094868,
          0.7316759348203505,
          0.012755102040816327
         ],
         "b": [
          0.0503047305794718,
          0.002720677146311971,
          0.0034602076124567475,
          0.0021384136858475893,
          0.09409452635475143,
          0.02295918367346939
         ],
         "c": [
          0.12556834671568154,
          0.04746070133010883,
          0.3022738507167573,
          0.7310944790046656,
          0.174229538824898,
          0.9642857142857143
         ],
         "hovertemplate": "Carbon=Nag<br>Radius=3000<br>R=%{a}<br>G=%{b}<br>B=%{c}<br>Time=%{marker.size}<extra></extra>",
         "legendgroup": "Nag, 3000",
         "marker": {
          "color": "#636efa",
          "size": [
           0,
           11,
           22,
           37,
           66,
           90
          ],
          "sizemode": "area",
          "sizeref": 0.225,
          "symbol": "square"
         },
         "mode": "markers",
         "name": "Nag, 3000",
         "showlegend": true,
         "subplot": "ternary",
         "type": "scatterternary"
        },
        {
         "a": [
          0.7,
          0.9578311274590299,
          0.9284615758203688,
          0.8547598329272538,
          0.45454545454545453
         ],
         "b": [
          0.3,
          0.04207034713783704,
          0.03126062391737223,
          0.08156108597285068,
          0.5454545454545454
         ],
         "c": [
          0,
          0.00009852540313310782,
          0.04027780026225899,
          0.06367908109989558,
          0
         ],
         "hovertemplate": "Carbon=Chito5<br>Radius=0<br>R=%{a}<br>G=%{b}<br>B=%{c}<br>Time=%{marker.size}<extra></extra>",
         "legendgroup": "Chito5, 0",
         "marker": {
          "color": "#EF553B",
          "size": [
           0,
           11,
           22,
           66,
           90
          ],
          "sizemode": "area",
          "sizeref": 0.225,
          "symbol": "circle"
         },
         "mode": "markers",
         "name": "Chito5, 0",
         "showlegend": true,
         "subplot": "ternary",
         "type": "scatterternary"
        },
        {
         "a": [
          0.5,
          0.471671388101983,
          0.6967293467605383,
          0.4878454004896817,
          0.7142857142857143
         ],
         "b": [
          0.5,
          0.5283286118980169,
          0.025933517511808217,
          0.2951643931444561,
          0.14285714285714285
         ],
         "c": [
          0,
          0,
          0.2773371357276535,
          0.2169902063658622,
          0.14285714285714285
         ],
         "hovertemplate": "Carbon=Chito5<br>Radius=1500<br>R=%{a}<br>G=%{b}<br>B=%{c}<br>Time=%{marker.size}<extra></extra>",
         "legendgroup": "Chito5, 1500",
         "marker": {
          "color": "#EF553B",
          "size": [
           0,
           11,
           22,
           66,
           90
          ],
          "sizemode": "area",
          "sizeref": 0.225,
          "symbol": "diamond"
         },
         "mode": "markers",
         "name": "Chito5, 1500",
         "showlegend": true,
         "subplot": "ternary",
         "type": "scatterternary"
        },
        {
         "a": [
          0.3333333333333333,
          0.7371134020618557,
          0.6484,
          0.3852897156296771,
          0.5
         ],
         "b": [
          0.26666666666666666,
          0.26288659793814434,
          0.00184,
          0.5330339961513791,
          0.5
         ],
         "c": [
          0.4,
          0,
          0.34976,
          0.08167628821894377,
          0
         ],
         "hovertemplate": "Carbon=Chito5<br>Radius=3000<br>R=%{a}<br>G=%{b}<br>B=%{c}<br>Time=%{marker.size}<extra></extra>",
         "legendgroup": "Chito5, 3000",
         "marker": {
          "color": "#EF553B",
          "size": [
           0,
           11,
           22,
           66,
           90
          ],
          "sizemode": "area",
          "sizeref": 0.225,
          "symbol": "square"
         },
         "mode": "markers",
         "name": "Chito5, 3000",
         "showlegend": true,
         "subplot": "ternary",
         "type": "scatterternary"
        },
        {
         "a": [
          0.007724107919930374,
          0.006097560975609756,
          0.39152614205007175,
          0.34855943723686467,
          0.6514571843251089,
          0.0020964360587002098
         ],
         "b": [
          0.0004351610095735422,
          0.001524390243902439,
          0.0014463958692178187,
          0.0012142168960920694,
          0.0017329462989840348,
          0.0010482180293501049
         ],
         "c": [
          0.9918407310704961,
          0.9923780487804879,
          0.6070274620807105,
          0.6502263458670432,
          0.34680986937590713,
          0.9968553459119497
         ],
         "hovertemplate": "Carbon=Chitin<br>Radius=0<br>R=%{a}<br>G=%{b}<br>B=%{c}<br>Time=%{marker.size}<extra></extra>",
         "legendgroup": "Chitin, 0",
         "marker": {
          "color": "#00cc96",
          "size": [
           0,
           11,
           22,
           37,
           66,
           90
          ],
          "sizemode": "area",
          "sizeref": 0.225,
          "symbol": "circle"
         },
         "mode": "markers",
         "name": "Chitin, 0",
         "showlegend": true,
         "subplot": "ternary",
         "type": "scatterternary"
        },
        {
         "a": [
          0.015105740181268883,
          0.058823529411764705,
          0.17485613623018204,
          0.2129979035639413,
          0.694192898232256,
          0.0053309640159928924
         ],
         "b": [
          0.01812688821752266,
          0.011764705882352941,
          0.0018907809747504404,
          0.002154268777560905,
          0.0058784833512953655,
          0
         ],
         "c": [
          0.9667673716012085,
          0.9294117647058824,
          0.8232530827950675,
          0.7848478276584978,
          0.2999286184164486,
          0.9946690359840071
         ],
         "hovertemplate": "Carbon=Chitin<br>Radius=1500<br>R=%{a}<br>G=%{b}<br>B=%{c}<br>Time=%{marker.size}<extra></extra>",
         "legendgroup": "Chitin, 1500",
         "marker": {
          "color": "#00cc96",
          "size": [
           0,
           11,
           22,
           37,
           66,
           90
          ],
          "sizemode": "area",
          "sizeref": 0.225,
          "symbol": "diamond"
         },
         "mode": "markers",
         "name": "Chitin, 1500",
         "showlegend": true,
         "subplot": "ternary",
         "type": "scatterternary"
        },
        {
         "a": [
          0.05223880597014925,
          0.6923076923076923,
          0.5263374485596708,
          0.37158737943436326,
          0.7390436224576128,
          0.013282732447817837
         ],
         "b": [
          0.05223880597014925,
          0.23076923076923078,
          0.07860082304526748,
          0.05427497139120484,
          0.017124098954279333,
          0.0056925996204933585
         ],
         "c": [
          0.8955223880597015,
          0.07692307692307693,
          0.3950617283950617,
          0.5741376491744319,
          0.24383227858810788,
          0.9810246679316889
         ],
         "hovertemplate": "Carbon=Chitin<br>Radius=3000<br>R=%{a}<br>G=%{b}<br>B=%{c}<br>Time=%{marker.size}<extra></extra>",
         "legendgroup": "Chitin, 3000",
         "marker": {
          "color": "#00cc96",
          "size": [
           0,
           11,
           22,
           37,
           66,
           90
          ],
          "sizemode": "area",
          "sizeref": 0.225,
          "symbol": "square"
         },
         "mode": "markers",
         "name": "Chitin, 3000",
         "showlegend": true,
         "subplot": "ternary",
         "type": "scatterternary"
        }
       ],
       "layout": {
        "legend": {
         "itemsizing": "constant",
         "title": {
          "text": "Carbon, Radius"
         },
         "tracegroupgap": 0
        },
        "margin": {
         "t": 60
        },
        "template": {
         "data": {
          "bar": [
           {
            "error_x": {
             "color": "#2a3f5f"
            },
            "error_y": {
             "color": "#2a3f5f"
            },
            "marker": {
             "line": {
              "color": "#E5ECF6",
              "width": 0.5
             },
             "pattern": {
              "fillmode": "overlay",
              "size": 10,
              "solidity": 0.2
             }
            },
            "type": "bar"
           }
          ],
          "barpolar": [
           {
            "marker": {
             "line": {
              "color": "#E5ECF6",
              "width": 0.5
             },
             "pattern": {
              "fillmode": "overlay",
              "size": 10,
              "solidity": 0.2
             }
            },
            "type": "barpolar"
           }
          ],
          "carpet": [
           {
            "aaxis": {
             "endlinecolor": "#2a3f5f",
             "gridcolor": "white",
             "linecolor": "white",
             "minorgridcolor": "white",
             "startlinecolor": "#2a3f5f"
            },
            "baxis": {
             "endlinecolor": "#2a3f5f",
             "gridcolor": "white",
             "linecolor": "white",
             "minorgridcolor": "white",
             "startlinecolor": "#2a3f5f"
            },
            "type": "carpet"
           }
          ],
          "choropleth": [
           {
            "colorbar": {
             "outlinewidth": 0,
             "ticks": ""
            },
            "type": "choropleth"
           }
          ],
          "contour": [
           {
            "colorbar": {
             "outlinewidth": 0,
             "ticks": ""
            },
            "colorscale": [
             [
              0,
              "#0d0887"
             ],
             [
              0.1111111111111111,
              "#46039f"
             ],
             [
              0.2222222222222222,
              "#7201a8"
             ],
             [
              0.3333333333333333,
              "#9c179e"
             ],
             [
              0.4444444444444444,
              "#bd3786"
             ],
             [
              0.5555555555555556,
              "#d8576b"
             ],
             [
              0.6666666666666666,
              "#ed7953"
             ],
             [
              0.7777777777777778,
              "#fb9f3a"
             ],
             [
              0.8888888888888888,
              "#fdca26"
             ],
             [
              1,
              "#f0f921"
             ]
            ],
            "type": "contour"
           }
          ],
          "contourcarpet": [
           {
            "colorbar": {
             "outlinewidth": 0,
             "ticks": ""
            },
            "type": "contourcarpet"
           }
          ],
          "heatmap": [
           {
            "colorbar": {
             "outlinewidth": 0,
             "ticks": ""
            },
            "colorscale": [
             [
              0,
              "#0d0887"
             ],
             [
              0.1111111111111111,
              "#46039f"
             ],
             [
              0.2222222222222222,
              "#7201a8"
             ],
             [
              0.3333333333333333,
              "#9c179e"
             ],
             [
              0.4444444444444444,
              "#bd3786"
             ],
             [
              0.5555555555555556,
              "#d8576b"
             ],
             [
              0.6666666666666666,
              "#ed7953"
             ],
             [
              0.7777777777777778,
              "#fb9f3a"
             ],
             [
              0.8888888888888888,
              "#fdca26"
             ],
             [
              1,
              "#f0f921"
             ]
            ],
            "type": "heatmap"
           }
          ],
          "heatmapgl": [
           {
            "colorbar": {
             "outlinewidth": 0,
             "ticks": ""
            },
            "colorscale": [
             [
              0,
              "#0d0887"
             ],
             [
              0.1111111111111111,
              "#46039f"
             ],
             [
              0.2222222222222222,
              "#7201a8"
             ],
             [
              0.3333333333333333,
              "#9c179e"
             ],
             [
              0.4444444444444444,
              "#bd3786"
             ],
             [
              0.5555555555555556,
              "#d8576b"
             ],
             [
              0.6666666666666666,
              "#ed7953"
             ],
             [
              0.7777777777777778,
              "#fb9f3a"
             ],
             [
              0.8888888888888888,
              "#fdca26"
             ],
             [
              1,
              "#f0f921"
             ]
            ],
            "type": "heatmapgl"
           }
          ],
          "histogram": [
           {
            "marker": {
             "pattern": {
              "fillmode": "overlay",
              "size": 10,
              "solidity": 0.2
             }
            },
            "type": "histogram"
           }
          ],
          "histogram2d": [
           {
            "colorbar": {
             "outlinewidth": 0,
             "ticks": ""
            },
            "colorscale": [
             [
              0,
              "#0d0887"
             ],
             [
              0.1111111111111111,
              "#46039f"
             ],
             [
              0.2222222222222222,
              "#7201a8"
             ],
             [
              0.3333333333333333,
              "#9c179e"
             ],
             [
              0.4444444444444444,
              "#bd3786"
             ],
             [
              0.5555555555555556,
              "#d8576b"
             ],
             [
              0.6666666666666666,
              "#ed7953"
             ],
             [
              0.7777777777777778,
              "#fb9f3a"
             ],
             [
              0.8888888888888888,
              "#fdca26"
             ],
             [
              1,
              "#f0f921"
             ]
            ],
            "type": "histogram2d"
           }
          ],
          "histogram2dcontour": [
           {
            "colorbar": {
             "outlinewidth": 0,
             "ticks": ""
            },
            "colorscale": [
             [
              0,
              "#0d0887"
             ],
             [
              0.1111111111111111,
              "#46039f"
             ],
             [
              0.2222222222222222,
              "#7201a8"
             ],
             [
              0.3333333333333333,
              "#9c179e"
             ],
             [
              0.4444444444444444,
              "#bd3786"
             ],
             [
              0.5555555555555556,
              "#d8576b"
             ],
             [
              0.6666666666666666,
              "#ed7953"
             ],
             [
              0.7777777777777778,
              "#fb9f3a"
             ],
             [
              0.8888888888888888,
              "#fdca26"
             ],
             [
              1,
              "#f0f921"
             ]
            ],
            "type": "histogram2dcontour"
           }
          ],
          "mesh3d": [
           {
            "colorbar": {
             "outlinewidth": 0,
             "ticks": ""
            },
            "type": "mesh3d"
           }
          ],
          "parcoords": [
           {
            "line": {
             "colorbar": {
              "outlinewidth": 0,
              "ticks": ""
             }
            },
            "type": "parcoords"
           }
          ],
          "pie": [
           {
            "automargin": true,
            "type": "pie"
           }
          ],
          "scatter": [
           {
            "marker": {
             "colorbar": {
              "outlinewidth": 0,
              "ticks": ""
             }
            },
            "type": "scatter"
           }
          ],
          "scatter3d": [
           {
            "line": {
             "colorbar": {
              "outlinewidth": 0,
              "ticks": ""
             }
            },
            "marker": {
             "colorbar": {
              "outlinewidth": 0,
              "ticks": ""
             }
            },
            "type": "scatter3d"
           }
          ],
          "scattercarpet": [
           {
            "marker": {
             "colorbar": {
              "outlinewidth": 0,
              "ticks": ""
             }
            },
            "type": "scattercarpet"
           }
          ],
          "scattergeo": [
           {
            "marker": {
             "colorbar": {
              "outlinewidth": 0,
              "ticks": ""
             }
            },
            "type": "scattergeo"
           }
          ],
          "scattergl": [
           {
            "marker": {
             "colorbar": {
              "outlinewidth": 0,
              "ticks": ""
             }
            },
            "type": "scattergl"
           }
          ],
          "scattermapbox": [
           {
            "marker": {
             "colorbar": {
              "outlinewidth": 0,
              "ticks": ""
             }
            },
            "type": "scattermapbox"
           }
          ],
          "scatterpolar": [
           {
            "marker": {
             "colorbar": {
              "outlinewidth": 0,
              "ticks": ""
             }
            },
            "type": "scatterpolar"
           }
          ],
          "scatterpolargl": [
           {
            "marker": {
             "colorbar": {
              "outlinewidth": 0,
              "ticks": ""
             }
            },
            "type": "scatterpolargl"
           }
          ],
          "scatterternary": [
           {
            "marker": {
             "colorbar": {
              "outlinewidth": 0,
              "ticks": ""
             }
            },
            "type": "scatterternary"
           }
          ],
          "surface": [
           {
            "colorbar": {
             "outlinewidth": 0,
             "ticks": ""
            },
            "colorscale": [
             [
              0,
              "#0d0887"
             ],
             [
              0.1111111111111111,
              "#46039f"
             ],
             [
              0.2222222222222222,
              "#7201a8"
             ],
             [
              0.3333333333333333,
              "#9c179e"
             ],
             [
              0.4444444444444444,
              "#bd3786"
             ],
             [
              0.5555555555555556,
              "#d8576b"
             ],
             [
              0.6666666666666666,
              "#ed7953"
             ],
             [
              0.7777777777777778,
              "#fb9f3a"
             ],
             [
              0.8888888888888888,
              "#fdca26"
             ],
             [
              1,
              "#f0f921"
             ]
            ],
            "type": "surface"
           }
          ],
          "table": [
           {
            "cells": {
             "fill": {
              "color": "#EBF0F8"
             },
             "line": {
              "color": "white"
             }
            },
            "header": {
             "fill": {
              "color": "#C8D4E3"
             },
             "line": {
              "color": "white"
             }
            },
            "type": "table"
           }
          ]
         },
         "layout": {
          "annotationdefaults": {
           "arrowcolor": "#2a3f5f",
           "arrowhead": 0,
           "arrowwidth": 1
          },
          "autotypenumbers": "strict",
          "coloraxis": {
           "colorbar": {
            "outlinewidth": 0,
            "ticks": ""
           }
          },
          "colorscale": {
           "diverging": [
            [
             0,
             "#8e0152"
            ],
            [
             0.1,
             "#c51b7d"
            ],
            [
             0.2,
             "#de77ae"
            ],
            [
             0.3,
             "#f1b6da"
            ],
            [
             0.4,
             "#fde0ef"
            ],
            [
             0.5,
             "#f7f7f7"
            ],
            [
             0.6,
             "#e6f5d0"
            ],
            [
             0.7,
             "#b8e186"
            ],
            [
             0.8,
             "#7fbc41"
            ],
            [
             0.9,
             "#4d9221"
            ],
            [
             1,
             "#276419"
            ]
           ],
           "sequential": [
            [
             0,
             "#0d0887"
            ],
            [
             0.1111111111111111,
             "#46039f"
            ],
            [
             0.2222222222222222,
             "#7201a8"
            ],
            [
             0.3333333333333333,
             "#9c179e"
            ],
            [
             0.4444444444444444,
             "#bd3786"
            ],
            [
             0.5555555555555556,
             "#d8576b"
            ],
            [
             0.6666666666666666,
             "#ed7953"
            ],
            [
             0.7777777777777778,
             "#fb9f3a"
            ],
            [
             0.8888888888888888,
             "#fdca26"
            ],
            [
             1,
             "#f0f921"
            ]
           ],
           "sequentialminus": [
            [
             0,
             "#0d0887"
            ],
            [
             0.1111111111111111,
             "#46039f"
            ],
            [
             0.2222222222222222,
             "#7201a8"
            ],
            [
             0.3333333333333333,
             "#9c179e"
            ],
            [
             0.4444444444444444,
             "#bd3786"
            ],
            [
             0.5555555555555556,
             "#d8576b"
            ],
            [
             0.6666666666666666,
             "#ed7953"
            ],
            [
             0.7777777777777778,
             "#fb9f3a"
            ],
            [
             0.8888888888888888,
             "#fdca26"
            ],
            [
             1,
             "#f0f921"
            ]
           ]
          },
          "colorway": [
           "#636efa",
           "#EF553B",
           "#00cc96",
           "#ab63fa",
           "#FFA15A",
           "#19d3f3",
           "#FF6692",
           "#B6E880",
           "#FF97FF",
           "#FECB52"
          ],
          "font": {
           "color": "#2a3f5f"
          },
          "geo": {
           "bgcolor": "white",
           "lakecolor": "white",
           "landcolor": "#E5ECF6",
           "showlakes": true,
           "showland": true,
           "subunitcolor": "white"
          },
          "hoverlabel": {
           "align": "left"
          },
          "hovermode": "closest",
          "mapbox": {
           "style": "light"
          },
          "paper_bgcolor": "white",
          "plot_bgcolor": "#E5ECF6",
          "polar": {
           "angularaxis": {
            "gridcolor": "white",
            "linecolor": "white",
            "ticks": ""
           },
           "bgcolor": "#E5ECF6",
           "radialaxis": {
            "gridcolor": "white",
            "linecolor": "white",
            "ticks": ""
           }
          },
          "scene": {
           "xaxis": {
            "backgroundcolor": "#E5ECF6",
            "gridcolor": "white",
            "gridwidth": 2,
            "linecolor": "white",
            "showbackground": true,
            "ticks": "",
            "zerolinecolor": "white"
           },
           "yaxis": {
            "backgroundcolor": "#E5ECF6",
            "gridcolor": "white",
            "gridwidth": 2,
            "linecolor": "white",
            "showbackground": true,
            "ticks": "",
            "zerolinecolor": "white"
           },
           "zaxis": {
            "backgroundcolor": "#E5ECF6",
            "gridcolor": "white",
            "gridwidth": 2,
            "linecolor": "white",
            "showbackground": true,
            "ticks": "",
            "zerolinecolor": "white"
           }
          },
          "shapedefaults": {
           "line": {
            "color": "#2a3f5f"
           }
          },
          "ternary": {
           "aaxis": {
            "gridcolor": "white",
            "linecolor": "white",
            "ticks": ""
           },
           "baxis": {
            "gridcolor": "white",
            "linecolor": "white",
            "ticks": ""
           },
           "bgcolor": "#E5ECF6",
           "caxis": {
            "gridcolor": "white",
            "linecolor": "white",
            "ticks": ""
           }
          },
          "title": {
           "x": 0.05
          },
          "xaxis": {
           "automargin": true,
           "gridcolor": "white",
           "linecolor": "white",
           "ticks": "",
           "title": {
            "standoff": 15
           },
           "zerolinecolor": "white",
           "zerolinewidth": 2
          },
          "yaxis": {
           "automargin": true,
           "gridcolor": "white",
           "linecolor": "white",
           "ticks": "",
           "title": {
            "standoff": 15
           },
           "zerolinecolor": "white",
           "zerolinewidth": 2
          }
         }
        },
        "ternary": {
         "aaxis": {
          "title": {
           "text": "R"
          }
         },
         "baxis": {
          "title": {
           "text": "G"
          }
         },
         "caxis": {
          "title": {
           "text": "B"
          }
         },
         "domain": {
          "x": [
           0,
           1
          ],
          "y": [
           0,
           1
          ]
         }
        }
       }
      }
     },
     "metadata": {},
     "output_type": "display_data"
    }
   ],
   "source": [
    "df4plot = pop_den_1d_df[(pop_den_1d_df[\"Rep\"] == \"rep3\") & ((pop_den_1d_df[\"Radius\"] == 0) | (pop_den_1d_df[\"Radius\"] == 1500) | (pop_den_1d_df[\"Radius\"] == 3000))]\n",
    "fig = px.scatter_ternary(df4plot, a='R', b='G', c='B',\n",
    "    size=\"Time\", color=\"Carbon\", symbol=\"Radius\")\n",
    "fig.write_image(\"results/1Drep3.pdf\")\n",
    "fig.show()"
   ]
  },
  {
   "cell_type": "code",
   "execution_count": 111,
   "metadata": {},
   "outputs": [
    {
     "data": {
      "text/plain": [
       "(2080, 4869, 3)"
      ]
     },
     "execution_count": 111,
     "metadata": {},
     "output_type": "execute_result"
    }
   ],
   "source": [
    "rgb_file = \"/Users/feng626/workspace/data/SoilSFA/spatial_interactions/results_20220408/results_rep1/11.18.21_21_Nag_1_combined_processed.pkl\"\n",
    "with open(rgb_file, 'rb') as f:\n",
    "    rgb_array = pickle.load(f)\n",
    "rgb_array.shape"
   ]
  },
  {
   "cell_type": "code",
   "execution_count": null,
   "metadata": {},
   "outputs": [],
   "source": []
  }
 ],
 "metadata": {
  "kernelspec": {
   "display_name": "soil",
   "language": "python",
   "name": "python3"
  },
  "language_info": {
   "file_extension": ".jl",
   "mimetype": "application/julia",
   "name": "python",
   "version": "3.9.15 | packaged by conda-forge | (main, Nov 22 2022, 08:55:37) \n[Clang 14.0.6 ]"
  },
  "orig_nbformat": 4,
  "vscode": {
   "interpreter": {
    "hash": "e7253b76136690c01ceb83e6c3e464eecbeebe25c28631260796ed977d8b63c5"
   }
  }
 },
 "nbformat": 4,
 "nbformat_minor": 2
}
